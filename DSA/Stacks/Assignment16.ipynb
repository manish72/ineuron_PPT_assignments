{
 "cells": [
  {
   "cell_type": "raw",
   "id": "ed30730f-21aa-4e47-a010-021ef7e27e29",
   "metadata": {},
   "source": [
    "Question 1\n",
    "\n",
    "Given an array, for each element find the value of the nearest element to the right which is having a frequency greater than that of the current element. If there does not exist an answer for a position, then make the value ‘-1’."
   ]
  },
  {
   "cell_type": "code",
   "execution_count": 19,
   "id": "ab207c0f-67d6-496b-a20d-edc5ba14c3b0",
   "metadata": {},
   "outputs": [
    {
     "name": "stdin",
     "output_type": "stream",
     "text": [
      "Enter values in comma separated format 1, 1, 2, 3, 4, 2, 1\n"
     ]
    },
    {
     "name": "stdout",
     "output_type": "stream",
     "text": [
      "[-1, -1, 1, 2, 2, 1, -1]\n"
     ]
    },
    {
     "name": "stdin",
     "output_type": "stream",
     "text": [
      "Enter values in comma separated format 1, 1, 1, 2, 2, 2, 2, 11, 3, 3\n"
     ]
    },
    {
     "name": "stdout",
     "output_type": "stream",
     "text": [
      "[2, 2, 2, -1, -1, -1, -1, 3, -1, -1]\n"
     ]
    }
   ],
   "source": [
    "mystack = []\n",
    "mymap = {}\n",
    "\n",
    "def NGF(arr, res):\n",
    "    mystack = []\n",
    "    mymap = {}\n",
    "    n = len(arr)\n",
    "\n",
    "    for i in range(n):\n",
    "        if arr[i] in mymap:\n",
    "            mymap[arr[i]] += 1\n",
    "        else:\n",
    "            mymap[arr[i]] = 1\n",
    "\t\n",
    "\t# Get the frequency of the last element\n",
    "    curr_freq = mymap[arr[n-1]]\n",
    "\t\n",
    "    # push it to the stack\n",
    "    mystack.append([arr[n-1],curr_freq])\n",
    "    \n",
    "    res[n-1] = -1\n",
    "\t\n",
    "    # iterate through array in reverse order\n",
    "    for i in range(n - 2, -1, -1):\n",
    "        curr_freq = mymap[arr[i]]\n",
    "\n",
    "        while len(mystack) > 0 and curr_freq >= mystack[-1][1]:\n",
    "            mystack.pop()\n",
    "\t\t\n",
    "        if (len(mystack) == 0):\n",
    "            res[i] = -1\n",
    "        else:\n",
    "            res[i] = mystack[-1][0]\n",
    "\t\t\n",
    "\t\t# push the element at current position\n",
    "        mystack.append([arr[i],mymap[arr[i]]])\n",
    "\n",
    "for i in range(2):\n",
    "    arr = list(map(int,input(\"Enter values in comma separated format\").split(',')))\n",
    "    res = [0]*(len(arr))\n",
    "    NGF(arr, res)\n",
    "    print(res)"
   ]
  },
  {
   "cell_type": "raw",
   "id": "95296b75-d8f3-4f06-8719-da3c6a151c74",
   "metadata": {},
   "source": [
    "Question 2\n",
    "\n",
    "Given a stack of integers, sort it in ascending order using another temporary stack."
   ]
  },
  {
   "cell_type": "code",
   "execution_count": 20,
   "id": "8633e18c-2418-42fa-b3a8-1c95a96ca1ee",
   "metadata": {},
   "outputs": [
    {
     "name": "stdin",
     "output_type": "stream",
     "text": [
      "Enter values in comma separated format 34, 3, 31, 98, 92, 23\n"
     ]
    },
    {
     "name": "stdout",
     "output_type": "stream",
     "text": [
      "Sorted numbers are: \n",
      "3 23 31 34 92 98 \n"
     ]
    },
    {
     "name": "stdin",
     "output_type": "stream",
     "text": [
      "Enter values in comma separated format 3, 5, 1, 4, 2, 8\n"
     ]
    },
    {
     "name": "stdout",
     "output_type": "stream",
     "text": [
      "Sorted numbers are: \n",
      "1 2 3 4 5 8 \n"
     ]
    }
   ],
   "source": [
    "def sortStack ( stack ):\n",
    "\ttmpStack = createStack()\n",
    "\twhile(isEmpty(stack) == False):\n",
    "\t\t\n",
    "\t\t# pop out the first element\n",
    "\t\ttmp = top(stack)\n",
    "\t\tpop(stack)\n",
    "\n",
    "\t\twhile(isEmpty(tmpStack) == False and\n",
    "\t\t\tint(top(tmpStack)) < int(tmp)):\n",
    "\t\t\t\n",
    "\t\t\tpush(stack,top(tmpStack))\n",
    "\t\t\tpop(tmpStack)\n",
    "\n",
    "\n",
    "\t\tpush(tmpStack,tmp)\n",
    "\t\n",
    "\treturn tmpStack\n",
    "\n",
    "def createStack():\n",
    "\tstack = []\n",
    "\treturn stack\n",
    "\n",
    "def isEmpty( stack ):\n",
    "\treturn len(stack) == 0\n",
    "\n",
    "def push( stack, item ):\n",
    "\tstack.append( item )\n",
    "\n",
    "def top( stack ):\n",
    "\tp = len(stack)\n",
    "\treturn stack[p-1]\n",
    "\n",
    "def pop( stack ):\n",
    "\n",
    "\tif(isEmpty( stack )):\n",
    "\t\tprint(\"Stack Underflow \")\n",
    "\t\texit(1)\n",
    "\n",
    "\treturn stack.pop()\n",
    "\n",
    "# Function to print the stack\n",
    "def prints(stack):\n",
    "\tfor i in range(len(stack)-1, -1, -1):\n",
    "\t\tprint(stack[i], end = ' ')\n",
    "\tprint()\n",
    "\n",
    "for i in range(2):\n",
    "    stack = createStack()\n",
    "    arr = list(map(int,input(\"Enter values in comma separated format\").split(',')))\n",
    "    for i in arr:\n",
    "        push( stack, str(i) )\n",
    "\n",
    "    print(\"Sorted numbers are: \")\n",
    "    sortedst = sortStack (stack)\n",
    "    prints(sortedst)"
   ]
  },
  {
   "cell_type": "raw",
   "id": "ac2dd049-c5e6-4442-a3d4-93d474cd221f",
   "metadata": {},
   "source": [
    "Question 3\n",
    "\n",
    "Given a stack with push, pop and empty operations, The task is to delete the middle element of it without using any additional data structure."
   ]
  },
  {
   "cell_type": "code",
   "execution_count": 21,
   "id": "01362541-6e99-4b99-87d6-84c5e7b205c8",
   "metadata": {},
   "outputs": [
    {
     "name": "stdin",
     "output_type": "stream",
     "text": [
      "Enter values in comma separated format 1, 2, 3, 4, 5\n"
     ]
    },
    {
     "name": "stdout",
     "output_type": "stream",
     "text": [
      "5 4 2 1 "
     ]
    },
    {
     "name": "stdin",
     "output_type": "stream",
     "text": [
      "Enter values in comma separated format 1, 2, 3, 4, 5, 6\n"
     ]
    },
    {
     "name": "stdout",
     "output_type": "stream",
     "text": [
      "6 5 4 2 1 "
     ]
    }
   ],
   "source": [
    "class Stack:\n",
    "\tdef __init__(self):\n",
    "\t\tself.items = []\n",
    "\t\n",
    "\tdef isEmpty(self):\n",
    "\t\treturn self.items == []\n",
    "\t\n",
    "\tdef push(self, item):\n",
    "\t\tself.items.append(item)\n",
    "\t\n",
    "\tdef pop(self):\n",
    "\t\treturn self.items.pop()\n",
    "\t\n",
    "\tdef peek(self):\n",
    "\t\treturn self.items[len(self.items)-1]\n",
    "\t\n",
    "\tdef size(self):\n",
    "\t\treturn len(self.items)\n",
    "\t\t\n",
    "def deleteMid(st, n, curr) :\n",
    "\n",
    "\tif (st.isEmpty() or curr == n) :\n",
    "\t\treturn\n",
    "\t\n",
    "\tx = st.peek()\n",
    "\tst.pop()\n",
    "\n",
    "\tdeleteMid(st, n, curr+1)\n",
    "\n",
    "\tif (curr != int(n/2)) :\n",
    "\t\tst.push(x)\n",
    "\n",
    "for i in range(2):\n",
    "    st = Stack()\n",
    "    \n",
    "    arr = list(map(int,input(\"Enter values in comma separated format\").split(',')))\n",
    "    for i in arr:\n",
    "        st.push(str(i))\n",
    "\n",
    "    deleteMid(st, st.size(), 0)\n",
    "\n",
    "    while (st.isEmpty() == False) :\n",
    "        p = st.peek()\n",
    "        st.pop()\n",
    "        print (str(p) + \" \", end=\"\")"
   ]
  },
  {
   "cell_type": "raw",
   "id": "75139e90-d4de-4f2b-9e0b-6fcde405657d",
   "metadata": {},
   "source": [
    "Question 4\n",
    "\n",
    "Given a Queue consisting of first n natural numbers (in random order). The task is to check whether the given Queue elements can be arranged in increasing order in another Queue using a stack. The operation allowed are:\n",
    "\n",
    "1. Push and pop elements from the stack\n",
    "2. Pop (Or Dequeue) from the given Queue.\n",
    "3. Push (Or Enqueue) in the another Queue."
   ]
  },
  {
   "cell_type": "code",
   "execution_count": 28,
   "id": "7c6493be-7828-4612-9a45-9a87b8549815",
   "metadata": {},
   "outputs": [
    {
     "name": "stdin",
     "output_type": "stream",
     "text": [
      "Enter values in comma separated format 5, 1, 2, 3, 4 \n"
     ]
    },
    {
     "name": "stdout",
     "output_type": "stream",
     "text": [
      "Yes\n"
     ]
    },
    {
     "name": "stdin",
     "output_type": "stream",
     "text": [
      "Enter values in comma separated format 5, 1, 2, 6, 3, 4\n"
     ]
    },
    {
     "name": "stdout",
     "output_type": "stream",
     "text": [
      "No\n"
     ]
    }
   ],
   "source": [
    "from queue import Queue\n",
    "def checkSorted(n, q):\n",
    "\tst = []\n",
    "\texpected = 1\n",
    "\tfnt = None\n",
    "\n",
    "\t# while given Queue is not empty.\n",
    "\twhile (not q.empty()):\n",
    "\t\tfnt = q.queue[0]\n",
    "\t\tq.get()\n",
    "\n",
    "\t\tif (fnt == expected):\n",
    "\t\t\texpected += 1\n",
    "\n",
    "\t\telse:\n",
    "\t\t\tif (len(st) == 0):\n",
    "\t\t\t\tst.append(fnt)\n",
    "\n",
    "\t\t\telif (len(st) != 0 and st[-1] < fnt):\n",
    "\t\t\t\treturn False\n",
    "\n",
    "\t\t\t# else put into the stack.\n",
    "\t\t\telse:\n",
    "\t\t\t\tst.append(fnt)\n",
    "\n",
    "\t\twhile (len(st) != 0 and\n",
    "\t\t\t\tst[-1] == expected):\n",
    "\t\t\tst.pop()\n",
    "\t\t\texpected += 1\n",
    "\n",
    "\tif (expected - 1 == n and len(st) == 0):\n",
    "\t\treturn True\n",
    "\n",
    "\treturn False\n",
    "\n",
    "for i in range(2):\n",
    "    q = Queue()\n",
    "    arr = list(map(int,input(\"Enter values in comma separated format\").split(',')))\n",
    "    for i in arr:\n",
    "        q.put(i)\n",
    "\n",
    "    n = q.qsize()\n",
    "    if checkSorted(n, q):\n",
    "        print(\"Yes\")\n",
    "    else:\n",
    "        print(\"No\")"
   ]
  },
  {
   "cell_type": "raw",
   "id": "883e60cf-5cd4-424c-80e5-72a8f590114b",
   "metadata": {},
   "source": [
    "Question 5\n",
    "\n",
    "Given a number , write a program to reverse this number using stack."
   ]
  },
  {
   "cell_type": "code",
   "execution_count": 29,
   "id": "d7250556-730c-49ac-b20a-6bb6a625477b",
   "metadata": {},
   "outputs": [
    {
     "name": "stdin",
     "output_type": "stream",
     "text": [
      "Enter number 365\n"
     ]
    },
    {
     "name": "stdout",
     "output_type": "stream",
     "text": [
      "563\n"
     ]
    },
    {
     "name": "stdin",
     "output_type": "stream",
     "text": [
      "Enter number 6899\n"
     ]
    },
    {
     "name": "stdout",
     "output_type": "stream",
     "text": [
      "9986\n"
     ]
    }
   ],
   "source": [
    "st = []\n",
    "\n",
    "# Function to push digits into stack\n",
    "def push_digits(number):\n",
    "\n",
    "\twhile (number != 0):\n",
    "\t\tst.append(number % 10)\n",
    "\t\tnumber = int(number / 10)\n",
    "\n",
    "# Function to reverse the number\n",
    "def reverse_number(number):\n",
    "\tpush_digits(number)\n",
    "\t\n",
    "\treverse = 0\n",
    "\ti = 1\n",
    "\twhile (len(st) > 0):\n",
    "\t\treverse = reverse + (st[len(st) - 1] * i)\n",
    "\t\tst.pop()\n",
    "\t\ti = i * 10\n",
    "\t\n",
    "\t# Return the reversed number formed\n",
    "\treturn reverse\n",
    "\n",
    "for i in range(2):\n",
    "    number = int(input(\"Enter number\"))\n",
    "\n",
    "    print(reverse_number(number))"
   ]
  },
  {
   "cell_type": "raw",
   "id": "0302955a-e866-42b3-86d0-c40e3ce71e34",
   "metadata": {},
   "source": [
    "Question 6\n",
    "\n",
    "Given an integer k and a queue of integers, The task is to reverse the order of the first k elements of the queue, leaving the other elements in the same relative order.\n",
    "\n",
    "Only following standard operations are allowed on queue.\n",
    "\n",
    "- enqueue(x) : Add an item x to rear of queue\n",
    "- dequeue() : Remove an item from front of queue\n",
    "- size() : Returns number of elements in queue.\n",
    "- front() : Finds front item"
   ]
  },
  {
   "cell_type": "code",
   "execution_count": 30,
   "id": "02a73aff-0ff4-474d-a955-f44982e91eaa",
   "metadata": {},
   "outputs": [
    {
     "name": "stdin",
     "output_type": "stream",
     "text": [
      "Enter values in comma separated format 1,2,3,4,5,6,7,8\n",
      "Enter value of k 4\n"
     ]
    },
    {
     "name": "stdout",
     "output_type": "stream",
     "text": [
      "4 3 2 1 5 6 7 8\n"
     ]
    },
    {
     "name": "stdin",
     "output_type": "stream",
     "text": [
      "Enter values in comma separated format 9,8,7,6,5,4,3,2,1\n",
      "Enter value of k 5\n"
     ]
    },
    {
     "name": "stdout",
     "output_type": "stream",
     "text": [
      "5 6 7 8 9 4 3 2 1\n"
     ]
    }
   ],
   "source": [
    "from collections import deque\n",
    "\n",
    "def reverseFirstK(q, k):\n",
    "\td = deque()\n",
    "\n",
    "\tfor i in range(k):\n",
    "\t\td.appendleft(q.popleft())\n",
    "\n",
    "\twhile d:\n",
    "\t\tq.append(d.popleft())\n",
    "\n",
    "\tfor i in range(len(q) - k):\n",
    "\t\tq.append(q.popleft())\n",
    "\n",
    "for i in range(2):\n",
    "    q = deque()\n",
    "    arr = list(map(int,input(\"Enter values in comma separated format\").split(',')))\n",
    "    k = int(input(\"Enter value of k\"))\n",
    "    for i in arr:\n",
    "        q.append(i)\n",
    "    reverseFirstK(q, k)\n",
    "    print(*q)"
   ]
  },
  {
   "cell_type": "raw",
   "id": "57a13bd0-4c51-4700-a065-dde7c111befe",
   "metadata": {},
   "source": [
    "Question 7\n",
    "\n",
    "Given a sequence of n strings, the task is to check if any two similar words come together and then destroy each other then print the number of words left in the sequence after this pairwise destruction."
   ]
  },
  {
   "cell_type": "code",
   "execution_count": 32,
   "id": "ef173d19-265d-4e32-bede-a71568216a7a",
   "metadata": {},
   "outputs": [
    {
     "name": "stdout",
     "output_type": "stream",
     "text": [
      "TestCase:1\n",
      "3\n",
      "TestCase:2\n",
      "0\n"
     ]
    }
   ],
   "source": [
    "def removeConsecutiveSame(v):\n",
    "\tst = []\n",
    "\tfor i in range(len(v)):\n",
    "\t\tif (len(st) == 0):\n",
    "\t\t\tst.append(v[i])\n",
    "\t\telse:\n",
    "\t\t\tStr = st[-1]\n",
    "\t\t\tif (Str == v[i]):\n",
    "\t\t\t\tst.pop()\n",
    "\t\t\telse:\n",
    "\t\t\t\tst.append(v[i])\n",
    "\n",
    "\t# Return stack size\n",
    "\treturn len(st)\n",
    "\n",
    "print(\"TestCase:1\")\n",
    "V = [ \"ab\", \"aa\", \"aa\", \"bcd\", \"ab\"]\n",
    "print(removeConsecutiveSame(V))\n",
    "print(\"TestCase:2\")\n",
    "V = [\"tom\",\"jerry\",\"jerry\",\"tom\"]\n",
    "print(removeConsecutiveSame(V))"
   ]
  },
  {
   "cell_type": "raw",
   "id": "2cda9372-908a-4c32-9653-3da69d95336f",
   "metadata": {},
   "source": [
    "Question 8\n",
    "\n",
    "Given an array of integers, the task is to find the maximum absolute difference between the nearest left and the right smaller element of every element in the array.\n",
    "\n",
    "Note: If there is no smaller element on right side or left side of any element then we take zero as the smaller element. For example for the leftmost element, the nearest smaller element on the left side is considered as 0. Similarly, for rightmost elements, the smaller element on the right side is considered as 0."
   ]
  },
  {
   "cell_type": "code",
   "execution_count": 35,
   "id": "a2e090aa-2b1d-46dd-8850-a77fe93cfdc1",
   "metadata": {},
   "outputs": [
    {
     "name": "stdin",
     "output_type": "stream",
     "text": [
      "Enter values in comma separated format 2,1,8\n"
     ]
    },
    {
     "name": "stdout",
     "output_type": "stream",
     "text": [
      "Maximum Diff : 1\n"
     ]
    },
    {
     "name": "stdin",
     "output_type": "stream",
     "text": [
      "Enter values in comma separated format 5, 1, 9, 2, 5, 1, 7\n"
     ]
    },
    {
     "name": "stdout",
     "output_type": "stream",
     "text": [
      "Maximum Diff : 1\n"
     ]
    },
    {
     "name": "stdin",
     "output_type": "stream",
     "text": [
      "Enter values in comma separated format 2, 4, 8, 7, 7, 9, 3\n"
     ]
    },
    {
     "name": "stdout",
     "output_type": "stream",
     "text": [
      "Maximum Diff : 4\n"
     ]
    }
   ],
   "source": [
    "def leftsmaller(arr, n, SE):\n",
    "\tsta = []\n",
    "\tfor i in range(n):\n",
    "\t\twhile(sta != [] and sta[len(sta)-1] >= arr[i]):\n",
    "\t\t\tsta.pop()\n",
    "\t\tif(sta != []):\n",
    "\t\t\tSE[i]=sta[len(sta)-1]\n",
    "\t\telse:\n",
    "\t\t\tSE[i]=0\n",
    "\t\tsta.append(arr[i])\n",
    "\n",
    "\n",
    "def findMaxDiff(arr, n):\n",
    "\tls=[0]*n\n",
    "\trs=[0]*n\n",
    "\tleftsmaller(arr, n, ls)\n",
    "\tleftsmaller(arr[::-1], n, rs)\n",
    "\tres = -1\n",
    "\tfor i in range(n):\n",
    "\t\tres = max(res, abs(ls[i] - rs[n-1-i]))\n",
    "\treturn res\n",
    "\n",
    "\t\n",
    "for i in range(3):\n",
    "\tarr = list(map(int,input(\"Enter values in comma separated format\").split(',')))\n",
    "\tprint(\"Maximum Diff :\", findMaxDiff(arr, len(arr)))"
   ]
  },
  {
   "cell_type": "code",
   "execution_count": null,
   "id": "36edfe3c-a43b-469a-b746-5e55feea0988",
   "metadata": {},
   "outputs": [],
   "source": []
  }
 ],
 "metadata": {
  "kernelspec": {
   "display_name": "Python 3 (ipykernel)",
   "language": "python",
   "name": "python3"
  },
  "language_info": {
   "codemirror_mode": {
    "name": "ipython",
    "version": 3
   },
   "file_extension": ".py",
   "mimetype": "text/x-python",
   "name": "python",
   "nbconvert_exporter": "python",
   "pygments_lexer": "ipython3",
   "version": "3.10.6"
  }
 },
 "nbformat": 4,
 "nbformat_minor": 5
}
