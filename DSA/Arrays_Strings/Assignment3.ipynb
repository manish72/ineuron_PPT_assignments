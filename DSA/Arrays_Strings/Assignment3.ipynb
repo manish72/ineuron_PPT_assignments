{
 "cells": [
  {
   "cell_type": "raw",
   "id": "f645e74a-8169-4d4c-b121-0b261e67be36",
   "metadata": {},
   "source": [
    "Question 1\n",
    "Given an integer array nums of length n and an integer target, find three integers\n",
    "in nums such that the sum is closest to the target.\n",
    "Return the sum of the three integers.\n",
    "You may assume that each input would have exactly one solution."
   ]
  },
  {
   "cell_type": "code",
   "execution_count": 1,
   "id": "521fca22-d5dc-42b7-8389-6f1b07cb9c6a",
   "metadata": {},
   "outputs": [
    {
     "name": "stdin",
     "output_type": "stream",
     "text": [
      "Enter values in comma separated format -1,2,1,-4\n",
      "Enter target value: 1\n"
     ]
    },
    {
     "name": "stdout",
     "output_type": "stream",
     "text": [
      "Closest sum is : 2\n"
     ]
    }
   ],
   "source": [
    "def find_closest_sum(nums,target):\n",
    "    nums, result, min_diff, i = sorted(nums), float(\"inf\"), float(\"inf\"), 0\n",
    "    while i < len(nums) - 2:\n",
    "        if i == 0 or nums[i] != nums[i - 1]:\n",
    "            j, k = i + 1, len(nums) - 1\n",
    "            while j < k:\n",
    "                diff = nums[i] + nums[j] + nums[k] - target\n",
    "                if abs(diff) < min_diff:\n",
    "                    min_diff = abs(diff)\n",
    "                    result = nums[i] + nums[j] + nums[k]\n",
    "                if diff < 0:\n",
    "                    j += 1\n",
    "                elif diff > 0:\n",
    "                    k -= 1\n",
    "                else:\n",
    "                    return target\n",
    "        i += 1\n",
    "    return result\n",
    "\n",
    "nums = list(map(int,input(\"Enter values in comma separated format\").split(',')))\n",
    "target = int(input(\"Enter target value:\"))\n",
    "print(f\"Closest sum is : {find_closest_sum(nums,target)}\")"
   ]
  },
  {
   "cell_type": "raw",
   "id": "3bc4ed78-6494-45f4-bd1a-b62014c40c5d",
   "metadata": {},
   "source": [
    "Question 2\n",
    "Given an array nums of n integers, return an array of all the unique quadruplets\n",
    "[nums[a], nums[b], nums[c], nums[d]] such that:\n",
    "● 0 <= a, b, c, d < n\n",
    "● a, b, c, and d are distinct.\n",
    "● nums[a] + nums[b] + nums[c] + nums[d] == target\n",
    "You may return the answer in any order."
   ]
  },
  {
   "cell_type": "code",
   "execution_count": 6,
   "id": "bab53900-386f-4e38-8b71-4cf62e3a0c08",
   "metadata": {},
   "outputs": [
    {
     "name": "stdin",
     "output_type": "stream",
     "text": [
      "Enter values in comma separated format 1,0,-1,0,-2,2\n",
      "Enter target value: 0\n"
     ]
    },
    {
     "name": "stdout",
     "output_type": "stream",
     "text": [
      "Four sum is : [[-2, -1, 1, 2], [-2, 0, 0, 2], [-1, 0, 0, 1]]\n"
     ]
    }
   ],
   "source": [
    "import collections\n",
    "\n",
    "try:\n",
    "    xrange\n",
    "except NameError:\n",
    "    xrange = range\n",
    "\n",
    "def find_four_sum(nums,target):\n",
    "    nums.sort()\n",
    "    res = []\n",
    "    for i in xrange(len(nums) - 3):\n",
    "        if i and nums[i] == nums[i - 1]:\n",
    "            continue\n",
    "        for j in xrange(i + 1, len(nums) - 2):\n",
    "            if j != i + 1 and nums[j] == nums[j - 1]:\n",
    "                continue\n",
    "            sum = target - nums[i] - nums[j]\n",
    "            left, right = j + 1, len(nums) - 1\n",
    "            while left < right:\n",
    "                if nums[left] + nums[right] == sum:\n",
    "                    res.append([nums[i], nums[j], nums[left], nums[right]])\n",
    "                    right -= 1\n",
    "                    left += 1\n",
    "                    while left < right and nums[left] == nums[left - 1]:\n",
    "                        left += 1\n",
    "                    while left < right and nums[right] == nums[right + 1]:\n",
    "                        right -= 1\n",
    "                elif nums[left] + nums[right] > sum:\n",
    "                    right -= 1\n",
    "                else:\n",
    "                    left += 1\n",
    "    return res\n",
    "\n",
    "nums = list(map(int,input(\"Enter values in comma separated format\").split(',')))\n",
    "target = int(input(\"Enter target value:\"))\n",
    "print(f\"Four sum is : {find_four_sum(nums,target)}\")"
   ]
  },
  {
   "cell_type": "raw",
   "id": "9257a6a9-c250-437b-92b8-8a0c11a1193a",
   "metadata": {},
   "source": [
    "Question 3\n",
    "A permutation of an array of integers is an arrangement of its members into a\n",
    "sequence or linear order.\n",
    "● For example, for arr = [1,2,3], the following are all the permutations of arr:\n",
    "[1,2,3], [1,3,2], [2, 1, 3], [2, 3, 1], [3,1,2], [3,2,1].\n",
    "The next permutation of an array of integers is the next lexicographically greater\n",
    "permutation of its integer. More formally, if all the permutations of the array are\n",
    "sorted in one container according to their lexicographical order, then the next\n",
    "permutation of that array is the permutation that follows it in the sorted container."
   ]
  },
  {
   "cell_type": "code",
   "execution_count": 9,
   "id": "4ef6f872-2e35-4d4c-84db-dccaf0064800",
   "metadata": {},
   "outputs": [
    {
     "name": "stdin",
     "output_type": "stream",
     "text": [
      "Enter values in comma separated format 1,2,3\n"
     ]
    },
    {
     "name": "stdout",
     "output_type": "stream",
     "text": [
      "[1, 3, 2]\n"
     ]
    }
   ],
   "source": [
    "def nextPermutation(num):\n",
    "        k, l = -1, 0\n",
    "        for i in xrange(len(num) - 1):\n",
    "            if num[i] < num[i + 1]:\n",
    "                k = i\n",
    "\n",
    "        if k == -1:\n",
    "            num.reverse()\n",
    "            return\n",
    "\n",
    "        for i in xrange(k + 1, len(num)):\n",
    "            if num[i] > num[k]:\n",
    "                l = i\n",
    "\n",
    "        num[k], num[l] = num[l], num[k]\n",
    "        num[k + 1:] = num[:k:-1]\n",
    "\n",
    "nums = list(map(int,input(\"Enter values in comma separated format\").split(',')))\n",
    "nextPermutation(nums)\n",
    "print(f\"{nums}\")"
   ]
  },
  {
   "cell_type": "raw",
   "id": "e122c02b-364e-473b-9dfe-d7672693c8a8",
   "metadata": {},
   "source": [
    "Question 4\n",
    "Given a sorted array of distinct integers and a target value, return the index if the\n",
    "target is found. If not, return the index where it would be if it were inserted in\n",
    "order.\n",
    "You must write an algorithm with O(log n) runtime complexity."
   ]
  },
  {
   "cell_type": "code",
   "execution_count": 10,
   "id": "0b17704a-d0a9-4f6f-8439-68b316617ce5",
   "metadata": {},
   "outputs": [
    {
     "name": "stdin",
     "output_type": "stream",
     "text": [
      "Enter values in comma separated format 1,3,5,6\n",
      "Enter target value: 5\n"
     ]
    },
    {
     "name": "stdout",
     "output_type": "stream",
     "text": [
      "Element found at index : 2\n"
     ]
    }
   ],
   "source": [
    "nums = list(map(int,input(\"Enter values in comma separated format\").split(',')))\n",
    "target = int(input(\"Enter target value:\"))\n",
    "left,right,mid = 0,len(nums),0\n",
    "flag = False\n",
    "\n",
    "while left <= right:\n",
    "    mid = (left+(right-1))//2\n",
    "    if nums[mid] == target:\n",
    "        flag = True\n",
    "        break\n",
    "    elif nums[mid] < target:\n",
    "        left = mid + 1\n",
    "    else:\n",
    "        right = mid - 1\n",
    "        \n",
    "print(f\"Element found at index : {mid}\")"
   ]
  },
  {
   "cell_type": "raw",
   "id": "3871e5a1-c064-4e78-8f86-f7dd52b52a3e",
   "metadata": {},
   "source": [
    "Question 5\n",
    "You are given a large integer represented as an integer array digits, where each\n",
    "digits[i] is the ith digit of the integer. The digits are ordered from most significant\n",
    "to least significant in left-to-right order. The large integer does not contain any\n",
    "leading 0's.\n",
    "Increment the large integer by one and return the resulting array of digits."
   ]
  },
  {
   "cell_type": "code",
   "execution_count": 11,
   "id": "db57b445-358c-456d-9bc7-3f4aa17aef0c",
   "metadata": {},
   "outputs": [
    {
     "name": "stdin",
     "output_type": "stream",
     "text": [
      "Enter digits in comma separated format 1,2,3\n"
     ]
    },
    {
     "name": "stdout",
     "output_type": "stream",
     "text": [
      "Digits are [1, 2, 4]\n"
     ]
    }
   ],
   "source": [
    "digits = list(map(int,input(\"Enter digits in comma separated format\").split(',')))\n",
    "n = len(digits) - 1\n",
    "while digits[n] == 9:\n",
    "    digits[n] = 0\n",
    "    n = n - 1\n",
    "if n < 0:\n",
    "    digits = [1] + digits\n",
    "else:\n",
    "    digits[n] = digits[n] + 1\n",
    "\n",
    "print(f\"Digits are {digits}\")"
   ]
  },
  {
   "cell_type": "raw",
   "id": "632f7143-62bf-421b-8c29-a0a516f41b6b",
   "metadata": {},
   "source": [
    "Question 6\n",
    "Given a non-empty array of integers nums, every element appears twice except\n",
    "for one. Find that single one.\n",
    "You must implement a solution with a linear runtime complexity and use only\n",
    "constant extra space."
   ]
  },
  {
   "cell_type": "code",
   "execution_count": 15,
   "id": "b3989d8f-d2c7-4b28-a1c5-ad3153dabb41",
   "metadata": {},
   "outputs": [
    {
     "name": "stdin",
     "output_type": "stream",
     "text": [
      "Enter values in comma separated format 2,2,1\n"
     ]
    },
    {
     "name": "stdout",
     "output_type": "stream",
     "text": [
      "Single number is 1\n"
     ]
    }
   ],
   "source": [
    "from collections import Counter\n",
    "nums = list(map(int,input(\"Enter values in comma separated format\").split(',')))\n",
    "nums_count = Counter(nums)\n",
    "\n",
    "def find_single(nums):\n",
    "    for x in nums_count:\n",
    "        if nums_count[x] < 2:\n",
    "            return x\n",
    "        \n",
    "print(f\"Single number is {find_single(nums)}\")"
   ]
  },
  {
   "cell_type": "raw",
   "id": "c30a1210-bbab-4612-83a5-c784c1a34477",
   "metadata": {},
   "source": [
    "Question 7\n",
    "You are given an inclusive range [lower, upper] and a sorted unique integer array\n",
    "nums, where all elements are within the inclusive range.\n",
    "A number x is considered missing if x is in the range [lower, upper] and x is not in\n",
    "nums.\n",
    "Return the shortest sorted list of ranges that exactly covers all the missing\n",
    "numbers. That is, no element of nums is included in any of the ranges, and each\n",
    "missing number is covered by one of the ranges."
   ]
  },
  {
   "cell_type": "code",
   "execution_count": 10,
   "id": "fe16d7ac-bad2-4abf-86c8-c6f3e294b1ac",
   "metadata": {},
   "outputs": [
    {
     "name": "stdin",
     "output_type": "stream",
     "text": [
      "Enter values in comma separated format 0,1,3,50,75\n",
      "Enter lower value: 0\n",
      "Enter upper value: 99\n"
     ]
    },
    {
     "name": "stdout",
     "output_type": "stream",
     "text": [
      "[[2, 2], [4, 49], [51, 74], [76, 99]]\n"
     ]
    }
   ],
   "source": [
    "nums = list(map(int,input(\"Enter values in comma separated format\").split(',')))\n",
    "lower = int(input(\"Enter lower value:\"))\n",
    "upper = int(input(\"Enter upper value:\"))\n",
    "fin_list = list()\n",
    "\n",
    "if len(nums) == 0:\n",
    "    fin_list.append[[lower, upper]]\n",
    "else:\n",
    "    if nums[0] != lower:\n",
    "        fin_list.append([lower,nums[0]-1])\n",
    "\n",
    "    for i in range(1,len(nums)):\n",
    "        if nums[i-1] + 1 != nums[i]:\n",
    "            fin_list.append([nums[i-1]+1,nums[i]-1])\n",
    "\n",
    "    if nums[-1] != upper:\n",
    "        fin_list.append([nums[-1]+1,upper])\n",
    "\n",
    "print(fin_list)    "
   ]
  },
  {
   "cell_type": "raw",
   "id": "d7c9698c-3989-47bb-b0e0-d4d7b801a235",
   "metadata": {},
   "source": [
    "Question 8\n",
    "Given an array of meeting time intervals where intervals[i] = [starti, endi],\n",
    "determine if a person could attend all meetings."
   ]
  },
  {
   "cell_type": "code",
   "execution_count": 22,
   "id": "a2ae1d8f-2699-4944-b690-94d745d299d7",
   "metadata": {},
   "outputs": [
    {
     "name": "stdin",
     "output_type": "stream",
     "text": [
      "Enter no of intervals 3\n",
      "Enter two comma separated values 0,30\n",
      "Enter two comma separated values 5,10\n",
      "Enter two comma separated values 15,20\n"
     ]
    },
    {
     "name": "stdout",
     "output_type": "stream",
     "text": [
      "False\n"
     ]
    }
   ],
   "source": [
    "from itertools import pairwise\n",
    "\n",
    "no_of_intervals = int(input(\"Enter no of intervals\"))\n",
    "intervals = list()\n",
    "for i in range(no_of_intervals):\n",
    "    temp = list(map(int,input(\"Enter two comma separated values\").split(',')))\n",
    "    intervals.append(temp)\n",
    "    \n",
    "intervals.sort()\n",
    "print(all(a[1] <= b[0] for a, b in pairwise(intervals)))"
   ]
  },
  {
   "cell_type": "code",
   "execution_count": null,
   "id": "98becc73-b77b-4186-ad53-1a69a9ae33b5",
   "metadata": {},
   "outputs": [],
   "source": []
  }
 ],
 "metadata": {
  "kernelspec": {
   "display_name": "Python 3 (ipykernel)",
   "language": "python",
   "name": "python3"
  },
  "language_info": {
   "codemirror_mode": {
    "name": "ipython",
    "version": 3
   },
   "file_extension": ".py",
   "mimetype": "text/x-python",
   "name": "python",
   "nbconvert_exporter": "python",
   "pygments_lexer": "ipython3",
   "version": "3.10.6"
  }
 },
 "nbformat": 4,
 "nbformat_minor": 5
}
