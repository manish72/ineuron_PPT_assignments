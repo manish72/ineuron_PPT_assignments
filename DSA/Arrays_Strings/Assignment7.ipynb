{
 "cells": [
  {
   "cell_type": "raw",
   "id": "12839d47-2812-46b4-9437-9c9eed082c41",
   "metadata": {},
   "source": [
    "Question 1\n",
    "Given two strings s and t, *determine if they are isomorphic*.\n",
    "Two strings s and t are isomorphic if the characters in s can be replaced to get t.\n",
    "All occurrences of a character must be replaced with another character while preserving the order of characters. No two characters may map to the same character, but a character may map to itself."
   ]
  },
  {
   "cell_type": "code",
   "execution_count": 4,
   "id": "0b29e86b-2955-4c32-9919-85f37e5b894a",
   "metadata": {},
   "outputs": [
    {
     "name": "stdin",
     "output_type": "stream",
     "text": [
      "Enter string: egg\n",
      "Enter string: add\n"
     ]
    },
    {
     "name": "stdout",
     "output_type": "stream",
     "text": [
      "True\n"
     ]
    }
   ],
   "source": [
    "s = input(\"Enter string:\")\n",
    "t = input(\"Enter string:\")\n",
    "if len(s) != len(t):\n",
    "    print(False)\n",
    "\n",
    "s2t, t2s = {}, {}\n",
    "for p, w in zip(s, t):\n",
    "    if w not in s2t and p not in t2s:\n",
    "        s2t[w] = p\n",
    "        t2s[p] = w\n",
    "    elif w not in s2t or s2t[w] != p:\n",
    "        # Contradict mapping.\n",
    "        print(False)\n",
    "print(True)"
   ]
  },
  {
   "cell_type": "raw",
   "id": "082fd4b1-b065-4971-a480-cb00c4ac8e23",
   "metadata": {},
   "source": [
    "Question 2\n",
    "\n",
    "Given a string num which represents an integer, return true *if* num *is a **strobogrammatic number***.\n",
    "\n",
    "A **strobogrammatic number** is a number that looks the same when rotated 180 degrees (looked at upside down)."
   ]
  },
  {
   "cell_type": "code",
   "execution_count": 11,
   "id": "1a5d9ab9-ecb6-4914-96dc-6edaecc6dfae",
   "metadata": {},
   "outputs": [
    {
     "name": "stdin",
     "output_type": "stream",
     "text": [
      "Enter number: 69\n"
     ]
    },
    {
     "name": "stdout",
     "output_type": "stream",
     "text": [
      "True\n"
     ]
    }
   ],
   "source": [
    "num = input(\"Enter number:\")\n",
    "\n",
    "if len(num) == 0:\n",
    "    print(False)\n",
    "\n",
    "for i in range((len(num) + 1) // 2):\n",
    "    c1 = num[i]\n",
    "    c2 = num[len(num) - 1 - i]\n",
    "    if c1 == '8' == c2 == '8':\n",
    "        pass\n",
    "    elif c1 == '0' == c2:\n",
    "        pass\n",
    "    elif c1 == '1' == c2:\n",
    "        pass\n",
    "    elif (c1 == '6' and c2 == '9') or (c1 == '9' and c2 == '6'):\n",
    "        pass\n",
    "    else:\n",
    "        print(False)\n",
    "\n",
    "print(True)"
   ]
  },
  {
   "cell_type": "raw",
   "id": "f34323df-e3b3-4eb2-b776-d17c839d86f5",
   "metadata": {},
   "source": [
    "Question 3\n",
    "\n",
    "Given two non-negative integers, num1 and num2 represented as string, return *the sum of* num1 *and* num2 *as a string*.\n",
    "\n",
    "You must solve the problem without using any built-in library for handling large integers (such as BigInteger). You must also not convert the inputs to integers directly."
   ]
  },
  {
   "cell_type": "code",
   "execution_count": 3,
   "id": "aa225eb7-5e7d-466c-8590-33682b49e8a5",
   "metadata": {},
   "outputs": [
    {
     "name": "stdin",
     "output_type": "stream",
     "text": [
      "Enter number: 11\n",
      "Enter number: 123\n"
     ]
    },
    {
     "name": "stdout",
     "output_type": "stream",
     "text": [
      "134\n"
     ]
    }
   ],
   "source": [
    "num1 = input(\"Enter number:\")\n",
    "num2 = input(\"Enter number:\")\n",
    "length = max(len(num1), len(num2))\n",
    "num1 = num1.zfill(length)[::-1]\n",
    "num2 = num2.zfill(length)[::-1]\n",
    "res, plus = '', 0\n",
    "for index, num in enumerate(num1):\n",
    "    tmp = str(int(num) + int(num2[index]) + plus)\n",
    "    res += tmp[-1]\n",
    "    if int(tmp) > 9:\n",
    "        plus = 1\n",
    "    else:\n",
    "        plus = 0\n",
    "if plus:\n",
    "    res += '1'\n",
    "print(res[::-1])"
   ]
  },
  {
   "cell_type": "raw",
   "id": "665c1ff9-dd99-4b13-9c57-a82c65fc315a",
   "metadata": {},
   "source": [
    "Question 4\n",
    "\n",
    "Given a string s, reverse the order of characters in each word within a sentence while still preserving whitespace and initial word order."
   ]
  },
  {
   "cell_type": "code",
   "execution_count": 5,
   "id": "4ad31637-bc12-4244-953e-33dcaeaa2665",
   "metadata": {},
   "outputs": [
    {
     "name": "stdin",
     "output_type": "stream",
     "text": [
      "Enter String: Let's take LeetCode contest\n"
     ]
    },
    {
     "name": "stdout",
     "output_type": "stream",
     "text": [
      "s'teL ekat edoCteeL tsetnoc\n"
     ]
    }
   ],
   "source": [
    "s = input(\"Enter String:\")\n",
    "reversed_words = [word[::-1] for word in s.split(' ')]\n",
    "print(' '.join(reversed_words))"
   ]
  },
  {
   "cell_type": "raw",
   "id": "ebf6054a-15b9-4356-8838-306c6b5e149f",
   "metadata": {},
   "source": [
    "Question 5\n",
    "\n",
    "Given a string s and an integer k, reverse the first k characters for every 2k characters counting from the start of the string.\n",
    "\n",
    "If there are fewer than k characters left, reverse all of them. If there are less than 2k but greater than or equal to k characters, then reverse the first k characters and leave the other as original."
   ]
  },
  {
   "cell_type": "code",
   "execution_count": 8,
   "id": "a896aba6-e07c-4063-91c8-bfa7f113f776",
   "metadata": {},
   "outputs": [
    {
     "name": "stdin",
     "output_type": "stream",
     "text": [
      "Enter String: abcdefg\n",
      "Enter no of characters 2\n"
     ]
    },
    {
     "name": "stdout",
     "output_type": "stream",
     "text": [
      "bacdfeg\n"
     ]
    }
   ],
   "source": [
    "s = input(\"Enter String:\")\n",
    "k = int(input(\"Enter no of characters\"))\n",
    "s = list(s)\n",
    "for i in range(0, len(s), 2*k):\n",
    "    s[i:i+k] = reversed(s[i:i+k])\n",
    "print(\"\".join(s))"
   ]
  },
  {
   "cell_type": "raw",
   "id": "491987dc-b65c-42c3-81ae-4bd5555447bc",
   "metadata": {},
   "source": [
    "Question 6\n",
    "\n",
    "Given two strings s and goal, return true *if and only if* s *can become* goal *after some number of **shifts** on* s.\n",
    "\n",
    "A **shift** on s consists of moving the leftmost character of s to the rightmost position.\n",
    "\n",
    "- For example, if s = \"abcde\", then it will be \"bcdea\" after one shift."
   ]
  },
  {
   "cell_type": "code",
   "execution_count": 11,
   "id": "7f74dcee-a352-4a1b-85f1-6be41adb05fa",
   "metadata": {},
   "outputs": [
    {
     "name": "stdin",
     "output_type": "stream",
     "text": [
      "Enter string: abcde\n",
      "Enter string: cdeab\n"
     ]
    },
    {
     "name": "stdout",
     "output_type": "stream",
     "text": [
      "True\n"
     ]
    }
   ],
   "source": [
    "A = input(\"Enter string:\")\n",
    "B = input(\"Enter string:\")\n",
    "print(len(A) == len(B) and B in A*2)"
   ]
  },
  {
   "cell_type": "raw",
   "id": "db8f5462-151f-4f7f-a8d2-0f2137af00ee",
   "metadata": {},
   "source": [
    "Question 7\n",
    "\n",
    "Given two strings s and t, return true *if they are equal when both are typed into empty text editors*. '#' means a backspace character.\n",
    "\n",
    "Note that after backspacing an empty text, the text will continue empty."
   ]
  },
  {
   "cell_type": "code",
   "execution_count": 13,
   "id": "b6fc20c2-fd02-467d-9fb2-860eb40facda",
   "metadata": {},
   "outputs": [
    {
     "name": "stdin",
     "output_type": "stream",
     "text": [
      "Enter string: ab#c\n",
      "Enter string: ad#c\n"
     ]
    },
    {
     "name": "stdout",
     "output_type": "stream",
     "text": [
      "True\n"
     ]
    }
   ],
   "source": [
    "S = input(\"Enter string:\")\n",
    "T = input(\"Enter string:\")\n",
    "s = []\n",
    "for c in S:\n",
    "    if c == '#':\n",
    "        if s: s.pop()\n",
    "    else: s.append(c)\n",
    "\n",
    "t = []\n",
    "for c in T:\n",
    "    if c == '#':\n",
    "        if t: t.pop()\n",
    "    else: t.append(c)\n",
    "\n",
    "print(''.join(s) == ''.join(t))"
   ]
  },
  {
   "cell_type": "raw",
   "id": "fbc0517f-cfc2-4359-9143-4ae567daff76",
   "metadata": {},
   "source": [
    "Question 8\n",
    "\n",
    "You are given an array coordinates, coordinates[i] = [x, y], where [x, y] represents the coordinate of a point. Check if these points make a straight line in the XY plane."
   ]
  },
  {
   "cell_type": "code",
   "execution_count": 15,
   "id": "4897c360-0159-4fc1-836d-c355d5c04bba",
   "metadata": {},
   "outputs": [
    {
     "name": "stdout",
     "output_type": "stream",
     "text": [
      "True\n"
     ]
    }
   ],
   "source": [
    "coordinates = [[1,2],[2,3],[3,4],[4,5],[5,6],[6,7]]\n",
    "i, j = coordinates[:2]\n",
    "print(all(i[0] * j[1] - j[0] * i[1] +\n",
    "           j[0] * k[1] - k[0] * j[1] +\n",
    "           k[0] * i[1] - i[0] * k[1] == 0\n",
    "           for k in coordinates))"
   ]
  }
 ],
 "metadata": {
  "kernelspec": {
   "display_name": "Python 3 (ipykernel)",
   "language": "python",
   "name": "python3"
  },
  "language_info": {
   "codemirror_mode": {
    "name": "ipython",
    "version": 3
   },
   "file_extension": ".py",
   "mimetype": "text/x-python",
   "name": "python",
   "nbconvert_exporter": "python",
   "pygments_lexer": "ipython3",
   "version": "3.10.6"
  }
 },
 "nbformat": 4,
 "nbformat_minor": 5
}
