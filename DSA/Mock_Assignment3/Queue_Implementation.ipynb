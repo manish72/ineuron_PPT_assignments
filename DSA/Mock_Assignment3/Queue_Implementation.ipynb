{
 "cells": [
  {
   "cell_type": "markdown",
   "id": "7f9f7f63-4bc7-4964-9982-568286f332ae",
   "metadata": {},
   "source": [
    "### Implement a queue using a list in Python. Include the necessary methods such as enqueue, dequeue, and isEmpty."
   ]
  },
  {
   "cell_type": "code",
   "execution_count": 1,
   "id": "cfff1aa5-288e-48b1-ba5a-e82c677d2df7",
   "metadata": {},
   "outputs": [],
   "source": [
    "class Queue:\n",
    "    def __init__(self):\n",
    "        self.queue = list()\n",
    "\n",
    "    def enqueue(self, item):\n",
    "        self.queue.append(item)\n",
    "\n",
    "    def dequeue(self):\n",
    "        if self.isEmpty():\n",
    "            raise IndexError(\"Cannot dequeue from an empty queue\")\n",
    "        return self.queue.pop(0)\n",
    "\n",
    "    def isEmpty(self):\n",
    "        return len(self.queue) == 0"
   ]
  },
  {
   "cell_type": "code",
   "execution_count": 2,
   "id": "3f777526-c70f-44c1-a60b-fd85f20e0c62",
   "metadata": {},
   "outputs": [
    {
     "name": "stdout",
     "output_type": "stream",
     "text": [
      "True\n",
      "False\n",
      "1\n",
      "2\n",
      "False\n",
      "3\n",
      "True\n",
      "Cannot dequeue from an empty queue\n"
     ]
    }
   ],
   "source": [
    "queue = Queue()\n",
    "print(queue.isEmpty())\n",
    "\n",
    "queue.enqueue(1)\n",
    "queue.enqueue(2)\n",
    "queue.enqueue(3)\n",
    "\n",
    "print(queue.isEmpty())\n",
    "\n",
    "item = queue.dequeue()\n",
    "print(item)\n",
    "\n",
    "item = queue.dequeue()\n",
    "print(item)\n",
    "\n",
    "print(queue.isEmpty())\n",
    "\n",
    "item = queue.dequeue()\n",
    "print(item)\n",
    "\n",
    "print(queue.isEmpty())\n",
    "\n",
    "try:\n",
    "    queue.dequeue()\n",
    "except Exception as e:\n",
    "    print(e)"
   ]
  },
  {
   "cell_type": "code",
   "execution_count": null,
   "id": "ba425ca8-dba7-4c89-a8ae-63ea508f9ede",
   "metadata": {},
   "outputs": [],
   "source": []
  }
 ],
 "metadata": {
  "kernelspec": {
   "display_name": "Python 3 (ipykernel)",
   "language": "python",
   "name": "python3"
  },
  "language_info": {
   "codemirror_mode": {
    "name": "ipython",
    "version": 3
   },
   "file_extension": ".py",
   "mimetype": "text/x-python",
   "name": "python",
   "nbconvert_exporter": "python",
   "pygments_lexer": "ipython3",
   "version": "3.10.6"
  }
 },
 "nbformat": 4,
 "nbformat_minor": 5
}
