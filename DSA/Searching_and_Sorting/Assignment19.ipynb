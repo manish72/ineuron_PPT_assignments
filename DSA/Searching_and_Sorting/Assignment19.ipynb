{
 "cells": [
  {
   "cell_type": "raw",
   "id": "078a89b0-78c1-4c72-85f6-96b8daccae7d",
   "metadata": {},
   "source": [
    "1. Merge k Sorted Lists\n",
    "\n",
    "You are given an array of k linked-lists lists, each linked-list is sorted in ascending order.\n",
    "\n",
    "Merge all the linked-lists into one sorted linked-list and return it."
   ]
  },
  {
   "cell_type": "code",
   "execution_count": 1,
   "id": "913004c0-4975-4b11-a96f-f67b62e8b0b1",
   "metadata": {},
   "outputs": [
    {
     "name": "stdin",
     "output_type": "stream",
     "text": [
      "Enter number of linked lists: 3\n",
      "Enter values in comma separated format 1,4,5\n",
      "Enter values in comma separated format 1,3,5\n",
      "Enter values in comma separated format 2,6\n"
     ]
    },
    {
     "name": "stdout",
     "output_type": "stream",
     "text": [
      "1 1 2 3 4 5 5 6 "
     ]
    }
   ],
   "source": [
    "import heapq\n",
    "\n",
    "class Node:\n",
    "    def __init__(self, data):\n",
    "        self.item = data\n",
    "        self.ref = None\n",
    "        \n",
    "class LinkedList:\n",
    "    def __init__(self):\n",
    "        self.start_node = None\n",
    "    def insert_at_end(self, data):\n",
    "        new_node = Node(data)\n",
    "        if self.start_node is None:\n",
    "            self.start_node = new_node\n",
    "        else:\n",
    "            n = self.start_node\n",
    "            while n.ref is not None:\n",
    "                n= n.ref\n",
    "            n.ref = new_node\n",
    "    def SortedMerge(self,a, b):  \n",
    "        result = None\n",
    "        if (a == None):\n",
    "            return(b)\n",
    "        elif (b == None):\n",
    "            return(a)\n",
    "        if (a.item <= b.item):\n",
    "            result = a\n",
    "            result.ref = self.SortedMerge(a.ref, b)\n",
    "        else:\n",
    "            result = b\n",
    "            result.ref = self.SortedMerge(a, b.ref)\n",
    "        return result\n",
    "\n",
    "    def mergeKLists(self,arr,last):\n",
    "        while (last != 0):\n",
    "            i = 0\n",
    "            j = last\n",
    "            while (i < j):\n",
    "                arr[i] = self.SortedMerge(arr[i], arr[j])\n",
    "                i += 1\n",
    "                j -= 1\n",
    "                if (i >= j):\n",
    "                    last = j\n",
    "        return arr[0]\n",
    "            \n",
    "for i in range(1):\n",
    "    k = int(input(\"Enter number of linked lists:\"))\n",
    "    nested_list = list()\n",
    "    for _ in range(k):\n",
    "        nums = list(map(int,input(\"Enter values in comma separated format\").split(',')))\n",
    "        nodeObj = LinkedList()\n",
    "        for m in range(0,len(nums)):\n",
    "            nodeObj.insert_at_end(nums[m])\n",
    "        nested_list.append(nodeObj.start_node)\n",
    "    linked_list = LinkedList()\n",
    "    fin_list = linked_list.mergeKLists(nested_list,k-1)\n",
    "    while fin_list is not None:\n",
    "        print(fin_list.item,end=\" \")\n",
    "        fin_list = fin_list.ref"
   ]
  },
  {
   "cell_type": "raw",
   "id": "653b2876-5946-45c8-a9e4-e85187063b48",
   "metadata": {},
   "source": [
    "2. Count of Smaller Numbers After Self\n",
    "\n",
    "Given an integer array nums, return an integer array counts where counts[i] is the number of smaller elements to the right of nums[i]."
   ]
  },
  {
   "cell_type": "code",
   "execution_count": 5,
   "id": "3b370f8a-856f-40f6-b610-4c17419e3c18",
   "metadata": {},
   "outputs": [
    {
     "name": "stdin",
     "output_type": "stream",
     "text": [
      "Enter values in comma separated format 5,2,6,1\n"
     ]
    },
    {
     "name": "stdout",
     "output_type": "stream",
     "text": [
      "[2, 1, 1, 0]\n"
     ]
    },
    {
     "name": "stdin",
     "output_type": "stream",
     "text": [
      "Enter values in comma separated format -1\n"
     ]
    },
    {
     "name": "stdout",
     "output_type": "stream",
     "text": [
      "[0]\n"
     ]
    },
    {
     "name": "stdin",
     "output_type": "stream",
     "text": [
      "Enter values in comma separated format -1,-1\n"
     ]
    },
    {
     "name": "stdout",
     "output_type": "stream",
     "text": [
      "[0, 0]\n"
     ]
    }
   ],
   "source": [
    "def countSmaller(nums):\n",
    "    def countAndMergeSort(num_idxs, start, end, counts):\n",
    "        if end - start <= 0:  # The size of range [start, end] less than 2 is always with count 0.\n",
    "            return\n",
    "\n",
    "        mid = start + (end - start) // 2\n",
    "        countAndMergeSort(num_idxs, start, mid, counts)\n",
    "        countAndMergeSort(num_idxs, mid + 1, end, counts)\n",
    "        r = mid + 1\n",
    "        tmp = []\n",
    "        for i in range(start, mid + 1):\n",
    "            # Merge the two sorted arrays into tmp.\n",
    "            while r <= end and num_idxs[r][0] < num_idxs[i][0]:\n",
    "                tmp.append(num_idxs[r])\n",
    "                r += 1\n",
    "            tmp.append(num_idxs[i])\n",
    "            counts[num_idxs[i][1]] += r - (mid + 1)\n",
    "\n",
    "        # Copy tmp back to num_idxs\n",
    "        num_idxs[start:start+len(tmp)] = tmp\n",
    "\n",
    "    num_idxs = []\n",
    "    counts = [0] * len(nums)\n",
    "    for i, num in enumerate(nums):\n",
    "        num_idxs.append((num, i))\n",
    "    countAndMergeSort(num_idxs, 0, len(num_idxs) - 1, counts)\n",
    "    return counts\n",
    "\n",
    "for i in range(3):\n",
    "    arr = list(map(int,input(\"Enter values in comma separated format\").split(',')))\n",
    "    print(countSmaller(arr))"
   ]
  },
  {
   "cell_type": "raw",
   "id": "f3682a29-d636-4231-95c3-8bc7874fb3b3",
   "metadata": {},
   "source": [
    "3. Sort an Array\n",
    "\n",
    "Given an array of integers nums, sort the array in ascending order and return it.\n",
    "\n",
    "You must solve the problem without using any built-in functions in O(nlog(n)) time complexity and with the smallest space complexity possible."
   ]
  },
  {
   "cell_type": "code",
   "execution_count": 7,
   "id": "8aa5543b-6dd2-4d8b-b650-6ee0e8fed994",
   "metadata": {},
   "outputs": [
    {
     "name": "stdin",
     "output_type": "stream",
     "text": [
      "Enter values in comma separated format 5,2,3,1\n"
     ]
    },
    {
     "name": "stdout",
     "output_type": "stream",
     "text": [
      "[1, 2, 3, 5]\n"
     ]
    },
    {
     "name": "stdin",
     "output_type": "stream",
     "text": [
      "Enter values in comma separated format 5,1,1,2,0,0\n"
     ]
    },
    {
     "name": "stdout",
     "output_type": "stream",
     "text": [
      "[0, 0, 1, 1, 2, 5]\n"
     ]
    },
    {
     "name": "stdin",
     "output_type": "stream",
     "text": [
      "Enter values in comma separated format 6,3,8,1,5\n"
     ]
    },
    {
     "name": "stdout",
     "output_type": "stream",
     "text": [
      "[1, 3, 5, 6, 8]\n"
     ]
    }
   ],
   "source": [
    "import random\n",
    "\n",
    "def sortArray(nums):\n",
    "    def nth_element(nums, left, n, right, compare=lambda a, b: a < b):\n",
    "        def tri_partition(nums, left, right, target):\n",
    "            i = left\n",
    "            while i <= right:\n",
    "                if compare(nums[i], target):\n",
    "                    nums[i], nums[left] = nums[left], nums[i]\n",
    "                    left += 1\n",
    "                    i += 1\n",
    "                elif compare(target, nums[i]):\n",
    "                    nums[i], nums[right] = nums[right], nums[i]\n",
    "                    right -= 1\n",
    "                else:\n",
    "                    i += 1\n",
    "            return left, right\n",
    "\n",
    "        while left <= right:\n",
    "            pivot_idx = random.randint(left, right)\n",
    "            pivot_left, pivot_right = tri_partition(nums, left, right, nums[pivot_idx])\n",
    "            if pivot_left <= n <= pivot_right:\n",
    "                return\n",
    "            elif pivot_left > n:\n",
    "                right = pivot_left-1\n",
    "            else:  # pivot_right < n.\n",
    "                left = pivot_right+1\n",
    "\n",
    "    def quickSort(left, right, nums):\n",
    "        if left > right:\n",
    "            return\n",
    "        mid = left + (right-left)//2\n",
    "        nth_element(nums, left, mid, right)\n",
    "        quickSort(left, mid-1, nums)\n",
    "        quickSort(mid+1, right, nums)\n",
    "\n",
    "    quickSort(0, len(nums)-1, nums)\n",
    "    return nums\n",
    "\n",
    "for i in range(3):\n",
    "    arr = list(map(int,input(\"Enter values in comma separated format\").split(',')))\n",
    "    print(sortArray(arr))"
   ]
  },
  {
   "cell_type": "raw",
   "id": "e791aca1-003c-45f4-8961-bf28fb717f9f",
   "metadata": {},
   "source": [
    "4. Move all zeroes to end of array\n",
    "\n",
    "Given an array of random numbers, Push all the zero’s of a given array to the end of the array. For example, if the given arrays is {1, 9, 8, 4, 0, 0, 2, 7, 0, 6, 0}, it should be changed to {1, 9, 8, 4, 2, 7, 6, 0, 0, 0, 0}. The order of all other elements should be same. Expected time complexity is O(n) and extra space is O(1)."
   ]
  },
  {
   "cell_type": "code",
   "execution_count": 10,
   "id": "d8bfdb31-e371-41c1-888c-f60244a8c85b",
   "metadata": {},
   "outputs": [
    {
     "name": "stdin",
     "output_type": "stream",
     "text": [
      "Enter values in comma separated format 1, 2, 0, 0, 0, 3, 6\n"
     ]
    },
    {
     "name": "stdout",
     "output_type": "stream",
     "text": [
      "[1, 2, 3, 6, 0, 0, 0]\n"
     ]
    },
    {
     "name": "stdin",
     "output_type": "stream",
     "text": [
      "Enter values in comma separated format 1, 2, 0, 4, 3, 0, 5, 0\n"
     ]
    },
    {
     "name": "stdout",
     "output_type": "stream",
     "text": [
      "[1, 2, 4, 3, 5, 0, 0, 0]\n"
     ]
    }
   ],
   "source": [
    "def moveZeroes(nums):\n",
    "    pos = 0\n",
    "    for i in range(len(nums)):\n",
    "        if nums[i]:\n",
    "            nums[pos] = nums[i]\n",
    "            pos += 1\n",
    "\n",
    "    for i in range(pos, len(nums)):\n",
    "        nums[i] = 0\n",
    "    print(nums)\n",
    "for i in range(2):\n",
    "    arr = list(map(int,input(\"Enter values in comma separated format\").split(',')))\n",
    "    moveZeroes(arr)"
   ]
  },
  {
   "cell_type": "raw",
   "id": "8a1d8a53-640d-4592-9339-8561bb6df1c6",
   "metadata": {},
   "source": [
    "5. Rearrange array in alternating positive & negative items with O(1) extra space\n",
    "\n",
    "Given an array of positive and negative numbers, arrange them in an alternate fashion such that every positive number is followed by a negative and vice-versa maintaining the order of appearance. The number of positive and negative numbers need not be equal. If there are more positive numbers they appear at the end of the array. If there are more negative numbers, they too appear at the end of the array."
   ]
  },
  {
   "cell_type": "code",
   "execution_count": 12,
   "id": "0df42308-fce8-4bb2-a94e-a7a94b0b43a2",
   "metadata": {},
   "outputs": [
    {
     "name": "stdin",
     "output_type": "stream",
     "text": [
      "Enter values in comma separated format 1, 2, 3, -4, -1, 4\n"
     ]
    },
    {
     "name": "stdout",
     "output_type": "stream",
     "text": [
      "[-4, 1, -1, 2, 3, 4]\n"
     ]
    },
    {
     "name": "stdin",
     "output_type": "stream",
     "text": [
      "Enter values in comma separated format -5, -2, 5, 2, 4, 7, 1, 8, 0, -8\n"
     ]
    },
    {
     "name": "stdout",
     "output_type": "stream",
     "text": [
      "[-5, 5, -2, 2, -8, 4, 7, 1, 8, 0]\n"
     ]
    }
   ],
   "source": [
    "def rightRotate(arr, n, outOfPlace, cur):\n",
    "    temp = arr[cur]\n",
    "    for i in range(cur, outOfPlace, -1):\n",
    "        arr[i] = arr[i - 1]\n",
    "    arr[outOfPlace] = temp\n",
    "    return arr\n",
    "\n",
    "def rearrange(arr, n):\n",
    "    outOfPlace = -1\n",
    "    for index in range(n):\n",
    "        if(outOfPlace >= 0):\n",
    "            if((arr[index] >= 0 and arr[outOfPlace] < 0) or\n",
    "               (arr[index] < 0 and arr[outOfPlace] >= 0)):\n",
    "                arr = rightRotate(arr, n, outOfPlace, index)\n",
    "                if(index-outOfPlace > 2):\n",
    "                    outOfPlace += 2\n",
    "                else:\n",
    "                    outOfPlace = - 1\n",
    " \n",
    "        if(outOfPlace == -1):\n",
    "            if((arr[index] >= 0 and index % 2 == 0) or\n",
    "               (arr[index] < 0 and index % 2 == 1)):\n",
    "                outOfPlace = index\n",
    "    return arr\n",
    "\n",
    "for i in range(2):\n",
    "    arr = list(map(int,input(\"Enter values in comma separated format\").split(',')))\n",
    "    print(rearrange(arr,len(arr)))"
   ]
  },
  {
   "cell_type": "raw",
   "id": "0527a96e-ae51-419f-8053-5b21dd292fee",
   "metadata": {},
   "source": [
    "6. Merge two sorted arrays\n",
    "\n",
    "Given two sorted arrays, the task is to merge them in a sorted manner."
   ]
  },
  {
   "cell_type": "code",
   "execution_count": 21,
   "id": "059396d4-ad43-477a-ae2f-84415a62ae36",
   "metadata": {},
   "outputs": [
    {
     "name": "stdin",
     "output_type": "stream",
     "text": [
      "Enter values in comma separated format for nums1: 1,3,4,5\n",
      "Enter values in comma separated format for nums2: 2,4,6,8\n"
     ]
    },
    {
     "name": "stdout",
     "output_type": "stream",
     "text": [
      "[1, 2, 3, 4, 4, 5, 6, 8]\n"
     ]
    },
    {
     "name": "stdin",
     "output_type": "stream",
     "text": [
      "Enter values in comma separated format for nums1: 5,8,9\n",
      "Enter values in comma separated format for nums2: 4,7,8\n"
     ]
    },
    {
     "name": "stdout",
     "output_type": "stream",
     "text": [
      "[4, 5, 7, 8, 8, 9]\n"
     ]
    }
   ],
   "source": [
    "def mergeArrays(arr1, arr2, n1, n2, arr3):\n",
    "    i = 0\n",
    "    j = 0\n",
    "    k = 0\n",
    "    while(i < n1):\n",
    "        arr3[k] = arr1[i]\n",
    "        k += 1\n",
    "        i += 1\n",
    "    while(j < n2):\n",
    "        arr3[k] = arr2[j]\n",
    "        k += 1\n",
    "        j += 1\n",
    "    arr3.sort()\n",
    "    print(arr3)\n",
    "    \n",
    "for i in range(2):\n",
    "    nums1 = list(map(int,input(\"Enter values in comma separated format for nums1:\").split(',')))\n",
    "    nums2 = list(map(int,input(\"Enter values in comma separated format for nums2:\").split(',')))\n",
    "    arr3 = [0 for i in range(len(nums1)+len(nums2))]\n",
    "    mergeArrays(nums1,nums2,len(nums1),len(nums2),arr3)"
   ]
  },
  {
   "cell_type": "raw",
   "id": "9128c7fd-49a5-4899-844a-0d22c092f07c",
   "metadata": {},
   "source": [
    "7. Intersection of Two Arrays\n",
    "\n",
    "Given two integer arrays `nums1` and `nums2`, return *an array of their intersection*. Each element in the result must be unique and you may return the result in any order."
   ]
  },
  {
   "cell_type": "code",
   "execution_count": 22,
   "id": "cb41ce99-d7eb-4288-88b7-d55519bf63ce",
   "metadata": {},
   "outputs": [
    {
     "name": "stdin",
     "output_type": "stream",
     "text": [
      "Enter values in comma separated format for nums1: 1,2,2,1\n",
      "Enter values in comma separated format for nums2: 2,2\n"
     ]
    },
    {
     "name": "stdout",
     "output_type": "stream",
     "text": [
      "[2]\n"
     ]
    },
    {
     "name": "stdin",
     "output_type": "stream",
     "text": [
      "Enter values in comma separated format for nums1: 4,9,5\n",
      "Enter values in comma separated format for nums2: 9,4,9,8,4\n"
     ]
    },
    {
     "name": "stdout",
     "output_type": "stream",
     "text": [
      "[4, 9]\n"
     ]
    }
   ],
   "source": [
    "def intersection(nums1, nums2):\n",
    "    nums1.sort(), nums2.sort()\n",
    "    res = []\n",
    "    it1, it2 = 0, 0\n",
    "    while it1 < len(nums1) and it2 < len(nums2):\n",
    "        if nums1[it1] < nums2[it2]:\n",
    "            it1 += 1\n",
    "        elif nums1[it1] > nums2[it2]:\n",
    "            it2 += 1\n",
    "        else:\n",
    "            if not res or res[-1] != nums1[it1]:\n",
    "                res += nums1[it1],\n",
    "            it1 += 1\n",
    "            it2 += 1\n",
    "    return res\n",
    "for i in range(2):\n",
    "    nums1 = list(map(int,input(\"Enter values in comma separated format for nums1:\").split(',')))\n",
    "    nums2 = list(map(int,input(\"Enter values in comma separated format for nums2:\").split(',')))\n",
    "    print(intersection(nums1, nums2))"
   ]
  },
  {
   "cell_type": "raw",
   "id": "1e331f50-7012-4e94-b682-f7d33c159979",
   "metadata": {},
   "source": [
    "8. Intersection of Two Arrays II\n",
    "\n",
    "Given two integer arrays nums1 and nums2, return an array of their intersection. Each element in the result must appear as many times as it shows in both arrays and you may return the result in any order."
   ]
  },
  {
   "cell_type": "code",
   "execution_count": 23,
   "id": "b7d34e0e-728b-41fa-84b1-bdab1ffb515e",
   "metadata": {},
   "outputs": [
    {
     "name": "stdin",
     "output_type": "stream",
     "text": [
      "Enter values in comma separated format for nums1: 1,2,2,1\n",
      "Enter values in comma separated format for nums2: 2,2\n"
     ]
    },
    {
     "name": "stdout",
     "output_type": "stream",
     "text": [
      "[2, 2]\n"
     ]
    },
    {
     "name": "stdin",
     "output_type": "stream",
     "text": [
      "Enter values in comma separated format for nums1: 4,9,5\n",
      "Enter values in comma separated format for nums2: 9,4,9,8,4\n"
     ]
    },
    {
     "name": "stdout",
     "output_type": "stream",
     "text": [
      "[4, 9]\n"
     ]
    }
   ],
   "source": [
    "def intersect(nums1, nums2):\n",
    "    nums1.sort(), nums2.sort()\n",
    "    res = []\n",
    "    it1, it2 = 0, 0\n",
    "    while it1 < len(nums1) and it2 < len(nums2):\n",
    "        if nums1[it1] < nums2[it2]:\n",
    "            it1 += 1\n",
    "        elif nums1[it1] > nums2[it2]:\n",
    "            it2 += 1\n",
    "        else:\n",
    "            res += nums1[it1],\n",
    "            it1 += 1\n",
    "            it2 += 1\n",
    "\n",
    "    return res\n",
    "for i in range(2):\n",
    "    nums1 = list(map(int,input(\"Enter values in comma separated format for nums1:\").split(',')))\n",
    "    nums2 = list(map(int,input(\"Enter values in comma separated format for nums2:\").split(',')))\n",
    "    print(intersect(nums1, nums2))"
   ]
  }
 ],
 "metadata": {
  "kernelspec": {
   "display_name": "Python 3 (ipykernel)",
   "language": "python",
   "name": "python3"
  },
  "language_info": {
   "codemirror_mode": {
    "name": "ipython",
    "version": 3
   },
   "file_extension": ".py",
   "mimetype": "text/x-python",
   "name": "python",
   "nbconvert_exporter": "python",
   "pygments_lexer": "ipython3",
   "version": "3.10.6"
  }
 },
 "nbformat": 4,
 "nbformat_minor": 5
}
