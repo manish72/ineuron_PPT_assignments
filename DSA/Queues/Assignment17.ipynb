{
 "cells": [
  {
   "cell_type": "raw",
   "id": "d028ce8f-20f8-4f2a-86de-ab8595c53113",
   "metadata": {},
   "source": [
    "Question 1\n",
    "\n",
    "Given a string `s`, *find the first non-repeating character in it and return its index*. If it does not exist, return `-1`."
   ]
  },
  {
   "cell_type": "code",
   "execution_count": 4,
   "id": "bfd9079d-0024-41bb-a9f5-34ebfe9a64a9",
   "metadata": {},
   "outputs": [
    {
     "name": "stdin",
     "output_type": "stream",
     "text": [
      "Enter String: leetcode\n"
     ]
    },
    {
     "name": "stdout",
     "output_type": "stream",
     "text": [
      "0\n"
     ]
    },
    {
     "name": "stdin",
     "output_type": "stream",
     "text": [
      "Enter String: loveleetcode\n"
     ]
    },
    {
     "name": "stdout",
     "output_type": "stream",
     "text": [
      "2\n"
     ]
    },
    {
     "name": "stdin",
     "output_type": "stream",
     "text": [
      "Enter String: aabb\n"
     ]
    },
    {
     "name": "stdout",
     "output_type": "stream",
     "text": [
      "-1\n"
     ]
    }
   ],
   "source": [
    "from collections import defaultdict\n",
    "\n",
    "def firstUniqChar(s):\n",
    "    lookup = defaultdict(int)\n",
    "    candidtates = set()\n",
    "    for i, c in enumerate(s):\n",
    "        if lookup[c]:\n",
    "            candidtates.discard(lookup[c])\n",
    "        else:\n",
    "            lookup[c] = i+1\n",
    "            candidtates.add(i+1)\n",
    "\n",
    "    return min(candidtates)-1 if candidtates else -1\n",
    "\n",
    "for i in range(3):\n",
    "    s = input(\"Enter String:\")\n",
    "    print(firstUniqChar(s))    "
   ]
  },
  {
   "cell_type": "raw",
   "id": "4e1ddb81-53ab-44a5-a30a-3bfb18a3b02b",
   "metadata": {},
   "source": [
    "Question 2\n",
    "\n",
    "Given a circular integer array nums of length n, return *the maximum possible sum of a non-empty subarray of* nums.\n",
    "\n",
    "A circular array means the end of the array connects to the beginning of the array. Formally, the next element of nums[i] is nums[(i + 1) % n] and the previous element of nums[i] is nums[(i - 1 + n) % n].\n",
    "\n",
    "A subarray may only include each element of the fixed buffer nums at most once. Formally, for a subarray nums[i], nums[i + 1], ..., nums[j], there does not exist i <= k1, k2 <= j with k1 % n == k2 % n."
   ]
  },
  {
   "cell_type": "code",
   "execution_count": 5,
   "id": "34b98c53-e689-404b-845e-cd706875d8cc",
   "metadata": {},
   "outputs": [
    {
     "name": "stdin",
     "output_type": "stream",
     "text": [
      "Enter values in comma separated format 1,-2,3,-2\n"
     ]
    },
    {
     "name": "stdout",
     "output_type": "stream",
     "text": [
      "3\n"
     ]
    },
    {
     "name": "stdin",
     "output_type": "stream",
     "text": [
      "Enter values in comma separated format 5,-3,5\n"
     ]
    },
    {
     "name": "stdout",
     "output_type": "stream",
     "text": [
      "10\n"
     ]
    },
    {
     "name": "stdin",
     "output_type": "stream",
     "text": [
      "Enter values in comma separated format -3,-2,-3\n"
     ]
    },
    {
     "name": "stdout",
     "output_type": "stream",
     "text": [
      "-2\n"
     ]
    }
   ],
   "source": [
    "def maxSubarraySumCircular(A):\n",
    "    total, max_sum, cur_max, min_sum, cur_min = 0, -float(\"inf\"), 0, float(\"inf\"), 0\n",
    "    for a in A:\n",
    "        cur_max = max(cur_max+a, a)\n",
    "        max_sum = max(max_sum, cur_max)\n",
    "        cur_min = min(cur_min+a, a)\n",
    "        min_sum = min(min_sum, cur_min)\n",
    "        total += a\n",
    "    return max(max_sum, total-min_sum) if max_sum >= 0 else max_sum\n",
    "\n",
    "for i in range(3):\n",
    "    arr = list(map(int,input(\"Enter values in comma separated format\").split(',')))\n",
    "    print(maxSubarraySumCircular(arr))    "
   ]
  },
  {
   "cell_type": "raw",
   "id": "9832e8d5-fe5d-4b7d-9736-23abedb712a6",
   "metadata": {},
   "source": [
    "Question 3\n",
    "\n",
    "The school cafeteria offers circular and square sandwiches at lunch break, referred to by numbers 0 and 1 respectively. All students stand in a queue. Each student either prefers square or circular sandwiches.\n",
    "\n",
    "The number of sandwiches in the cafeteria is equal to the number of students. The sandwiches are placed in a stack. At each step:\n",
    "\n",
    "- If the student at the front of the queue prefers the sandwich on the top of the stack, they will take it and leave the queue.\n",
    "- Otherwise, they will leave it and go to the queue's end.\n",
    "\n",
    "This continues until none of the queue students want to take the top sandwich and are thus unable to eat.\n",
    "\n",
    "You are given two integer arrays students and sandwiches where sandwiches[i] is the type of the ith sandwich in the stack (i = 0 is the top of the stack) and students[j] is the preference of the jth student in the initial queue (j = 0 is the front of the queue). Return *the number of students that are unable to eat.*"
   ]
  },
  {
   "cell_type": "code",
   "execution_count": 10,
   "id": "caf19ea6-8540-4ef1-b15b-090ed38e4b4d",
   "metadata": {},
   "outputs": [
    {
     "name": "stdin",
     "output_type": "stream",
     "text": [
      "Enter values in comma separated format for students:  1,1,0,0\n",
      "Enter values in comma separated format for sandwiches:  0,1,0,1\n"
     ]
    },
    {
     "name": "stdout",
     "output_type": "stream",
     "text": [
      "0\n"
     ]
    },
    {
     "name": "stdin",
     "output_type": "stream",
     "text": [
      "Enter values in comma separated format for students:  1,1,1,0,0,1\n",
      "Enter values in comma separated format for sandwiches:  1,0,0,0,1,1\n"
     ]
    },
    {
     "name": "stdout",
     "output_type": "stream",
     "text": [
      "3\n"
     ]
    }
   ],
   "source": [
    "import collections\n",
    "\n",
    "def countStudents(students, sandwiches):\n",
    "    count = collections.Counter(students)\n",
    "    for i, s in enumerate(sandwiches):\n",
    "        if not count[s]:\n",
    "            break\n",
    "        count[s] -= 1\n",
    "    else:\n",
    "        i = len(sandwiches)\n",
    "    return len(sandwiches)-i\n",
    "\n",
    "for i in range(2):\n",
    "    students = list(map(int,input(\"Enter values in comma separated format for students: \").split(',')))\n",
    "    sandwiches = list(map(int,input(\"Enter values in comma separated format for sandwiches: \").split(',')))\n",
    "    print(countStudents(students,sandwiches))    "
   ]
  },
  {
   "cell_type": "raw",
   "id": "346cae38-7651-4229-bd90-d30918bb0148",
   "metadata": {},
   "source": [
    "Question 4\n",
    "\n",
    "You have a RecentCounter class which counts the number of recent requests within a certain time frame.\n",
    "\n",
    "Implement the RecentCounter class:\n",
    "\n",
    "- RecentCounter() Initializes the counter with zero recent requests.\n",
    "- int ping(int t) Adds a new request at time t, where t represents some time in milliseconds, and returns the number of requests that has happened in the past 3000 milliseconds (including the new request). Specifically, return the number of requests that have happened in the inclusive range [t - 3000, t].\n",
    "\n",
    "It is **guaranteed** that every call to ping uses a strictly larger value of t than the previous call."
   ]
  },
  {
   "cell_type": "code",
   "execution_count": 16,
   "id": "c02ff0cc-2a79-4e2f-bb09-34a36c563bc2",
   "metadata": {},
   "outputs": [
    {
     "name": "stdout",
     "output_type": "stream",
     "text": [
      "1\n",
      "2\n",
      "3\n",
      "3\n"
     ]
    }
   ],
   "source": [
    "import collections\n",
    "\n",
    "\n",
    "class RecentCounter(object):\n",
    "\n",
    "    def __init__(self):\n",
    "        self.__q = collections.deque()\n",
    "\n",
    "    def ping(self, t):\n",
    "        self.__q.append(t)\n",
    "        while self.__q[0] < t-3000:\n",
    "            self.__q.popleft()\n",
    "        return len(self.__q)\n",
    "\n",
    "obj = RecentCounter()\n",
    "print(obj.ping(1))\n",
    "print(obj.ping(100))\n",
    "print(obj.ping(3000))\n",
    "print(obj.ping(3002))"
   ]
  },
  {
   "cell_type": "raw",
   "id": "e2c923be-aca4-4d99-92bf-610a0e9acc6d",
   "metadata": {},
   "source": [
    "Question 5\n",
    "\n",
    "There are n friends that are playing a game. The friends are sitting in a circle and are numbered from 1 to n in clockwise order. More formally, moving clockwise from the ith friend brings you to the (i+1)th friend for 1 <= i < n, and moving clockwise from the nth friend brings you to the 1st friend.\n",
    "\n",
    "The rules of the game are as follows:\n",
    "\n",
    "1. Start at the 1st friend.\n",
    "2. Count the next k friends in the clockwise direction including the friend you started at. The counting wraps around the circle and may count some friends more than once.\n",
    "3. The last friend you counted leaves the circle and loses the game.\n",
    "4. If there is still more than one friend in the circle, go back to step 2 starting from the friend immediately clockwise of the friend who just lost and repeat.\n",
    "5. Else, the last friend in the circle wins the game.\n",
    "\n",
    "Given the number of friends, n, and an integer k, return *the winner of the game*."
   ]
  },
  {
   "cell_type": "code",
   "execution_count": 20,
   "id": "4d065d2a-fc68-4e1a-acd6-62f86f682c29",
   "metadata": {},
   "outputs": [
    {
     "name": "stdin",
     "output_type": "stream",
     "text": [
      "Enter value of n: 5\n",
      "Enter value of k: 2\n"
     ]
    },
    {
     "name": "stdout",
     "output_type": "stream",
     "text": [
      "3\n"
     ]
    },
    {
     "name": "stdin",
     "output_type": "stream",
     "text": [
      "Enter value of n: 6\n",
      "Enter value of k: 5\n"
     ]
    },
    {
     "name": "stdout",
     "output_type": "stream",
     "text": [
      "1\n"
     ]
    }
   ],
   "source": [
    "from functools import reduce\n",
    "\n",
    "def findTheWinner(n, k):\n",
    "    return reduce(lambda idx, n:(idx+k)%(n+1), range(1, n), 0)+1\n",
    "\n",
    "for i in range(2):\n",
    "    n = int(input(\"Enter value of n:\"))\n",
    "    k = int(input(\"Enter value of k:\"))\n",
    "    print(findTheWinner(n, k))"
   ]
  },
  {
   "cell_type": "raw",
   "id": "352f3304-aa05-4fca-81bd-f379ae1fa19f",
   "metadata": {},
   "source": [
    "Question 6\n",
    "\n",
    "You are given an integer array deck. There is a deck of cards where every card has a unique integer. The integer on the ith card is deck[i].\n",
    "\n",
    "You can order the deck in any order you want. Initially, all the cards start face down (unrevealed) in one deck.\n",
    "\n",
    "You will do the following steps repeatedly until all cards are revealed:\n",
    "\n",
    "1. Take the top card of the deck, reveal it, and take it out of the deck.\n",
    "2. If there are still cards in the deck then put the next top card of the deck at the bottom of the deck.\n",
    "3. If there are still unrevealed cards, go back to step 1. Otherwise, stop.\n",
    "\n",
    "Return *an ordering of the deck that would reveal the cards in increasing order*.\n",
    "\n",
    "Note that the first entry in the answer is considered to be the top of the deck."
   ]
  },
  {
   "cell_type": "code",
   "execution_count": 22,
   "id": "c376f4c7-bd28-4c27-97fb-99a864f172f7",
   "metadata": {},
   "outputs": [
    {
     "name": "stdin",
     "output_type": "stream",
     "text": [
      "Enter values in comma separated format 17,13,11,2,3,5,7\n"
     ]
    },
    {
     "name": "stdout",
     "output_type": "stream",
     "text": [
      "[2, 13, 3, 11, 5, 17, 7]\n"
     ]
    },
    {
     "name": "stdin",
     "output_type": "stream",
     "text": [
      "Enter values in comma separated format 1,1000\n"
     ]
    },
    {
     "name": "stdout",
     "output_type": "stream",
     "text": [
      "[1, 1000]\n"
     ]
    }
   ],
   "source": [
    "import collections\n",
    "\n",
    "def deckRevealedIncreasing(deck):\n",
    "    d = collections.deque()\n",
    "    deck.sort(reverse=True)\n",
    "    for i in deck:\n",
    "        if d:\n",
    "            d.appendleft(d.pop())\n",
    "        d.appendleft(i)\n",
    "    return list(d)\n",
    "\n",
    "for i in range(2):\n",
    "    arr = list(map(int,input(\"Enter values in comma separated format\").split(',')))\n",
    "    print(deckRevealedIncreasing(arr))"
   ]
  },
  {
   "cell_type": "raw",
   "id": "bde1dd78-6a0d-4d26-93e3-adabb91469ed",
   "metadata": {},
   "source": [
    "Question 7\n",
    "\n",
    "Design a queue that supports push and pop operations in the front, middle, and back.\n",
    "\n",
    "Implement the FrontMiddleBack class:\n",
    "\n",
    "- FrontMiddleBack() Initializes the queue.\n",
    "- void pushFront(int val) Adds val to the front of the queue.\n",
    "- void pushMiddle(int val) Adds val to the middle of the queue.\n",
    "- void pushBack(int val) Adds val to the back of the queue.\n",
    "- int popFront() Removes the front element of the queue and returns it. If the queue is empty, return 1.\n",
    "- int popMiddle() Removes the middle element of the queue and returns it. If the queue is empty, return 1.\n",
    "- int popBack() Removes the back element of the queue and returns it. If the queue is empty, return 1.\n",
    "\n",
    "Notice that when there are two middle position choices, the operation is performed on the frontmost middle position choice. For example:\n",
    "\n",
    "- Pushing 6 into the middle of [1, 2, 3, 4, 5] results in [1, 2, 6, 3, 4, 5].\n",
    "- Popping the middle from [1, 2, 3, 4, 5, 6] returns 3 and results in [1, 2, 4, 5, 6]."
   ]
  },
  {
   "cell_type": "code",
   "execution_count": 38,
   "id": "74aa762b-2915-473c-a127-324f7dace56d",
   "metadata": {},
   "outputs": [
    {
     "name": "stdout",
     "output_type": "stream",
     "text": [
      "deque([1])\n",
      "deque([2])\n",
      "(deque([1, 3]), deque([2]))\n",
      "(deque([1, 4]), deque([3, 2]))\n",
      "1\n",
      "3\n",
      "4\n",
      "2\n",
      "-1\n"
     ]
    }
   ],
   "source": [
    "import collections\n",
    "\n",
    "\n",
    "class FrontMiddleBackQueue(object):\n",
    "\n",
    "    def __init__(self):\n",
    "        self.__left, self.__right = collections.deque(), collections.deque()   \n",
    "\n",
    "    def pushFront(self, val):\n",
    "        self.__left.appendleft(val)\n",
    "        self.__balance()\n",
    "        return self.__left\n",
    "\n",
    "    def pushMiddle(self, val):\n",
    "        if len(self.__left) > len(self.__right):\n",
    "            self.__right.appendleft(self.__left.pop())\n",
    "        self.__left.append(val)\n",
    "        return self.__left,self.__right\n",
    "\n",
    "    def pushBack(self, val):\n",
    "        self.__right.append(val)\n",
    "        self.__balance()\n",
    "        return self.__right\n",
    "\n",
    "    def popFront(self):\n",
    "        val = (self.__left or collections.deque([-1])).popleft()\n",
    "        self.__balance()\n",
    "        return val\n",
    "\n",
    "    def popMiddle(self):\n",
    "        val = (self.__left or [-1]).pop()\n",
    "        self.__balance()\n",
    "        return val\n",
    "\n",
    "    def popBack(self):\n",
    "        val = (self.__right or self.__left or [-1]).pop()\n",
    "        self.__balance()\n",
    "        return val\n",
    "\n",
    "    def __balance(self):\n",
    "        if len(self.__left) > len(self.__right)+1:\n",
    "            self.__right.appendleft(self.__left.pop())\n",
    "        elif len(self.__left) < len(self.__right):\n",
    "            self.__left.append(self.__right.popleft())\n",
    "            \n",
    "q = FrontMiddleBackQueue()\n",
    "print(q.pushFront(1))\n",
    "print(q.pushBack(2))\n",
    "print(q.pushMiddle(3))\n",
    "print(q.pushMiddle(4))\n",
    "print(q.popFront())\n",
    "print(q.popMiddle())\n",
    "print(q.popMiddle())\n",
    "print(q.popBack())\n",
    "print(q.popFront())"
   ]
  },
  {
   "cell_type": "raw",
   "id": "e3141516-cb14-4a17-a0aa-c7fe4fc247d9",
   "metadata": {},
   "source": [
    "Question 8\n",
    "\n",
    "For a stream of integers, implement a data structure that checks if the last k integers parsed in the stream are equal to value.\n",
    "\n",
    "Implement the DataStream class:\n",
    "\n",
    "- DataStream(int value, int k) Initializes the object with an empty integer stream and the two integers value and k.\n",
    "- boolean consec(int num) Adds num to the stream of integers. Returns true if the last k integers are equal to value, and false otherwise. If there are less than k integers, the condition does not hold true, so returns false."
   ]
  },
  {
   "cell_type": "code",
   "execution_count": 40,
   "id": "1c3f036e-1f3e-44f6-bece-ac2dbfbbf5df",
   "metadata": {},
   "outputs": [
    {
     "name": "stdout",
     "output_type": "stream",
     "text": [
      "False\n",
      "False\n",
      "True\n",
      "False\n"
     ]
    }
   ],
   "source": [
    "class DataStream(object):\n",
    "\n",
    "    def __init__(self, value, k):\n",
    "        self.__value = value\n",
    "        self.__k = k\n",
    "        self.__cnt = 0\n",
    "\n",
    "    def consec(self, num):\n",
    "        if num == self.__value:\n",
    "            self.__cnt += 1\n",
    "        else:\n",
    "            self.__cnt = 0\n",
    "        return self.__cnt >= self.__k\n",
    "    \n",
    "dataStream = DataStream(4, 3)\n",
    "print(dataStream.consec(4))\n",
    "print(dataStream.consec(4))                     \n",
    "print(dataStream.consec(4))\n",
    "print(dataStream.consec(3))"
   ]
  }
 ],
 "metadata": {
  "kernelspec": {
   "display_name": "Python 3 (ipykernel)",
   "language": "python",
   "name": "python3"
  },
  "language_info": {
   "codemirror_mode": {
    "name": "ipython",
    "version": 3
   },
   "file_extension": ".py",
   "mimetype": "text/x-python",
   "name": "python",
   "nbconvert_exporter": "python",
   "pygments_lexer": "ipython3",
   "version": "3.10.6"
  }
 },
 "nbformat": 4,
 "nbformat_minor": 5
}
