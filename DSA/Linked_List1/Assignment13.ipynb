{
 "cells": [
  {
   "cell_type": "code",
   "execution_count": 44,
   "id": "5053a6c0-cffa-4506-843f-7a5d037d0f21",
   "metadata": {},
   "outputs": [],
   "source": [
    "class Node:\n",
    "    def __init__(self, data):\n",
    "        self.item = data\n",
    "        self.ref = None\n",
    "        \n",
    "class LinkedList:\n",
    "    def __init__(self):\n",
    "        self.start_node = None\n",
    "    def insert_at_end(self, data):\n",
    "        new_node = Node(data)\n",
    "        if self.start_node is None:\n",
    "            self.start_node = new_node\n",
    "        else:\n",
    "            n = self.start_node\n",
    "            while n.ref is not None:\n",
    "                n= n.ref\n",
    "            n.ref = new_node\n",
    "    def traverse_list(self):\n",
    "        if self.start_node is None:\n",
    "            print(\"List has no element\")\n",
    "        else:\n",
    "            n = self.start_node\n",
    "            while n is not None:\n",
    "                print(n.item , end=\" \")\n",
    "                n = n.ref\n",
    "    # for question1\n",
    "    def newList(self,root1, root2): \n",
    "        ptr1 = root1.start_node\n",
    "        ptr2 = root2.start_node\n",
    "\n",
    "        root = None\n",
    "        while (ptr1 != None) :\n",
    "            temp = Node(0)\n",
    "            temp.ref = None\n",
    "\n",
    "            if (ptr1.item < ptr2.item):\n",
    "                temp.item = ptr2.item\n",
    "            else:\n",
    "                temp.item = ptr1.item\n",
    "\n",
    "            if (root == None):\n",
    "                root = temp\n",
    "            else :\n",
    "                ptr = root\n",
    "                while (ptr.ref != None):\n",
    "                    ptr = ptr.ref\n",
    "\n",
    "                ptr.ref = temp\n",
    "\n",
    "            ptr1 = ptr1.ref\n",
    "            ptr2 = ptr2.ref\n",
    "            \n",
    "        while root is not None:\n",
    "            print(root.item,end=\" \")\n",
    "            root = root.ref\n",
    "    # for question2 \n",
    "    def removeDuplicates(self):\n",
    "        temp = self.start_node\n",
    "        if temp is None:\n",
    "            return\n",
    "        while temp.ref is not None:\n",
    "            if temp.item == temp.ref.item:\n",
    "                new = temp.ref.ref\n",
    "                temp.ref = None\n",
    "                temp.ref = new\n",
    "            else:\n",
    "                temp = temp.ref\n",
    "        temp = self.start_node\n",
    "        while temp is not None:\n",
    "            print(temp.item,end=\" \")\n",
    "            temp = temp.ref\n",
    "    # for question3\n",
    "    def reverse(self, head, k):\n",
    "        if head == None:\n",
    "            return None\n",
    "        current = head\n",
    "        next = None\n",
    "        prev = None\n",
    "        count = 0\n",
    "        while(current is not None and count < k):\n",
    "            next = current.ref\n",
    "            current.ref = prev\n",
    "            prev = current\n",
    "            current = next\n",
    "            count += 1\n",
    "        if next is not None:\n",
    "            head.ref = self.reverse(next, k)            \n",
    "        return prev\n",
    "    # for question4\n",
    "    def kAltReverse(self,head, k):\n",
    "        current = head\n",
    "        next = None\n",
    "        prev = None\n",
    "        count = 0\n",
    "        while (current != None and count < k) :\n",
    "            next = current.ref\n",
    "            current.ref = prev\n",
    "            prev = current\n",
    "            current = next\n",
    "            count = count + 1\n",
    "        if(head != None):\n",
    "            head.ref = current\n",
    "        count = 0\n",
    "        while(count < k - 1 and current != None ):\n",
    "            current = current.ref\n",
    "            count = count + 1\n",
    "        if(current != None):\n",
    "            current.ref = self.kAltReverse(current.ref, k)\n",
    "        return prev\n",
    "    # for question5\n",
    "    def deleteLast(self,head, x) :\n",
    "        temp = head\n",
    "        ptr = None\n",
    "        while (temp!=None):\n",
    "            if (temp.item == x) :\n",
    "                ptr = temp     \n",
    "            temp = temp.ref\n",
    "        if (ptr != None and ptr.ref == None): \n",
    "            temp = head\n",
    "            while (temp.ref != ptr) :\n",
    "                temp = temp.ref    \n",
    "            temp.ref = None\n",
    "        if (ptr != None and ptr.ref != None): \n",
    "            ptr.item = ptr.ref.item\n",
    "            temp = ptr.ref\n",
    "            ptr.ref = ptr.ref.ref          \n",
    "        return head\n",
    "    # for question6\n",
    "    def mergeLists(self,headA,headB):\n",
    "        dummyNode = Node(0)\n",
    "        tail = dummyNode\n",
    "        while True:\n",
    "            if headA is None:\n",
    "                tail.ref = headB\n",
    "                break\n",
    "            if headB is None:\n",
    "                tail.ref = headA\n",
    "                break\n",
    "            if headA.item <= headB.item:\n",
    "                tail.ref = headA\n",
    "                headA = headA.ref\n",
    "            else:\n",
    "                tail.ref = headB\n",
    "                headB = headB.ref\n",
    "            tail = tail.ref\n",
    "        return dummyNode.ref"
   ]
  },
  {
   "cell_type": "raw",
   "id": "3d67cee4-8bed-42cb-9bc3-a1aa14e235cb",
   "metadata": {},
   "source": [
    "Question 1\n",
    "\n",
    "Given two linked list of the same size, the task is to create a new linked list using those linked lists. The condition is that the greater node among both linked list will be added to the new linked list."
   ]
  },
  {
   "cell_type": "code",
   "execution_count": 19,
   "id": "62fb3a6c-0068-4a1d-9aa0-b89e813619e0",
   "metadata": {},
   "outputs": [
    {
     "name": "stdout",
     "output_type": "stream",
     "text": [
      "Enter values in comma separated format for list1: 5,2,3,8\n",
      "Enter values in comma separated format for list2: 1,7,4,5\n"
     ]
    },
    {
     "name": "stdout",
     "output_type": "stream",
     "text": [
      "5 7 4 8 "
     ]
    },
    {
     "name": "stdout",
     "output_type": "stream",
     "text": [
      "Enter values in comma separated format for list1: 2,8,9,3\n",
      "Enter values in comma separated format for list2: 5,3,6,4\n"
     ]
    },
    {
     "name": "stdout",
     "output_type": "stream",
     "text": [
      "5 8 9 4 "
     ]
    }
   ],
   "source": [
    "for i in range(2):\n",
    "    list1 = list(map(int,input(\"Enter values in comma separated format for list1:\").split(',')))\n",
    "    list2 = list(map(int,input(\"Enter values in comma separated format for list2:\").split(',')))\n",
    "    nodeObj1 = LinkedList()\n",
    "    nodeObj2 = LinkedList()\n",
    "    for i in range(0,len(list1)):\n",
    "        nodeObj1.insert_at_end(list1[i])\n",
    "    for i in range(0,len(list2)):\n",
    "        nodeObj2.insert_at_end(list2[i])\n",
    "    nodeObj1.newList(nodeObj1,nodeObj2)"
   ]
  },
  {
   "cell_type": "raw",
   "id": "20472d9f-1216-4afb-8af5-645867f86f3b",
   "metadata": {},
   "source": [
    "Question 2\n",
    "\n",
    "Write a function that takes a list sorted in non-decreasing order and deletes any duplicate nodes from the list. The list should only be traversed once."
   ]
  },
  {
   "cell_type": "code",
   "execution_count": 6,
   "id": "39788653-ff1f-4b4d-b9ed-c942e3570670",
   "metadata": {},
   "outputs": [
    {
     "name": "stdout",
     "output_type": "stream",
     "text": [
      "Enter values in comma separated format: 11,11,11,21,43,43,60\n"
     ]
    },
    {
     "name": "stdout",
     "output_type": "stream",
     "text": [
      "11 21 43 60 "
     ]
    },
    {
     "name": "stdout",
     "output_type": "stream",
     "text": [
      "Enter values in comma separated format: 10,12,12,25,25,25,34\n"
     ]
    },
    {
     "name": "stdout",
     "output_type": "stream",
     "text": [
      "10 12 25 34 "
     ]
    }
   ],
   "source": [
    "for i in range(2):\n",
    "    list1 = list(map(int,input(\"Enter values in comma separated format:\").split(',')))\n",
    "    nodeObj1 = LinkedList()\n",
    "    for i in range(0,len(list1)):\n",
    "        nodeObj1.insert_at_end(list1[i])\n",
    "    nodeObj1.removeDuplicates()"
   ]
  },
  {
   "cell_type": "raw",
   "id": "7706ce35-96ed-4676-8f37-fb96359e3a21",
   "metadata": {},
   "source": [
    "Question 3\n",
    "\n",
    "Given a linked list of size N The task is to reverse every k nodes (where k is an input to the function) in the linked list. If the number of nodes is not a multiple of k then left-out nodes, in the end, should be considered as a group and must be reversed (See Example 2 for clarification)."
   ]
  },
  {
   "cell_type": "code",
   "execution_count": 25,
   "id": "64e00a6f-e926-4962-8678-cef5e7a1cba4",
   "metadata": {},
   "outputs": [
    {
     "name": "stdout",
     "output_type": "stream",
     "text": [
      "Enter values in comma separated format: 1,2,2,4,5,6,7,8\n",
      "Enter number 4\n"
     ]
    },
    {
     "name": "stdout",
     "output_type": "stream",
     "text": [
      "4 2 2 1 8 7 6 5 "
     ]
    },
    {
     "name": "stdout",
     "output_type": "stream",
     "text": [
      "Enter values in comma separated format: 1,2,3,4,5\n",
      "Enter number 3\n"
     ]
    },
    {
     "name": "stdout",
     "output_type": "stream",
     "text": [
      "3 2 1 5 4 "
     ]
    }
   ],
   "source": [
    "for i in range(2):\n",
    "    list1 = list(map(int,input(\"Enter values in comma separated format:\").split(',')))\n",
    "    k = int(input(\"Enter number\"))\n",
    "    nodeObj1 = LinkedList()\n",
    "    for i in range(0,len(list1)):\n",
    "        nodeObj1.insert_at_end(list1[i])\n",
    "    nodeObj1.start_node = nodeObj1.reverse(nodeObj1.start_node,k)\n",
    "    nodeObj1.traverse_list()"
   ]
  },
  {
   "cell_type": "raw",
   "id": "bbc89d1b-8272-43c7-b6ae-d1fe072ab4d2",
   "metadata": {},
   "source": [
    "Question 4\n",
    "\n",
    "Given a linked list, write a function to reverse every alternate k nodes (where k is an input to the function) in an efficient way. Give the complexity of your algorithm."
   ]
  },
  {
   "cell_type": "code",
   "execution_count": 34,
   "id": "d6d0eb51-f39d-4239-8538-253cde170978",
   "metadata": {},
   "outputs": [
    {
     "name": "stdout",
     "output_type": "stream",
     "text": [
      "Enter values in comma separated format: 1,2,3,4,5,6,7,8,9\n",
      "Enter number 3\n"
     ]
    },
    {
     "name": "stdout",
     "output_type": "stream",
     "text": [
      "3 2 1 4 5 6 9 8 7 "
     ]
    },
    {
     "name": "stdout",
     "output_type": "stream",
     "text": [
      "Enter values in comma separated format: 1,2,3,4,5,6,7,8,9\n",
      "Enter number 2\n"
     ]
    },
    {
     "name": "stdout",
     "output_type": "stream",
     "text": [
      "2 1 3 4 6 5 7 8 9 "
     ]
    }
   ],
   "source": [
    "for i in range(2):\n",
    "    list1 = list(map(int,input(\"Enter values in comma separated format:\").split(',')))\n",
    "    k = int(input(\"Enter number\"))\n",
    "    nodeObj1 = LinkedList()\n",
    "    for i in range(0,len(list1)):\n",
    "        nodeObj1.insert_at_end(list1[i])\n",
    "    nodeObj1.start_node = nodeObj1.kAltReverse(nodeObj1.start_node,k)\n",
    "    nodeObj1.traverse_list()"
   ]
  },
  {
   "cell_type": "raw",
   "id": "836b18d9-de0e-46d5-b25b-9105d77048fb",
   "metadata": {},
   "source": [
    "Question 5\n",
    "\n",
    "Given a linked list and a key to be deleted. Delete last occurrence of key from linked. The list may have duplicates."
   ]
  },
  {
   "cell_type": "code",
   "execution_count": 41,
   "id": "08f05ce0-9a28-4225-bced-471f7b68c68c",
   "metadata": {},
   "outputs": [
    {
     "name": "stdout",
     "output_type": "stream",
     "text": [
      "Enter values in comma separated format: 1,2,3,5,2,10\n",
      "Enter key 2\n"
     ]
    },
    {
     "name": "stdout",
     "output_type": "stream",
     "text": [
      "1 2 3 5 10 "
     ]
    },
    {
     "name": "stdout",
     "output_type": "stream",
     "text": [
      "Enter values in comma separated format: 1,2,3,4,5,4\n",
      "Enter key 4\n"
     ]
    },
    {
     "name": "stdout",
     "output_type": "stream",
     "text": [
      "1 2 3 4 5 "
     ]
    }
   ],
   "source": [
    "for i in range(2):\n",
    "    list1 = list(map(int,input(\"Enter values in comma separated format:\").split(',')))\n",
    "    k = int(input(\"Enter key\"))\n",
    "    nodeObj1 = LinkedList()\n",
    "    for i in range(0,len(list1)):\n",
    "        nodeObj1.insert_at_end(list1[i])\n",
    "    nodeObj1.start_node = nodeObj1.deleteLast(nodeObj1.start_node,k)\n",
    "    nodeObj1.traverse_list()"
   ]
  },
  {
   "cell_type": "raw",
   "id": "c54aa7bc-b36d-482c-ae2a-c4660418d5a0",
   "metadata": {},
   "source": [
    "Question 6\n",
    "\n",
    "Given two sorted linked lists consisting of N and M nodes respectively. The task is to merge both of the lists (in place) and return the head of the merged list."
   ]
  },
  {
   "cell_type": "code",
   "execution_count": 45,
   "id": "c2ba5b12-0da8-408b-8e7d-5f5752d3fecd",
   "metadata": {},
   "outputs": [
    {
     "name": "stdout",
     "output_type": "stream",
     "text": [
      "Enter values in comma separated format: 5,10,15\n",
      "Enter values in comma separated format: 2,3,20\n"
     ]
    },
    {
     "name": "stdout",
     "output_type": "stream",
     "text": [
      "2 3 5 10 15 20 "
     ]
    },
    {
     "name": "stdout",
     "output_type": "stream",
     "text": [
      "Enter values in comma separated format: 1,1\n",
      "Enter values in comma separated format: 2,4\n"
     ]
    },
    {
     "name": "stdout",
     "output_type": "stream",
     "text": [
      "1 1 2 4 "
     ]
    }
   ],
   "source": [
    "for i in range(2):\n",
    "    list1 = list(map(int,input(\"Enter values in comma separated format:\").split(',')))\n",
    "    list2 = list(map(int,input(\"Enter values in comma separated format:\").split(',')))\n",
    "    nodeObj1 = LinkedList()\n",
    "    nodeObj2 = LinkedList()\n",
    "    for i in range(0,len(list1)):\n",
    "        nodeObj1.insert_at_end(list1[i])\n",
    "    for i in range(0,len(list2)):\n",
    "        nodeObj2.insert_at_end(list2[i])\n",
    "    nodeObj1.start_node = nodeObj1.mergeLists(nodeObj1.start_node,nodeObj2.start_node)\n",
    "    nodeObj1.traverse_list()"
   ]
  },
  {
   "cell_type": "code",
   "execution_count": 40,
   "id": "33577852-d9d7-4d9a-a705-79c308c7889f",
   "metadata": {},
   "outputs": [],
   "source": [
    "class Node:\n",
    "    def __init__(self, data):\n",
    "        self.data = data\n",
    "        self.next = None\n",
    "        self.prev = None\n",
    "\n",
    "class LinkedList:\n",
    "    def __init__(self):\n",
    "        self.head = None\n",
    "\n",
    "    def push_back(self, newElement):\n",
    "        newNode = Node(newElement)\n",
    "        if(self.head == None):\n",
    "            self.head = newNode\n",
    "            return\n",
    "        else:\n",
    "            temp = self.head\n",
    "            while(temp.next != None):\n",
    "                temp = temp.next\n",
    "            temp.next = newNode\n",
    "            newNode.prev = temp\n",
    "    # for question7\n",
    "    def reverseList(self):\n",
    "        if(self.head != None):\n",
    "            prevNode = self.head\n",
    "            tempNode = self.head\n",
    "            curNode = self.head.next\n",
    "        prevNode.next = None\n",
    "        prevNode.prev = None\n",
    "        while(curNode != None):\n",
    "           tempNode = curNode.next\n",
    "           curNode.next = prevNode\n",
    "           prevNode.prev = curNode\n",
    "           prevNode = curNode\n",
    "           curNode = tempNode\n",
    "        self.head = prevNode \n",
    "\n",
    "    def PrintList(self):\n",
    "        temp = self.head\n",
    "        if(temp != None):\n",
    "          print(\"The list contains:\", end=\" \")\n",
    "          while (temp != None):\n",
    "            print(temp.data, end=\" \")\n",
    "            temp = temp.next\n",
    "          print()\n",
    "        else:\n",
    "          print(\"The list is empty.\")\n",
    "    \n",
    "    # for question8\n",
    "    def pop_at(self, position):     \n",
    "        if(position < 1):\n",
    "          print(\"\\nposition should be >= 1.\")\n",
    "        elif (position == 1 and self.head != None):\n",
    "          nodeToDelete = self.head\n",
    "          self.head = self.head.next\n",
    "          nodeToDelete = None\n",
    "          if (self.head != None):\n",
    "            self.head.prev = None\n",
    "        else:    \n",
    "          temp = self.head\n",
    "          for i in range(1, position-1):\n",
    "            if(temp != None):\n",
    "              temp = temp.next   \n",
    "          if(temp != None and temp.next != None):\n",
    "            nodeToDelete = temp.next\n",
    "            temp.next = temp.next.next\n",
    "            if(temp.next.next != None):\n",
    "              temp.next.next.prev = temp.next  \n",
    "            nodeToDelete = None \n",
    "          else:\n",
    "            print(\"\\nThe node is already null.\")"
   ]
  },
  {
   "cell_type": "raw",
   "id": "23efc085-8536-4c5e-a105-81f1bc15f53a",
   "metadata": {},
   "source": [
    "Question 7\n",
    "\n",
    "Given a Doubly Linked List, the task is to reverse the given Doubly Linked List."
   ]
  },
  {
   "cell_type": "code",
   "execution_count": 27,
   "id": "8b89b69f-9a2f-4ae0-b437-cef71a3c06ed",
   "metadata": {},
   "outputs": [
    {
     "name": "stdout",
     "output_type": "stream",
     "text": [
      "Enter values in comma separated format: 1,2,3,4\n"
     ]
    },
    {
     "name": "stdout",
     "output_type": "stream",
     "text": [
      "The list contains: 1 2 3 4 \n",
      "The list contains: 4 3 2 1 \n"
     ]
    }
   ],
   "source": [
    "list1 = list(map(int,input(\"Enter values in comma separated format:\").split(',')))\n",
    "nodeObj1 = LinkedList()\n",
    "for i in range(0,len(list1)):\n",
    "\tnodeObj1.push_back(list1[i])\n",
    "\n",
    "#Display the content of the list.\n",
    "nodeObj1.PrintList()\n",
    "\n",
    "#Reversing the list.\n",
    "nodeObj1.reverseList()\n",
    "\n",
    "#Display the content of the reversed list.\n",
    "nodeObj1.PrintList()"
   ]
  },
  {
   "cell_type": "raw",
   "id": "eee889c7-13e3-4718-92b6-83f8474fb817",
   "metadata": {},
   "source": [
    "Question 8\n",
    "\n",
    "Given a doubly linked list and a position. The task is to delete a node from given position in a doubly linked list."
   ]
  },
  {
   "cell_type": "code",
   "execution_count": 46,
   "id": "f7156425-b96c-4b7e-be37-0f7b1ddaab42",
   "metadata": {},
   "outputs": [
    {
     "name": "stdout",
     "output_type": "stream",
     "text": [
      "Enter values in comma separated format: 1,3,4\n",
      "Enter node delete position 1\n"
     ]
    },
    {
     "name": "stdout",
     "output_type": "stream",
     "text": [
      "The list contains: 1 3 4 \n",
      "The list contains: 3 4 \n"
     ]
    },
    {
     "name": "stdout",
     "output_type": "stream",
     "text": [
      "Enter values in comma separated format: 1,5,2,9\n",
      "Enter node delete position 3\n"
     ]
    },
    {
     "name": "stdout",
     "output_type": "stream",
     "text": [
      "The list contains: 1 5 2 9 \n",
      "The list contains: 1 5 9 \n"
     ]
    }
   ],
   "source": [
    "for i in range(2):\n",
    "    list1 = list(map(int,input(\"Enter values in comma separated format:\").split(',')))\n",
    "    k = int(input(\"Enter node delete position\"))\n",
    "    nodeObj1 = LinkedList()\n",
    "    for i in range(0,len(list1)):\n",
    "        nodeObj1.push_back(list1[i])\n",
    "\n",
    "    #Display the content of the list.\n",
    "    nodeObj1.PrintList()\n",
    "\n",
    "    #removing a node at specific position\n",
    "    nodeObj1.pop_at(k)\n",
    "\n",
    "    #Display the content of the list after node deletion.\n",
    "    nodeObj1.PrintList()"
   ]
  },
  {
   "cell_type": "code",
   "execution_count": null,
   "id": "c21c06b4-3232-4f49-b596-d1cb40a08495",
   "metadata": {},
   "outputs": [],
   "source": []
  }
 ],
 "metadata": {
  "kernelspec": {
   "display_name": "Python 3 (ipykernel)",
   "language": "python",
   "name": "python3"
  },
  "language_info": {
   "codemirror_mode": {
    "name": "ipython",
    "version": 3
   },
   "file_extension": ".py",
   "mimetype": "text/x-python",
   "name": "python",
   "nbconvert_exporter": "python",
   "pygments_lexer": "ipython3",
   "version": "3.10.6"
  }
 },
 "nbformat": 4,
 "nbformat_minor": 5
}
