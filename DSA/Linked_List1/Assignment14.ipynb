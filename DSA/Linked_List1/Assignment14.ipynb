{
 "cells": [
  {
   "cell_type": "code",
   "execution_count": 4,
   "id": "7c59adbb-0206-4024-ae7b-75ee7aba7973",
   "metadata": {},
   "outputs": [],
   "source": [
    "class Node:\n",
    "    def __init__(self, data):\n",
    "        self.item = data\n",
    "        self.ref = None\n",
    "        \n",
    "class LinkedList:\n",
    "    def __init__(self):\n",
    "        self.start_node = None\n",
    "    def insert_at_end(self, data):\n",
    "        new_node = Node(data)\n",
    "        if self.start_node is None:\n",
    "            self.start_node = new_node\n",
    "        else:\n",
    "            n = self.start_node\n",
    "            while n.ref is not None:\n",
    "                n= n.ref\n",
    "            n.ref = new_node\n",
    "    def traverse_list(self):\n",
    "        if self.start_node is None:\n",
    "            print(\"List has no element\")\n",
    "        else:\n",
    "            n = self.start_node\n",
    "            while n is not None:\n",
    "                print(n.item , end=\" \")\n",
    "                n = n.ref\n",
    "    # for question1\n",
    "    def detectAndRemoveLoop(self):\n",
    "        slow_p = fast_p = self.start_node\n",
    "        while(slow_p and fast_p and fast_p.ref):\n",
    "            slow_p = slow_p.ref\n",
    "            fast_p = fast_p.ref.ref\n",
    "\n",
    "            if slow_p == fast_p:\n",
    "                self.removeLoop(slow_p)\n",
    "                return 1\n",
    "        return 0\n",
    "\t\t\n",
    "    def removeLoop(self, loop_node):\n",
    "        ptr1 = loop_node\n",
    "        ptr2 = loop_node\n",
    "        k = 1\n",
    "        while(ptr1.ref != ptr2):\n",
    "            ptr1 = ptr1.ref\n",
    "            k += 1\n",
    "        ptr1 = self.start_node\n",
    "        ptr2 = self.start_node\n",
    "        for i in range(k):\n",
    "            ptr2 = ptr2.ref\n",
    "        while(ptr2 != ptr1):\n",
    "            ptr1 = ptr1.ref\n",
    "            ptr2 = ptr2.ref\n",
    "        while(ptr2.ref != ptr1):\n",
    "            ptr2 = ptr2.ref\n",
    "        ptr2.ref = None\n",
    "        \n",
    "    # for question2\n",
    "    def reverseList(self,head):\n",
    "        if not head:\n",
    "            return\n",
    "        curNode = head\n",
    "        prevNode = head\n",
    "        nextNode = head.ref\n",
    "        curNode.ref = None\n",
    "\n",
    "        while(nextNode):\n",
    "            curNode = nextNode\n",
    "            nextNode = nextNode.ref\n",
    "            curNode.ref = prevNode\n",
    "            prevNode = curNode\n",
    "        return curNode \n",
    "\n",
    "    def addOne(self):\n",
    "        head = self.reverseList(self.start_node)\n",
    "        k = head\n",
    "        carry = 0\n",
    "        prev = None\n",
    "        head.item += 1\n",
    "\n",
    "        while(head != None) and (head.item > 9 or carry > 0):\n",
    "            prev = head\n",
    "            head.item += carry\n",
    "            carry = head.item // 10\n",
    "            head.item = head.item % 10\n",
    "            head = head.ref\n",
    "\n",
    "        if carry > 0:\n",
    "            prev.ref = Node(carry)\n",
    "        return self.reverseList(k)\n",
    "    \n",
    "    # for question5\n",
    "    def rearrangeEvenOdd(self):\n",
    "        if (self.start_node == None or self.start_node.ref == None):\n",
    "            return None\n",
    "        temp = self.start_node\n",
    "        oddStart = None\n",
    "        oddEnd = None\n",
    "        evenStart = None\n",
    "        evenEnd = None\n",
    "        \n",
    "        i = 1\n",
    "        while (temp is not None):\n",
    "            if(i % 2 == 0):\n",
    "                if evenStart is None:\n",
    "                    evenStart = temp\n",
    "                else:\n",
    "                    evenEnd.ref = temp\n",
    "                evenEnd = temp\n",
    "            else:\n",
    "                if oddStart is None :\n",
    "                    oddStart = temp\n",
    "                else:\n",
    "                    oddEnd.ref = temp\n",
    "                oddEnd = temp\n",
    "            temp = temp.ref\n",
    "            i = i+1\n",
    " \n",
    "        oddEnd.ref = evenStart\n",
    "        evenEnd.ref = None\n",
    "        return oddStart\n",
    "    # for question6\n",
    "    def rotate(self, k):\n",
    "        if k == 0:\n",
    "            return\n",
    "  \n",
    "        current = self.start_node\n",
    "        count = 1\n",
    "        while(count < k and current is not None):\n",
    "            current = current.ref\n",
    "            count += 1\n",
    "  \n",
    "        if current is None:\n",
    "            return\n",
    "\n",
    "        kthNode = current\n",
    "        while(current.ref is not None):\n",
    "            current = current.ref\n",
    "\n",
    "        current.ref = self.start_node\n",
    "        self.start_node = kthNode.ref\n",
    "        kthNode.ref = None\n",
    "    # for question8\n",
    "    def removeZeroSumSublists(self, head):\n",
    "        cur = head\n",
    "        a = []\n",
    "        while cur:\n",
    "            a.append(cur.item)\n",
    "            cur = cur.ref\n",
    "        res = []\n",
    "        for i in a:\n",
    "            if i == 0:\n",
    "                continue\n",
    "            else:\n",
    "                tag = True\n",
    "                for j in range(len(res) - 1, -1, -1):\n",
    "                    if sum(res[j:]) + i == 0:\n",
    "                        res = res[:j]\n",
    "                        tag = False\n",
    "                        break\n",
    "                if tag:\n",
    "                    res.append(i)\n",
    "        head = Node(0)\n",
    "        cur = head\n",
    "        for i in res:\n",
    "            node = Node(i)\n",
    "            cur.ref = node\n",
    "            cur = cur.ref\n",
    "        return head.ref"
   ]
  },
  {
   "cell_type": "raw",
   "id": "24d09e29-4c84-485e-8cbb-b7306c902743",
   "metadata": {},
   "source": [
    "Question 1\n",
    "\n",
    "Given a linked list of N nodes such that it may contain a loop.\n",
    "\n",
    "A loop here means that the last node of the link list is connected to the node at position X(1-based index). If the link list does not have any loop, X=0.\n",
    "\n",
    "Remove the loop from the linked list, if it is present, i.e. unlink the last node which is forming the loop."
   ]
  },
  {
   "cell_type": "code",
   "execution_count": 2,
   "id": "29288778-5d0c-4ca1-9e75-ffedc597535f",
   "metadata": {},
   "outputs": [
    {
     "name": "stdin",
     "output_type": "stream",
     "text": [
      "Enter values in comma separated format 1,3,4\n",
      "Enter position 2\n"
     ]
    },
    {
     "name": "stdout",
     "output_type": "stream",
     "text": [
      "1\n"
     ]
    },
    {
     "name": "stdin",
     "output_type": "stream",
     "text": [
      "Enter values in comma separated format 1,8,3,4\n",
      "Enter position 0\n"
     ]
    },
    {
     "name": "stdout",
     "output_type": "stream",
     "text": [
      "1\n"
     ]
    },
    {
     "name": "stdin",
     "output_type": "stream",
     "text": [
      "Enter values in comma separated format 1,2,3,4\n",
      "Enter position 1\n"
     ]
    },
    {
     "name": "stdout",
     "output_type": "stream",
     "text": [
      "1\n"
     ]
    }
   ],
   "source": [
    "for i in range(3):\n",
    "    nums = list(map(int,input(\"Enter values in comma separated format\").split(',')))\n",
    "    nodeObj = LinkedList()\n",
    "    for i in range(0,len(nums)):\n",
    "        nodeObj.insert_at_end(nums[i])\n",
    "    pos = int(input(\"Enter position\"))\n",
    "    if pos == 0 or pos == -1:\n",
    "        print(1)\n",
    "    else:\n",
    "        pos_ref = None\n",
    "        n = nodeObj.start_node\n",
    "        for i in range(0,pos-1):\n",
    "            n = n.ref\n",
    "        pos_ref = n\n",
    "        n = nodeObj.start_node\n",
    "        while n.ref is not None:\n",
    "            n= n.ref\n",
    "        n.ref = pos_ref\n",
    "        print(nodeObj.detectAndRemoveLoop())"
   ]
  },
  {
   "cell_type": "raw",
   "id": "e8df2321-16f6-4458-aa9b-728cab8a07f1",
   "metadata": {},
   "source": [
    "Question 2\n",
    "\n",
    "A number N is represented in Linked List such that each digit corresponds to a node in linked list. You need to add 1 to it."
   ]
  },
  {
   "cell_type": "code",
   "execution_count": 6,
   "id": "925779cb-3570-4e4f-85ab-6b7f5a618449",
   "metadata": {},
   "outputs": [
    {
     "name": "stdin",
     "output_type": "stream",
     "text": [
      "Enter number: 456\n"
     ]
    },
    {
     "name": "stdout",
     "output_type": "stream",
     "text": [
      "4 5 7 "
     ]
    },
    {
     "name": "stdin",
     "output_type": "stream",
     "text": [
      "Enter number: 123\n"
     ]
    },
    {
     "name": "stdout",
     "output_type": "stream",
     "text": [
      "1 2 4 "
     ]
    }
   ],
   "source": [
    "for i in range(2):\n",
    "    nums = input(\"Enter number:\")\n",
    "    nodeObj = LinkedList()\n",
    "    for i in nums:\n",
    "        nodeObj.insert_at_end(int(i))\n",
    "    nodeObj.start_node = nodeObj.addOne()\n",
    "    nodeObj.traverse_list()"
   ]
  },
  {
   "cell_type": "raw",
   "id": "d902d7c7-8632-4093-acb9-52f81d27187c",
   "metadata": {},
   "source": [
    "Question 3\n",
    "\n",
    "Given a Linked List of size N, where every node represents a sub-linked-list and contains two pointers:(i) a next pointer to the next node,(ii) a bottom pointer to a linked list where this node is head.Each of the sub-linked-list is in sorted order.Flatten the Link List such that all the nodes appear in a single level while maintaining the sorted order. **Note:** The flattened list will be printed using the bottom pointer instead of next pointer."
   ]
  },
  {
   "cell_type": "code",
   "execution_count": 9,
   "id": "0b666961-9c25-41bb-a79e-925358ce61ae",
   "metadata": {},
   "outputs": [
    {
     "name": "stdout",
     "output_type": "stream",
     "text": [
      "5 7 8 10 19 20 20 22 30 35 40 45 50 \n"
     ]
    }
   ],
   "source": [
    "class Node:\n",
    "    def __init__(self, data):\n",
    "        self.data = data\n",
    "        self.right = None\n",
    "        self.down = None\n",
    " \n",
    " \n",
    "class LinkedList:\n",
    "    def __init__(self):\n",
    "        self.head = None\n",
    "    def push(self, head_ref, data):\n",
    "        new_node = Node(data)\n",
    "        new_node.down = head_ref\n",
    "        head_ref = new_node\n",
    "        return head_ref\n",
    " \n",
    "    def printList(self):\n",
    "        temp = self.head\n",
    "        while(temp != None):\n",
    "            print(temp.data, end=\" \")\n",
    "            temp = temp.down\n",
    "        print()\n",
    " \n",
    "    def merge(self, a, b):\n",
    "        if(a == None):\n",
    "            return b\n",
    "        if(b == None):\n",
    "            return a\n",
    "\t\t\t\n",
    "        result = None\n",
    " \n",
    "        if (a.data < b.data):\n",
    "            result = a\n",
    "            result.down = self.merge(a.down, b)\n",
    "        else:\n",
    "            result = b\n",
    "            result.down = self.merge(a, b.down)\n",
    " \n",
    "        result.right = None\n",
    "        return result\n",
    " \n",
    "    def flatten(self, root):\n",
    "        if(root == None or root.right == None):\n",
    "            return root\n",
    "        root.right = self.flatten(root.right)\n",
    "        root = self.merge(root, root.right)\n",
    " \n",
    "        return root\n",
    "\n",
    "L = LinkedList()\n",
    "L.head = L.push(L.head, 30)\n",
    "L.head = L.push(L.head, 8)\n",
    "L.head = L.push(L.head, 7)\n",
    "L.head = L.push(L.head, 5)\n",
    "\n",
    "L.head.right = L.push(L.head.right, 20)\n",
    "L.head.right = L.push(L.head.right, 10)\n",
    "\n",
    "L.head.right.right = L.push(L.head.right.right, 50)\n",
    "L.head.right.right = L.push(L.head.right.right, 22)\n",
    "L.head.right.right = L.push(L.head.right.right, 19)\n",
    "\n",
    "L.head.right.right.right = L.push(L.head.right.right.right, 45)\n",
    "L.head.right.right.right = L.push(L.head.right.right.right, 40)\n",
    "L.head.right.right.right = L.push(L.head.right.right.right, 35)\n",
    "L.head.right.right.right = L.push(L.head.right.right.right, 20)\n",
    "\n",
    "L.head = L.flatten(L.head)\n",
    "L.printList()"
   ]
  },
  {
   "cell_type": "raw",
   "id": "6c06d816-b8b8-4bf7-b9e2-4fb30657849c",
   "metadata": {},
   "source": [
    "Question 4\n",
    "\n",
    "You are given a special linked list with N nodes where each node has a next pointer pointing to its next node. You are also given M random pointers, where you will be given M number of pairs denoting two nodes a and b  i.e. a->arb = b (arb is pointer to random node).\n",
    "\n",
    "Construct a copy of the given list. The copy should consist of exactly N new nodes, where each new node has its value set to the value of its corresponding original node. Both the next and random pointer of the new nodes should point to new nodes in the copied list such that the pointers in the original list and copied list represent the same list state. None of the pointers in the new list should point to nodes in the original list.\n",
    "\n",
    "For example, if there are two nodes X and Y in the original list, where X.arb --> Y, then for the corresponding two nodes x and y in the copied list, x.arb --> y.\n",
    "\n",
    "Return the head of the copied linked list."
   ]
  },
  {
   "cell_type": "code",
   "execution_count": 10,
   "id": "141643a7-8c76-4f77-a6a8-4c175d3c851e",
   "metadata": {},
   "outputs": [
    {
     "name": "stdout",
     "output_type": "stream",
     "text": [
      "The original linked list:\n",
      "1 ( 3 )-> 2 ( 1 )-> 3 ( 5 )-> 4 ( 3 )-> 5 ( 2 )\n",
      "The cloned linked list:\n",
      "1 ( 3 )-> 2 ( 1 )-> 3 ( 5 )-> 4 ( 3 )-> 5 ( 2 )\n"
     ]
    }
   ],
   "source": [
    "class Node:\n",
    "    def __init__(self, x):\n",
    "        self.data = x\n",
    "        self.next = None\n",
    "        self.random = None\n",
    " \n",
    " \n",
    "def cloneLinkedList(head):\n",
    "    if head == None:\n",
    "        return None\n",
    "    curr = head\n",
    "    while curr != None:\n",
    "        newNode = Node(curr.data)\n",
    "        newNode.next = curr.next\n",
    "        curr.next = newNode\n",
    "        curr = newNode.next\n",
    "    curr = head\n",
    "    while curr != None:\n",
    "        if curr.random != None:\n",
    "            curr.next.random = curr.random.next\n",
    "        curr = curr.next.next\n",
    "    curr = head\n",
    "    clonedHead = head.next\n",
    "    clonedCurr = clonedHead\n",
    "    while clonedCurr.next != None:\n",
    "        curr.next = curr.next.next\n",
    "        clonedCurr.next = clonedCurr.next.next\n",
    "        curr = curr.next\n",
    "        clonedCurr = clonedCurr.next\n",
    "    curr.next = None\n",
    "    clonedCurr.next = None\n",
    "    return clonedHead\n",
    "\n",
    "def printList(head):\n",
    "    print(head.data, \"(\", head.random.data, \")\", end=\"\")\n",
    "    head = head.next\n",
    "    while head != None:\n",
    "        print(\"->\", head.data, \"(\", head.random.data, \")\", end=\"\")\n",
    "        head = head.next\n",
    "    print()\n",
    "\n",
    "head = Node(1)\n",
    "head.next = Node(2)\n",
    "head.next.next = Node(3)\n",
    "head.next.next.next = Node(4)\n",
    "head.next.next.next.next = Node(5)\n",
    "head.random = head.next.next\n",
    "head.next.random = head\n",
    "head.next.next.random = head.next.next.next.next\n",
    "head.next.next.next.random = head.next.next\n",
    "head.next.next.next.next.random = head.next\n",
    "\n",
    "# Print the original list\n",
    "print(\"The original linked list:\")\n",
    "printList(head)\n",
    "\n",
    "# Function call\n",
    "sol = cloneLinkedList(head)\n",
    "print(\"The cloned linked list:\")\n",
    "printList(sol)"
   ]
  },
  {
   "cell_type": "raw",
   "id": "58d23811-38b0-4136-bbc0-bf418856e295",
   "metadata": {},
   "source": [
    "Question 5\n",
    "Given the head of a singly linked list, group all the nodes with odd indices together followed by the nodes with even indices, and return the reordered list.\n",
    "\n",
    "The first node is considered odd, and the second node is even, and so on.\n",
    "\n",
    "Note that the relative order inside both the even and odd groups should remain as it was in the input.\n",
    "\n",
    "You must solve the problem in O(1) extra space complexity and O(n) time complexity."
   ]
  },
  {
   "cell_type": "code",
   "execution_count": 27,
   "id": "6bda9ec0-9979-47a8-8110-e13ff4102703",
   "metadata": {},
   "outputs": [
    {
     "name": "stdin",
     "output_type": "stream",
     "text": [
      "Enter values in comma separated format 1,2,3,4,5\n"
     ]
    },
    {
     "name": "stdout",
     "output_type": "stream",
     "text": [
      "1 3 5 2 4 "
     ]
    },
    {
     "name": "stdin",
     "output_type": "stream",
     "text": [
      "Enter values in comma separated format 2,1,3,5,6,4,7\n"
     ]
    },
    {
     "name": "stdout",
     "output_type": "stream",
     "text": [
      "2 3 6 7 1 5 4 "
     ]
    }
   ],
   "source": [
    "for i in range(2):\n",
    "    nums = list(map(int,input(\"Enter values in comma separated format\").split(',')))\n",
    "    nodeObj = LinkedList()\n",
    "    for i in nums:\n",
    "        nodeObj.insert_at_end(i)\n",
    "    nodeObj.start_node = nodeObj.rearrangeEvenOdd()\n",
    "    nodeObj.traverse_list()"
   ]
  },
  {
   "cell_type": "raw",
   "id": "4192051c-964c-4833-aab6-3f7537395c05",
   "metadata": {},
   "source": [
    "Question 6\n",
    "\n",
    "Given a singly linked list of size N. The task is to left-shift the linked list by k nodes, where k is a given positive integer smaller than or equal to length of the linked list."
   ]
  },
  {
   "cell_type": "code",
   "execution_count": 32,
   "id": "1b3f0e5a-9353-4069-84fa-e35bb6b84726",
   "metadata": {},
   "outputs": [
    {
     "name": "stdin",
     "output_type": "stream",
     "text": [
      "Enter values in comma separated format 1,2,3,4,5,6,7,8\n",
      "Enter no of rotations: 4\n"
     ]
    },
    {
     "name": "stdout",
     "output_type": "stream",
     "text": [
      "5 6 7 8 1 2 3 4 "
     ]
    },
    {
     "name": "stdin",
     "output_type": "stream",
     "text": [
      "Enter values in comma separated format 2,4,7,8,9\n",
      "Enter no of rotations: 3\n"
     ]
    },
    {
     "name": "stdout",
     "output_type": "stream",
     "text": [
      "8 9 2 4 7 "
     ]
    }
   ],
   "source": [
    "for i in range(2):\n",
    "    nums = list(map(int,input(\"Enter values in comma separated format\").split(',')))\n",
    "    rot_num = int(input(\"Enter no of rotations:\"))\n",
    "    nodeObj = LinkedList()\n",
    "    for i in nums:\n",
    "        nodeObj.insert_at_end(i)\n",
    "    nodeObj.rotate(rot_num)\n",
    "    nodeObj.traverse_list()"
   ]
  },
  {
   "cell_type": "raw",
   "id": "462ce5ba-3380-4fa8-9bd5-3bc295df3c42",
   "metadata": {},
   "source": [
    "Question 7\n",
    "\n",
    "You are given the head of a linked list with n nodes.\n",
    "\n",
    "For each node in the list, find the value of the next greater node. That is, for each node, find the value of the first node that is next to it and has a strictly larger value than it.\n",
    "\n",
    "Return an integer array answer where answer[i] is the value of the next greater node of the ith node (1-indexed). If the ith node does not have a next greater node, set answer[i] = 0."
   ]
  },
  {
   "cell_type": "code",
   "execution_count": 1,
   "id": "ff858e9c-2f42-4fa8-b689-a783825aeebd",
   "metadata": {},
   "outputs": [
    {
     "name": "stdout",
     "output_type": "stream",
     "text": [
      "[7, 4, 7, 0, 0]\n"
     ]
    }
   ],
   "source": [
    "# Java program for the above approach\n",
    "head = None\n",
    "\n",
    "# ListNode\n",
    "\n",
    "\n",
    "class ListNode:\n",
    "\tdef __init__(self, val):\n",
    "\t\tself.val = val\n",
    "\t\tself.next = None\n",
    "\n",
    "# to get size of LinkedList\n",
    "\n",
    "\n",
    "def sizeOfLL(head):\n",
    "\tcount = 0\n",
    "\twhile (head != None):\n",
    "\t\tcount = count + 1\n",
    "\t\thead = head.next\n",
    "\n",
    "\treturn count\n",
    "\n",
    "\n",
    "def nextLargerLL(head):\n",
    "\t# get size of LinkedList\n",
    "\tcount = sizeOfLL(head)\n",
    "\t# make size of ans array equal to size of LL i.e\n",
    "\t# number of nodes in LL\n",
    "\tans = [None]*count\n",
    "\t# k is for index of ans array\n",
    "\tk = 0\n",
    "\t# j will be one step ahead of head node that will\n",
    "\t# check the greater node\n",
    "\tj = None\n",
    "\t# temp is for temporary storing the greater node\n",
    "\ttemp = 0\n",
    "\n",
    "\twhile (head != None):\n",
    "\t\t# if head.next is None it means there will be\n",
    "\t\t# no greater node than head afterwards so add 0\n",
    "\t\t# to ans array\n",
    "\t\tif (head.next == None):\n",
    "\t\t\tans[k] = 0\n",
    "\t\t\tbreak\n",
    "\n",
    "\t\t# j is one step ahead of head\n",
    "\t\tj = head.next\n",
    "\t\t# if head.val is smaller than j.val so add\n",
    "\t\t# j.val to ans array and increment index (k)\n",
    "\t\tif (head.val < j.val):\n",
    "\t\t\tans[k] = j.val\n",
    "\t\t\tk += 1\n",
    "\n",
    "\t\telif (head.val >= j.val): # if head.val is greater\n",
    "\t\t\t# than or equal to j.val\n",
    "\t\t\twhile (\n",
    "\t\t\t\t\tj != None and head.val >= j.val): # search j.val such\n",
    "\t\t\t\t# that it is greater\n",
    "\t\t\t\t# than head.val\n",
    "\t\t\t\tj = j.next\n",
    "\n",
    "\t\t\t# if j is not equal to None it means we\n",
    "\t\t\t#\t have got a value in LL which is greater\n",
    "\t\t\t#\t than head so add j.val to ans array\n",
    "\t\t\t#\t increment k after adding j.val\n",
    "\n",
    "\t\t\tif (j != None):\n",
    "\t\t\t\tans[k] = j.val\n",
    "\t\t\t\tk += 1\n",
    "\n",
    "\t\t\telse: # it means we have not found any\n",
    "\t\t\t\t# value which is greater than head so\n",
    "\t\t\t\t# add 0 to ans array and increment\n",
    "\t\t\t\t# index\n",
    "\t\t\t\tans[k] = 0\n",
    "\t\t\t\tk += 1\n",
    "\n",
    "\t\telse:\n",
    "\t\t\tans[k] = 0\n",
    "\t\t\tk += 1\n",
    "\n",
    "\t\thead = head.next\n",
    "\n",
    "\treturn ans\n",
    "\n",
    "\n",
    "def push(new_data):\n",
    "\tglobal head\n",
    "\t# allocate node None\n",
    "\tnew_node = ListNode(new_data)\n",
    "\n",
    "\t# link the old list of the new node None\n",
    "\tnew_node.next = head\n",
    "\n",
    "\t# move the head to point to the new node None\n",
    "\thead = new_node\n",
    "\n",
    "\n",
    "# Utility function to print the linked list\n",
    "def printList():\n",
    "\tprint(nextLargerLL(head))\n",
    "\n",
    "\n",
    "# driver code\n",
    "if __name__ == '__main__':\n",
    "\tpush(2)\n",
    "\tpush(7)\n",
    "\tpush(4)\n",
    "\tpush(3)\n",
    "\tpush(5)\n",
    "\n",
    "\t# Function Call\n",
    "\tnextLargerLL(head)\n",
    "\tprintList()"
   ]
  },
  {
   "cell_type": "raw",
   "id": "1fb4bbff-2034-4937-b5d1-a0414b4a4213",
   "metadata": {},
   "source": [
    "Question 8\n",
    "\n",
    "Given the `head` of a linked list, we repeatedly delete consecutive sequences of nodes that sum to `0` until there are no such sequences.\n",
    "\n",
    "After doing so, return the head of the final linked list.  You may return any such answer.\n",
    "\n",
    "(Note that in the examples below, all sequences are serializations of `ListNode` objects.)"
   ]
  },
  {
   "cell_type": "code",
   "execution_count": 6,
   "id": "62cb64da-4edb-4d57-8dfc-f48c0dd2b16e",
   "metadata": {},
   "outputs": [
    {
     "name": "stdin",
     "output_type": "stream",
     "text": [
      "Enter values in comma separated format 1,2,3,-3,4\n"
     ]
    },
    {
     "name": "stdout",
     "output_type": "stream",
     "text": [
      "After deleting middle element\n",
      "1 2 4 "
     ]
    },
    {
     "name": "stdin",
     "output_type": "stream",
     "text": [
      "Enter values in comma separated format 1,2,3,-3,-2\n"
     ]
    },
    {
     "name": "stdout",
     "output_type": "stream",
     "text": [
      "After deleting middle element\n",
      "1 "
     ]
    }
   ],
   "source": [
    "for i in range(2):\n",
    "    nums = list(map(int,input(\"Enter values in comma separated format\").split(',')))\n",
    "    nodes = LinkedList()\n",
    "    for i in range(0,len(nums)):\n",
    "        nodes.insert_at_end(nums[i])\n",
    "    finNodes = nodes.removeZeroSumSublists(nodes.start_node)\n",
    "    print(\"After deleting middle element\")\n",
    "    while finNodes is not None:\n",
    "        print(finNodes.item, end=\" \")\n",
    "        finNodes = finNodes.ref"
   ]
  },
  {
   "cell_type": "code",
   "execution_count": null,
   "id": "96ce6217-ae3d-49b0-8559-4587783c5c4f",
   "metadata": {},
   "outputs": [],
   "source": []
  }
 ],
 "metadata": {
  "kernelspec": {
   "display_name": "Python 3 (ipykernel)",
   "language": "python",
   "name": "python3"
  },
  "language_info": {
   "codemirror_mode": {
    "name": "ipython",
    "version": 3
   },
   "file_extension": ".py",
   "mimetype": "text/x-python",
   "name": "python",
   "nbconvert_exporter": "python",
   "pygments_lexer": "ipython3",
   "version": "3.10.6"
  }
 },
 "nbformat": 4,
 "nbformat_minor": 5
}
