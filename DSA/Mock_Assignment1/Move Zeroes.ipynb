{
 "cells": [
  {
   "cell_type": "raw",
   "id": "be308cbd-b04a-42c5-bf64-dbab88a5987c",
   "metadata": {},
   "source": [
    "Move Zeroes\n",
    "Given an integer array nums, move all 0's to the end of it while maintaining the relative order of the non-zero elements.\n",
    "\n",
    "Note that you must do this in-place without making a copy of the array.\n",
    "\n",
    "Example 1:\n",
    "Input: nums = [0,1,0,3,12]\n",
    "Output: [1,3,12,0,0]\n",
    "\n",
    "Example 2:\n",
    "Input: nums = [0]\n",
    "Output: [0]\n",
    "\n",
    "Constraints:\n",
    "a. 1 <= nums.length <= 10^4\n",
    "b. -2^31 <= nums[i] <= 2^31 - 1"
   ]
  },
  {
   "cell_type": "code",
   "execution_count": 3,
   "id": "e939a5a6-6770-4f39-a8f5-b507ced11e34",
   "metadata": {},
   "outputs": [
    {
     "name": "stdin",
     "output_type": "stream",
     "text": [
      "Enter values in comma separated format 0,1,0,3,12\n"
     ]
    },
    {
     "name": "stdout",
     "output_type": "stream",
     "text": [
      "Updated array : [1, 3, 12, 0, 0]\n"
     ]
    }
   ],
   "source": [
    "nums = list(map(int,input(\"Enter values in comma separated format\").split(',')))\n",
    "counter = 0\n",
    "\n",
    "for i in range(len(nums)):\n",
    "    if nums[i] != 0:\n",
    "        nums[counter] = nums[i]\n",
    "        counter += 1\n",
    "\n",
    "while counter < len(nums):\n",
    "    nums[counter] = 0\n",
    "    counter += 1\n",
    "print(f\"Updated array : {nums}\")"
   ]
  }
 ],
 "metadata": {
  "kernelspec": {
   "display_name": "Python 3 (ipykernel)",
   "language": "python",
   "name": "python3"
  },
  "language_info": {
   "codemirror_mode": {
    "name": "ipython",
    "version": 3
   },
   "file_extension": ".py",
   "mimetype": "text/x-python",
   "name": "python",
   "nbconvert_exporter": "python",
   "pygments_lexer": "ipython3",
   "version": "3.10.6"
  }
 },
 "nbformat": 4,
 "nbformat_minor": 5
}
