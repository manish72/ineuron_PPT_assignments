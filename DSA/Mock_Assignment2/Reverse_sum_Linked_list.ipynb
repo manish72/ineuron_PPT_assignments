{
 "cells": [
  {
   "cell_type": "raw",
   "id": "6cb4c510-fa7f-47c8-bdb7-77c1890e1fa4",
   "metadata": {},
   "source": [
    "You are given two non-empty linked lists representing two non-negative integers. The digits are stored in reverse order, and each of their nodes contains a single digit. Add the two numbers and return the sum as a linked list.\n",
    "\n",
    "You may assume the two numbers do not contain any leading zero, except the number 0 itself.\n",
    "\n",
    "\n",
    "Example 1:\n",
    "\n",
    "Input: l1 = [2,4,3], l2 = [5,6,4] Output: [7,0,8] Explanation: 342 + 465 = 807.\n",
    "\n",
    "Example 2:\n",
    "\n",
    "Input: l1 = [0], l2 = [0] Output: [0]\n",
    "\n",
    "Example 3:\n",
    "\n",
    "Input: l1 = [9,9,9,9,9,9,9], l2 = [9,9,9,9] Output: [8,9,9,9,0,0,0,1]"
   ]
  },
  {
   "cell_type": "code",
   "execution_count": 1,
   "id": "27e07bbc-969e-4a06-a9a7-5eb6b1c00e88",
   "metadata": {},
   "outputs": [],
   "source": [
    "class Node:\n",
    "    def __init__(self, data):\n",
    "        self.item = data\n",
    "        self.ref = None\n",
    "        \n",
    "class LinkedList:\n",
    "    def __init__(self):\n",
    "        self.start_node = None\n",
    "    def insert_at_end(self, data):\n",
    "        new_node = Node(data)\n",
    "        if self.start_node is None:\n",
    "            self.start_node = new_node\n",
    "        else:\n",
    "            n = self.start_node\n",
    "            while n.ref is not None:\n",
    "                n= n.ref\n",
    "            n.ref = new_node\n",
    "    def traverse_list(self):\n",
    "        if self.start_node is None:\n",
    "            print(\"List has no element\")\n",
    "        else:\n",
    "            n = self.start_node\n",
    "            while n is not None:\n",
    "                print(n.item , end=\" \")\n",
    "                n = n.ref\n",
    "    def addTwoNumbers(self, l1, l2):\n",
    "        dummy = Node(0)\n",
    "        current, carry = dummy, 0\n",
    "\n",
    "        while l1 is not None or l2 is not None:\n",
    "            val = carry\n",
    "            if l1 is not None:\n",
    "                val += l1.item\n",
    "                l1 = l1.ref\n",
    "            if l2 is not None:\n",
    "                val += l2.item\n",
    "                l2 = l2.ref\n",
    "            carry, val = divmod(val, 10)\n",
    "            current.ref = Node(val)\n",
    "            current = current.ref\n",
    "\n",
    "        if carry == 1:\n",
    "            current.ref = Node(1)\n",
    "\n",
    "        return dummy.ref    "
   ]
  },
  {
   "cell_type": "code",
   "execution_count": 2,
   "id": "4c248464-345e-4b35-947b-448e4eb93f56",
   "metadata": {},
   "outputs": [
    {
     "name": "stdin",
     "output_type": "stream",
     "text": [
      "Enter values in comma separated format for list1 2,4,3\n",
      "Enter values in comma separated format for list2 5,6,4\n"
     ]
    },
    {
     "name": "stdout",
     "output_type": "stream",
     "text": [
      "Sum is : 7 0 8 "
     ]
    },
    {
     "name": "stdin",
     "output_type": "stream",
     "text": [
      "Enter values in comma separated format for list1 0\n",
      "Enter values in comma separated format for list2 0\n"
     ]
    },
    {
     "name": "stdout",
     "output_type": "stream",
     "text": [
      "Sum is : 0 "
     ]
    },
    {
     "name": "stdin",
     "output_type": "stream",
     "text": [
      "Enter values in comma separated format for list1 9,9,9,9,9,9,9\n",
      "Enter values in comma separated format for list2 9,9,9,9\n"
     ]
    },
    {
     "name": "stdout",
     "output_type": "stream",
     "text": [
      "Sum is : 8 9 9 9 0 0 0 1 "
     ]
    }
   ],
   "source": [
    "for i in range(3):\n",
    "    list1 = list(map(int,input(\"Enter values in comma separated format for list1\").split(',')))\n",
    "    list2 = list(map(int,input(\"Enter values in comma separated format for list2\").split(',')))\n",
    "    nodeObj1 = LinkedList()\n",
    "    nodeObj2 = LinkedList()\n",
    "    for i in range(0,len(list1)):\n",
    "        nodeObj1.insert_at_end(list1[i])\n",
    "    for i in range(0,len(list2)):\n",
    "        nodeObj2.insert_at_end(list2[i])\n",
    "    nodeObj1.start_node = nodeObj1.addTwoNumbers(nodeObj1.start_node,nodeObj2.start_node)\n",
    "    print(\"Sum is :\", end = \" \")\n",
    "    nodeObj1.traverse_list()"
   ]
  },
  {
   "cell_type": "code",
   "execution_count": null,
   "id": "3fb076c0-6b0a-48c3-8122-a857449a859c",
   "metadata": {},
   "outputs": [],
   "source": []
  }
 ],
 "metadata": {
  "kernelspec": {
   "display_name": "Python 3 (ipykernel)",
   "language": "python",
   "name": "python3"
  },
  "language_info": {
   "codemirror_mode": {
    "name": "ipython",
    "version": 3
   },
   "file_extension": ".py",
   "mimetype": "text/x-python",
   "name": "python",
   "nbconvert_exporter": "python",
   "pygments_lexer": "ipython3",
   "version": "3.10.6"
  }
 },
 "nbformat": 4,
 "nbformat_minor": 5
}
