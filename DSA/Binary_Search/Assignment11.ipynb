{
 "cells": [
  {
   "cell_type": "raw",
   "id": "890e248e-cf71-4d29-924c-d758285c1ceb",
   "metadata": {},
   "source": [
    "Question 1\n",
    "\n",
    "Given a non-negative integer `x`, return *the square root of* `x` *rounded down to the nearest integer*. The returned integer should be **non-negative** as well.\n",
    "\n",
    "You **must not use** any built-in exponent function or operator.\n",
    "\n",
    "- For example, do not use `pow(x, 0.5)` in c++ or `x ** 0.5` in python."
   ]
  },
  {
   "cell_type": "code",
   "execution_count": 2,
   "id": "3aa7e164-2eb4-4050-a58c-c4e5770a1540",
   "metadata": {},
   "outputs": [
    {
     "name": "stdin",
     "output_type": "stream",
     "text": [
      "Enter number: 4\n"
     ]
    },
    {
     "name": "stdout",
     "output_type": "stream",
     "text": [
      "2\n"
     ]
    },
    {
     "name": "stdin",
     "output_type": "stream",
     "text": [
      "Enter number: 8\n"
     ]
    },
    {
     "name": "stdout",
     "output_type": "stream",
     "text": [
      "2\n"
     ]
    }
   ],
   "source": [
    "def floorSqrt(x):\n",
    "    \n",
    "    if (x == 0 or x == 1):\n",
    "        return x\n",
    "    start = 1\n",
    "    end = x//2\n",
    "    while (start <= end):\n",
    "        mid = (start + end) // 2\n",
    "        if (mid*mid == x):\n",
    "            return mid\n",
    "        \n",
    "        if (mid * mid < x):\n",
    "            start = mid + 1\n",
    "            ans = mid\n",
    " \n",
    "        else:\n",
    "            end = mid-1 \n",
    "    return ans\n",
    "\n",
    "for i in range(2):\n",
    "    x = int(input(\"Enter number:\"))\n",
    "    print(floorSqrt(x))"
   ]
  },
  {
   "cell_type": "raw",
   "id": "188dc36d-a5dc-4bf1-92b8-25e7bb6f09ca",
   "metadata": {},
   "source": [
    "Question 2\n",
    "\n",
    "A peak element is an element that is strictly greater than its neighbors.\n",
    "\n",
    "Given a **0-indexed** integer array `nums`, find a peak element, and return its index. If the array contains multiple peaks, return the index to **any of the peaks**.\n",
    "\n",
    "You may imagine that `nums[-1] = nums[n] = -∞`. In other words, an element is always considered to be strictly greater than a neighbor that is outside the array.\n",
    "\n",
    "You must write an algorithm that runs in `O(log n)` time."
   ]
  },
  {
   "cell_type": "code",
   "execution_count": 9,
   "id": "3bd3680b-ca84-4d4a-b808-461f0acb5a7d",
   "metadata": {},
   "outputs": [
    {
     "name": "stdin",
     "output_type": "stream",
     "text": [
      "Enter values in comma separated format 1,2,3,1\n"
     ]
    },
    {
     "name": "stdout",
     "output_type": "stream",
     "text": [
      "2\n"
     ]
    },
    {
     "name": "stdin",
     "output_type": "stream",
     "text": [
      "Enter values in comma separated format 1,2,1,3,5,6,4\n"
     ]
    },
    {
     "name": "stdout",
     "output_type": "stream",
     "text": [
      "5\n"
     ]
    }
   ],
   "source": [
    "def findPeakElement(nums):\n",
    "    left, right = 0, len(nums) - 1\n",
    "    while left < right:\n",
    "        mid = (left + right) >> 1\n",
    "        if nums[mid] > nums[mid + 1]:\n",
    "            right = mid\n",
    "        else:\n",
    "            left = mid + 1\n",
    "    return left\n",
    "\n",
    "for i in range(2):\n",
    "    nums = list(map(int,input(\"Enter values in comma separated format\").split(',')))\n",
    "    print(findPeakElement(nums))"
   ]
  },
  {
   "cell_type": "raw",
   "id": "565fa695-0f16-4622-91fa-62134dd051e7",
   "metadata": {},
   "source": [
    "Question 3\n",
    "\n",
    "Given an array `nums` containing `n` distinct numbers in the range `[0, n]`, return *the only number in the range that is missing from the array.*"
   ]
  },
  {
   "cell_type": "code",
   "execution_count": 12,
   "id": "f3d45271-cc57-4ec2-9db0-a344f0a4133d",
   "metadata": {},
   "outputs": [
    {
     "name": "stdin",
     "output_type": "stream",
     "text": [
      "Enter values in comma separated format 3,0,1\n"
     ]
    },
    {
     "name": "stdout",
     "output_type": "stream",
     "text": [
      "2\n"
     ]
    },
    {
     "name": "stdin",
     "output_type": "stream",
     "text": [
      "Enter values in comma separated format 0,1\n"
     ]
    },
    {
     "name": "stdout",
     "output_type": "stream",
     "text": [
      "2\n"
     ]
    },
    {
     "name": "stdin",
     "output_type": "stream",
     "text": [
      "Enter values in comma separated format 9,6,4,2,3,5,7,0,1\n"
     ]
    },
    {
     "name": "stdout",
     "output_type": "stream",
     "text": [
      "8\n"
     ]
    }
   ],
   "source": [
    "def missingNumber(nums):\n",
    "    return sum(range(len(nums)+1)) - sum(nums)\n",
    "\n",
    "for i in range(3):\n",
    "    nums = list(map(int,input(\"Enter values in comma separated format\").split(',')))\n",
    "    print(missingNumber(nums))"
   ]
  },
  {
   "cell_type": "raw",
   "id": "8ba6faf4-7ee4-462c-bf96-d750c3581358",
   "metadata": {},
   "source": [
    "Question 4\n",
    "\n",
    "Given an array of integers `nums` containing `n + 1` integers where each integer is in the range `[1, n]` inclusive.\n",
    "\n",
    "There is only **one repeated number** in `nums`, return *this repeated number*.\n",
    "\n",
    "You must solve the problem **without** modifying the array `nums` and uses only constant extra space."
   ]
  },
  {
   "cell_type": "code",
   "execution_count": 14,
   "id": "6482ea56-3041-4743-9140-18795632b7c5",
   "metadata": {},
   "outputs": [
    {
     "name": "stdin",
     "output_type": "stream",
     "text": [
      "Enter values in comma separated format 1,3,4,2,2\n"
     ]
    },
    {
     "name": "stdout",
     "output_type": "stream",
     "text": [
      "2\n"
     ]
    },
    {
     "name": "stdin",
     "output_type": "stream",
     "text": [
      "Enter values in comma separated format 3,1,3,4,2\n"
     ]
    },
    {
     "name": "stdout",
     "output_type": "stream",
     "text": [
      "3\n"
     ]
    }
   ],
   "source": [
    "def findDuplicate(nums):\n",
    "    left, right = 1, len(nums) - 1\n",
    "\n",
    "    while left <= right:\n",
    "        mid = left + (right - left) // 2\n",
    "        \n",
    "        count = 0\n",
    "        for num in nums:\n",
    "            if num <= mid:\n",
    "                count += 1\n",
    "        if count > mid:\n",
    "            right = mid - 1\n",
    "        else:\n",
    "            left = mid + 1\n",
    "    return left\n",
    "\n",
    "\n",
    "for i in range(2):\n",
    "    nums = list(map(int,input(\"Enter values in comma separated format\").split(',')))\n",
    "    print(findDuplicate(nums))"
   ]
  },
  {
   "cell_type": "raw",
   "id": "bbb7f0b0-4f10-4cad-ae64-8d9005488d74",
   "metadata": {},
   "source": [
    "Question 5\n",
    "\n",
    "Given two integer arrays `nums1` and `nums2`, return *an array of their intersection*. Each element in the result must be **unique** and you may return the result in **any order**."
   ]
  },
  {
   "cell_type": "code",
   "execution_count": 17,
   "id": "0d64f811-abf2-483b-9587-9148faf28517",
   "metadata": {},
   "outputs": [
    {
     "name": "stdin",
     "output_type": "stream",
     "text": [
      "Enter values in comma separated format 1,2,2,1\n",
      "Enter values in comma separated format 2,2\n"
     ]
    },
    {
     "name": "stdout",
     "output_type": "stream",
     "text": [
      "[2]\n"
     ]
    },
    {
     "name": "stdin",
     "output_type": "stream",
     "text": [
      "Enter values in comma separated format 4,9,5\n",
      "Enter values in comma separated format 9,4,9,8,4\n"
     ]
    },
    {
     "name": "stdout",
     "output_type": "stream",
     "text": [
      "[4, 9]\n"
     ]
    }
   ],
   "source": [
    "def intersection(nums1, nums2):\n",
    "    if len(nums1) > len(nums2):\n",
    "        return intersection(nums2, nums1)\n",
    "\n",
    "    def binary_search(compare, nums, left, right, target):\n",
    "        while left < right:\n",
    "            mid = left + (right - left) // 2\n",
    "            if compare(nums[mid], target):\n",
    "                right = mid\n",
    "            else:\n",
    "                left = mid + 1\n",
    "        return left\n",
    "\n",
    "    nums1.sort(), nums2.sort()\n",
    "\n",
    "    res = []\n",
    "    left = 0\n",
    "    for i in nums1:\n",
    "        left = binary_search(lambda x, y: x >= y, nums2, left, len(nums2), i)\n",
    "        if left != len(nums2) and nums2[left] == i:\n",
    "            res += i,\n",
    "            left = binary_search(lambda x, y: x > y, nums2, left, len(nums2), i)\n",
    "\n",
    "    return res\n",
    "\n",
    "for i in range(2):\n",
    "    nums1 = list(map(int,input(\"Enter values in comma separated format\").split(',')))\n",
    "    nums2 = list(map(int,input(\"Enter values in comma separated format\").split(',')))\n",
    "    print(intersection(nums1, nums2))"
   ]
  },
  {
   "cell_type": "raw",
   "id": "96a441c8-92c8-4db2-8e33-d52d14d07a30",
   "metadata": {},
   "source": [
    "Question 6\n",
    "\n",
    "Suppose an array of length `n` sorted in ascending order is **rotated** between `1` and `n` times. For example, the array `nums = [0,1,2,4,5,6,7]` might become:\n",
    "\n",
    "- `[4,5,6,7,0,1,2]` if it was rotated `4` times.\n",
    "- `[0,1,2,4,5,6,7]` if it was rotated `7` times.\n",
    "\n",
    "Notice that **rotating** an array `[a[0], a[1], a[2], ..., a[n-1]]` 1 time results in the array `[a[n-1], a[0], a[1], a[2], ..., a[n-2]]`.\n",
    "\n",
    "Given the sorted rotated array `nums` of **unique** elements, return *the minimum element of this array*.\n",
    "\n",
    "You must write an algorithm that runs in O(log n) time."
   ]
  },
  {
   "cell_type": "code",
   "execution_count": 1,
   "id": "31594397-fcec-4e3b-b94a-3e71c664de74",
   "metadata": {},
   "outputs": [
    {
     "name": "stdin",
     "output_type": "stream",
     "text": [
      "Enter values in comma separated format 3,4,5,1,2\n"
     ]
    },
    {
     "name": "stdout",
     "output_type": "stream",
     "text": [
      "1\n"
     ]
    },
    {
     "name": "stdin",
     "output_type": "stream",
     "text": [
      "Enter values in comma separated format 4,5,6,7,0,1,2\n"
     ]
    },
    {
     "name": "stdout",
     "output_type": "stream",
     "text": [
      "0\n"
     ]
    },
    {
     "name": "stdin",
     "output_type": "stream",
     "text": [
      "Enter values in comma separated format 11,13,15,17\n"
     ]
    },
    {
     "name": "stdout",
     "output_type": "stream",
     "text": [
      "11\n"
     ]
    }
   ],
   "source": [
    "def findMin(nums):\n",
    "    left, right = 0, len(nums)\n",
    "    target = nums[-1]\n",
    "\n",
    "    while left < right:\n",
    "        mid = left + (right - left) // 2\n",
    "\n",
    "        if nums[mid] <= target:\n",
    "            right = mid\n",
    "        else:\n",
    "            left = mid + 1\n",
    "\n",
    "    return nums[left]\n",
    "\n",
    "\n",
    "for i in range(3):\n",
    "    nums = list(map(int,input(\"Enter values in comma separated format\").split(',')))\n",
    "    print(findMin(nums))"
   ]
  },
  {
   "cell_type": "raw",
   "id": "00ed7ba9-8ef5-416e-a591-5955a4d5c838",
   "metadata": {},
   "source": [
    "Question 7\n",
    "\n",
    "Given an array of integers `nums` sorted in non-decreasing order, find the starting and ending position of a given `target` value.\n",
    "\n",
    "If `target` is not found in the array, return `[-1, -1]`.\n",
    "\n",
    "You must write an algorithm with `O(log n)` runtime complexity."
   ]
  },
  {
   "cell_type": "code",
   "execution_count": 7,
   "id": "5faaf497-63d3-4c2d-9d59-2f8db5429d68",
   "metadata": {},
   "outputs": [
    {
     "name": "stdin",
     "output_type": "stream",
     "text": [
      "Enter values in comma separated format 5,7,7,8,8,10\n",
      "Enter number: 8\n"
     ]
    },
    {
     "name": "stdout",
     "output_type": "stream",
     "text": [
      "[3, 4]\n"
     ]
    },
    {
     "name": "stdin",
     "output_type": "stream",
     "text": [
      "Enter values in comma separated format 5,7,7,8,8,10\n",
      "Enter number: 6\n"
     ]
    },
    {
     "name": "stdout",
     "output_type": "stream",
     "text": [
      "[-1, -1]\n"
     ]
    }
   ],
   "source": [
    "from bisect import *\n",
    "\n",
    "def searchRange(nums, target):\n",
    "        l, r = 0, len(nums) - 1\n",
    "\n",
    "        while l <= r:\n",
    "            m = (l + r) // 2\n",
    "            if nums[m] == target:\n",
    "                l = m - 1\n",
    "                while l >= 0 and nums[l] == target:\n",
    "                    l -= 1\n",
    "\n",
    "                r = m + 1\n",
    "                while r < len(nums) and nums[r] == target:\n",
    "                    r += 1\n",
    "\n",
    "                return [l + 1, r - 1]\n",
    "\n",
    "            elif nums[m] < target:\n",
    "                l = m + 1\n",
    "            else:\n",
    "                r = m - 1\n",
    "\n",
    "        return [-1, -1]\n",
    "\n",
    "for i in range(2):\n",
    "    nums = list(map(int,input(\"Enter values in comma separated format\").split(',')))\n",
    "    target = int(input(\"Enter number:\"))\n",
    "    print(searchRange(nums, target))"
   ]
  },
  {
   "cell_type": "raw",
   "id": "936ece9f-eb2a-4c6a-8e0d-1ff4d3504f0e",
   "metadata": {},
   "source": [
    "Question 8\n",
    "\n",
    "Given two integer arrays `nums1` and `nums2`, return *an array of their intersection*. Each element in the result must appear as many times as it shows in both arrays and you may return the result in **any order**."
   ]
  },
  {
   "cell_type": "code",
   "execution_count": 6,
   "id": "fe9f0cda-84ad-4f3f-8296-3e3f20d72c3c",
   "metadata": {},
   "outputs": [
    {
     "name": "stdin",
     "output_type": "stream",
     "text": [
      "Enter values in comma separated format 1,2,2,1\n",
      "Enter values in comma separated format 2,2\n"
     ]
    },
    {
     "name": "stdout",
     "output_type": "stream",
     "text": [
      "[2, 2]\n"
     ]
    },
    {
     "name": "stdin",
     "output_type": "stream",
     "text": [
      "Enter values in comma separated format 4,9,5\n",
      "Enter values in comma separated format 9,4,9,8,4\n"
     ]
    },
    {
     "name": "stdout",
     "output_type": "stream",
     "text": [
      "[4, 9]\n"
     ]
    }
   ],
   "source": [
    "def intersect(nums1, nums2):\n",
    "        if len(nums1) > len(nums2):\n",
    "            return intersect(nums2, nums1)\n",
    "\n",
    "        def binary_search(compare, nums, left, right, target):\n",
    "            while left < right:\n",
    "                mid = left + (right - left) // 2\n",
    "                if compare(nums[mid], target):\n",
    "                    right = mid\n",
    "                else:\n",
    "                    left = mid + 1\n",
    "            return left\n",
    "\n",
    "        nums1.sort(), nums2.sort()\n",
    "\n",
    "        res = []\n",
    "        left = 0\n",
    "        for i in nums1:\n",
    "            left = binary_search(lambda x, y: x >= y, nums2, left, len(nums2), i)\n",
    "            if left != len(nums2) and nums2[left] == i:\n",
    "                res += i,\n",
    "                left += 1\n",
    "\n",
    "        return res\n",
    "\n",
    "for i in range(2):\n",
    "    nums1 = list(map(int,input(\"Enter values in comma separated format\").split(',')))\n",
    "    nums2 = list(map(int,input(\"Enter values in comma separated format\").split(',')))\n",
    "    print(intersect(nums1, nums2))"
   ]
  }
 ],
 "metadata": {
  "kernelspec": {
   "display_name": "Python 3 (ipykernel)",
   "language": "python",
   "name": "python3"
  },
  "language_info": {
   "codemirror_mode": {
    "name": "ipython",
    "version": 3
   },
   "file_extension": ".py",
   "mimetype": "text/x-python",
   "name": "python",
   "nbconvert_exporter": "python",
   "pygments_lexer": "ipython3",
   "version": "3.10.6"
  }
 },
 "nbformat": 4,
 "nbformat_minor": 5
}
