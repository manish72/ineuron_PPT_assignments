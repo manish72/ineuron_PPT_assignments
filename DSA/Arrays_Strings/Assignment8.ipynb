{
 "cells": [
  {
   "cell_type": "raw",
   "id": "d77d5322-fa6f-4af2-8040-3113ef98d653",
   "metadata": {},
   "source": [
    "Question 1\n",
    "\n",
    "Given two strings s1 and s2, return the lowest ASCII sum of deleted characters to make two strings equal."
   ]
  },
  {
   "cell_type": "code",
   "execution_count": 1,
   "id": "f732119f-e977-4550-b5ab-59a4417dbbe0",
   "metadata": {},
   "outputs": [
    {
     "name": "stdin",
     "output_type": "stream",
     "text": [
      "Enter string: sea\n",
      "Enter string: eat\n"
     ]
    },
    {
     "name": "stdout",
     "output_type": "stream",
     "text": [
      "231\n"
     ]
    }
   ],
   "source": [
    "s1 = input(\"Enter string:\")\n",
    "s2 = input(\"Enter string:\")\n",
    "dp = [[0] * (len(s2)+1) for _ in range(2)]\n",
    "for j in range(len(s2)):\n",
    "    dp[0][j+1] = dp[0][j] + ord(s2[j])\n",
    "\n",
    "for i in range(len(s1)):\n",
    "    dp[(i+1)%2][0] = dp[i%2][0] + ord(s1[i])\n",
    "    for j in range(len(s2)):\n",
    "        if s1[i] == s2[j]:\n",
    "            dp[(i+1)%2][j+1] = dp[i%2][j]\n",
    "        else:\n",
    "            dp[(i+1)%2][j+1] = min(dp[i%2][j+1] + ord(s1[i]), \\\n",
    "                                   dp[(i+1)%2][j] + ord(s2[j]))\n",
    "\n",
    "print(dp[len(s1)%2][-1])"
   ]
  },
  {
   "cell_type": "raw",
   "id": "7f6b1d4a-12de-481b-b8a3-2e8f9d07e6ad",
   "metadata": {},
   "source": [
    "Question 2\n",
    "\n",
    "Given a string s containing only three types of characters: '(', ')' and '*', return true *if* s *is valid.\n",
    "\n",
    "The following rules define a **valid** string:\n",
    "\n",
    "- Any left parenthesis '(' must have a corresponding right parenthesis ')'.\n",
    "- Any right parenthesis ')' must have a corresponding left parenthesis '('.\n",
    "- Left parenthesis '(' must go before the corresponding right parenthesis ')'.\n",
    "- '*' could be treated as a single right parenthesis ')' or a single left parenthesis '(' or an empty string \"\"."
   ]
  },
  {
   "cell_type": "code",
   "execution_count": 4,
   "id": "e08f7181-ac60-407b-bf58-b6c2781a5a0c",
   "metadata": {},
   "outputs": [
    {
     "name": "stdin",
     "output_type": "stream",
     "text": [
      "Enter string: (*)\n"
     ]
    },
    {
     "name": "stdout",
     "output_type": "stream",
     "text": [
      "True\n"
     ]
    }
   ],
   "source": [
    "s = input(\"Enter string:\")\n",
    "lower, upper = 0, 0\n",
    "for c in s:\n",
    "    lower += 1 if c == '(' else -1\n",
    "    upper -= 1 if c == ')' else -1\n",
    "    if upper < 0: break\n",
    "    lower = max(lower, 0)\n",
    "print(lower == 0)"
   ]
  },
  {
   "cell_type": "raw",
   "id": "09827633-1f8d-4485-b166-f9b093ad6b32",
   "metadata": {},
   "source": [
    "Question 3\n",
    "\n",
    "Given two strings word1 and word2, return *the minimum number of **steps** required to make* word1 *and* word2 *the same*.\n",
    "\n",
    "In one step, you can delete exactly one character in either string."
   ]
  },
  {
   "cell_type": "code",
   "execution_count": 7,
   "id": "1d99eb18-91e9-4f15-97ab-23b5949266cc",
   "metadata": {},
   "outputs": [
    {
     "name": "stdin",
     "output_type": "stream",
     "text": [
      "Enter string: sea\n",
      "Enter string: eat\n"
     ]
    },
    {
     "name": "stdout",
     "output_type": "stream",
     "text": [
      "2\n"
     ]
    }
   ],
   "source": [
    "word1 = input(\"Enter string:\")\n",
    "word2 = input(\"Enter string:\")\n",
    "m, n = len(word1), len(word2)\n",
    "dp = [[0] * (n+1) for _ in range(2)]\n",
    "for i in range(m):\n",
    "    for j in range(n):\n",
    "        dp[(i+1)%2][j+1] = max(dp[i%2][j+1], \\\n",
    "                               dp[(i+1)%2][j], \\\n",
    "                               dp[i%2][j] + (word1[i] == word2[j]))\n",
    "print(m + n - 2*dp[m%2][n])"
   ]
  },
  {
   "cell_type": "raw",
   "id": "d79477c3-df35-4c4b-8bd8-08823ae543c4",
   "metadata": {},
   "source": [
    "Question 4\n",
    "\n",
    "You need to construct a binary tree from a string consisting of parenthesis and integers.\n",
    "\n",
    "The whole input represents a binary tree. It contains an integer followed by zero, one or two pairs of parenthesis. The integer represents the root's value and a pair of parenthesis contains a child binary tree with the same structure.\n",
    "You always start to construct the **left** child node of the parent first if it exists."
   ]
  },
  {
   "cell_type": "code",
   "execution_count": 18,
   "id": "33c7303c-e7ca-4781-b810-d44104409c6b",
   "metadata": {},
   "outputs": [
    {
     "data": {
      "text/plain": [
       "<__main__.TreeNode at 0x7fee79d431c0>"
      ]
     },
     "execution_count": 18,
     "metadata": {},
     "output_type": "execute_result"
    }
   ],
   "source": [
    "class TreeNode:     \n",
    "    def __init__(self, val=0, left=None, right=None):\n",
    "        self.val = val\n",
    "        self.left = left\n",
    "        self.right = right\n",
    "class Solution:\n",
    "    def str2tree(self, s: str) -> TreeNode:\n",
    "        def dfs(s):\n",
    "            if not s:\n",
    "                return None\n",
    "            p = s.find('(')\n",
    "            if p == -1:\n",
    "                return TreeNode(int(s))\n",
    "            root = TreeNode(int(s[:p]))\n",
    "            start = p\n",
    "            cnt = 0\n",
    "            for i in range(p, len(s)):\n",
    "                if s[i] == '(':\n",
    "                    cnt += 1\n",
    "                elif s[i] == ')':\n",
    "                    cnt -= 1\n",
    "                if cnt == 0:\n",
    "                    if start == p:\n",
    "                        root.left = dfs(s[start + 1 : i])\n",
    "                        start = i + 1\n",
    "                    else:\n",
    "                        root.right = dfs(s[start + 1 : i])\n",
    "            return root\n",
    "\n",
    "        return dfs(s)\n",
    "    \n",
    "sol = Solution()\n",
    "sol.str2tree(\"4(2(3)(1))(6(5))\")"
   ]
  },
  {
   "cell_type": "raw",
   "id": "c91fe83d-4e22-42aa-914e-9629def8c5db",
   "metadata": {},
   "source": [
    "Question 5\n",
    "\n",
    "Given an array of characters chars, compress it using the following algorithm:\n",
    "\n",
    "Begin with an empty string s. For each group of **consecutive repeating characters** in chars:\n",
    "\n",
    "- If the group's length is 1, append the character to s.\n",
    "- Otherwise, append the character followed by the group's length.\n",
    "\n",
    "The compressed string s **should not be returned separately**, but instead, be stored **in the input character array chars**. Note that group lengths that are 10 or longer will be split into multiple characters in chars.\n",
    "\n",
    "After you are done **modifying the input array,** return *the new length of the array*.\n",
    "\n",
    "You must write an algorithm that uses only constant extra space."
   ]
  },
  {
   "cell_type": "code",
   "execution_count": 22,
   "id": "f9e50b33-2fd1-443e-9f8f-fed336491d4d",
   "metadata": {},
   "outputs": [
    {
     "name": "stdin",
     "output_type": "stream",
     "text": [
      "Enter string: aabbccc\n"
     ]
    },
    {
     "name": "stdout",
     "output_type": "stream",
     "text": [
      "6\n"
     ]
    }
   ],
   "source": [
    "chars = list(input(\"Enter string:\"))\n",
    "result, cnt = 0, 1\n",
    "j = 0\n",
    "for i in range(1, len(chars)+1): \n",
    "    if i < len(chars) and chars[i] == chars[i-1]:\n",
    "        cnt += 1\n",
    "    else:\n",
    "        chars[j] = chars[i-1]\n",
    "        j += 1\n",
    "        if cnt == 1:\n",
    "            continue\n",
    "        for ch in str(cnt):\n",
    "            chars[j] = ch\n",
    "            j += 1\n",
    "        cnt = 1\n",
    "print(j)"
   ]
  },
  {
   "cell_type": "raw",
   "id": "4cd538c5-9ba5-4fe6-b587-5695465895db",
   "metadata": {},
   "source": [
    "Question 6\n",
    "\n",
    "Given two strings s and p, return *an array of all the start indices of* p*'s anagrams in* s. You may return the answer in **any order**.\n",
    "\n",
    "An **Anagram** is a word or phrase formed by rearranging the letters of a different word or phrase, typically using all the original letters exactly once."
   ]
  },
  {
   "cell_type": "code",
   "execution_count": 26,
   "id": "61efaacd-d5e6-4eda-a386-d313de6f7ec6",
   "metadata": {},
   "outputs": [
    {
     "name": "stdin",
     "output_type": "stream",
     "text": [
      "Enter string: cbaebabacd\n",
      "Enter string: abc\n"
     ]
    },
    {
     "name": "stdout",
     "output_type": "stream",
     "text": [
      "[0, 6]\n"
     ]
    }
   ],
   "source": [
    "s = input(\"Enter string:\")\n",
    "p = input(\"Enter string:\")\n",
    "result = []\n",
    "cnts = [0] * 26\n",
    "for c in p:\n",
    "    cnts[ord(c) - ord('a')] += 1\n",
    "\n",
    "left, right = 0, 0\n",
    "while right < len(s):\n",
    "    cnts[ord(s[right]) - ord('a')] -= 1\n",
    "    while left <= right and cnts[ord(s[right]) - ord('a')] < 0:\n",
    "        cnts[ord(s[left]) - ord('a')] += 1\n",
    "        left += 1\n",
    "    if right - left + 1 == len(p):\n",
    "        result.append(left)\n",
    "    right += 1\n",
    "\n",
    "print(result)"
   ]
  },
  {
   "cell_type": "raw",
   "id": "c0585878-4181-49ff-bd6b-926fc3a4ccd5",
   "metadata": {},
   "source": [
    "Question 7\n",
    "\n",
    "Given an encoded string, return its decoded string.\n",
    "\n",
    "The encoding rule is: k[encoded_string], where the encoded_string inside the square brackets is being repeated exactly k times. Note that k is guaranteed to be a positive integer.\n",
    "\n",
    "You may assume that the input string is always valid; there are no extra white spaces, square brackets are well-formed, etc. Furthermore, you may assume that the original data does not contain any digits and that digits are only for those repeat numbers, k. For example, there will not be input like 3a or 2[4].\n",
    "\n",
    "The test cases are generated so that the length of the output will never exceed 105."
   ]
  },
  {
   "cell_type": "code",
   "execution_count": 24,
   "id": "8b50e3e3-dba9-46a0-a213-b903c5f9f246",
   "metadata": {},
   "outputs": [
    {
     "name": "stdin",
     "output_type": "stream",
     "text": [
      "Enter String: 3[a]2[bc]\n"
     ]
    },
    {
     "name": "stdout",
     "output_type": "stream",
     "text": [
      "aaabcbc\n"
     ]
    }
   ],
   "source": [
    "s = input(\"Enter String:\")\n",
    "curr, nums, strs = [], [], []\n",
    "n = 0\n",
    "\n",
    "for c in s:\n",
    "    if c.isdigit():\n",
    "        n = n * 10 + ord(c) - ord('0')\n",
    "    elif c == '[':\n",
    "        nums.append(n)\n",
    "        n = 0\n",
    "        strs.append(curr)\n",
    "        curr = []\n",
    "    elif c == ']':\n",
    "        strs[-1].extend(curr * nums.pop())\n",
    "        curr = strs.pop()\n",
    "    else:\n",
    "        curr.append(c)\n",
    "\n",
    "print(\"\".join(strs[-1]) if strs else \"\".join(curr))"
   ]
  },
  {
   "cell_type": "raw",
   "id": "8319f934-b9d5-400d-b8fb-23099c5d9261",
   "metadata": {},
   "source": [
    "Question 8\n",
    "\n",
    "Given two strings s and goal, return true *if you can swap two letters in* s *so the result is equal to* goal*, otherwise, return* false*.*\n",
    "\n",
    "Swapping letters is defined as taking two indices i and j (0-indexed) such that i != j and swapping the characters at s[i] and s[j].\n",
    "\n",
    "- For example, swapping at indices 0 and 2 in \"abcd\" results in \"cbad\"."
   ]
  },
  {
   "cell_type": "code",
   "execution_count": 31,
   "id": "79810962-7f79-48c0-8256-dbf9ad000477",
   "metadata": {},
   "outputs": [
    {
     "name": "stdin",
     "output_type": "stream",
     "text": [
      "Enter string: ab\n",
      "Enter string: ba\n"
     ]
    },
    {
     "name": "stdout",
     "output_type": "stream",
     "text": [
      "True\n"
     ]
    }
   ],
   "source": [
    "A = input(\"Enter string:\")\n",
    "B = input(\"Enter string:\")\n",
    "if len(A) != len(B):\n",
    "        print(False)\n",
    "diff = []\n",
    "for a, b in zip(A, B):\n",
    "    if a != b:\n",
    "        diff.append((a, b))\n",
    "        if len(diff) > 2:\n",
    "            print(False)\n",
    "print((not diff and len(set(A)) < len(A)) or \\\n",
    "           (len(diff) == 2 and diff[0] == diff[1][::-1]))"
   ]
  }
 ],
 "metadata": {
  "kernelspec": {
   "display_name": "Python 3 (ipykernel)",
   "language": "python",
   "name": "python3"
  },
  "language_info": {
   "codemirror_mode": {
    "name": "ipython",
    "version": 3
   },
   "file_extension": ".py",
   "mimetype": "text/x-python",
   "name": "python",
   "nbconvert_exporter": "python",
   "pygments_lexer": "ipython3",
   "version": "3.10.6"
  }
 },
 "nbformat": 4,
 "nbformat_minor": 5
}
