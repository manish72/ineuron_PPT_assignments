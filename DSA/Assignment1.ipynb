{
 "cells": [
  {
   "cell_type": "markdown",
   "id": "bbddc5d6-4a07-44ff-a3cf-0de17d261671",
   "metadata": {},
   "source": [
    "1. Given an array of integers nums and an integer target, return indices of the two numbers such that they add up to target.\n",
    "\n",
    "You may assume that each input would have exactly one solution, and you may not use the same element twice.\n",
    "\n",
    "You can return the answer in any order.\n",
    "\n",
    "Example:\n",
    "Input: nums = [2,7,11,15], target = 9\n",
    "Output: [0,1]\n",
    "\n",
    "Explanation: Because nums[0] + nums[1] == 9, we return [0, 1]"
   ]
  },
  {
   "cell_type": "code",
   "execution_count": 8,
   "id": "4d250d7e-a806-4258-9789-2f02bff3bef0",
   "metadata": {},
   "outputs": [
    {
     "name": "stdin",
     "output_type": "stream",
     "text": [
      "Enter values in comma separated format 3,2,4\n",
      "Enter target value: 5\n"
     ]
    },
    {
     "name": "stdout",
     "output_type": "stream",
     "text": [
      "[0,1]\n"
     ]
    }
   ],
   "source": [
    "list1 = list(map(int,input(\"Enter values in comma separated format\").split(',')))\n",
    "target = int(input(\"Enter target value:\"))\n",
    "\n",
    "left,right = 0,len(list1)-1\n",
    "flag = False\n",
    "for i in range(len(list1)):\n",
    "    if list1[left] + list1[right] > target:\n",
    "        right -= 1\n",
    "    elif list1[left] + list1[right] < target:\n",
    "        left += 1\n",
    "    elif list1[left] + list1[right] == target:\n",
    "        flag = True\n",
    "if flag == True:\n",
    "    print(f\"[{left},{right}]\")\n",
    "else:\n",
    "    print(\"Not found\")"
   ]
  },
  {
   "cell_type": "raw",
   "id": "bf75cd10-d917-478d-af7d-a376bf2721b3",
   "metadata": {},
   "source": [
    "Q2. Given an integer array nums and an integer val, remove all occurrences of val in nums \n",
    "in-place. The order of the elements may be changed. Then return the number of elements \n",
    "in nums which are not equal to val. \n",
    "Consider the number of elements in nums which are not equal to val be k, to get accepted, \n",
    "you need to do the following things: \n",
    "• Change the array nums such that the first k elements of nums contain the elements \n",
    "which are not equal to val. The remaining elements of nums are not important as well \n",
    "as the size of nums. \n",
    "• Return k. "
   ]
  },
  {
   "cell_type": "code",
   "execution_count": 1,
   "id": "4bdbb2d3-5b1b-4054-a675-293bbdb1650f",
   "metadata": {},
   "outputs": [
    {
     "name": "stdin",
     "output_type": "stream",
     "text": [
      "Enter values in comma separated format 0,1,2,2,3,0,4,2\n",
      "Enter target value: 2\n"
     ]
    },
    {
     "name": "stdout",
     "output_type": "stream",
     "text": [
      "5\n"
     ]
    }
   ],
   "source": [
    "nums = list(map(int,input(\"Enter values in comma separated format\").split(',')))\n",
    "val = int(input(\"Enter target value:\"))\n",
    "\n",
    "count = 0\n",
    "for i in nums:\n",
    "    if i != val:\n",
    "        nums[count] = i\n",
    "        count += 1\n",
    "print(count)"
   ]
  },
  {
   "cell_type": "raw",
   "id": "56b0350f-41c0-488a-b7d9-70925db836d0",
   "metadata": {},
   "source": [
    "Q3. Given a sorted array of distinct integers and a target value, return the index if the \n",
    "target is found. If not, return the index where it would be if it were inserted in order. \n",
    "You must write an algorithm with O(log n) runtime complexity. \n",
    "Example 1: \n",
    "Input: nums = [1,3,5,6] target = 5 \n",
    "Output: 2 "
   ]
  },
  {
   "cell_type": "code",
   "execution_count": 6,
   "id": "49bbb426-d429-4a9f-ba96-c34134c4e24c",
   "metadata": {},
   "outputs": [
    {
     "name": "stdin",
     "output_type": "stream",
     "text": [
      "Enter values in comma separated format 1,3,5,6\n",
      "Enter target value: 2\n"
     ]
    },
    {
     "name": "stdout",
     "output_type": "stream",
     "text": [
      "Not found1\n"
     ]
    }
   ],
   "source": [
    "nums = list(map(int,input(\"Enter values in comma separated format\").split(',')))\n",
    "target = int(input(\"Enter target value:\"))\n",
    "low,high = 0,len(nums)-1\n",
    "flag = False\n",
    "mid = 0\n",
    "\n",
    "for i in range(len(nums)):    \n",
    "    mid = (low+high) // 2\n",
    "    if nums[mid] == target:\n",
    "        flag = True\n",
    "        break\n",
    "    elif nums[mid] < target:\n",
    "        low = mid + 1\n",
    "    elif nums[mid] > target:\n",
    "        high = mid - 1\n",
    "if flag == True:\n",
    "    print(f\"element found at {mid} position\")\n",
    "else:\n",
    "    print(f\"Not found{low}\")"
   ]
  },
  {
   "cell_type": "raw",
   "id": "0bd99496-7a8d-40d5-a892-6dad23b24dad",
   "metadata": {},
   "source": [
    "Q4. You are given a large integer represented as an integer array digits, where each digits[i] \n",
    "is the ith digit of the integer. The digits are ordered from most significant to least \n",
    "significant in left-to-right order. The large integer does not contain any leading O's. \n",
    "Increment the large integer by one and return the resulting array of digits. \n",
    "Example 1: \n",
    "Input: digits = \n",
    "Output: \n",
    "Explanation: The array represents the integer 123. \n",
    "Incrementing by one gives 123 + 1 = 124 \n",
    "Thus, the result should be "
   ]
  },
  {
   "cell_type": "code",
   "execution_count": 11,
   "id": "72936c4a-6d23-4179-ba8e-ee40d941e75e",
   "metadata": {},
   "outputs": [
    {
     "name": "stdin",
     "output_type": "stream",
     "text": [
      "Enter digits in comma separated format 1,9,9\n"
     ]
    },
    {
     "name": "stdout",
     "output_type": "stream",
     "text": [
      "Digits are [2, 0, 0]\n"
     ]
    }
   ],
   "source": [
    "digits = list(map(int,input(\"Enter digits in comma separated format\").split(',')))\n",
    "n = len(digits) - 1\n",
    "while digits[n] == 9:\n",
    "    digits[n] = 0\n",
    "    n = n - 1\n",
    "if n < 0:\n",
    "    digits = [1] + digits\n",
    "else:\n",
    "    digits[n] = digits[n] + 1\n",
    "\n",
    "print(f\"Digits are {digits}\")"
   ]
  },
  {
   "cell_type": "raw",
   "id": "5b3b4ec7-43dc-4e07-be4c-ee34a72aea59",
   "metadata": {},
   "source": [
    "Q5. You are given two integer arrays numsl and nums2, sorted in non-decreasing order, \n",
    "and two integers m and n, representing the number of elements in numsl and nums2 \n",
    "respectively. \n",
    "Merge numsl and nums2 into a single array sorted in non-decreasing order. \n",
    "The final sorted array should not be returned by the function, but instead be stored inside \n",
    "the array numsl. To accommodate this, numsl has a length of m + n, where the first m \n",
    "elements denote the elements that should be merged, and the last n elements are set to O \n",
    "and should be ignored. nums2 has a length of n. \n",
    "Example 1: \n",
    "Input: numsl = [1,2,3,0,0,0], m = 3, nums2 = [2,5,6], n = 3 \n",
    "Output: \n",
    "Explanation: The arrays we are merging are [1 ,2,3] and [2,5,6]. \n",
    "The result of the merge is [1 ,2,2,3,5,6] with the underlined elements coming from numsl. "
   ]
  },
  {
   "cell_type": "code",
   "execution_count": 4,
   "id": "da350fb1-d6cd-4c12-8852-1322c93f2289",
   "metadata": {},
   "outputs": [
    {
     "name": "stdin",
     "output_type": "stream",
     "text": [
      "Enter numbers in comma separated format for nums1 list 1,3,5,7,9\n",
      "Enter numbers in comma separated format for nums2 list 2,4,6,8\n",
      "Enter value of m 3\n",
      "Enter value of n 2\n"
     ]
    },
    {
     "name": "stdout",
     "output_type": "stream",
     "text": [
      "Result array is [1, 2, 3, 4, 5]\n"
     ]
    }
   ],
   "source": [
    "nums1 = list(map(int,input(\"Enter numbers in comma separated format for nums1 list\").split(',')))\n",
    "nums2 = list(map(int,input(\"Enter numbers in comma separated format for nums2 list\").split(',')))\n",
    "m = int(input(\"Enter value of m\"))\n",
    "n = int(input(\"Enter value of n\"))\n",
    "\n",
    "i = m-1\n",
    "j = n-1\n",
    "k = m+n-1\n",
    "\n",
    "while i >= 0 and j >= 0:\n",
    "    if nums1[i] > nums2[j]:\n",
    "        nums1[k] = nums1[i]\n",
    "        i = i - 1\n",
    "    else:\n",
    "        nums1[k] = nums2[j]\n",
    "        j = j - 1\n",
    "    k = k - 1\n",
    "\n",
    "while j >= 0:\n",
    "    nums1[k] = nums2[j]\n",
    "    j = j - 1\n",
    "    k = k - 1\n",
    "    \n",
    "print(f\"Result array is {nums1}\")    "
   ]
  },
  {
   "cell_type": "raw",
   "id": "6efcde39-beb2-4589-a11c-4cfd63972685",
   "metadata": {},
   "source": [
    "Q6. Given an integer array nums, return true if any value appears at least twice in the array, \n",
    "and return false if every element is distinct. \n",
    "Example 1: \n",
    "Input: nums = [1,2,3,1] \n",
    "Output: true "
   ]
  },
  {
   "cell_type": "code",
   "execution_count": 7,
   "id": "d01cf22f-62a4-458d-b665-a0ce808a27e4",
   "metadata": {},
   "outputs": [
    {
     "name": "stdin",
     "output_type": "stream",
     "text": [
      "Enter numbers in comma separated format for nums list 1,4,5,6,7,4,6\n"
     ]
    },
    {
     "name": "stdout",
     "output_type": "stream",
     "text": [
      "True\n"
     ]
    }
   ],
   "source": [
    "nums = list(map(int,input(\"Enter numbers in comma separated format for nums list\").split(',')))\n",
    "temp_nums_list = []\n",
    "flag = False\n",
    "\n",
    "for i in nums:\n",
    "    if i in temp_nums_list:\n",
    "        flag = True\n",
    "    temp_nums_list.append(i)\n",
    "    \n",
    "print(flag)"
   ]
  },
  {
   "cell_type": "raw",
   "id": "2d91218c-ccff-420a-a6d9-5588c3959acc",
   "metadata": {},
   "source": [
    "Q7. Given an integer array nums, move all o's to the end of it while maintaining the relative \n",
    "order of the nonzero elements. \n",
    "Note that you must do this in-place without making a copy of the array. \n",
    "Example 1: \n",
    "Input: nums = [0,1,0,3,12]\n",
    "Output: [1,3,12,0,0]"
   ]
  },
  {
   "cell_type": "code",
   "execution_count": 11,
   "id": "cd94c4e5-9f1e-42d3-bcf2-f1b59775bd2f",
   "metadata": {},
   "outputs": [
    {
     "name": "stdin",
     "output_type": "stream",
     "text": [
      "Enter numbers in comma separated format for nums list 0,1,0,3,12\n"
     ]
    },
    {
     "name": "stdout",
     "output_type": "stream",
     "text": [
      "[1, 3, 12, 0, 0]\n"
     ]
    }
   ],
   "source": [
    "nums = list(map(int,input(\"Enter numbers in comma separated format for nums list\").split(',')))\n",
    "count = 0\n",
    "for i in range(len(nums)):\n",
    "    if nums[i] != 0:\n",
    "        nums[count] = nums[i]\n",
    "        count += 1\n",
    "while count < len(nums):\n",
    "        nums[count] = 0\n",
    "        count += 1\n",
    "\n",
    "print(nums)"
   ]
  },
  {
   "cell_type": "raw",
   "id": "92e65e53-3b2b-4ec6-aada-e1e51a3e50fd",
   "metadata": {},
   "source": [
    "Q8. You have a set of integers s, which originally contains all the numbers from 1 to n. \n",
    "Unfortunately, due to some error, one of the numbers in s got duplicated to another \n",
    "number in the set, which results in repetition of one number and loss of another number. \n",
    "You are given an integer array nums representing the data status of this set after the error. \n",
    "Find the number that occurs twice and the number that is missing and return them in the \n",
    "form of an array. \n",
    "Example 1: \n",
    "Input: nums = [1,2,2,4] \n",
    "Output: [2,3] "
   ]
  },
  {
   "cell_type": "code",
   "execution_count": 13,
   "id": "8edb2b30-8ca1-4e33-9dbd-ffc325e5253f",
   "metadata": {},
   "outputs": [
    {
     "name": "stdin",
     "output_type": "stream",
     "text": [
      "Enter numbers in comma separated format for nums list 1,2,2,4\n"
     ]
    },
    {
     "name": "stdout",
     "output_type": "stream",
     "text": [
      "[2, 3]\n"
     ]
    }
   ],
   "source": [
    "nums = list(map(int,input(\"Enter numbers in comma separated format for nums list\").split(',')))\n",
    "temp = [-1 for i in range(len(nums)+1)]\n",
    "fin_list = []\n",
    "for num in nums:\n",
    "    if temp[num] == -1:\n",
    "        temp[num] = num\n",
    "    else:\n",
    "        fin_list.append(num)\n",
    "\n",
    "for i in range(1,len(temp)):\n",
    "    if temp[i] == -1:\n",
    "        fin_list.append(i)\n",
    "print(fin_list)"
   ]
  },
  {
   "cell_type": "code",
   "execution_count": null,
   "id": "a15a2ed5-387c-4ee5-ad3b-967054ca6585",
   "metadata": {},
   "outputs": [],
   "source": []
  }
 ],
 "metadata": {
  "kernelspec": {
   "display_name": "Python 3 (ipykernel)",
   "language": "python",
   "name": "python3"
  },
  "language_info": {
   "codemirror_mode": {
    "name": "ipython",
    "version": 3
   },
   "file_extension": ".py",
   "mimetype": "text/x-python",
   "name": "python",
   "nbconvert_exporter": "python",
   "pygments_lexer": "ipython3",
   "version": "3.10.6"
  }
 },
 "nbformat": 4,
 "nbformat_minor": 5
}
