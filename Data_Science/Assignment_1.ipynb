{
  "nbformat": 4,
  "nbformat_minor": 0,
  "metadata": {
    "colab": {
      "provenance": []
    },
    "kernelspec": {
      "name": "python3",
      "display_name": "Python 3"
    },
    "language_info": {
      "name": "python"
    }
  },
  "cells": [
    {
      "cell_type": "code",
      "execution_count": null,
      "metadata": {
        "id": "A1p2RRAeoDXA"
      },
      "outputs": [],
      "source": []
    },
    {
      "cell_type": "markdown",
      "source": [
        "**1. Write a Python program to reverse a string without using any built-in string reversal functions.**"
      ],
      "metadata": {
        "id": "xb2jrNi2t7Ga"
      }
    },
    {
      "cell_type": "code",
      "source": [
        "def rev_str(string):\n",
        "  s=''\n",
        "  for i in string:\n",
        "    s=i+s\n",
        "  return s\n"
      ],
      "metadata": {
        "id": "DRVRjPVKoNqa"
      },
      "execution_count": null,
      "outputs": []
    },
    {
      "cell_type": "code",
      "source": [
        "rev_str(\"ankit\")"
      ],
      "metadata": {
        "colab": {
          "base_uri": "https://localhost:8080/",
          "height": 35
        },
        "id": "cqKDAuK5qF0_",
        "outputId": "b2fdfaa1-1e2c-4625-9372-1acce5a05f96"
      },
      "execution_count": null,
      "outputs": [
        {
          "output_type": "execute_result",
          "data": {
            "text/plain": [
              "'tikna'"
            ],
            "application/vnd.google.colaboratory.intrinsic+json": {
              "type": "string"
            }
          },
          "metadata": {},
          "execution_count": 14
        }
      ]
    },
    {
      "cell_type": "code",
      "source": [],
      "metadata": {
        "id": "zNwQGT2PqHV9"
      },
      "execution_count": null,
      "outputs": []
    },
    {
      "cell_type": "markdown",
      "source": [
        "**2. Implement a function to check if a given string is a palindrome.**"
      ],
      "metadata": {
        "id": "JL1VtvdDt97G"
      }
    },
    {
      "cell_type": "code",
      "source": [
        "def check_pallindrome(string):\n",
        "  if string==string[::-1]:\n",
        "    print(\"The string\", f'{string}', \"is pallindrome\")\n",
        "  else:\n",
        "    print(\"The string\",f'{string}',\"is not pallindrome\")"
      ],
      "metadata": {
        "id": "u-JPCOUVrUnC"
      },
      "execution_count": null,
      "outputs": []
    },
    {
      "cell_type": "code",
      "source": [
        "check_pallindrome('dad')"
      ],
      "metadata": {
        "colab": {
          "base_uri": "https://localhost:8080/"
        },
        "id": "WL03XNeZr_31",
        "outputId": "cc23afb0-3528-4733-bbb0-571a761a8b31"
      },
      "execution_count": null,
      "outputs": [
        {
          "output_type": "stream",
          "name": "stdout",
          "text": [
            "The string dad is pallindrome\n"
          ]
        }
      ]
    },
    {
      "cell_type": "code",
      "source": [],
      "metadata": {
        "id": "HPP5BVsOslrn"
      },
      "execution_count": null,
      "outputs": []
    },
    {
      "cell_type": "markdown",
      "source": [
        "3. Write a program to find the largest element in a given list."
      ],
      "metadata": {
        "id": "y6NZ69THuK2v"
      }
    },
    {
      "cell_type": "code",
      "source": [
        "def find_largest(l1):\n",
        "  l1.sort(reverse=True)\n",
        "\n",
        "  print(l1[0])"
      ],
      "metadata": {
        "id": "Ep-HMXLEs-NO"
      },
      "execution_count": null,
      "outputs": []
    },
    {
      "cell_type": "code",
      "source": [
        "find_largest([2,3,4,6,7,8,19])"
      ],
      "metadata": {
        "colab": {
          "base_uri": "https://localhost:8080/"
        },
        "id": "oWtFQHuftQBt",
        "outputId": "5ce3e6ad-5814-4c2d-93d1-a99b8b146705"
      },
      "execution_count": null,
      "outputs": [
        {
          "output_type": "stream",
          "name": "stdout",
          "text": [
            "19\n"
          ]
        }
      ]
    },
    {
      "cell_type": "code",
      "source": [
        "#we can also use \"max\" function\n",
        "l2=[2,3,4,6,7,8,19]\n",
        "print(max(l2))"
      ],
      "metadata": {
        "colab": {
          "base_uri": "https://localhost:8080/"
        },
        "id": "RiMa2Ps_tTnH",
        "outputId": "63e79c15-029b-4dbf-eefb-86e27819dcca"
      },
      "execution_count": null,
      "outputs": [
        {
          "output_type": "stream",
          "name": "stdout",
          "text": [
            "19\n"
          ]
        }
      ]
    },
    {
      "cell_type": "markdown",
      "source": [
        "4. Implement a function to count the occurrence of each element in a list."
      ],
      "metadata": {
        "id": "N8Z1KqY0usTF"
      }
    },
    {
      "cell_type": "code",
      "source": [
        "def count_occurrences(lst):\n",
        "    occurrence_count = {}\n",
        "    for element in lst:\n",
        "        if element in occurrence_count:\n",
        "            occurrence_count[element] += 1\n",
        "        else:\n",
        "            occurrence_count[element] = 1\n",
        "    return occurrence_count\n",
        "\n",
        "\n",
        "\n"
      ],
      "metadata": {
        "id": "qXF3bd6Oujcl"
      },
      "execution_count": null,
      "outputs": []
    },
    {
      "cell_type": "markdown",
      "source": [
        "5. Write a Python program to find the second largest number in a list."
      ],
      "metadata": {
        "id": "lwYjUMtSy--Z"
      }
    },
    {
      "cell_type": "code",
      "source": [
        "def find_second_largest(lst):\n",
        "  lst.sort(reverse=True)\n",
        "  print(lst[1])"
      ],
      "metadata": {
        "id": "87rREyJUzAJA"
      },
      "execution_count": null,
      "outputs": []
    },
    {
      "cell_type": "code",
      "source": [
        "find_second_largest([2,3,4,5,6,7,8,16,18,25])"
      ],
      "metadata": {
        "colab": {
          "base_uri": "https://localhost:8080/"
        },
        "id": "lnikfV4-zJzb",
        "outputId": "38592965-da5e-4fe6-de3a-659b22ce751a"
      },
      "execution_count": null,
      "outputs": [
        {
          "output_type": "stream",
          "name": "stdout",
          "text": [
            "18\n"
          ]
        }
      ]
    },
    {
      "cell_type": "code",
      "source": [],
      "metadata": {
        "id": "0yQQGUqGzQjm"
      },
      "execution_count": null,
      "outputs": []
    },
    {
      "cell_type": "markdown",
      "source": [
        "6. Implement a function to remove duplicate elements from a list."
      ],
      "metadata": {
        "id": "9uMkUVHozQ5m"
      }
    },
    {
      "cell_type": "code",
      "source": [
        "def remove_dup(lst):\n",
        "  new_lst=[]\n",
        "  for i in lst:\n",
        "    if i not in new_lst:\n",
        "      new_lst.append(i)\n",
        "\n",
        "  return new_lst"
      ],
      "metadata": {
        "id": "IqlddogJzPUz"
      },
      "execution_count": null,
      "outputs": []
    },
    {
      "cell_type": "code",
      "source": [
        "remove_dup([1,2,3,4,5,6,7,8,9,1,2,3,4,5,6,7,8,9])"
      ],
      "metadata": {
        "colab": {
          "base_uri": "https://localhost:8080/"
        },
        "id": "LWhBXl6izlr1",
        "outputId": "52173215-7d90-4301-e2c4-3e9d3635ce47"
      },
      "execution_count": null,
      "outputs": [
        {
          "output_type": "execute_result",
          "data": {
            "text/plain": [
              "[1, 2, 3, 4, 5, 6, 7, 8, 9]"
            ]
          },
          "metadata": {},
          "execution_count": 47
        }
      ]
    },
    {
      "cell_type": "code",
      "source": [
        "#Using a built-in function\n",
        "def remove_dup(lst):\n",
        "    return list(set(lst))\n"
      ],
      "metadata": {
        "id": "qglHn-u4zsCy"
      },
      "execution_count": null,
      "outputs": []
    },
    {
      "cell_type": "code",
      "source": [
        "my_list = [1, 2, 3, 2, 1, 2, 4, 5, 4, 1]\n",
        "result = remove_dup(my_list)\n",
        "print(result)\n"
      ],
      "metadata": {
        "colab": {
          "base_uri": "https://localhost:8080/"
        },
        "id": "ueuV7tf50Vfj",
        "outputId": "b1597568-505c-424e-a886-4d794d048426"
      },
      "execution_count": null,
      "outputs": [
        {
          "output_type": "stream",
          "name": "stdout",
          "text": [
            "[1, 2, 3, 4, 5]\n"
          ]
        }
      ]
    },
    {
      "cell_type": "markdown",
      "source": [
        "7. Write a program to calculate the factorial of a given number."
      ],
      "metadata": {
        "id": "7xebfR4n0cdp"
      }
    },
    {
      "cell_type": "code",
      "source": [
        "def factorial(number):\n",
        "  fact=1\n",
        "  if number<0:\n",
        "    print('Factorial of negative numbers doesnot exists')\n",
        "  elif number==0:\n",
        "    print(\"Factorial of 0 is 1\")\n",
        "  else:\n",
        "\n",
        "    for i in range(1,number+1):\n",
        "      fact=fact*i\n",
        "  return fact"
      ],
      "metadata": {
        "id": "lmxg3BTk0d2p"
      },
      "execution_count": null,
      "outputs": []
    },
    {
      "cell_type": "code",
      "source": [
        "factorial(5)"
      ],
      "metadata": {
        "colab": {
          "base_uri": "https://localhost:8080/"
        },
        "id": "-SaAX9Vk0rxm",
        "outputId": "07149265-79c9-4778-a6a3-da2920151865"
      },
      "execution_count": null,
      "outputs": [
        {
          "output_type": "execute_result",
          "data": {
            "text/plain": [
              "120"
            ]
          },
          "metadata": {},
          "execution_count": 56
        }
      ]
    },
    {
      "cell_type": "code",
      "source": [
        "factorial(0)"
      ],
      "metadata": {
        "colab": {
          "base_uri": "https://localhost:8080/"
        },
        "id": "KAZ2vrDZ0ti8",
        "outputId": "81285a81-dce9-489d-e5f2-dc0293be1371"
      },
      "execution_count": null,
      "outputs": [
        {
          "output_type": "stream",
          "name": "stdout",
          "text": [
            "Factorial of 0 is 1\n"
          ]
        },
        {
          "output_type": "execute_result",
          "data": {
            "text/plain": [
              "1"
            ]
          },
          "metadata": {},
          "execution_count": 57
        }
      ]
    },
    {
      "cell_type": "code",
      "source": [
        "#Method 2num=int(input(\"Enter a number\"))\n",
        "fact=1\n",
        "num=int(input(\"Enter a number\"))\n",
        "for i in range(1,num+1):\n",
        "  fact=i*fact\n",
        "  num=num-1\n",
        "print(fact)"
      ],
      "metadata": {
        "colab": {
          "base_uri": "https://localhost:8080/"
        },
        "id": "F__au76Y0-n8",
        "outputId": "7f9fda3f-2428-4632-f62b-c87cdd08cab4"
      },
      "execution_count": null,
      "outputs": [
        {
          "output_type": "stream",
          "name": "stdout",
          "text": [
            "Enter a number5\n",
            "120\n"
          ]
        }
      ]
    },
    {
      "cell_type": "markdown",
      "source": [
        "8. Implement a function to check if a given number is prime."
      ],
      "metadata": {
        "id": "cP9suosN1xZ5"
      }
    },
    {
      "cell_type": "code",
      "source": [
        "def check_prime(num):\n",
        "\n",
        "  count=0\n",
        "  if num==0 or num==1:\n",
        "    print(\"0 and 1 are not prime \")\n",
        "  else:\n",
        "    for i in range(1,num+1):\n",
        "      if num%i==0:\n",
        "        count+=1\n",
        "    if count>2:\n",
        "      print(\"The number is not prime\")\n",
        "    else:\n",
        "      print(\"The number is prime\")"
      ],
      "metadata": {
        "id": "dPCnEiJz1s3h"
      },
      "execution_count": null,
      "outputs": []
    },
    {
      "cell_type": "code",
      "source": [
        "check_prime(3)"
      ],
      "metadata": {
        "colab": {
          "base_uri": "https://localhost:8080/"
        },
        "id": "pJY2YrBJ2F2l",
        "outputId": "704964da-db61-4116-ac68-fd37f9db713d"
      },
      "execution_count": null,
      "outputs": [
        {
          "output_type": "stream",
          "name": "stdout",
          "text": [
            "The number is prime\n"
          ]
        }
      ]
    },
    {
      "cell_type": "code",
      "source": [
        "check_prime(10)"
      ],
      "metadata": {
        "colab": {
          "base_uri": "https://localhost:8080/"
        },
        "id": "LGsaaBsZ2HHV",
        "outputId": "b68e21f5-3c1d-4f1c-fffd-d29b3caa6faa"
      },
      "execution_count": null,
      "outputs": [
        {
          "output_type": "stream",
          "name": "stdout",
          "text": [
            "The number is not prime\n"
          ]
        }
      ]
    },
    {
      "cell_type": "code",
      "source": [
        "check_prime(0)"
      ],
      "metadata": {
        "colab": {
          "base_uri": "https://localhost:8080/"
        },
        "id": "pzWUlmY62SOH",
        "outputId": "b0b4f501-5067-4f5e-f418-516e9c329583"
      },
      "execution_count": null,
      "outputs": [
        {
          "output_type": "stream",
          "name": "stdout",
          "text": [
            "0 and 1 are not prime \n"
          ]
        }
      ]
    },
    {
      "cell_type": "markdown",
      "source": [
        "9. Write a Python program to sort a list of integers in ascending order."
      ],
      "metadata": {
        "id": "WzDlfj7v5GbU"
      }
    },
    {
      "cell_type": "code",
      "source": [
        "def sort_list(lst):\n",
        "  lst.sort(reverse=False)\n",
        "  return lst"
      ],
      "metadata": {
        "id": "N4cFNOu32jAg"
      },
      "execution_count": null,
      "outputs": []
    },
    {
      "cell_type": "code",
      "source": [
        "sort_list([2,4,5,6,7,89,23])"
      ],
      "metadata": {
        "colab": {
          "base_uri": "https://localhost:8080/"
        },
        "id": "3NpTtoJk-c6M",
        "outputId": "ee70a4a2-e72c-402e-cd42-afcdf704419a"
      },
      "execution_count": null,
      "outputs": [
        {
          "output_type": "execute_result",
          "data": {
            "text/plain": [
              "[2, 4, 5, 6, 7, 23, 89]"
            ]
          },
          "metadata": {},
          "execution_count": 85
        }
      ]
    },
    {
      "cell_type": "code",
      "source": [],
      "metadata": {
        "id": "mrCByQv9-gMV"
      },
      "execution_count": null,
      "outputs": []
    },
    {
      "cell_type": "markdown",
      "source": [
        "10. Implement a function to find the sum of all numbers in a list."
      ],
      "metadata": {
        "id": "ochaf3z2-k0C"
      }
    },
    {
      "cell_type": "code",
      "source": [
        "def sum_list(lst):\n",
        "  sum=0\n",
        "  for i in lst:\n",
        "    sum=sum+i\n",
        "  return sum"
      ],
      "metadata": {
        "id": "rf_V8M20-lKq"
      },
      "execution_count": null,
      "outputs": []
    },
    {
      "cell_type": "code",
      "source": [
        "sum_list([4,5,6,8])"
      ],
      "metadata": {
        "colab": {
          "base_uri": "https://localhost:8080/"
        },
        "id": "ZufCkeI--1U6",
        "outputId": "0e284891-de01-4bc8-e974-810725df8ea5"
      },
      "execution_count": null,
      "outputs": [
        {
          "output_type": "execute_result",
          "data": {
            "text/plain": [
              "23"
            ]
          },
          "metadata": {},
          "execution_count": 87
        }
      ]
    },
    {
      "cell_type": "code",
      "source": [
        "#Method-2\n",
        "lst=[4,5,6,7,8,9]\n",
        "print(sum(lst))"
      ],
      "metadata": {
        "colab": {
          "base_uri": "https://localhost:8080/"
        },
        "id": "mAEdbqoh-4b-",
        "outputId": "76e1ad6a-ce7a-4bdf-ace9-f00ccf8a7016"
      },
      "execution_count": null,
      "outputs": [
        {
          "output_type": "stream",
          "name": "stdout",
          "text": [
            "39\n"
          ]
        }
      ]
    },
    {
      "cell_type": "code",
      "source": [],
      "metadata": {
        "id": "2ybpnEFY_A_z"
      },
      "execution_count": null,
      "outputs": []
    },
    {
      "cell_type": "markdown",
      "source": [
        "11. Write a program to find the common elements between two lists.\n"
      ],
      "metadata": {
        "id": "w1jPUy4I_Cfg"
      }
    },
    {
      "cell_type": "code",
      "source": [
        "def comp(l1,l2):\n",
        "  new=[]\n",
        "  for i in range(len(l1)):\n",
        "    for j in range(len(l2)):\n",
        "      if l1[i]==l2[j]:\n",
        "        new.append(l1[i])\n",
        "\n",
        "  return new"
      ],
      "metadata": {
        "id": "Mu8pCXpm_GmG"
      },
      "execution_count": null,
      "outputs": []
    },
    {
      "cell_type": "code",
      "source": [
        "comp([1,2,3],[3,4,5])"
      ],
      "metadata": {
        "colab": {
          "base_uri": "https://localhost:8080/"
        },
        "id": "DagEuIH5_oDL",
        "outputId": "9cd8e00b-1f79-4004-f595-52a01fb4cf3e"
      },
      "execution_count": null,
      "outputs": [
        {
          "output_type": "execute_result",
          "data": {
            "text/plain": [
              "[3]"
            ]
          },
          "metadata": {},
          "execution_count": 97
        }
      ]
    },
    {
      "cell_type": "code",
      "source": [
        "#method 2\n",
        "def check_common_elements(list1,list2):\n",
        "  set1=set(list1)\n",
        "  set2=set(list2)\n",
        "  common_elements=list(set1.intersection(set2))\n",
        "  return common_elements"
      ],
      "metadata": {
        "id": "4iPM9SQ3CQFx"
      },
      "execution_count": null,
      "outputs": []
    },
    {
      "cell_type": "code",
      "source": [
        "check_common_elements([1,2,3],[3,4,5])"
      ],
      "metadata": {
        "colab": {
          "base_uri": "https://localhost:8080/"
        },
        "id": "jjGsdncHCgW1",
        "outputId": "e5ea3627-3be1-41bc-9ce1-1e39c289f6ec"
      },
      "execution_count": null,
      "outputs": [
        {
          "output_type": "execute_result",
          "data": {
            "text/plain": [
              "[3]"
            ]
          },
          "metadata": {},
          "execution_count": 100
        }
      ]
    },
    {
      "cell_type": "markdown",
      "source": [
        "12. Implement a function to check if a given string is an anagram of another\n",
        "string.\n",
        "\n",
        "An anagram is a word or phrase formed by rearranging the letters of another word or phrase, using all the original letters exactly once. In other words, an anagram is a result of rearranging the characters of a word or phrase to create a new word or phrase with the same set of characters."
      ],
      "metadata": {
        "id": "7t-1CwYcCu_o"
      }
    },
    {
      "cell_type": "code",
      "source": [
        "def is_anagram(str1, str2):\n",
        "    # Convert the strings to lowercase and remove spaces\n",
        "    str1 = str1.lower().replace(\" \", \"\")\n",
        "    str2 = str2.lower().replace(\" \", \"\")\n",
        "\n",
        "    # Check if the lengths of the strings are different\n",
        "    if len(str1) != len(str2):\n",
        "        return False\n",
        "\n",
        "    # Sort the characters of the strings and compare them\n",
        "    sorted_str1 = sorted(str1)\n",
        "    sorted_str2 = sorted(str2)\n",
        "\n",
        "    return sorted_str1 == sorted_str2\n"
      ],
      "metadata": {
        "id": "7HLrOqP2CyxO"
      },
      "execution_count": null,
      "outputs": []
    },
    {
      "cell_type": "code",
      "source": [
        "string1 = \"listen\"\n",
        "string2 = \"silent\"\n",
        "result = is_anagram(string1, string2)\n",
        "print(result)\n"
      ],
      "metadata": {
        "colab": {
          "base_uri": "https://localhost:8080/"
        },
        "id": "ZYZKMBcJFX51",
        "outputId": "8e5a02e1-7b69-42de-aa04-f6b525bde23f"
      },
      "execution_count": null,
      "outputs": [
        {
          "output_type": "stream",
          "name": "stdout",
          "text": [
            "True\n"
          ]
        }
      ]
    },
    {
      "cell_type": "code",
      "source": [],
      "metadata": {
        "id": "RHE80fEKFjCX"
      },
      "execution_count": null,
      "outputs": []
    },
    {
      "cell_type": "markdown",
      "source": [
        "13. Write a Python program to generate all permutations of a given string."
      ],
      "metadata": {
        "id": "sRTKww4AFkTa"
      }
    },
    {
      "cell_type": "code",
      "source": [
        "def generate_permutations(string):\n",
        "    if len(string) == 0:\n",
        "        return []\n",
        "    elif len(string) == 1:\n",
        "        return [string]\n",
        "    else:\n",
        "        char = string[0]\n",
        "        rest_of_string = string[1:]\n",
        "        perms = generate_permutations(rest_of_string)\n",
        "        all_permutations = []\n",
        "        for perm in perms:\n",
        "            for i in range(len(perm) + 1):\n",
        "                new_perm = perm[:i] + char + perm[i:]\n",
        "                all_permutations.append(new_perm)\n",
        "        return all_permutations\n",
        "\n",
        "# Test the function\n",
        "input_string = \"abc\"\n",
        "permutations = generate_permutations(input_string)\n",
        "print(permutations)\n"
      ],
      "metadata": {
        "colab": {
          "base_uri": "https://localhost:8080/"
        },
        "id": "8TYAYBu9FmxH",
        "outputId": "6ad1b687-3a75-4f3e-9738-52bffb679098"
      },
      "execution_count": null,
      "outputs": [
        {
          "output_type": "stream",
          "name": "stdout",
          "text": [
            "['abc', 'bac', 'bca', 'acb', 'cab', 'cba']\n"
          ]
        }
      ]
    },
    {
      "cell_type": "code",
      "source": [
        "#Method -2\n",
        "from itertools import permutations\n",
        "\n",
        "def generate_permutations(string):\n",
        "    perms = permutations(string)\n",
        "    all_permutations = [''.join(perm) for perm in perms]\n",
        "    return all_permutations\n",
        "\n",
        "# Test the function\n",
        "input_string = \"abc\"\n",
        "permutations = generate_permutations(input_string)\n",
        "print(permutations)\n"
      ],
      "metadata": {
        "colab": {
          "base_uri": "https://localhost:8080/"
        },
        "id": "Y2_Nc7abYDd-",
        "outputId": "c930f1b3-b538-470f-bf1c-e0ddc3209a63"
      },
      "execution_count": null,
      "outputs": [
        {
          "output_type": "stream",
          "name": "stdout",
          "text": [
            "['abc', 'acb', 'bac', 'bca', 'cab', 'cba']\n"
          ]
        }
      ]
    },
    {
      "cell_type": "markdown",
      "source": [
        "14. Implement a function to calculate the Fibonacci sequence up to a given number of terms."
      ],
      "metadata": {
        "id": "IvzkSlceYe4M"
      }
    },
    {
      "cell_type": "code",
      "source": [
        "\n",
        "def fibonacci_sequence(n):\n",
        "    sequence = []\n",
        "    if n <= 0:\n",
        "        return sequence\n",
        "\n",
        "    # Initialize the first two terms\n",
        "    sequence.append(0)\n",
        "    if n >= 2:\n",
        "        sequence.append(1)\n",
        "\n",
        "    # Calculate the subsequent terms\n",
        "    for i in range(2, n):\n",
        "        term = sequence[i-1] + sequence[i-2]\n",
        "        sequence.append(term)\n",
        "\n",
        "    return sequence\n",
        "\n",
        "# Test the function\n",
        "num_terms = 5\n",
        "fib_sequence = fibonacci_sequence(num_terms)\n",
        "print(fib_sequence)\n"
      ],
      "metadata": {
        "colab": {
          "base_uri": "https://localhost:8080/"
        },
        "id": "rzjP0yeRZTjc",
        "outputId": "6a642a2f-5de3-4d32-cf9b-ab9787b5ff44"
      },
      "execution_count": null,
      "outputs": [
        {
          "output_type": "stream",
          "name": "stdout",
          "text": [
            "[0, 1, 1, 2, 3]\n"
          ]
        }
      ]
    },
    {
      "cell_type": "markdown",
      "source": [
        "15. Write a program to find the median of a list of numbers."
      ],
      "metadata": {
        "id": "X1BDqEZ0bWOX"
      }
    },
    {
      "cell_type": "code",
      "source": [
        "def find_median(lst):\n",
        "  lst.sort(reverse=False)\n",
        "  n=len(lst)\n",
        "  if n%2==1:\n",
        "    index=(n+1)//2\n",
        "    median=lst[index-1]\n",
        "    return median\n",
        "  else:\n",
        "    place1=int(n//2)\n",
        "    place2=int(n//2)+1\n",
        "    median_try=(lst[place1-1]+lst[place2-1])/2\n",
        "    final_median=median_try\n",
        "    return final_median\n"
      ],
      "metadata": {
        "id": "VWXFVjdsZhJL"
      },
      "execution_count": null,
      "outputs": []
    },
    {
      "cell_type": "code",
      "source": [
        "find_median([1,2,3,4,5])"
      ],
      "metadata": {
        "colab": {
          "base_uri": "https://localhost:8080/"
        },
        "id": "rFi3S_G8purF",
        "outputId": "fbe71665-da9d-4efd-bf19-68bcbd037d31"
      },
      "execution_count": null,
      "outputs": [
        {
          "output_type": "execute_result",
          "data": {
            "text/plain": [
              "3"
            ]
          },
          "metadata": {},
          "execution_count": 45
        }
      ]
    },
    {
      "cell_type": "code",
      "source": [
        "find_median([4, 5, 8, 9, 10, 17])"
      ],
      "metadata": {
        "colab": {
          "base_uri": "https://localhost:8080/"
        },
        "id": "tSxxhwwWvrlm",
        "outputId": "6953e068-9536-43ce-99e2-a0e0f670ebab"
      },
      "execution_count": null,
      "outputs": [
        {
          "output_type": "execute_result",
          "data": {
            "text/plain": [
              "8.5"
            ]
          },
          "metadata": {},
          "execution_count": 46
        }
      ]
    },
    {
      "cell_type": "code",
      "source": [
        "#For understanding that why I am subtracting 1 from index\n",
        "lst=[1,2,3,4,5]\n",
        "lst.sort(reverse=False)\n",
        "print(lst)\n",
        "n=len(lst)\n",
        "print(n)\n",
        "if n%2==1:\n",
        "  index=(n+1)//2\n",
        "  print(index)\n",
        "  median=lst[index-1]\n",
        "  print(median)"
      ],
      "metadata": {
        "colab": {
          "base_uri": "https://localhost:8080/"
        },
        "id": "YXOG007Lqqij",
        "outputId": "c18fc9cf-4279-44e2-8b99-a2ccf0009236"
      },
      "execution_count": null,
      "outputs": [
        {
          "output_type": "stream",
          "name": "stdout",
          "text": [
            "[1, 2, 3, 4, 5]\n",
            "5\n",
            "3\n",
            "3\n"
          ]
        }
      ]
    },
    {
      "cell_type": "code",
      "source": [
        "#Method:2\n",
        "import statistics\n",
        "\n",
        "# initializing list\n",
        "test_list = [4, 5, 8, 9, 10, 17]\n",
        "\n",
        "# printing list\n",
        "print(\"The original list : \" + str(test_list))\n",
        "\n",
        "# Median of list\n",
        "# Using statistics.median()\n",
        "res = statistics.median(test_list)\n",
        "\n",
        "# Printing result\n",
        "print(\"Median of list is : \" + str(res))"
      ],
      "metadata": {
        "colab": {
          "base_uri": "https://localhost:8080/"
        },
        "id": "H4r3EtmAu6xG",
        "outputId": "cf3a65d6-3423-4946-f441-11599591f977"
      },
      "execution_count": null,
      "outputs": [
        {
          "output_type": "stream",
          "name": "stdout",
          "text": [
            "The original list : [4, 5, 8, 9, 10, 17]\n",
            "Median of list is : 8.5\n"
          ]
        }
      ]
    },
    {
      "cell_type": "code",
      "source": [],
      "metadata": {
        "id": "XBC0QGIcwLX4"
      },
      "execution_count": null,
      "outputs": []
    },
    {
      "cell_type": "markdown",
      "source": [
        "16. Implement a function to check if a given list is sorted in non-decreasing order."
      ],
      "metadata": {
        "id": "epvCIifLwx9G"
      }
    },
    {
      "cell_type": "code",
      "source": [
        "def is_sorted(lst):\n",
        "    return all(lst[i] <= lst[i + 1] for i in range(len(lst) - 1))\n",
        "\n",
        "my_list = [1, 2, 3, 4, 5]\n",
        "print(is_sorted(my_list))\n",
        "my_list = [5, 2, 7, 1, 9]\n",
        "print(is_sorted(my_list))"
      ],
      "metadata": {
        "id": "0ookF9rew2DT",
        "outputId": "9cf1da3f-db1e-424a-afe1-96406b6d5e18",
        "colab": {
          "base_uri": "https://localhost:8080/"
        }
      },
      "execution_count": null,
      "outputs": [
        {
          "output_type": "stream",
          "name": "stdout",
          "text": [
            "True\n",
            "False\n"
          ]
        }
      ]
    },
    {
      "cell_type": "code",
      "source": [],
      "metadata": {
        "id": "0WsWbRfLw7Uj"
      },
      "execution_count": null,
      "outputs": []
    },
    {
      "cell_type": "markdown",
      "source": [
        "17. Write a Python program to find the intersection of two lists."
      ],
      "metadata": {
        "id": "xSSsqWO2xDzT"
      }
    },
    {
      "cell_type": "code",
      "source": [
        "def find_intersection(list1, list2):\n",
        "    intersection = list(set(list1) & set(list2))\n",
        "    return intersection\n",
        "\n",
        "# Example usage:\n",
        "list1 = [1, 2, 3, 4, 5]\n",
        "list2 = [4, 5, 6, 7, 8]\n",
        "intersection = find_intersection(list1, list2)\n",
        "print(intersection)\n"
      ],
      "metadata": {
        "id": "G4y3MKWfxKt9",
        "outputId": "5e6a16fd-ad40-43d5-81d1-7bec8e6e7a88",
        "colab": {
          "base_uri": "https://localhost:8080/"
        }
      },
      "execution_count": null,
      "outputs": [
        {
          "output_type": "stream",
          "name": "stdout",
          "text": [
            "[4, 5]\n"
          ]
        }
      ]
    },
    {
      "cell_type": "code",
      "source": [],
      "metadata": {
        "id": "JPss4bHJxfVR"
      },
      "execution_count": null,
      "outputs": []
    },
    {
      "cell_type": "markdown",
      "source": [
        " 18.Implement a function to find the maximum subarray sum in a given list."
      ],
      "metadata": {
        "id": "McrdipTNxh0u"
      }
    },
    {
      "cell_type": "code",
      "source": [
        "def max_subarray_sum(arr):\n",
        "    if not arr:\n",
        "        return 0\n",
        "\n",
        "    max_sum = arr[0]\n",
        "    current_sum = arr[0]\n",
        "\n",
        "    for i in range(1, len(arr)):\n",
        "        current_sum = max(arr[i], current_sum + arr[i])\n",
        "        max_sum = max(max_sum, current_sum)\n",
        "\n",
        "    return max_sum\n",
        "\n",
        "my_list = [-2, 1, -3, 4, -1, 2, 1, -5, 4]\n",
        "max_sum = max_subarray_sum(my_list)\n",
        "print(max_sum)\n",
        "\n"
      ],
      "metadata": {
        "id": "yGyVI478xnsL",
        "outputId": "408801f6-5df5-450e-cc96-41c50d0174ab",
        "colab": {
          "base_uri": "https://localhost:8080/"
        }
      },
      "execution_count": null,
      "outputs": [
        {
          "output_type": "stream",
          "name": "stdout",
          "text": [
            "6\n"
          ]
        }
      ]
    },
    {
      "cell_type": "code",
      "source": [],
      "metadata": {
        "id": "PXO3YFj3xuOU"
      },
      "execution_count": null,
      "outputs": []
    },
    {
      "cell_type": "markdown",
      "source": [
        "19. Write a program to remove all vowels from a given string."
      ],
      "metadata": {
        "id": "8MWeu3Olx0Kp"
      }
    },
    {
      "cell_type": "code",
      "source": [
        "def remove_vowels(string):\n",
        "    vowels = 'aeiouAEIOU'\n",
        "    return ''.join(char for char in string if char not in vowels)\n",
        "\n",
        "# Example usage:\n",
        "my_string = \"Hello, World!\"\n",
        "new_string = remove_vowels(my_string)\n",
        "print(new_string)\n"
      ],
      "metadata": {
        "id": "UUI32tBex2U7",
        "outputId": "96dd7cfd-6bf5-4620-a7f4-5bcacaf78452",
        "colab": {
          "base_uri": "https://localhost:8080/"
        }
      },
      "execution_count": null,
      "outputs": [
        {
          "output_type": "stream",
          "name": "stdout",
          "text": [
            "Hll, Wrld!\n"
          ]
        }
      ]
    },
    {
      "cell_type": "code",
      "source": [],
      "metadata": {
        "id": "UnKnc5b1x65y"
      },
      "execution_count": null,
      "outputs": []
    },
    {
      "cell_type": "markdown",
      "source": [
        "20. Implement a function to reverse the order of words in a given sentence.\n"
      ],
      "metadata": {
        "id": "EtfEQlGPx90g"
      }
    },
    {
      "cell_type": "code",
      "source": [
        "def reverse_words(sentence):\n",
        "    words = sentence.split()\n",
        "    reversed_words = ' '.join(reversed(words))\n",
        "    return reversed_words\n",
        "\n",
        "# Example usage:\n",
        "my_sentence = \"Hello, world! How are you?\"\n",
        "reversed_sentence = reverse_words(my_sentence)\n",
        "print(reversed_sentence)"
      ],
      "metadata": {
        "id": "mrqPxZeeyA_G",
        "outputId": "86b5e755-0a2b-424c-cad9-00c5f663b9c7",
        "colab": {
          "base_uri": "https://localhost:8080/"
        }
      },
      "execution_count": null,
      "outputs": [
        {
          "output_type": "stream",
          "name": "stdout",
          "text": [
            "you? are How world! Hello,\n"
          ]
        }
      ]
    },
    {
      "cell_type": "code",
      "source": [],
      "metadata": {
        "id": "mgdJGabvyExo"
      },
      "execution_count": null,
      "outputs": []
    },
    {
      "cell_type": "markdown",
      "source": [
        "21. Write a Python program to check if two strings are anagrams of each other.\n"
      ],
      "metadata": {
        "id": "FYGVkF1dyHRg"
      }
    },
    {
      "cell_type": "code",
      "source": [
        "def are_anagrams(string1, string2):\n",
        "    if len(string1) != len(string2):\n",
        "        return False\n",
        "\n",
        "    count = [0] * 26  # Assuming only lowercase alphabets are considered\n",
        "\n",
        "    for char in string1:\n",
        "        count[ord(char) - ord('a')] += 1\n",
        "\n",
        "    for char in string2:\n",
        "        count[ord(char) - ord('a')] -= 1\n",
        "\n",
        "    return all(count[i] == 0 for i in range(26))\n",
        "\n",
        "# Example usage:\n",
        "str1 = \"listen\"\n",
        "str2 = \"silent\"\n",
        "result = are_anagrams(str1, str2)\n",
        "print(result)\n"
      ],
      "metadata": {
        "id": "HNSpGGI6yKFu",
        "outputId": "042f7ce3-6bdb-429f-8af4-e44b3e95f880",
        "colab": {
          "base_uri": "https://localhost:8080/"
        }
      },
      "execution_count": null,
      "outputs": [
        {
          "output_type": "stream",
          "name": "stdout",
          "text": [
            "True\n"
          ]
        }
      ]
    },
    {
      "cell_type": "code",
      "source": [],
      "metadata": {
        "id": "OdQ4VKOVyMDv"
      },
      "execution_count": null,
      "outputs": []
    },
    {
      "cell_type": "markdown",
      "source": [
        "22. Implement a function to find the first non-repeating character in a string."
      ],
      "metadata": {
        "id": "oNYaRptnyRBH"
      }
    },
    {
      "cell_type": "code",
      "source": [
        "def first_non_repeating_char(string):\n",
        "    char_count = {}\n",
        "\n",
        "    for char in string:\n",
        "        if char in char_count:\n",
        "            char_count[char] += 1\n",
        "        else:\n",
        "            char_count[char] = 1\n",
        "\n",
        "    for char in string:\n",
        "        if char_count[char] == 1:\n",
        "            return char\n",
        "\n",
        "    return None\n",
        "\n",
        "# Example usage:\n",
        "my_string = \"hello world\"\n",
        "result = first_non_repeating_char(my_string)\n",
        "print(result)"
      ],
      "metadata": {
        "id": "1XerUwsxyRog",
        "outputId": "a57cb5a5-795c-41fa-cf59-9bdc95f6e4b1",
        "colab": {
          "base_uri": "https://localhost:8080/"
        }
      },
      "execution_count": null,
      "outputs": [
        {
          "output_type": "stream",
          "name": "stdout",
          "text": [
            "h\n"
          ]
        }
      ]
    },
    {
      "cell_type": "code",
      "source": [],
      "metadata": {
        "id": "p5p9m0BCyUDn"
      },
      "execution_count": null,
      "outputs": []
    },
    {
      "cell_type": "markdown",
      "source": [
        "23. Write a program to find the prime factors of a given number.\n"
      ],
      "metadata": {
        "id": "uoIdVUrmyZDF"
      }
    },
    {
      "cell_type": "code",
      "source": [
        "def find_prime_factors(number):\n",
        "    factors = []\n",
        "\n",
        "    # Divide the number by 2 until it is no longer divisible by 2\n",
        "    while number % 2 == 0:\n",
        "        factors.append(2)\n",
        "        number //= 2\n",
        "\n",
        "    # Check for odd prime factors starting from 3\n",
        "    i = 3\n",
        "    while i * i <= number:\n",
        "        if number % i == 0:\n",
        "            factors.append(i)\n",
        "            number //= i\n",
        "        else:\n",
        "            i += 2\n",
        "\n",
        "    # If the remaining number is greater than 2, it is a prime factor\n",
        "    if number > 2:\n",
        "        factors.append(number)\n",
        "\n",
        "    return factors\n",
        "\n",
        "# Example usage:\n",
        "num = 56\n",
        "prime_factors = find_prime_factors(num)\n",
        "print(prime_factors)\n"
      ],
      "metadata": {
        "id": "Xyg30bXdyZyG",
        "outputId": "df012679-c9fe-419e-875e-27a2bb4c802e",
        "colab": {
          "base_uri": "https://localhost:8080/"
        }
      },
      "execution_count": null,
      "outputs": [
        {
          "output_type": "stream",
          "name": "stdout",
          "text": [
            "[2, 2, 2, 7]\n"
          ]
        }
      ]
    },
    {
      "cell_type": "code",
      "source": [],
      "metadata": {
        "id": "mq_bfiZyyce-"
      },
      "execution_count": null,
      "outputs": []
    },
    {
      "cell_type": "markdown",
      "source": [
        "24. Implement a function to check if a given number is a power of two.\n"
      ],
      "metadata": {
        "id": "lMbB_4B7yea1"
      }
    },
    {
      "cell_type": "code",
      "source": [
        "def is_power_of_two(number):\n",
        "    if number <= 0:\n",
        "        return False\n",
        "    return (number & (number - 1)) == 0\n",
        "\n",
        "# Example usage:\n",
        "num = 16\n",
        "result = is_power_of_two(num)\n",
        "print(result)\n"
      ],
      "metadata": {
        "id": "Qf-yMpieyiD2",
        "outputId": "7fc64fbd-4599-4bfe-d623-8e248883c6f1",
        "colab": {
          "base_uri": "https://localhost:8080/"
        }
      },
      "execution_count": null,
      "outputs": [
        {
          "output_type": "stream",
          "name": "stdout",
          "text": [
            "True\n"
          ]
        }
      ]
    },
    {
      "cell_type": "code",
      "source": [],
      "metadata": {
        "id": "y83z1D4JyqBP"
      },
      "execution_count": null,
      "outputs": []
    },
    {
      "cell_type": "markdown",
      "source": [
        "25. Write a Python program to merge two sorted lists into a single sorted list.\n"
      ],
      "metadata": {
        "id": "uwBINa0DyuYn"
      }
    },
    {
      "cell_type": "code",
      "source": [
        "def merge_sorted_lists(list1, list2):\n",
        "    merged_list = []\n",
        "    i = j = 0\n",
        "\n",
        "    while i < len(list1) and j < len(list2):\n",
        "        if list1[i] <= list2[j]:\n",
        "            merged_list.append(list1[i])\n",
        "            i += 1\n",
        "        else:\n",
        "            merged_list.append(list2[j])\n",
        "            j += 1\n",
        "\n",
        "    # Add remaining elements from list1, if any\n",
        "    while i < len(list1):\n",
        "        merged_list.append(list1[i])\n",
        "        i += 1\n",
        "\n",
        "    # Add remaining elements from list2, if any\n",
        "    while j < len(list2):\n",
        "        merged_list.append(list2[j])\n",
        "        j += 1\n",
        "\n",
        "    return merged_list\n",
        "\n",
        "# Example usage:\n",
        "list1 = [1, 4, 7, 9]\n",
        "list2 = [2, 3, 6, 8]\n",
        "merged_list = merge_sorted_lists(list1, list2)\n",
        "print(merged_list)\n"
      ],
      "metadata": {
        "id": "3hucdaeDyu3h",
        "outputId": "da2186d7-56d6-4d88-eb77-fc9bb70d302b",
        "colab": {
          "base_uri": "https://localhost:8080/"
        }
      },
      "execution_count": null,
      "outputs": [
        {
          "output_type": "stream",
          "name": "stdout",
          "text": [
            "[1, 2, 3, 4, 6, 7, 8, 9]\n"
          ]
        }
      ]
    },
    {
      "cell_type": "code",
      "source": [],
      "metadata": {
        "id": "JsvdskQTyxLm"
      },
      "execution_count": null,
      "outputs": []
    },
    {
      "cell_type": "markdown",
      "source": [
        "26. Implement a function to find the mode of a list of numbers."
      ],
      "metadata": {
        "id": "nNGrPwd-y6np"
      }
    },
    {
      "cell_type": "code",
      "source": [
        "from collections import Counter\n",
        "\n",
        "def find_mode(numbers):\n",
        "    counts = Counter(numbers)\n",
        "    mode = max(counts.values())\n",
        "\n",
        "    mode_values = [num for num, count in counts.items() if count == mode]\n",
        "    return mode_values\n",
        "\n",
        "# Example usage:\n",
        "number_list = [1, 2, 3, 2, 4, 4, 5, 6, 2, 6, 6]\n",
        "mode_values = find_mode(number_list)\n",
        "print(mode_values)\n"
      ],
      "metadata": {
        "id": "NS8c6VAdy7Od",
        "outputId": "6c5ae07e-e6b2-48c2-9f37-f0eeec8dab91",
        "colab": {
          "base_uri": "https://localhost:8080/"
        }
      },
      "execution_count": null,
      "outputs": [
        {
          "output_type": "stream",
          "name": "stdout",
          "text": [
            "[2, 6]\n"
          ]
        }
      ]
    },
    {
      "cell_type": "code",
      "source": [],
      "metadata": {
        "id": "y5lzVWrYy-Xu"
      },
      "execution_count": null,
      "outputs": []
    },
    {
      "cell_type": "markdown",
      "source": [
        "27. Write a program to find the greatest common divisor (GCD) of two numbers.\n"
      ],
      "metadata": {
        "id": "3vAkpLUSzJHK"
      }
    },
    {
      "cell_type": "code",
      "source": [
        "def gcd(a, b):\n",
        "    while b != 0:\n",
        "        a, b = b, a % b\n",
        "    return a\n",
        "\n",
        "# Example usage:\n",
        "num1 = 36\n",
        "num2 = 48\n",
        "result = gcd(num1, num2)\n",
        "print(result)\n"
      ],
      "metadata": {
        "id": "cDPZBwXkzKEI",
        "outputId": "f3699b63-a29d-488d-909c-8e2a81491f9d",
        "colab": {
          "base_uri": "https://localhost:8080/"
        }
      },
      "execution_count": null,
      "outputs": [
        {
          "output_type": "stream",
          "name": "stdout",
          "text": [
            "12\n"
          ]
        }
      ]
    },
    {
      "cell_type": "markdown",
      "source": [
        "28. Implement a function to calculate the square root of a given number.\n"
      ],
      "metadata": {
        "id": "JUpoGZNnzdYZ"
      }
    },
    {
      "cell_type": "code",
      "source": [
        "def square_root(number):\n",
        "    if number < 0:\n",
        "        raise ValueError(\"Square root is not defined for negative numbers.\")\n",
        "\n",
        "    if number == 0:\n",
        "        return 0\n",
        "\n",
        "    # Initial guess for the square root\n",
        "    guess = number / 2\n",
        "\n",
        "    while True:\n",
        "        new_guess = (guess + number / guess) / 2\n",
        "        if abs(guess - new_guess) < 1e-9:\n",
        "            return new_guess\n",
        "        guess = new_guess\n",
        "\n",
        "# Example usage:\n",
        "num = 25\n",
        "result = square_root(num)\n",
        "print(result)\n"
      ],
      "metadata": {
        "id": "uRG3Q0tdzccJ",
        "outputId": "c510533e-0c97-45dc-ec44-7ab72b6d559d",
        "colab": {
          "base_uri": "https://localhost:8080/"
        }
      },
      "execution_count": null,
      "outputs": [
        {
          "output_type": "stream",
          "name": "stdout",
          "text": [
            "5.0\n"
          ]
        }
      ]
    },
    {
      "cell_type": "code",
      "source": [],
      "metadata": {
        "id": "9sEg4h_Dzhno"
      },
      "execution_count": null,
      "outputs": []
    },
    {
      "cell_type": "markdown",
      "source": [
        "29. Write a Python program to check if a given string is a valid palindrome ignoring non-alphanumeric characters.\n"
      ],
      "metadata": {
        "id": "8meeGIJ-zj7v"
      }
    },
    {
      "cell_type": "code",
      "source": [
        "import re\n",
        "\n",
        "def is_valid_palindrome(string):\n",
        "    # Remove non-alphanumeric characters and convert to lowercase\n",
        "    cleaned_string = re.sub(r'[^a-zA-Z0-9]', '', string.lower())\n",
        "\n",
        "    # Check if the cleaned string is a palindrome\n",
        "    return cleaned_string == cleaned_string[::-1]\n",
        "\n",
        "# Example usage:\n",
        "text = \"A man, a plan, a canal: Panama\"\n",
        "result = is_valid_palindrome(text)\n",
        "print(result)\n"
      ],
      "metadata": {
        "id": "khNBNFDZzoEd",
        "outputId": "4255096c-ea21-43d5-9ccb-395909c06ef0",
        "colab": {
          "base_uri": "https://localhost:8080/"
        }
      },
      "execution_count": null,
      "outputs": [
        {
          "output_type": "stream",
          "name": "stdout",
          "text": [
            "True\n"
          ]
        }
      ]
    },
    {
      "cell_type": "code",
      "source": [],
      "metadata": {
        "id": "djcMhHyozsyr"
      },
      "execution_count": null,
      "outputs": []
    },
    {
      "cell_type": "markdown",
      "source": [
        "30. Implement a function to find the minimum element in a rotated sorted list.\n"
      ],
      "metadata": {
        "id": "L_gPB2tdzu9b"
      }
    },
    {
      "cell_type": "code",
      "source": [
        "def find_minimum(nums):\n",
        "    left = 0\n",
        "    right = len(nums) - 1\n",
        "\n",
        "    # If the list is not rotated, return the first element\n",
        "    if nums[left] < nums[right]:\n",
        "        return nums[left]\n",
        "\n",
        "    while left < right:\n",
        "        mid = left + (right - left) // 2\n",
        "\n",
        "        # Check if the mid element is the minimum\n",
        "        if nums[mid] > nums[mid + 1]:\n",
        "            return nums[mid + 1]\n",
        "\n",
        "        # Check if the mid element is greater than the rightmost element\n",
        "        if nums[mid] > nums[right]:\n",
        "            left = mid + 1\n",
        "        else:\n",
        "            right = mid\n",
        "\n",
        "    return nums[left]\n",
        "\n",
        "# Example usage:\n",
        "nums = [4, 5, 6, 7, 0, 1, 2]\n",
        "result = find_minimum(nums)\n",
        "print(result)"
      ],
      "metadata": {
        "id": "eGFaBci3zxl-",
        "outputId": "0d2f9023-676f-40b7-974e-3c1982c68da1",
        "colab": {
          "base_uri": "https://localhost:8080/"
        }
      },
      "execution_count": null,
      "outputs": [
        {
          "output_type": "stream",
          "name": "stdout",
          "text": [
            "0\n"
          ]
        }
      ]
    },
    {
      "cell_type": "markdown",
      "source": [
        "31. Write a program to find the sum of all even numbers in a list.\n"
      ],
      "metadata": {
        "id": "BeGkqNCYz7ZN"
      }
    },
    {
      "cell_type": "code",
      "source": [
        "def sum_of_even_numbers(numbers):\n",
        "    even_sum = 0\n",
        "\n",
        "    for number in numbers:\n",
        "        if number % 2 == 0:\n",
        "            even_sum += number\n",
        "\n",
        "    return even_sum\n",
        "\n",
        "# Example usage:\n",
        "number_list = [1, 2, 3, 4, 5, 6, 7, 8, 9, 10]\n",
        "result = sum_of_even_numbers(number_list)\n",
        "print(result)\n"
      ],
      "metadata": {
        "id": "MIfGRVQRz9eE",
        "outputId": "09f62e21-d581-41c7-b0ab-d5530d8283ee",
        "colab": {
          "base_uri": "https://localhost:8080/"
        }
      },
      "execution_count": null,
      "outputs": [
        {
          "output_type": "stream",
          "name": "stdout",
          "text": [
            "30\n"
          ]
        }
      ]
    },
    {
      "cell_type": "markdown",
      "source": [
        "32. Implement a function to calculate the power of a number using recursion.\n"
      ],
      "metadata": {
        "id": "3BbzXx0y0D0V"
      }
    },
    {
      "cell_type": "code",
      "source": [
        "def power(base, exponent):\n",
        "    if exponent == 0:\n",
        "        return 1\n",
        "    elif exponent > 0:\n",
        "        return base * power(base, exponent - 1)\n",
        "    else:\n",
        "        return 1 / (base * power(base, -exponent - 1))\n",
        "\n",
        "# Example usage:\n",
        "base = 2\n",
        "exponent = 3\n",
        "result = power(base, exponent)\n",
        "print(result)\n"
      ],
      "metadata": {
        "id": "IvwbO7KT0Egn",
        "outputId": "eb98ce06-2d4a-4070-8897-4d20f5e1bca8",
        "colab": {
          "base_uri": "https://localhost:8080/"
        }
      },
      "execution_count": null,
      "outputs": [
        {
          "output_type": "stream",
          "name": "stdout",
          "text": [
            "8\n"
          ]
        }
      ]
    },
    {
      "cell_type": "markdown",
      "source": [
        "33. Write a Python program to remove duplicates from a list while preserving the order."
      ],
      "metadata": {
        "id": "VORHHd-w0OJ0"
      }
    },
    {
      "cell_type": "code",
      "source": [
        "def remove_duplicates(lst):\n",
        "    seen = set()\n",
        "    result = []\n",
        "\n",
        "    for item in lst:\n",
        "        if item not in seen:\n",
        "            seen.add(item)\n",
        "            result.append(item)\n",
        "\n",
        "    return result\n",
        "\n",
        "# Example usage:\n",
        "my_list = [1, 2, 3, 2, 4, 1, 5, 3, 6]\n",
        "result = remove_duplicates(my_list)\n",
        "print(result)\n"
      ],
      "metadata": {
        "id": "lNpD_cb70Qpe",
        "outputId": "17409877-7254-4911-ac84-94e15c10a2db",
        "colab": {
          "base_uri": "https://localhost:8080/"
        }
      },
      "execution_count": null,
      "outputs": [
        {
          "output_type": "stream",
          "name": "stdout",
          "text": [
            "[1, 2, 3, 4, 5, 6]\n"
          ]
        }
      ]
    },
    {
      "cell_type": "markdown",
      "source": [
        "34. Implement a function to find the longest common prefix among a list of strings.\n"
      ],
      "metadata": {
        "id": "DJruD4YE0bCZ"
      }
    },
    {
      "cell_type": "code",
      "source": [
        "def longest_common_prefix(strs):\n",
        "    if not strs:\n",
        "        return \"\"\n",
        "\n",
        "    # Find the shortest string in the list\n",
        "    shortest = min(strs, key=len)\n",
        "\n",
        "    for i, char in enumerate(shortest):\n",
        "        for string in strs:\n",
        "            if string[i] != char:\n",
        "                return shortest[:i]\n",
        "\n",
        "    return shortest\n",
        "\n",
        "# Example usage:\n",
        "string_list = [\"flower\", \"flow\", \"flight\"]\n",
        "result = longest_common_prefix(string_list)\n",
        "print(result)\n"
      ],
      "metadata": {
        "id": "jDGtufd-0cxR",
        "outputId": "6beb9fc5-9b8d-4a0d-a222-d51178377852",
        "colab": {
          "base_uri": "https://localhost:8080/"
        }
      },
      "execution_count": null,
      "outputs": [
        {
          "output_type": "stream",
          "name": "stdout",
          "text": [
            "fl\n"
          ]
        }
      ]
    },
    {
      "cell_type": "markdown",
      "source": [
        "35. Write a program to check if a given number is a perfect square.\n"
      ],
      "metadata": {
        "id": "WTLJdDgp0j8n"
      }
    },
    {
      "cell_type": "code",
      "source": [
        "def is_perfect_square(num):\n",
        "    if num < 0:\n",
        "        return False\n",
        "\n",
        "    if num == 0:\n",
        "        return True\n",
        "\n",
        "    # Perform binary search to find the square root\n",
        "    left = 1\n",
        "    right = num\n",
        "\n",
        "    while left <= right:\n",
        "        mid = (left + right) // 2\n",
        "        square = mid * mid\n",
        "\n",
        "        if square == num:\n",
        "            return True\n",
        "        elif square < num:\n",
        "            left = mid + 1\n",
        "        else:\n",
        "            right = mid - 1\n",
        "\n",
        "    return False\n",
        "\n",
        "# Example usage:\n",
        "number = 16\n",
        "result = is_perfect_square(number)\n",
        "print(result)\n"
      ],
      "metadata": {
        "id": "Ag3ce9Pc0kua",
        "outputId": "6940c461-2bef-4341-d288-96e2761cfe12",
        "colab": {
          "base_uri": "https://localhost:8080/"
        }
      },
      "execution_count": null,
      "outputs": [
        {
          "output_type": "stream",
          "name": "stdout",
          "text": [
            "True\n"
          ]
        }
      ]
    },
    {
      "cell_type": "markdown",
      "source": [
        "36. Implement a function to calculate the product of all elements in a list.\n"
      ],
      "metadata": {
        "id": "THUNJEaK0uCH"
      }
    },
    {
      "cell_type": "code",
      "source": [
        "def product_of_list(lst):\n",
        "    product = 1\n",
        "\n",
        "    for num in lst:\n",
        "        product *= num\n",
        "\n",
        "    return product\n",
        "\n",
        "# Example usage:\n",
        "my_list = [1, 2, 3, 4, 5]\n",
        "result = product_of_list(my_list)\n",
        "print(result)\n"
      ],
      "metadata": {
        "id": "dk5czWM00_jh",
        "outputId": "dbfed282-e196-4a37-c7a4-b073aca59983",
        "colab": {
          "base_uri": "https://localhost:8080/"
        }
      },
      "execution_count": null,
      "outputs": [
        {
          "output_type": "stream",
          "name": "stdout",
          "text": [
            "120\n"
          ]
        }
      ]
    },
    {
      "cell_type": "markdown",
      "source": [
        "37. Write a Python program to reverse the order of words in a sentence while preserving the word order.\n"
      ],
      "metadata": {
        "id": "aBGqJKJp1FSC"
      }
    },
    {
      "cell_type": "code",
      "source": [
        "def reverse_words(sentence):\n",
        "    words = sentence.split()\n",
        "    reversed_words = words[::-1]\n",
        "    reversed_sentence = \" \".join(reversed_words)\n",
        "    return reversed_sentence\n",
        "\n",
        "# Example usage:\n",
        "my_sentence = \"Hello, world! How are you?\"\n",
        "result = reverse_words(my_sentence)\n",
        "print(result)\n"
      ],
      "metadata": {
        "id": "OJd3wAje1F5t",
        "outputId": "cece17f4-02a7-4a74-aa0a-fb42cc2f7830",
        "colab": {
          "base_uri": "https://localhost:8080/"
        }
      },
      "execution_count": null,
      "outputs": [
        {
          "output_type": "stream",
          "name": "stdout",
          "text": [
            "you? are How world! Hello,\n"
          ]
        }
      ]
    },
    {
      "cell_type": "markdown",
      "source": [
        "38. Implement a function to find the missing number in a given list of consecutive numbers.\n"
      ],
      "metadata": {
        "id": "MtlLX1Zy1hCp"
      }
    },
    {
      "cell_type": "code",
      "source": [
        "def find_missing_number(nums):\n",
        "    n = len(nums) + 1\n",
        "    total_sum = (n * (n + 1)) // 2\n",
        "    actual_sum = sum(nums)\n",
        "    missing_number = total_sum - actual_sum\n",
        "    return missing_number\n",
        "\n",
        "# Example usage:\n",
        "my_list = [1, 2, 3, 5, 6]\n",
        "result = find_missing_number(my_list)\n",
        "print(result)"
      ],
      "metadata": {
        "id": "SkJelSYt1LPP",
        "outputId": "fb4eb501-9724-4efb-fa0a-b8b5ac34ebe6",
        "colab": {
          "base_uri": "https://localhost:8080/"
        }
      },
      "execution_count": null,
      "outputs": [
        {
          "output_type": "stream",
          "name": "stdout",
          "text": [
            "4\n"
          ]
        }
      ]
    },
    {
      "cell_type": "markdown",
      "source": [
        "39. Write a program to find the sum of digits of a given number.\n"
      ],
      "metadata": {
        "id": "0iaRvx5J1oWY"
      }
    },
    {
      "cell_type": "code",
      "source": [
        "def sum_of_digits(number):\n",
        "    sum = 0\n",
        "    while number > 0:\n",
        "        digit = number % 10\n",
        "        sum += digit\n",
        "        number //= 10\n",
        "    return sum\n",
        "\n",
        "# Example usage:\n",
        "num = 12345\n",
        "result = sum_of_digits(num)\n",
        "print(result)"
      ],
      "metadata": {
        "id": "3aeJV74d1tbf",
        "outputId": "46aadaf0-5b85-4b66-8ad7-e7398dc72625",
        "colab": {
          "base_uri": "https://localhost:8080/"
        }
      },
      "execution_count": null,
      "outputs": [
        {
          "output_type": "stream",
          "name": "stdout",
          "text": [
            "15\n"
          ]
        }
      ]
    },
    {
      "cell_type": "code",
      "source": [],
      "metadata": {
        "id": "o3-eAtXU1x-Z"
      },
      "execution_count": null,
      "outputs": []
    },
    {
      "cell_type": "markdown",
      "source": [
        "40. Implement a function to check if a given string is a valid palindrome considering case sensitivity.\n"
      ],
      "metadata": {
        "id": "A0Gut878126g"
      }
    },
    {
      "cell_type": "code",
      "source": [
        "def is_valid_palindrome(string):\n",
        "    # Remove non-alphanumeric characters and convert to lowercase\n",
        "    alphanumeric_string = ''.join(c.lower() for c in string if c.isalnum())\n",
        "\n",
        "    # Check if the alphanumeric string is equal to its reverse\n",
        "    return alphanumeric_string == alphanumeric_string[::-1]\n",
        "\n",
        "# Example usage:\n",
        "my_string = \"A man, a plan, a canal: Panama\"\n",
        "result = is_valid_palindrome(my_string)\n",
        "print(result)\n"
      ],
      "metadata": {
        "id": "d5RYKDzv13jG",
        "outputId": "f72a6dfa-315a-4e1d-cbe1-54402c6d2e3d",
        "colab": {
          "base_uri": "https://localhost:8080/"
        }
      },
      "execution_count": null,
      "outputs": [
        {
          "output_type": "stream",
          "name": "stdout",
          "text": [
            "True\n"
          ]
        }
      ]
    },
    {
      "cell_type": "code",
      "source": [],
      "metadata": {
        "id": "w0YNLmfe19Tt"
      },
      "execution_count": null,
      "outputs": []
    },
    {
      "cell_type": "markdown",
      "source": [
        "41. Write a Python program to find the smallest missing positive integer in a list.\n"
      ],
      "metadata": {
        "id": "StCvNKxX2BHs"
      }
    },
    {
      "cell_type": "code",
      "source": [
        "def find_smallest_missing_positive(nums):\n",
        "    # Separate positive numbers from non-positive numbers\n",
        "    positive_nums = [num for num in nums if num > 0]\n",
        "\n",
        "    # Mark positive numbers by changing the sign of the corresponding index\n",
        "    for num in positive_nums:\n",
        "        index = abs(num) - 1\n",
        "        if index < len(positive_nums):\n",
        "            positive_nums[index] = -abs(positive_nums[index])\n",
        "\n",
        "    # Find the first index with a positive number\n",
        "    for i in range(len(positive_nums)):\n",
        "        if positive_nums[i] > 0:\n",
        "            return i + 1\n",
        "\n",
        "    # If all indices are marked, return the next positive number\n",
        "    return len(positive_nums) + 1\n",
        "\n",
        "# Example usage:\n",
        "my_list = [3, 4, -1, 1]\n",
        "result = find_smallest_missing_positive(my_list)\n",
        "print(result)\n"
      ],
      "metadata": {
        "id": "4lelvW9m2BwJ",
        "outputId": "1cbe5dca-fd98-4f4c-cce6-6fdee55be476",
        "colab": {
          "base_uri": "https://localhost:8080/"
        }
      },
      "execution_count": null,
      "outputs": [
        {
          "output_type": "stream",
          "name": "stdout",
          "text": [
            "2\n"
          ]
        }
      ]
    },
    {
      "cell_type": "markdown",
      "source": [
        "42. Implement a function to find the longest palindrome substring in a given string.\n"
      ],
      "metadata": {
        "id": "Zu727sAD2Gbu"
      }
    },
    {
      "cell_type": "code",
      "source": [
        "def longest_palindrome(s):\n",
        "    if len(s) < 2:\n",
        "        return s\n",
        "\n",
        "    start = 0\n",
        "    end = 0\n",
        "\n",
        "    for i in range(len(s)):\n",
        "        len1 = expand_around_center(s, i, i)\n",
        "        len2 = expand_around_center(s, i, i + 1)\n",
        "        max_len = max(len1, len2)\n",
        "\n",
        "        if max_len > end - start:\n",
        "            start = i - (max_len - 1) // 2\n",
        "            end = i + max_len // 2\n",
        "\n",
        "    return s[start:end+1]\n",
        "\n",
        "def expand_around_center(s, left, right):\n",
        "    while left >= 0 and right < len(s) and s[left] == s[right]:\n",
        "        left -= 1\n",
        "        right += 1\n",
        "\n",
        "    return right - left - 1\n",
        "\n",
        "# Example usage:\n",
        "my_string = \"babad\"\n",
        "result = longest_palindrome(my_string)\n",
        "print(result)\n"
      ],
      "metadata": {
        "id": "Wq8xk4Ou2Jc6",
        "outputId": "55ae11d4-d00d-4ac9-e329-920767d3c911",
        "colab": {
          "base_uri": "https://localhost:8080/"
        }
      },
      "execution_count": null,
      "outputs": [
        {
          "output_type": "stream",
          "name": "stdout",
          "text": [
            "aba\n"
          ]
        }
      ]
    },
    {
      "cell_type": "markdown",
      "source": [
        "43. Write a program to find the number of occurrences of a given element in a list.\n"
      ],
      "metadata": {
        "id": "-NBcCAjt2exM"
      }
    },
    {
      "cell_type": "code",
      "source": [
        "def count_occurrences(lst, element):\n",
        "    count = 0\n",
        "    for item in lst:\n",
        "        if item == element:\n",
        "            count += 1\n",
        "    return count\n",
        "\n",
        "# Example usage:\n",
        "my_list = [1, 2, 3, 2, 4, 2, 5]\n",
        "my_element = 2\n",
        "result = count_occurrences(my_list, my_element)\n",
        "print(result)\n"
      ],
      "metadata": {
        "id": "AdmYfTmQ2WLy",
        "outputId": "db669e21-cac0-4d50-aab1-1399dba4c826",
        "colab": {
          "base_uri": "https://localhost:8080/"
        }
      },
      "execution_count": null,
      "outputs": [
        {
          "output_type": "stream",
          "name": "stdout",
          "text": [
            "3\n"
          ]
        }
      ]
    },
    {
      "cell_type": "code",
      "source": [],
      "metadata": {
        "id": "mPLoa6312lB3"
      },
      "execution_count": null,
      "outputs": []
    },
    {
      "cell_type": "markdown",
      "source": [
        "44. Implement a function to check if a given number is a perfect number.\n"
      ],
      "metadata": {
        "id": "dM-SSC3q2o2i"
      }
    },
    {
      "cell_type": "code",
      "source": [
        "def is_perfect_number(number):\n",
        "    if number <= 0:\n",
        "        return False\n",
        "\n",
        "    divisor_sum = 0\n",
        "    for i in range(1, number):\n",
        "        if number % i == 0:\n",
        "            divisor_sum += i\n",
        "\n",
        "    return divisor_sum == number\n",
        "\n",
        "# Example usage:\n",
        "my_number = 28\n",
        "result = is_perfect_number(my_number)\n",
        "print(result)\n"
      ],
      "metadata": {
        "id": "KugLPI8q2pcp",
        "outputId": "325060c5-db7c-41ee-ac46-ae838f9e3ac1",
        "colab": {
          "base_uri": "https://localhost:8080/"
        }
      },
      "execution_count": null,
      "outputs": [
        {
          "output_type": "stream",
          "name": "stdout",
          "text": [
            "True\n"
          ]
        }
      ]
    },
    {
      "cell_type": "markdown",
      "source": [
        "45. Write a Python program to remove all duplicates from a string.\n"
      ],
      "metadata": {
        "id": "h8zY3JGc2yBJ"
      }
    },
    {
      "cell_type": "code",
      "source": [
        "def remove_duplicates(string):\n",
        "    # Create an empty set to store unique characters\n",
        "    unique_chars = set()\n",
        "\n",
        "    # Create a new string with unique characters\n",
        "    new_string = \"\"\n",
        "    for char in string:\n",
        "        if char not in unique_chars:\n",
        "            unique_chars.add(char)\n",
        "            new_string += char\n",
        "\n",
        "    return new_string\n",
        "\n",
        "# Example usage:\n",
        "my_string = \"Hello, World!\"\n",
        "result = remove_duplicates(my_string)\n",
        "print(result)\n"
      ],
      "metadata": {
        "id": "4Z0sTIqH2zAj",
        "outputId": "0aa5232d-67f8-4784-89af-fbace163f7c7",
        "colab": {
          "base_uri": "https://localhost:8080/"
        }
      },
      "execution_count": null,
      "outputs": [
        {
          "output_type": "stream",
          "name": "stdout",
          "text": [
            "Helo, Wrd!\n"
          ]
        }
      ]
    },
    {
      "cell_type": "markdown",
      "source": [
        "46. Implement a function to find the first missing positive"
      ],
      "metadata": {
        "id": "lG2lbxBJ3BpC"
      }
    },
    {
      "cell_type": "code",
      "source": [
        "def find_first_missing_positive(nums):\n",
        "    n = len(nums)\n",
        "\n",
        "    # Step 1: Move all positive integers to their correct positions\n",
        "    i = 0\n",
        "    while i < n:\n",
        "        # Check if the current number is within the valid range and not already in its correct position\n",
        "        if 0 < nums[i] <= n and nums[i] != nums[nums[i] - 1]:\n",
        "            # Swap the current number with the number at its correct position\n",
        "            nums[nums[i] - 1], nums[i] = nums[i], nums[nums[i] - 1]\n",
        "        else:\n",
        "            i += 1\n",
        "\n",
        "    # Step 2: Find the first missing positive integer\n",
        "    for i in range(n):\n",
        "        if nums[i] != i + 1:\n",
        "            return i + 1\n",
        "\n",
        "    # If all positive integers from 1 to n are present, the first missing positive is n + 1\n",
        "    return n + 1\n",
        "\n",
        "# Example usage:\n",
        "my_list = [3, 4, -1, 1]\n",
        "result = find_first_missing_positive(my_list)\n",
        "print(result)\n"
      ],
      "metadata": {
        "id": "wfykmssV3CSF",
        "outputId": "4c2a3e76-9ff0-4168-d045-1f170a383e6e",
        "colab": {
          "base_uri": "https://localhost:8080/"
        }
      },
      "execution_count": null,
      "outputs": [
        {
          "output_type": "stream",
          "name": "stdout",
          "text": [
            "2\n"
          ]
        }
      ]
    },
    {
      "cell_type": "code",
      "source": [],
      "metadata": {
        "id": "q3ou_akC3Iwk"
      },
      "execution_count": null,
      "outputs": []
    }
  ]
}