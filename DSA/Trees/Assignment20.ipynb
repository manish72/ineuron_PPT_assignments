{
 "cells": [
  {
   "cell_type": "raw",
   "id": "7fd1dca3-0385-439d-8c2e-f009a57b8a23",
   "metadata": {},
   "source": [
    "Question-1\n",
    "\n",
    "Given a binary tree, your task is to find subtree with maximum sum in tree."
   ]
  },
  {
   "cell_type": "code",
   "execution_count": 4,
   "id": "a34f23f8-23de-4ef9-be1d-44fecd52f68b",
   "metadata": {},
   "outputs": [
    {
     "name": "stdout",
     "output_type": "stream",
     "text": [
      "28\n"
     ]
    }
   ],
   "source": [
    "class Node:\n",
    "\tdef __init__(self, data):\n",
    "\t\tself.data = data\n",
    "\t\tself.left = None\n",
    "\t\tself.right = None\n",
    "\n",
    "ans = float(\"-infinity\")\n",
    "def findLargestSubtreeSum(root):\n",
    "\tif root is None:\n",
    "\t\treturn 0\n",
    "\tif root.left is None and root.right is None:\n",
    "\t\treturn root.data\n",
    "\n",
    "\tsumleft = findLargestSubtreeSum(root.left)\n",
    "\n",
    "\tsumright = findLargestSubtreeSum(root.right)\n",
    "\n",
    "\tsumrootnode = sumleft + sumright + root.data\n",
    "\n",
    "\ttempmax = max(sumleft, sumright)\n",
    "\ttempmax = max(tempmax, sumrootnode)\n",
    "\n",
    "\tglobal ans\n",
    "\tans = max(ans, tempmax)\n",
    "\treturn sumrootnode\n",
    "\n",
    "root = Node(1)\n",
    "root.left = Node(2)\n",
    "root.right = Node(3)\n",
    "root.left.left = Node(4)\n",
    "root.left.right = Node(5)\n",
    "root.right.left = Node(6)\n",
    "root.right.right = Node(7)\n",
    "findLargestSubtreeSum(root)\n",
    "print(ans)"
   ]
  },
  {
   "cell_type": "raw",
   "id": "ea125308-8abc-4ccd-9e62-24111cfd6a3e",
   "metadata": {},
   "source": [
    "Question-2\n",
    "\n",
    "Construct the BST (Binary Search Tree) from its given level order traversal"
   ]
  },
  {
   "cell_type": "code",
   "execution_count": 8,
   "id": "43d5f43a-31ad-4fb8-abd3-5166ebe0779e",
   "metadata": {},
   "outputs": [
    {
     "name": "stdout",
     "output_type": "stream",
     "text": [
      "1 3 4 5 6 7 8 10 12 "
     ]
    }
   ],
   "source": [
    "import math\n",
    "\n",
    "class Node:\n",
    "\tdef __init__(self, data):\n",
    "\t\tself.data = data\n",
    "\t\tself.left = None\n",
    "\t\tself.right = None\n",
    "\n",
    "def getNode(data):\n",
    "\tnewNode = Node(data)\n",
    "\tnewNode.data = data\n",
    "\tnewNode.left = None\n",
    "\tnewNode.right = None\n",
    "\treturn newNode\n",
    "\n",
    "def LevelOrder(root, data):\n",
    "\tif(root == None):\n",
    "\t\troot = getNode(data)\n",
    "\t\treturn root\n",
    "\tif(data <= root.data):\n",
    "\t\troot.left = LevelOrder(root.left, data)\n",
    "\telse:\n",
    "\t\troot.right = LevelOrder(root.right, data)\n",
    "\treturn root\n",
    "\n",
    "def constructBst(arr, n):\n",
    "\tif(n == 0):\n",
    "\t\treturn None\n",
    "\troot = None\n",
    "\tfor i in range(0, n):\n",
    "\t\troot = LevelOrder(root, arr[i])\n",
    "\treturn root\n",
    "\n",
    "def inorderTraversal(root):\n",
    "\tif (root == None):\n",
    "\t\treturn None\n",
    "\n",
    "\tinorderTraversal(root.left)\n",
    "\tprint(root.data, end=\" \")\n",
    "\tinorderTraversal(root.right)\n",
    "\n",
    "arr = [7, 4, 12, 3, 6, 8, 1, 5, 10]\n",
    "n = len(arr)\n",
    "\n",
    "root = constructBst(arr, n)\n",
    "root = inorderTraversal(root)"
   ]
  },
  {
   "cell_type": "raw",
   "id": "690498f5-745e-4aab-b83d-5bac9f961c62",
   "metadata": {},
   "source": [
    "Question-3\n",
    "\n",
    "Given an array of size n. The problem is to check whether the given array can represent the level order traversal of a Binary Search Tree or not."
   ]
  },
  {
   "cell_type": "code",
   "execution_count": 7,
   "id": "3832ceb3-f79a-4916-b8fa-2e48f013d5d9",
   "metadata": {},
   "outputs": [
    {
     "name": "stdin",
     "output_type": "stream",
     "text": [
      "Enter values in comma separated format 7, 4, 12, 3, 6, 8, 1, 5, 10\n"
     ]
    },
    {
     "name": "stdout",
     "output_type": "stream",
     "text": [
      "Yes\n"
     ]
    },
    {
     "name": "stdin",
     "output_type": "stream",
     "text": [
      "Enter values in comma separated format 11, 6, 13, 5, 12, 10\n"
     ]
    },
    {
     "name": "stdout",
     "output_type": "stream",
     "text": [
      "No\n"
     ]
    }
   ],
   "source": [
    "INT_MIN, INT_MAX = float('-inf'), float('inf')\n",
    "\n",
    "class NodeDetails:\n",
    "\n",
    "\tdef __init__(self, data, min, max):\n",
    "\t\tself.data = data\n",
    "\t\tself.min = min\n",
    "\t\tself.max = max\n",
    "\n",
    "def levelOrderIsOfBST(arr, n):\n",
    "\tif n == 0:\n",
    "\t\treturn True\n",
    "\tq = []\n",
    "\ti = 0\n",
    "\tnewNode = NodeDetails(arr[i], INT_MIN, INT_MAX)\n",
    "\ti += 1\n",
    "\tq.append(newNode)\n",
    "\twhile i != n and len(q) != 0:\n",
    "\t\ttemp = q.pop(0)\n",
    "\n",
    "\t\tif i < n and (arr[i] < temp.data and\n",
    "\t\t\t\t\tarr[i] > temp.min):\n",
    "\n",
    "\t\t\tnewNode = NodeDetails(arr[i], temp.min, temp.data)\n",
    "\t\t\ti += 1\n",
    "\t\t\tq.append(newNode)\t\t\t\n",
    "\n",
    "\t\tif i < n and (arr[i] > temp.data and\n",
    "\t\t\t\t\tarr[i] < temp.max):\n",
    "\t\t\n",
    "\t\t\t# Create NodeDetails for newNode\n",
    "\t\t\t#/ and add it to the queue\n",
    "\t\t\tnewNode = NodeDetails(arr[i], temp.data, temp.max)\n",
    "\t\t\ti += 1\n",
    "\t\t\tq.append(newNode)\t\n",
    "\tif i == n:\n",
    "\t\treturn True\n",
    "\treturn False\t\n",
    "\n",
    "for i in range(2):\n",
    "    arr = list(map(int,input(\"Enter values in comma separated format\").split(',')))\n",
    "    n = len(arr)\t\n",
    "    if levelOrderIsOfBST(arr, n):\n",
    "        print(\"Yes\")\n",
    "    else:\n",
    "        print(\"No\")"
   ]
  },
  {
   "cell_type": "code",
   "execution_count": null,
   "id": "7c7f0364-2a72-4a90-b3c7-0cc46903d94a",
   "metadata": {},
   "outputs": [],
   "source": []
  }
 ],
 "metadata": {
  "kernelspec": {
   "display_name": "Python 3 (ipykernel)",
   "language": "python",
   "name": "python3"
  },
  "language_info": {
   "codemirror_mode": {
    "name": "ipython",
    "version": 3
   },
   "file_extension": ".py",
   "mimetype": "text/x-python",
   "name": "python",
   "nbconvert_exporter": "python",
   "pygments_lexer": "ipython3",
   "version": "3.10.6"
  }
 },
 "nbformat": 4,
 "nbformat_minor": 5
}
