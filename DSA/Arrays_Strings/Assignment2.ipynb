{
 "cells": [
  {
   "cell_type": "raw",
   "id": "45a3c74b-013a-4ab0-9145-dbcf73fbec9c",
   "metadata": {},
   "source": [
    "Question 1\n",
    "Given an integer array nums of 2n integers, group these integers into n pairs (a1, b1), (a2, b2),\n",
    "..., (an, bn) such that the sum of min(ai, bi) for all i is maximized. Return the maximized sum.\n",
    "Example 1:\n",
    "Input: nums = [1,4,3,2]\n",
    "Output: 4\n",
    "Explanation: All possible pairings (ignoring the ordering of elements) are:\n",
    "1. (1, 4), (2, 3) -> min(1, 4) + min(2, 3) = 1 + 2 = 3\n",
    "2. (1, 3), (2, 4) -> min(1, 3) + min(2, 4) = 1 + 2 = 3\n",
    "3. (1, 2), (3, 4) -> min(1, 2) + min(3, 4) = 1 + 3 = 4\n",
    "So the maximum possible sum is 4"
   ]
  },
  {
   "cell_type": "code",
   "execution_count": 1,
   "id": "99165afd-d06d-484e-aa54-25c116c1bfb6",
   "metadata": {},
   "outputs": [
    {
     "name": "stdin",
     "output_type": "stream",
     "text": [
      "Enter values in comma separated format 1,3,4,2\n"
     ]
    },
    {
     "name": "stdout",
     "output_type": "stream",
     "text": [
      "4\n"
     ]
    }
   ],
   "source": [
    "nums = list(map(int,input(\"Enter values in comma separated format\").split(',')))\n",
    "nums = sorted(nums)\n",
    "sum1, i = 0,0\n",
    "while i < len(nums):\n",
    "    sum1 += nums[i]\n",
    "    i += 2\n",
    "\n",
    "print(sum1)    "
   ]
  },
  {
   "cell_type": "raw",
   "id": "3b8973e4-dfc8-4bf3-8f35-c9c5646c5bff",
   "metadata": {},
   "source": [
    "Question 2\n",
    "Alice has n candies, where the ith candy is of type candyType[i]. Alice noticed that she started\n",
    "to gain weight, so she visited a doctor.\n",
    "The doctor advised Alice to only eat n / 2 of the candies she has (n is always even). Alice\n",
    "likes her candies very much, and she wants to eat the maximum number of different types of\n",
    "candies while still following the doctor's advice.\n",
    "Given the integer array candyType of length n, return the maximum number of different types\n",
    "of candies she can eat if she only eats n / 2 of them."
   ]
  },
  {
   "cell_type": "code",
   "execution_count": 6,
   "id": "6d502770-a62b-4274-963c-668e91692f91",
   "metadata": {},
   "outputs": [
    {
     "name": "stdin",
     "output_type": "stream",
     "text": [
      "Enter values in comma separated format 3,1,4,2,1,4,3\n"
     ]
    },
    {
     "name": "stdout",
     "output_type": "stream",
     "text": [
      "3\n"
     ]
    }
   ],
   "source": [
    "candyType = list(map(int,input(\"Enter values in comma separated format\").split(',')))\n",
    "print(min(len(set(candyType)),len(candyType) >> 1))"
   ]
  },
  {
   "cell_type": "raw",
   "id": "a7522e8d-6bac-4147-abf0-0636ddb5f689",
   "metadata": {},
   "source": [
    "Question 3\n",
    "We define a harmonious array as an array where the difference between its maximum value\n",
    "and its minimum value is exactly 1.\n",
    "Given an integer array nums, return the length of its longest harmonious subsequence\n",
    "among all its possible subsequences.\n",
    "A subsequence of an array is a sequence that can be derived from the array by deleting some\n",
    "or no elements without changing the order of the remaining elements."
   ]
  },
  {
   "cell_type": "code",
   "execution_count": 14,
   "id": "3b06a6ee-3c97-4af3-ad7e-54302260a516",
   "metadata": {},
   "outputs": [
    {
     "name": "stdin",
     "output_type": "stream",
     "text": [
      "Enter values in comma separated format 1,3,2,2,5,2,3,7\n"
     ]
    },
    {
     "name": "stdout",
     "output_type": "stream",
     "text": [
      "5\n"
     ]
    }
   ],
   "source": [
    "from collections import Counter\n",
    "\n",
    "nums = list(map(int,input(\"Enter values in comma separated format\").split(',')))\n",
    "c = Counter(nums)\n",
    "res = 0\n",
    "for x in c:\n",
    "    if x + 1 in c:\n",
    "        res = max(res, c[x] + c[x + 1])\n",
    "print(res)"
   ]
  },
  {
   "cell_type": "raw",
   "id": "15553c09-c339-4da9-a565-6baf5e9fb211",
   "metadata": {},
   "source": [
    "Question 4\n",
    "You have a long flowerbed in which some of the plots are planted, and some are not.\n",
    "However, flowers cannot be planted in adjacent plots.\n",
    "Given an integer array flowerbed containing 0's and 1's, where 0 means empty and 1 means\n",
    "not empty, and an integer n, return true if n new flowers can be planted in the flowerbed\n",
    "without violating the no-adjacent-flowers rule and false otherwise."
   ]
  },
  {
   "cell_type": "code",
   "execution_count": 17,
   "id": "a41fa119-f4f6-40d2-97a9-21c75d9edcbb",
   "metadata": {},
   "outputs": [
    {
     "name": "stdin",
     "output_type": "stream",
     "text": [
      "Enter values in comma separated format 1,0,0,0,1\n",
      "Enter no of new flowers 1\n"
     ]
    },
    {
     "name": "stdout",
     "output_type": "stream",
     "text": [
      "True\n"
     ]
    }
   ],
   "source": [
    "flowerbed = list(map(int,input(\"Enter values in comma separated format\").split(',')))\n",
    "n = int(input(\"Enter no of new flowers\"))\n",
    "flowerbed = [0] + flowerbed + [0]\n",
    "for i in range(1, len(flowerbed) - 1):\n",
    "    if sum(flowerbed[i - 1 : i + 2]) == 0:\n",
    "        flowerbed[i] = 1\n",
    "        n -= 1\n",
    "print(n <= 0)"
   ]
  },
  {
   "cell_type": "raw",
   "id": "1ab771e8-02bd-4185-ae76-9ea9fe02e5fd",
   "metadata": {},
   "source": [
    "Question 5\n",
    "Given an integer array nums, find three numbers whose product is maximum and return the\n",
    "maximum product."
   ]
  },
  {
   "cell_type": "code",
   "execution_count": 21,
   "id": "e834d8a0-41be-42a7-ad27-2c667d549b6e",
   "metadata": {},
   "outputs": [
    {
     "name": "stdin",
     "output_type": "stream",
     "text": [
      "Enter values in comma separated format -1,-2,-3\n"
     ]
    },
    {
     "name": "stdout",
     "output_type": "stream",
     "text": [
      "Max product of three numbers : -6\n"
     ]
    }
   ],
   "source": [
    "nums = list(map(int,input(\"Enter values in comma separated format\").split(',')))\n",
    "\n",
    "max1,max2,max3,min1,min2 = float(\"-inf\"),float(\"-inf\"),float(\"-inf\"),float(\"inf\"),float(\"inf\")\n",
    "for num in nums:\n",
    "    if num > max1:\n",
    "        max3 = max2\n",
    "        max2 = max1\n",
    "        max1 = num\n",
    "    elif num > max2:\n",
    "        max3 = max2\n",
    "        max2 = num\n",
    "    elif num > max3:\n",
    "        max3 = num\n",
    "\n",
    "    if num < min1:\n",
    "        min2 = min1\n",
    "        min1 = num\n",
    "    elif num < min2:\n",
    "        min2 = num\n",
    "\n",
    "print(f\"Max product of three numbers : {max(max1*max2*max3,min1*min2*max1)}\")"
   ]
  },
  {
   "cell_type": "raw",
   "id": "789d4057-5476-4c1b-9817-54dee5e5e1a6",
   "metadata": {},
   "source": [
    "Question 6\n",
    "Given an array of integers nums which is sorted in ascending order, and an integer target,\n",
    "write a function to search target in nums. If target exists, then return its index. Otherwise,\n",
    "return -1.\n",
    "You must write an algorithm with O(log n) runtime complexity."
   ]
  },
  {
   "cell_type": "code",
   "execution_count": 27,
   "id": "7a810e2f-0fa4-4ace-92e2-b426a5a757c0",
   "metadata": {},
   "outputs": [
    {
     "name": "stdin",
     "output_type": "stream",
     "text": [
      "Enter values in comma separated format -1,0,3,5,9,12\n",
      "Enter target value: 12\n"
     ]
    },
    {
     "name": "stdout",
     "output_type": "stream",
     "text": [
      "Element found at index : 5\n"
     ]
    }
   ],
   "source": [
    "nums = list(map(int,input(\"Enter values in comma separated format\").split(',')))\n",
    "target = int(input(\"Enter target value:\"))\n",
    "left,right,mid = 0,len(nums),0\n",
    "flag = False\n",
    "\n",
    "while left <= right:\n",
    "    mid = (left+(right-1))//2\n",
    "    if nums[mid] == target:\n",
    "        flag = True\n",
    "        break\n",
    "    elif nums[mid] < target:\n",
    "        left = mid + 1\n",
    "    else:\n",
    "        right = mid - 1\n",
    "        \n",
    "print(f\"Element found at index : {mid}\")"
   ]
  },
  {
   "cell_type": "raw",
   "id": "7e864875-a167-4d6a-9bb2-f1698c375145",
   "metadata": {},
   "source": [
    "Question 7\n",
    "An array is monotonic if it is either monotone increasing or monotone decreasing.\n",
    "An array nums is monotone increasing if for all i <= j, nums[i] <= nums[j]. An array nums is\n",
    "monotone decreasing if for all i <= j, nums[i] >= nums[j].\n",
    "Given an integer array nums, return true if the given array is monotonic, or false otherwise."
   ]
  },
  {
   "cell_type": "code",
   "execution_count": 29,
   "id": "8cf52222-27d8-421a-9a0d-6e46d2313e57",
   "metadata": {},
   "outputs": [
    {
     "name": "stdin",
     "output_type": "stream",
     "text": [
      "Enter values in comma separated format 1,2,2,3\n"
     ]
    },
    {
     "name": "stdout",
     "output_type": "stream",
     "text": [
      "Given array is monotonic\n"
     ]
    }
   ],
   "source": [
    "nums = list(map(int,input(\"Enter values in comma separated format\").split(',')))\n",
    "\n",
    "if nums==sorted(nums) or nums==sorted(nums,reverse=True):\n",
    "    print(\"Given array is monotonic\")\n",
    "else:\n",
    "    print(\"Given array is not monotonic\")"
   ]
  },
  {
   "cell_type": "raw",
   "id": "f7ecb4a7-ca7e-4a7e-b14f-ca94897d9c00",
   "metadata": {},
   "source": [
    "Question 8\n",
    "You are given an integer array nums and an integer k.\n",
    "In one operation, you can choose any index i where 0 <= i < nums.length and change nums[i]\n",
    "to nums[i] + x where x is an integer from the range [-k, k]. You can apply this operation at\n",
    "most once for each index i.\n",
    "The score of nums is the difference between the maximum and minimum elements in nums.\n",
    "Return the minimu"
   ]
  },
  {
   "cell_type": "code",
   "execution_count": 31,
   "id": "6ff5766d-f282-4dcf-aebf-43ed381bd481",
   "metadata": {},
   "outputs": [
    {
     "name": "stdin",
     "output_type": "stream",
     "text": [
      "Enter values in comma separated format 1\n",
      "Enter integer: 0\n"
     ]
    },
    {
     "name": "stdout",
     "output_type": "stream",
     "text": [
      "0\n"
     ]
    }
   ],
   "source": [
    "nums = list(map(int,input(\"Enter values in comma separated format\").split(',')))\n",
    "k = int(input(\"Enter integer:\"))\n",
    "\n",
    "print(max(0, max(nums) - min(nums) - 2*k))"
   ]
  }
 ],
 "metadata": {
  "kernelspec": {
   "display_name": "Python 3 (ipykernel)",
   "language": "python",
   "name": "python3"
  },
  "language_info": {
   "codemirror_mode": {
    "name": "ipython",
    "version": 3
   },
   "file_extension": ".py",
   "mimetype": "text/x-python",
   "name": "python",
   "nbconvert_exporter": "python",
   "pygments_lexer": "ipython3",
   "version": "3.10.6"
  }
 },
 "nbformat": 4,
 "nbformat_minor": 5
}
