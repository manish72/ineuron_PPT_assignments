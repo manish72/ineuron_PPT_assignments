{
 "cells": [
  {
   "cell_type": "raw",
   "id": "54210566-b246-4d0e-8820-54e2a45ca73d",
   "metadata": {},
   "source": [
    "Question 1\n",
    "\n",
    "A permutation perm of n + 1 integers of all the integers in the range [0, n] can be represented as a string s of length n where:\n",
    "\n",
    "- s[i] == 'I' if perm[i] < perm[i + 1], and\n",
    "- s[i] == 'D' if perm[i] > perm[i + 1].\n",
    "\n",
    "Given a string s, reconstruct the permutation perm and return it. If there are multiple valid permutations perm, return any of them.\n",
    "\n",
    "Example 1:\n",
    "\n",
    "Input: s = \"IDID\"\n",
    "\n",
    "Output:\n",
    "\n",
    "[0,4,1,3,2]"
   ]
  },
  {
   "cell_type": "code",
   "execution_count": 3,
   "id": "44423e5c-e3a9-466f-82f2-92bb53cb9ead",
   "metadata": {},
   "outputs": [
    {
     "name": "stdin",
     "output_type": "stream",
     "text": [
      "Enter String: IDID\n"
     ]
    },
    {
     "name": "stdout",
     "output_type": "stream",
     "text": [
      "[0, 4, 1, 3, 2]\n"
     ]
    }
   ],
   "source": [
    "S = input(\"Enter String:\")\n",
    "result = []\n",
    "left, right = 0, len(S)\n",
    "for c in S:\n",
    "    if c == 'I':\n",
    "        result.append(left)\n",
    "        left += 1\n",
    "    else:\n",
    "        result.append(right)\n",
    "        right -= 1\n",
    "result.append(left)\n",
    "print(result)"
   ]
  },
  {
   "cell_type": "raw",
   "id": "90071bda-f919-4199-8211-f80ff96bdb23",
   "metadata": {},
   "source": [
    "Question 2\n",
    "\n",
    "You are given an m x n integer matrix matrix with the following two properties:\n",
    "\n",
    "- Each row is sorted in non-decreasing order.\n",
    "- The first integer of each row is greater than the last integer of the previous row.\n",
    "\n",
    "Given an integer target, return true *if* target *is in* matrix *or* false *otherwise*.\n",
    "\n",
    "You must write a solution in O(log(m * n)) time complexity."
   ]
  },
  {
   "cell_type": "code",
   "execution_count": 13,
   "id": "1a554de2-0ed4-4ccc-9e9a-0d13677b0bd0",
   "metadata": {},
   "outputs": [
    {
     "name": "stdin",
     "output_type": "stream",
     "text": [
      "Enter target number: 3\n"
     ]
    },
    {
     "name": "stdout",
     "output_type": "stream",
     "text": [
      "True\n"
     ]
    }
   ],
   "source": [
    "matrix = [[1,3,5,7],[10,11,16,20],[23,30,34,60]]\n",
    "target = int(input('Enter target number:'))\n",
    "if not matrix:\n",
    "    print(False)\n",
    "else:\n",
    "    m, n = len(matrix), len(matrix[0])\n",
    "    left, right = 0, m * n\n",
    "    while left < right:\n",
    "        mid = left + (right - left) // 2\n",
    "        if matrix[mid // n][mid % n] >= target:\n",
    "            right = mid\n",
    "        else:\n",
    "            left = mid + 1\n",
    "\n",
    "    print(left < m * n and matrix[left // n][left % n] == target)\n"
   ]
  },
  {
   "cell_type": "raw",
   "id": "56d84a35-b431-41a2-870b-04a38573bdbd",
   "metadata": {},
   "source": [
    "Question 3\n",
    "\n",
    "Given an array of integers arr, return *true if and only if it is a valid mountain array*.\n",
    "\n",
    "Recall that arr is a mountain array if and only if:\n",
    "\n",
    "- arr.length >= 3\n",
    "- There exists some i with 0 < i < arr.length - 1 such that:\n",
    "    - arr[0] < arr[1] < ... < arr[i - 1] < arr[i]\n",
    "    - arr[i] > arr[i + 1] > ... > arr[arr.length - 1]"
   ]
  },
  {
   "cell_type": "code",
   "execution_count": 14,
   "id": "0e37081d-e7e4-4a24-b8f0-b703ae76a66b",
   "metadata": {},
   "outputs": [
    {
     "name": "stdin",
     "output_type": "stream",
     "text": [
      "Enter values in comma separated format 0,2,3,4,5,2,1,0\n"
     ]
    },
    {
     "name": "stdout",
     "output_type": "stream",
     "text": [
      "True\n"
     ]
    }
   ],
   "source": [
    "nums = list(map(int,input(\"Enter values in comma separated format\").split(',')))\n",
    "i = 0\n",
    "while i+1 < len(nums) and nums[i] < nums[i+1]:\n",
    "\ti += 1\n",
    "j = len(nums)-1\n",
    "while j-1 >= 0 and nums[j-1] > nums[j]:\n",
    "\tj -= 1\n",
    "print(0 < i == j < len(nums)-1)"
   ]
  },
  {
   "cell_type": "raw",
   "id": "36609b6b-fd27-466f-831a-11b0a22c21ac",
   "metadata": {},
   "source": [
    "Question 4\n",
    "\n",
    "Given a binary array nums, return *the maximum length of a contiguous subarray with an equal number of 0 and 1."
   ]
  },
  {
   "cell_type": "code",
   "execution_count": 15,
   "id": "4fae36ce-1904-4c36-bfff-4b34f64374a5",
   "metadata": {},
   "outputs": [
    {
     "name": "stdin",
     "output_type": "stream",
     "text": [
      "Enter values in comma separated format 0,1,0\n"
     ]
    },
    {
     "name": "stdout",
     "output_type": "stream",
     "text": [
      "2\n"
     ]
    }
   ],
   "source": [
    "nums = list(map(int,input(\"Enter values in comma separated format\").split(',')))\n",
    "result, count = 0, 0\n",
    "lookup = {0: -1}\n",
    "for i, num in enumerate(nums):\n",
    "    count += 1 if num == 1 else -1\n",
    "    if count in lookup:\n",
    "        result = max(result, i - lookup[count])\n",
    "    else:\n",
    "        lookup[count] = i\n",
    "\n",
    "print(result)"
   ]
  },
  {
   "cell_type": "raw",
   "id": "0cf59df5-7ff7-40c3-bdc4-32f24a8d8fe7",
   "metadata": {},
   "source": [
    "Question 5\n",
    "\n",
    "The product sum of two equal-length arrays a and b is equal to the sum of a[i] * b[i] for all 0 <= i < a.length (0-indexed).\n",
    "\n",
    "- For example, if a = [1,2,3,4] and b = [5,2,3,1], the product sum would be 1*5 + 2*2 + 3*3 + 4*1 = 22.\n",
    "\n",
    "Given two arrays nums1 and nums2 of length n, return the minimum product sum if you are allowed to **rearrange** the **order** of the elements in* nums1."
   ]
  },
  {
   "cell_type": "code",
   "execution_count": 20,
   "id": "f6851f2e-8126-4411-a255-46efeba8cfae",
   "metadata": {},
   "outputs": [
    {
     "name": "stdin",
     "output_type": "stream",
     "text": [
      "Enter values in comma separated format 5,3,4,2\n",
      "Enter values in comma separated format 4,2,2,5\n"
     ]
    },
    {
     "name": "stdout",
     "output_type": "stream",
     "text": [
      "40\n"
     ]
    }
   ],
   "source": [
    "import itertools\n",
    "import operator\n",
    "def inner_product(vec1, vec2):\n",
    "            return sum(map(operator.mul, vec1, vec2))\n",
    "\n",
    "nums1 = list(map(int,input(\"Enter values in comma separated format\").split(',')))\n",
    "nums2 = list(map(int,input(\"Enter values in comma separated format\").split(',')))\n",
    "nums1.sort()\n",
    "nums2.sort(reverse=True)\n",
    "print(inner_product(nums1, nums2))"
   ]
  },
  {
   "cell_type": "raw",
   "id": "724c72b8-b40d-4f6b-b45f-d19cffce99aa",
   "metadata": {},
   "source": [
    "Question 6\n",
    "\n",
    "An integer array original is transformed into a **doubled** array changed by appending **twice the value** of every element in original, and then randomly **shuffling** the resulting array.\n",
    "\n",
    "Given an array changed, return original *if* changed *is a **doubled** array. If* changed *is not a **doubled** array, return an empty array. The elements in* original *may be returned in **any** order*."
   ]
  },
  {
   "cell_type": "code",
   "execution_count": 24,
   "id": "b97a1a8a-8769-4b60-925e-6ef609af69f4",
   "metadata": {},
   "outputs": [
    {
     "name": "stdin",
     "output_type": "stream",
     "text": [
      "Enter values in comma separated format 1,3,4,2,6,8\n"
     ]
    },
    {
     "name": "stdout",
     "output_type": "stream",
     "text": [
      "[1, 3, 4]\n"
     ]
    }
   ],
   "source": [
    "from collections import Counter \n",
    "\n",
    "changed = list(map(int,input(\"Enter values in comma separated format\").split(',')))\n",
    "result = list()\n",
    "if len(changed)%2:\n",
    "    result = []\n",
    "cnts = Counter(changed)\n",
    "for x in sorted(cnts.keys()):\n",
    "    if cnts[x] > cnts[2*x]:\n",
    "        result = []\n",
    "    cnts[2*x] -= cnts[x] if x else cnts[x]//2\n",
    "\n",
    "if cnts != []:\n",
    "    print(list(cnts.elements()))"
   ]
  },
  {
   "cell_type": "raw",
   "id": "7dc50798-1b20-4a39-a2f5-fee2fcb750d9",
   "metadata": {},
   "source": [
    "Question 7\n",
    "\n",
    "Given a positive integer n, generate an n x n matrix filled with elements from 1 to n2 in spiral order."
   ]
  },
  {
   "cell_type": "code",
   "execution_count": 26,
   "id": "aa3d4427-d70a-4827-9f14-f3363f07bfc7",
   "metadata": {},
   "outputs": [
    {
     "name": "stdin",
     "output_type": "stream",
     "text": [
      "Enter number: 3\n"
     ]
    },
    {
     "name": "stdout",
     "output_type": "stream",
     "text": [
      "[[1, 2, 3], [8, 9, 4], [7, 6, 5]]\n"
     ]
    }
   ],
   "source": [
    "n = int(input(\"Enter number:\"))\n",
    "matrix = [[0 for _ in range(n)] for _ in range(n)]\n",
    "left, right, top, bottom, num = 0, n - 1, 0, n - 1, 1\n",
    "\n",
    "while left <= right and top <= bottom:\n",
    "    for j in range(left, right + 1):\n",
    "        matrix[top][j] = num\n",
    "        num += 1\n",
    "    for i in range(top + 1, bottom):\n",
    "        matrix[i][right] = num\n",
    "        num += 1\n",
    "    for j in reversed(range(left, right + 1)):\n",
    "        if top < bottom:\n",
    "            matrix[bottom][j] = num\n",
    "            num += 1\n",
    "    for i in reversed(range(top + 1, bottom)):\n",
    "        if left < right:\n",
    "            matrix[i][left] = num\n",
    "            num += 1\n",
    "    left, right, top, bottom = left + 1, right - 1, top + 1, bottom - 1\n",
    "\n",
    "print(matrix)"
   ]
  },
  {
   "cell_type": "raw",
   "id": "a086d07c-8563-40bb-83f4-251d54947cd6",
   "metadata": {},
   "source": [
    "Question 8\n",
    "\n",
    "Given two [sparse matrices](https://en.wikipedia.org/wiki/Sparse_matrix) mat1 of size m x k and mat2 of size k x n, return the result of mat1 x mat2. You may assume that multiplication is always possible."
   ]
  },
  {
   "cell_type": "code",
   "execution_count": 27,
   "id": "d6ecb41b-69e9-4faa-8f00-1d922e431080",
   "metadata": {},
   "outputs": [
    {
     "name": "stdout",
     "output_type": "stream",
     "text": [
      "[[7, 0, 0], [-7, 0, 3]]\n"
     ]
    }
   ],
   "source": [
    "A = [[1,0,0],[-1,0,3]]\n",
    "B = [[7,0,0],[0,0,0],[0,0,1]]\n",
    "m, n, l = len(A), len(A[0]), len(B[0])\n",
    "res = [[0 for _ in range(l)] for _ in range(m)]\n",
    "for i in range(m):\n",
    "\tfor k in range(n):\n",
    "\t\tif A[i][k]:\n",
    "\t\t\tfor j in range(l):\n",
    "\t\t\t\tres[i][j] += A[i][k] * B[k][j]\n",
    "print(res)"
   ]
  }
 ],
 "metadata": {
  "kernelspec": {
   "display_name": "Python 3 (ipykernel)",
   "language": "python",
   "name": "python3"
  },
  "language_info": {
   "codemirror_mode": {
    "name": "ipython",
    "version": 3
   },
   "file_extension": ".py",
   "mimetype": "text/x-python",
   "name": "python",
   "nbconvert_exporter": "python",
   "pygments_lexer": "ipython3",
   "version": "3.10.6"
  }
 },
 "nbformat": 4,
 "nbformat_minor": 5
}
