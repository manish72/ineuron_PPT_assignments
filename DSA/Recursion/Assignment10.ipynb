{
 "cells": [
  {
   "cell_type": "raw",
   "id": "76b0be5f-0cf9-4afd-99d6-62dc7b5fd0b0",
   "metadata": {},
   "source": [
    "Question 1\n",
    "\n",
    "Given an integer `n`, return *`true` if it is a power of three. Otherwise, return `false`*.\n",
    "\n",
    "An integer `n` is a power of three, if there exists an integer `x` such that `n == 3x`."
   ]
  },
  {
   "cell_type": "code",
   "execution_count": 2,
   "id": "4e83dac1-3560-40df-bc93-d54e9cd1237a",
   "metadata": {},
   "outputs": [
    {
     "name": "stdin",
     "output_type": "stream",
     "text": [
      "Enter number: 27\n"
     ]
    },
    {
     "name": "stdout",
     "output_type": "stream",
     "text": [
      "True\n"
     ]
    },
    {
     "name": "stdin",
     "output_type": "stream",
     "text": [
      "Enter number: 0\n"
     ]
    },
    {
     "name": "stdout",
     "output_type": "stream",
     "text": [
      "False\n"
     ]
    },
    {
     "name": "stdin",
     "output_type": "stream",
     "text": [
      "Enter number: -1\n"
     ]
    },
    {
     "name": "stdout",
     "output_type": "stream",
     "text": [
      "False\n"
     ]
    }
   ],
   "source": [
    "def isPower_of_Three(n):\n",
    "    if (n <= 0):\n",
    "        return False\n",
    "    if (n % 3 == 0):\n",
    "        return isPower_of_Three(n // 3)\n",
    "    if (n == 1):\n",
    "        return True\n",
    "    return False\n",
    "for i in range(3):\n",
    "    n = int(input(\"Enter number:\"))\n",
    "    print(isPower_of_Three(n))"
   ]
  },
  {
   "cell_type": "raw",
   "id": "bacf36b4-84a4-40dd-a44c-e6a4fdd18cbd",
   "metadata": {},
   "source": [
    "Question 2\n",
    "\n",
    "You have a list `arr` of all integers in the range `[1, n]` sorted in a strictly increasing order. Apply the following algorithm on `arr`:\n",
    "\n",
    "- Starting from left to right, remove the first number and every other number afterward until you reach the end of the list.\n",
    "- Repeat the previous step again, but this time from right to left, remove the rightmost number and every other number from the remaining numbers.\n",
    "- Keep repeating the steps again, alternating left to right and right to left, until a single number remains.\n",
    "\n",
    "Given the integer `n`, return *the last number that remains in* `arr`."
   ]
  },
  {
   "cell_type": "code",
   "execution_count": 3,
   "id": "1b11d2e3-d29f-4584-9c81-58642ea1d053",
   "metadata": {},
   "outputs": [
    {
     "name": "stdin",
     "output_type": "stream",
     "text": [
      "Enter number: 9\n"
     ]
    },
    {
     "name": "stdout",
     "output_type": "stream",
     "text": [
      "6.0\n"
     ]
    },
    {
     "name": "stdin",
     "output_type": "stream",
     "text": [
      "Enter number: 1\n"
     ]
    },
    {
     "name": "stdout",
     "output_type": "stream",
     "text": [
      "1\n"
     ]
    }
   ],
   "source": [
    "def lastRemaining( n):\n",
    "    start, step, direction = 1, 2, 1\n",
    "    while n > 1:\n",
    "        start += direction * (step * (n/2) - step/2)\n",
    "        n /= 2\n",
    "        step *= 2\n",
    "        direction *= -1\n",
    "    return start\n",
    "\n",
    "for i in range(2):\n",
    "    n = int(input(\"Enter number:\"))\n",
    "    print(lastRemaining(n))"
   ]
  },
  {
   "cell_type": "raw",
   "id": "2ba4b8d5-9953-4cea-b410-764da21b86ef",
   "metadata": {},
   "source": [
    "Question 3\n",
    "\n",
    "Given a set represented as a string, write a recursive code to print all subsets of it. The subsets can be printed in any order."
   ]
  },
  {
   "cell_type": "code",
   "execution_count": 6,
   "id": "153b0e77-d0d2-4cec-b153-aad4d261630f",
   "metadata": {},
   "outputs": [
    {
     "name": "stdin",
     "output_type": "stream",
     "text": [
      "Enter string: abc\n"
     ]
    },
    {
     "name": "stdout",
     "output_type": "stream",
     "text": [
      "abc\n",
      "ab\n",
      "ac\n",
      "a\n",
      "bc\n",
      "b\n",
      "c\n",
      "\n"
     ]
    },
    {
     "name": "stdin",
     "output_type": "stream",
     "text": [
      "Enter string: abcd\n"
     ]
    },
    {
     "name": "stdout",
     "output_type": "stream",
     "text": [
      "abcd\n",
      "abc\n",
      "abd\n",
      "ab\n",
      "acd\n",
      "ac\n",
      "ad\n",
      "a\n",
      "bcd\n",
      "bc\n",
      "bd\n",
      "b\n",
      "cd\n",
      "c\n",
      "d\n",
      "\n"
     ]
    }
   ],
   "source": [
    "def powerSet(string, index, curr):\n",
    "    \n",
    "    if index == len(string):\n",
    "        print(curr)\n",
    "        return\n",
    " \n",
    "    powerSet(string, index + 1,curr + string[index])\n",
    "    powerSet(string, index + 1, curr)\n",
    "\n",
    "for i in range(2):\n",
    "    str1 = input(\"Enter string:\")\n",
    "    powerSet(str1,0,\"\")"
   ]
  },
  {
   "cell_type": "raw",
   "id": "de5a8cee-c64a-410c-89ab-e1d45e4f8f5d",
   "metadata": {},
   "source": [
    "Question 4\n",
    "\n",
    "Given a string calculate length of the string using recursion."
   ]
  },
  {
   "cell_type": "code",
   "execution_count": 9,
   "id": "6df4d1ab-8e48-42f0-a192-635e2256fb11",
   "metadata": {},
   "outputs": [
    {
     "name": "stdin",
     "output_type": "stream",
     "text": [
      "Enter string: abcd\n"
     ]
    },
    {
     "name": "stdout",
     "output_type": "stream",
     "text": [
      "4\n"
     ]
    },
    {
     "name": "stdin",
     "output_type": "stream",
     "text": [
      "Enter string: GEEKSFORGEEKS\n"
     ]
    },
    {
     "name": "stdout",
     "output_type": "stream",
     "text": [
      "13\n"
     ]
    }
   ],
   "source": [
    "def findstringlen(str1):\n",
    "    if str1 == \"\":\n",
    "        return 0\n",
    "    return 1 + findstringlen(str1[1:])\n",
    "\n",
    "for i in range(2):\n",
    "    str1 = input(\"Enter string:\")\n",
    "    print(findstringlen(str1))"
   ]
  },
  {
   "cell_type": "raw",
   "id": "8a3d2204-8e3a-4913-a024-2ebdc621bf2f",
   "metadata": {},
   "source": [
    "Question 5\n",
    "\n",
    "We are given a string S, we need to find count of all contiguous substrings starting and ending with same character."
   ]
  },
  {
   "cell_type": "code",
   "execution_count": 10,
   "id": "c6f5cacf-2f62-401b-bb66-42a67587371c",
   "metadata": {},
   "outputs": [
    {
     "name": "stdin",
     "output_type": "stream",
     "text": [
      "Enter string: abcab\n"
     ]
    },
    {
     "name": "stdout",
     "output_type": "stream",
     "text": [
      "7\n"
     ]
    },
    {
     "name": "stdin",
     "output_type": "stream",
     "text": [
      "Enter string: aba\n"
     ]
    },
    {
     "name": "stdout",
     "output_type": "stream",
     "text": [
      "4\n"
     ]
    }
   ],
   "source": [
    "def equalCheck(s):\n",
    "    return (ord(s[0]) == ord(s[len(s) - 1]));\n",
    " \n",
    "def subStringCount(s):\n",
    "    result = 0;\n",
    "    n = len(s);\n",
    "\n",
    "    for i in range(n):\n",
    "        for j in range(1,n-i+1):\n",
    "            if (equalCheck(s[i:i+j])):\n",
    "                result+=1 \n",
    "    return result\n",
    "\n",
    "for i in range(2):\n",
    "    str1 = input(\"Enter string:\")\n",
    "    print(subStringCount(str1))"
   ]
  },
  {
   "cell_type": "raw",
   "id": "6fc45b0b-904e-42e4-909b-fa258ebebf46",
   "metadata": {},
   "source": [
    "Question 6\n",
    "\n",
    "The tower of Hanoi is a famous puzzle where we have three rods and **N** disks. The objective of the puzzle is to move the entire stack to another rod. You are given the number of discs **N**. Initially, these discs are in the rod 1. You need to print all the steps of discs movement so that all the discs reach the 3rd rod. Also, you need to find the total moves.**Note:** The discs are arranged such that the **top disc is numbered 1** and the **bottom-most disc is numbered N**. Also, all the discs have **different sizes** and a bigger disc **cannot** be put on the top of a smaller disc. Refer the provided link to get a better clarity about the puzzle."
   ]
  },
  {
   "cell_type": "code",
   "execution_count": 12,
   "id": "e16e8b3e-3f52-4084-87da-fc7c12a53a35",
   "metadata": {},
   "outputs": [
    {
     "name": "stdin",
     "output_type": "stream",
     "text": [
      "Enter number: 2\n"
     ]
    },
    {
     "name": "stdout",
     "output_type": "stream",
     "text": [
      "Move disk 1 from rod A to rod B\n",
      "Move disk 2 from rod A to rod C\n",
      "Move disk 1 from rod B to rod C\n"
     ]
    },
    {
     "name": "stdin",
     "output_type": "stream",
     "text": [
      "Enter number: 3\n"
     ]
    },
    {
     "name": "stdout",
     "output_type": "stream",
     "text": [
      "Move disk 1 from rod A to rod C\n",
      "Move disk 2 from rod A to rod B\n",
      "Move disk 1 from rod C to rod B\n",
      "Move disk 3 from rod A to rod C\n",
      "Move disk 1 from rod B to rod A\n",
      "Move disk 2 from rod B to rod C\n",
      "Move disk 1 from rod A to rod C\n"
     ]
    }
   ],
   "source": [
    "def TowerOfHanoi(n, from_rod, to_rod, aux_rod):\n",
    "    if n == 0:\n",
    "        return\n",
    "    TowerOfHanoi(n-1, from_rod, aux_rod, to_rod)\n",
    "    print(\"Move disk\", n, \"from rod\", from_rod, \"to rod\", to_rod)\n",
    "    TowerOfHanoi(n-1, aux_rod, to_rod, from_rod)\n",
    "    \n",
    "for i in range(2):\n",
    "    n = int(input(\"Enter number:\"))\n",
    "    TowerOfHanoi(n,'A', 'C', 'B')"
   ]
  },
  {
   "cell_type": "raw",
   "id": "554c4c03-b23d-4a52-94c5-9e521e52973b",
   "metadata": {},
   "source": [
    "Question 7\n",
    "\n",
    "Given a string **str**, the task is to print all the permutations of **str**. A **permutation** is an arrangement of all or part of a set of objects, with regard to the order of the arrangement. For instance, the words ‘bat’ and ‘tab’ represents two distinct permutation (or arrangements) of a similar three letter word."
   ]
  },
  {
   "cell_type": "code",
   "execution_count": 15,
   "id": "c3072d40-3002-4f89-b6b0-55fac9f5ec30",
   "metadata": {},
   "outputs": [
    {
     "name": "stdin",
     "output_type": "stream",
     "text": [
      "Enter string: cd\n"
     ]
    },
    {
     "name": "stdout",
     "output_type": "stream",
     "text": [
      "cd\n",
      "dc\n"
     ]
    },
    {
     "name": "stdin",
     "output_type": "stream",
     "text": [
      "Enter string: abb\n"
     ]
    },
    {
     "name": "stdout",
     "output_type": "stream",
     "text": [
      "abb\n",
      "abb\n",
      "bab\n",
      "bba\n",
      "bba\n",
      "bab\n"
     ]
    }
   ],
   "source": [
    "def convString(List):\n",
    "    return ''.join(List)\n",
    " \n",
    "def computePermute(a, l, r):\n",
    "    if l == r:\n",
    "        print(convString(a))\n",
    "    else:\n",
    "        for i in range(l, r):\n",
    "            a[l], a[i] = a[i], a[l]\n",
    "            computePermute(a, l+1, r)\n",
    "            a[l], a[i] = a[i], a[l]\n",
    "            \n",
    "for i in range(2):\n",
    "    str1 = input(\"Enter string:\")\n",
    "    computePermute(list(str1),0,len(str1))"
   ]
  },
  {
   "cell_type": "raw",
   "id": "a4dcd430-e4cd-4164-a023-775f73c18849",
   "metadata": {},
   "source": [
    "Question 8\n",
    "\n",
    "Given a string, count total number of consonants in it. A consonant is an English alphabet character that is not vowel (a, e, i, o and u). Examples of constants are b, c, d, f, and g."
   ]
  },
  {
   "cell_type": "code",
   "execution_count": 16,
   "id": "31ce8c03-c52e-4b3e-a435-84d9d557f6ac",
   "metadata": {},
   "outputs": [
    {
     "name": "stdin",
     "output_type": "stream",
     "text": [
      "Enter string: abc de\n"
     ]
    },
    {
     "name": "stdout",
     "output_type": "stream",
     "text": [
      "3\n"
     ]
    },
    {
     "name": "stdin",
     "output_type": "stream",
     "text": [
      "Enter string: geeksforgeeks portal\n"
     ]
    },
    {
     "name": "stdout",
     "output_type": "stream",
     "text": [
      "12\n"
     ]
    }
   ],
   "source": [
    "def isConsonant(ch):\n",
    "    \n",
    "    ch = ch.upper()  \n",
    "    return not (ch == 'A' or ch == 'E' or \n",
    "                ch == 'I' or ch == 'O' or \n",
    "                ch == 'U') and ord(ch) >= 65 and ord(ch) <= 90\n",
    "\n",
    "def totalConsonants(string, n):\n",
    "      \n",
    "    if n == 1:\n",
    "        return isConsonant(string[0])\n",
    "  \n",
    "    return totalConsonants(string, n - 1) + isConsonant(string[n-1])\n",
    "\n",
    "for i in range(2):\n",
    "    str1 = input(\"Enter string:\")\n",
    "    print(totalConsonants(str1, len(str1)))"
   ]
  },
  {
   "cell_type": "code",
   "execution_count": null,
   "id": "ca5b5fa7-494e-4baf-8ade-e9dae80408c7",
   "metadata": {},
   "outputs": [],
   "source": []
  }
 ],
 "metadata": {
  "kernelspec": {
   "display_name": "Python 3 (ipykernel)",
   "language": "python",
   "name": "python3"
  },
  "language_info": {
   "codemirror_mode": {
    "name": "ipython",
    "version": 3
   },
   "file_extension": ".py",
   "mimetype": "text/x-python",
   "name": "python",
   "nbconvert_exporter": "python",
   "pygments_lexer": "ipython3",
   "version": "3.10.6"
  }
 },
 "nbformat": 4,
 "nbformat_minor": 5
}
