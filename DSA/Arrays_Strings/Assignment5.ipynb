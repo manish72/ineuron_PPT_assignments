{
 "cells": [
  {
   "cell_type": "raw",
   "id": "53b0c36d-9488-4f12-9af7-2ff9e640da42",
   "metadata": {},
   "source": [
    "Question 1\n",
    "\n",
    "Convert 1D Array Into 2D Array\n",
    "\n",
    "You are given a **0-indexed** 1-dimensional (1D) integer array original, and two integers, m and n. You are tasked with creating a 2-dimensional (2D) array with  m rows and n columns using **all** the elements from original.\n",
    "\n",
    "The elements from indices 0 to n - 1 (**inclusive**) of original should form the first row of the constructed 2D array, the elements from indices n to 2 * n - 1 (**inclusive**) should form the second row of the constructed 2D array, and so on.\n",
    "\n",
    "Return *an* m x n *2D array constructed according to the above procedure, or an empty 2D array if it is impossible."
   ]
  },
  {
   "cell_type": "code",
   "execution_count": 1,
   "id": "7ccebead-aee7-4905-b5b1-8ff0d8299585",
   "metadata": {},
   "outputs": [
    {
     "name": "stdin",
     "output_type": "stream",
     "text": [
      "Enter values in comma separated format 1,2,3,4\n",
      "Enter value of m: 2\n",
      "Enter value of n: 2\n"
     ]
    },
    {
     "name": "stdout",
     "output_type": "stream",
     "text": [
      "Final Array: [[1, 2], [3, 4]]\n"
     ]
    }
   ],
   "source": [
    "nums = list(map(int,input(\"Enter values in comma separated format\").split(',')))\n",
    "m = int(input(\"Enter value of m:\"))\n",
    "n = int(input(\"Enter value of n:\"))\n",
    "result = [nums[i:i+n] for i in range(0, len(nums), n)] if len(nums) == m*n else []\n",
    "        \n",
    "print(f\"Final Array: {result}\")"
   ]
  },
  {
   "cell_type": "raw",
   "id": "698a6e33-811c-48b0-a19a-0be1188ff5e3",
   "metadata": {},
   "source": [
    "Question 2\n",
    "You have n coins and you want to build a staircase with these coins. The staircase consists of k rows where the ith row has exactly i coins. The last row of the staircase **may be** incomplete.\n",
    "Given the integer n, return *the number of **complete rows** of the staircase you will build."
   ]
  },
  {
   "cell_type": "code",
   "execution_count": 3,
   "id": "de0102a6-50c5-4462-a9dd-9a3fe445dc9b",
   "metadata": {},
   "outputs": [
    {
     "name": "stdin",
     "output_type": "stream",
     "text": [
      "Enter no of coins 5\n"
     ]
    },
    {
     "name": "stdout",
     "output_type": "stream",
     "text": [
      "2\n"
     ]
    }
   ],
   "source": [
    "def check(mid, n):\n",
    "            return mid*(mid+1) <= 2*n\n",
    "n = int(input(\"Enter no of coins\"))\n",
    "\n",
    "left, right = 1, n\n",
    "while left <= right:\n",
    "    mid = left + (right-left)//2\n",
    "    if not check(mid, n):\n",
    "        right = mid-1\n",
    "    else:\n",
    "        left = mid+1\n",
    "print(right)"
   ]
  },
  {
   "cell_type": "raw",
   "id": "c073cf72-d189-4c9c-829c-e1c63f83df35",
   "metadata": {},
   "source": [
    "Question 3\n",
    "Given an integer array nums sorted in non-decreasing order, return an array of the squares of each number sorted in non-decreasing order."
   ]
  },
  {
   "cell_type": "code",
   "execution_count": 4,
   "id": "2710f214-e719-4d3d-a081-0ff55f98fbce",
   "metadata": {},
   "outputs": [
    {
     "name": "stdin",
     "output_type": "stream",
     "text": [
      "Enter values in comma separated format -4,-1,0,3,10\n"
     ]
    },
    {
     "name": "stdout",
     "output_type": "stream",
     "text": [
      "[0, 1, 9, 16, 100]\n"
     ]
    }
   ],
   "source": [
    "nums = list(map(int,input(\"Enter values in comma separated format\").split(',')))\n",
    "nums.sort()\n",
    "for r,val in enumerate(nums):\n",
    "    nums[r] = nums[r] * nums[r]\n",
    "nums.sort()\n",
    "print(nums)"
   ]
  },
  {
   "cell_type": "raw",
   "id": "a655db01-57a7-4aee-805d-a1f9cff41b6f",
   "metadata": {},
   "source": [
    "Question 4\n",
    "\n",
    "Given two **0-indexed** integer arrays nums1 and nums2, return *a list* answer *of size* 2 *where:*\n",
    "\n",
    "- answer[0] *is a list of all **distinct** integers in* nums1 *which are **not** present in* nums2*.*\n",
    "- answer[1] *is a list of all **distinct** integers in* nums2 *which are **not** present in* nums1.\n",
    "\n",
    "**Note** that the integers in the lists may be returned in **any** order."
   ]
  },
  {
   "cell_type": "code",
   "execution_count": 5,
   "id": "dc37b120-cb3c-432f-beb4-ead6bef3cf29",
   "metadata": {},
   "outputs": [
    {
     "name": "stdin",
     "output_type": "stream",
     "text": [
      "Enter values in comma separated format 1,2,3\n",
      "Enter values in comma separated format 2,4,6\n"
     ]
    },
    {
     "name": "stdout",
     "output_type": "stream",
     "text": [
      "[[1, 3], [4, 6]]\n"
     ]
    }
   ],
   "source": [
    "nums1 = list(map(int,input(\"Enter values in comma separated format\").split(',')))\n",
    "nums2 = list(map(int,input(\"Enter values in comma separated format\").split(',')))\n",
    "\n",
    "lookup = [set(nums1), set(nums2)]\n",
    "print([list(lookup[0]-lookup[1]), list(lookup[1]-lookup[0])])"
   ]
  },
  {
   "cell_type": "raw",
   "id": "8bc8f215-9c2b-4c1f-98d0-62f58261e855",
   "metadata": {},
   "source": [
    "Question 5\n",
    "\n",
    "Given two integer arrays arr1 and arr2, and the integer d, *return the distance value between the two arrays*.\n",
    "\n",
    "The distance value is defined as the number of elements arr1[i] such that there is not any element arr2[j] where |arr1[i]-arr2[j]| <= d."
   ]
  },
  {
   "cell_type": "code",
   "execution_count": 6,
   "id": "e33f612d-43ad-4ed9-b790-25320bd71cbe",
   "metadata": {},
   "outputs": [
    {
     "name": "stdin",
     "output_type": "stream",
     "text": [
      "Enter values in comma separated format 4,5,8\n",
      "Enter values in comma separated format 10,9,1,8\n",
      "Enter no of distance 2\n"
     ]
    },
    {
     "name": "stdout",
     "output_type": "stream",
     "text": [
      "2\n"
     ]
    }
   ],
   "source": [
    "nums1 = list(map(int,input(\"Enter values in comma separated format\").split(',')))\n",
    "nums2 = list(map(int,input(\"Enter values in comma separated format\").split(',')))\n",
    "d = int(input(\"Enter no of distance\"))\n",
    "nums1.sort(), nums2.sort()\n",
    "result, i, j = 0, 0, 0\n",
    "while i < len(nums1) and j < len(nums2):\n",
    "    if nums1[i]-nums2[j] > d:\n",
    "        j += 1\n",
    "        continue\n",
    "    result += nums2[j]-nums1[i] > d\n",
    "    i += 1\n",
    "print(result+len(nums1)-i)"
   ]
  },
  {
   "cell_type": "raw",
   "id": "27104a67-9e09-4c59-b823-fe7f4813e26b",
   "metadata": {},
   "source": [
    "Question 6\n",
    "\n",
    "Given an integer array nums of length n where all the integers of nums are in the range [1, n] and each integer appears **once** or **twice**, return *an array of all the integers that appears **twice***.\n",
    "\n",
    "You must write an algorithm that runs in O(n) time and uses only constant extra space."
   ]
  },
  {
   "cell_type": "code",
   "execution_count": 7,
   "id": "8df62d0b-b79f-4edf-b37a-c70e5cc7e0b7",
   "metadata": {},
   "outputs": [
    {
     "name": "stdin",
     "output_type": "stream",
     "text": [
      "Enter values in comma separated format 4,3,2,7,8,2,3,1\n"
     ]
    },
    {
     "name": "stdout",
     "output_type": "stream",
     "text": [
      "[2, 3]\n"
     ]
    }
   ],
   "source": [
    "nums = list(map(int,input(\"Enter values in comma separated format\").split(',')))\n",
    "result = []\n",
    "for i in nums:\n",
    "    if nums[abs(i)-1] < 0:\n",
    "        result.append(abs(i))\n",
    "    else:\n",
    "        nums[abs(i)-1] *= -1\n",
    "print(result)"
   ]
  },
  {
   "cell_type": "raw",
   "id": "1ba7d98f-bdcd-4d7b-9f1a-26bd4a902a3a",
   "metadata": {},
   "source": [
    "Question 7\n",
    "\n",
    "Suppose an array of length n sorted in ascending order is **rotated** between 1 and n times. For example, the array nums = [0,1,2,4,5,6,7] might become:\n",
    "\n",
    "- [4,5,6,7,0,1,2] if it was rotated 4 times.\n",
    "- [0,1,2,4,5,6,7] if it was rotated 7 times.\n",
    "\n",
    "Notice that **rotating** an array [a[0], a[1], a[2], ..., a[n-1]] 1 time results in the array [a[n-1], a[0], a[1], a[2], ..., a[n-2]].\n",
    "\n",
    "Given the sorted rotated array nums of **unique** elements, return *the minimum element of this array*.\n",
    "\n",
    "You must write an algorithm that runs in O(log n) time."
   ]
  },
  {
   "cell_type": "code",
   "execution_count": 9,
   "id": "6d3c598a-a310-483d-bc61-83b612fa44c1",
   "metadata": {},
   "outputs": [
    {
     "name": "stdin",
     "output_type": "stream",
     "text": [
      "Enter values in comma separated format 3,4,5,1,2\n"
     ]
    },
    {
     "name": "stdout",
     "output_type": "stream",
     "text": [
      "1\n"
     ]
    }
   ],
   "source": [
    "nums = list(map(int,input(\"Enter values in comma separated format\").split(',')))\n",
    "left, right = 0, len(nums)\n",
    "target = nums[-1]\n",
    "\n",
    "while left < right:\n",
    "    mid = left + (right - left) // 2\n",
    "\n",
    "    if nums[mid] <= target:\n",
    "        right = mid\n",
    "    else:\n",
    "        left = mid + 1\n",
    "\n",
    "print(nums[left])"
   ]
  },
  {
   "cell_type": "raw",
   "id": "5532dc27-c746-4fa3-9c17-8a3996685c17",
   "metadata": {},
   "source": [
    "Question 8\n",
    "\n",
    "An integer array original is transformed into a **doubled** array changed by appending **twice the value** of every element in original, and then randomly **shuffling** the resulting array.\n",
    "\n",
    "Given an array changed, return original *if* changed *is a **doubled** array. If* changed *is not a **doubled** array, return an empty array. The elements in* original *may be returned in **any** order*."
   ]
  },
  {
   "cell_type": "code",
   "execution_count": 17,
   "id": "fd819786-c523-4033-b32a-97665b33d380",
   "metadata": {},
   "outputs": [
    {
     "name": "stdin",
     "output_type": "stream",
     "text": [
      "Enter values in comma separated format 1,3,4,2,6,8\n"
     ]
    },
    {
     "name": "stdout",
     "output_type": "stream",
     "text": [
      "[1, 3, 4]\n"
     ]
    }
   ],
   "source": [
    "from collections import Counter \n",
    "\n",
    "changed = list(map(int,input(\"Enter values in comma separated format\").split(',')))\n",
    "result = list()\n",
    "if len(changed)%2:\n",
    "    result = []\n",
    "cnts = Counter(changed)\n",
    "for x in sorted(cnts.keys()):\n",
    "    if cnts[x] > cnts[2*x]:\n",
    "        result = []\n",
    "    cnts[2*x] -= cnts[x] if x else cnts[x]//2\n",
    "\n",
    "if cnts != []:\n",
    "    print(list(cnts.elements()))"
   ]
  }
 ],
 "metadata": {
  "kernelspec": {
   "display_name": "Python 3 (ipykernel)",
   "language": "python",
   "name": "python3"
  },
  "language_info": {
   "codemirror_mode": {
    "name": "ipython",
    "version": 3
   },
   "file_extension": ".py",
   "mimetype": "text/x-python",
   "name": "python",
   "nbconvert_exporter": "python",
   "pygments_lexer": "ipython3",
   "version": "3.10.6"
  }
 },
 "nbformat": 4,
 "nbformat_minor": 5
}
