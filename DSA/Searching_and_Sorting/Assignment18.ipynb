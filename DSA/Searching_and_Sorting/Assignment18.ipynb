{
 "cells": [
  {
   "cell_type": "raw",
   "id": "41299e67-fd3b-443a-9316-eb3a5ee4a73f",
   "metadata": {},
   "source": [
    "Question 1\n",
    "Merge Intervals\n",
    "\n",
    "Given an array of intervals where intervals[i] = [starti, endi], merge all overlapping intervals, and return an array of the non-overlapping intervals that cover all the intervals in the input."
   ]
  },
  {
   "cell_type": "code",
   "execution_count": 2,
   "id": "6265d614-b38c-4ff6-ba07-6dfa57558071",
   "metadata": {},
   "outputs": [
    {
     "name": "stdout",
     "output_type": "stream",
     "text": [
      "Test Case:1\n",
      "[[1, 6], [8, 10], [15, 18]]\n",
      "Test Case:2\n",
      "[[1, 5]]\n"
     ]
    }
   ],
   "source": [
    "def merge(intervals):\n",
    "    intervals.sort()\n",
    "    result = []\n",
    "    for interval in intervals:\n",
    "        if not result or interval[0] > result[-1][1]:\n",
    "            result.append(interval)\n",
    "        else:\n",
    "            result[-1][1] = max(result[-1][1], interval[1])\n",
    "    return result\n",
    "\n",
    "print(\"Test Case:1\")\n",
    "print(merge([[1,3],[2,6],[8,10],[15,18]]))\n",
    "print(\"Test Case:2\")\n",
    "print(merge([[1,4],[4,5]]))"
   ]
  },
  {
   "cell_type": "raw",
   "id": "581bd6bf-f620-4c91-ad8d-c5f694f6694c",
   "metadata": {},
   "source": [
    "2. Sort Colors\n",
    "\n",
    "Given an array nums with n objects colored red, white, or blue, sort them in-place so that objects of the same color are adjacent, with the colors in the order red, white, and blue.\n",
    "\n",
    "We will use the integers 0, 1, and 2 to represent the color red, white, and blue, respectively.\n",
    "\n",
    "You must solve this problem without using the library's sort function."
   ]
  },
  {
   "cell_type": "code",
   "execution_count": 4,
   "id": "cebbf537-f828-4dab-aceb-97b853e7e43b",
   "metadata": {},
   "outputs": [
    {
     "name": "stdin",
     "output_type": "stream",
     "text": [
      "Enter values in comma separated format 2,0,2,1,1,0\n"
     ]
    },
    {
     "name": "stdout",
     "output_type": "stream",
     "text": [
      "[0, 0, 1, 1, 2, 2]\n"
     ]
    },
    {
     "name": "stdin",
     "output_type": "stream",
     "text": [
      "Enter values in comma separated format 2,0,1\n"
     ]
    },
    {
     "name": "stdout",
     "output_type": "stream",
     "text": [
      "[0, 1, 2]\n"
     ]
    }
   ],
   "source": [
    "def sortColors(nums):\n",
    "    def triPartition(nums, target):\n",
    "        i, left, right = 0, 0, len(nums)-1\n",
    "        while i <= right:\n",
    "            if nums[i] > target:\n",
    "                nums[i], nums[right] = nums[right], nums[i]\n",
    "                right -= 1\n",
    "            else:\n",
    "                if nums[i] < target:\n",
    "                    nums[left], nums[i] = nums[i], nums[left]\n",
    "                    left += 1\n",
    "                i += 1\n",
    "\n",
    "    triPartition(nums, 1)\n",
    "    print(nums)\n",
    "    \n",
    "for i in range(2):\n",
    "    arr = list(map(int,input(\"Enter values in comma separated format\").split(',')))\n",
    "    sortColors(arr)"
   ]
  },
  {
   "cell_type": "raw",
   "id": "52fb5268-9e41-46ff-8b65-8b97146e7064",
   "metadata": {},
   "source": [
    "3. First Bad Version Solution\n",
    "\n",
    "You are a product manager and currently leading a team to develop a new product. Unfortunately, the latest version of your product fails the quality check. Since each version is developed based on the previous version, all the versions after a bad version are also bad.\n",
    "\n",
    "Suppose you have n versions [1, 2, ..., n] and you want to find out the first bad one, which causes all the following ones to be bad.\n",
    "\n",
    "You are given an API bool isBadVersion(version) which returns whether version is bad. Implement a function to find the first bad version. You should minimize the number of calls to the API."
   ]
  },
  {
   "cell_type": "code",
   "execution_count": 5,
   "id": "9acb98f1-afc9-4eba-b0a7-447a37d6a9cb",
   "metadata": {},
   "outputs": [],
   "source": [
    "def firstBadVersion(n):\n",
    "    left, right = 1, n\n",
    "    while left <= right:\n",
    "        mid = left + (right - left) / 2\n",
    "        if isBadVersion(mid):\n",
    "            right = mid - 1\n",
    "        else:\n",
    "            left = mid + 1\n",
    "    return left"
   ]
  },
  {
   "cell_type": "raw",
   "id": "0a9a2131-d61b-4816-8599-8ce415f9945c",
   "metadata": {},
   "source": [
    "4. Maximum Gap\n",
    "\n",
    "Given an integer array nums, return the maximum difference between two successive elements in its sorted form. If the array contains less than two elements, return 0.\n",
    "\n",
    "You must write an algorithm that runs in linear time and uses linear extra space."
   ]
  },
  {
   "cell_type": "code",
   "execution_count": 9,
   "id": "7bcd4b3d-088d-4e52-ae5f-5000549a35eb",
   "metadata": {},
   "outputs": [
    {
     "name": "stdin",
     "output_type": "stream",
     "text": [
      "Enter values in comma separated format 3,6,9,1\n"
     ]
    },
    {
     "name": "stdout",
     "output_type": "stream",
     "text": [
      "3\n"
     ]
    },
    {
     "name": "stdin",
     "output_type": "stream",
     "text": [
      "Enter values in comma separated format 10\n"
     ]
    },
    {
     "name": "stdout",
     "output_type": "stream",
     "text": [
      "0\n"
     ]
    }
   ],
   "source": [
    "def maximumGap(nums):\n",
    "\tif len(nums) < 2:\n",
    "\t\treturn 0\n",
    "\n",
    "\tmax_val, min_val = max(nums), min(nums)\n",
    "\tgap = max(1, (max_val - min_val) // (len(nums) - 1))\n",
    "\tbucket_size = (max_val - min_val) // gap + 1\n",
    "\tbucket = [{'min':float(\"inf\"), 'max':float(\"-inf\")} \\\n",
    "\t\t\t\tfor _ in range(bucket_size)]\n",
    "\t\t\t\t\n",
    "\tfor n in nums:\n",
    "\t\tif n in (max_val, min_val):\n",
    "\t\t\tcontinue\n",
    "\t\ti = (n - min_val) // gap\n",
    "\t\tbucket[i]['min'] = min(bucket[i]['min'], n)\n",
    "\t\tbucket[i]['max'] = max(bucket[i]['max'], n)\n",
    "\n",
    "\tmax_gap, pre_bucket_max = 0, min_val\n",
    "\tfor i in range(bucket_size):\n",
    "\t\tif bucket[i]['min'] == float(\"inf\") and \\\n",
    "\t\t\tbucket[i]['max'] == float(\"-inf\"):\n",
    "\t\t\tcontinue\n",
    "\t\tmax_gap = max(max_gap, bucket[i]['min'] - pre_bucket_max)\n",
    "\t\tpre_bucket_max = bucket[i]['max']\n",
    "\tmax_gap = max(max_gap, max_val - pre_bucket_max)\n",
    "\n",
    "\treturn max_gap\n",
    "\n",
    "for i in range(2):\n",
    "    arr = list(map(int,input(\"Enter values in comma separated format\").split(',')))\n",
    "    print(maximumGap(arr))"
   ]
  },
  {
   "cell_type": "raw",
   "id": "ab295547-3369-4002-bac5-6aaa7f67b124",
   "metadata": {},
   "source": [
    "5. Contains Duplicate\n",
    "\n",
    "Given an integer array nums, return true if any value appears at least twice in the array, and return false if every element is distinct."
   ]
  },
  {
   "cell_type": "code",
   "execution_count": 10,
   "id": "656f1707-574c-46a7-944a-ce6498c39d3c",
   "metadata": {},
   "outputs": [
    {
     "name": "stdin",
     "output_type": "stream",
     "text": [
      "Enter values in comma separated format 1,2,3,1\n"
     ]
    },
    {
     "name": "stdout",
     "output_type": "stream",
     "text": [
      "True\n"
     ]
    },
    {
     "name": "stdin",
     "output_type": "stream",
     "text": [
      "Enter values in comma separated format 1,2,3,4\n"
     ]
    },
    {
     "name": "stdout",
     "output_type": "stream",
     "text": [
      "False\n"
     ]
    },
    {
     "name": "stdin",
     "output_type": "stream",
     "text": [
      "Enter values in comma separated format 1,1,1,3,3,4,3,2,4,2\n"
     ]
    },
    {
     "name": "stdout",
     "output_type": "stream",
     "text": [
      "True\n"
     ]
    }
   ],
   "source": [
    "def containsDuplicate(nums):\n",
    "        return len(nums) > len(set(nums))\n",
    "    \n",
    "for i in range(3):\n",
    "    arr = list(map(int,input(\"Enter values in comma separated format\").split(',')))\n",
    "    print(containsDuplicate(arr))"
   ]
  },
  {
   "cell_type": "raw",
   "id": "c4bafed5-0571-479c-ba80-fe406b04df69",
   "metadata": {},
   "source": [
    "6. Minimum Number of Arrows to Burst Balloons\n",
    "\n",
    "There are some spherical balloons taped onto a flat wall that represents the XY-plane. The balloons are represented as a 2D integer array points where points[i] = [xstart, xend] denotes a balloon whose horizontal diameter stretches between xstart and xend. You do not know the exact y-coordinates of the balloons.\n",
    "\n",
    "Arrows can be shot up directly vertically (in the positive y-direction) from different points along the x-axis. A balloon with xstart and xend is burst by an arrow shot at x if xstart <= x <= xend. There is no limit to the number of arrows that can be shot. A shot arrow keeps traveling up infinitely, bursting any balloons in its path.\n",
    "\n",
    "Given the array points, return *the minimum number of arrows that must be shot to burst all balloons*."
   ]
  },
  {
   "cell_type": "code",
   "execution_count": 11,
   "id": "3e791e87-eae0-4307-8da6-739898d79a1c",
   "metadata": {},
   "outputs": [
    {
     "name": "stdout",
     "output_type": "stream",
     "text": [
      "Test Case:1\n",
      "2\n",
      "Test Case:2\n",
      "4\n",
      "Test Case:3\n",
      "2\n"
     ]
    }
   ],
   "source": [
    "def findMinArrowShots(points):\n",
    "    if not points:\n",
    "        return 0\n",
    "\n",
    "    points.sort()\n",
    "\n",
    "    result = 0\n",
    "    i = 0\n",
    "    while i < len(points):\n",
    "        j = i + 1\n",
    "        right_bound = points[i][1]\n",
    "        while j < len(points) and points[j][0] <= right_bound:\n",
    "            right_bound = min(right_bound, points[j][1])\n",
    "            j += 1\n",
    "        result += 1\n",
    "        i = j\n",
    "    return result\n",
    "\n",
    "print(\"Test Case:1\")\n",
    "print(findMinArrowShots([[10,16],[2,8],[1,6],[7,12]]))\n",
    "print(\"Test Case:2\")\n",
    "print(findMinArrowShots([[1,2],[3,4],[5,6],[7,8]]))\n",
    "print(\"Test Case:3\")\n",
    "print(findMinArrowShots([[1,2],[2,3],[3,4],[4,5]]))"
   ]
  },
  {
   "cell_type": "raw",
   "id": "814d666a-a7aa-4b02-9fbe-9e847ec0d0a4",
   "metadata": {},
   "source": [
    "7. Longest Increasing Subsequence\n",
    "\n",
    "Given an integer array nums, return the length of the longest strictly increasing subsequence."
   ]
  },
  {
   "cell_type": "code",
   "execution_count": 2,
   "id": "ab6123f0-1aab-4ca0-b262-22379208aad9",
   "metadata": {},
   "outputs": [
    {
     "name": "stdin",
     "output_type": "stream",
     "text": [
      "Enter values in comma separated format 10,9,2,5,3,7,101,18\n"
     ]
    },
    {
     "name": "stdout",
     "output_type": "stream",
     "text": [
      "4\n"
     ]
    },
    {
     "name": "stdin",
     "output_type": "stream",
     "text": [
      "Enter values in comma separated format 0,1,0,3,2,3\n"
     ]
    },
    {
     "name": "stdout",
     "output_type": "stream",
     "text": [
      "4\n"
     ]
    },
    {
     "name": "stdin",
     "output_type": "stream",
     "text": [
      "Enter values in comma separated format 7,7,7,7,7,7,7\n"
     ]
    },
    {
     "name": "stdout",
     "output_type": "stream",
     "text": [
      "1\n"
     ]
    }
   ],
   "source": [
    "def lengthOfLIS(nums):\n",
    "    dp = []\n",
    "    for i in range(len(nums)):\n",
    "        dp.append(1)\n",
    "        for j in range(i):\n",
    "            if nums[j] < nums[i]:\n",
    "                dp[i] = max(dp[i], dp[j] + 1)\n",
    "    return max(dp) if dp else 0\n",
    "\n",
    "for i in range(3):\n",
    "    arr = list(map(int,input(\"Enter values in comma separated format\").split(',')))\n",
    "    print(lengthOfLIS(arr))"
   ]
  },
  {
   "cell_type": "raw",
   "id": "6d35327c-0b4d-4510-890c-087c07199ae7",
   "metadata": {},
   "source": [
    "8. 132 Pattern\n",
    "\n",
    "Given an array of n integers nums, a 132 pattern is a subsequence of three integers nums[i], nums[j] and nums[k] such that i < j < k and nums[i] < nums[k] < nums[j].\n",
    "\n",
    "Return true if there is a 132 pattern in nums, otherwise, return false."
   ]
  },
  {
   "cell_type": "code",
   "execution_count": 3,
   "id": "314b5f76-b2ff-4251-b180-dec234a0ed2b",
   "metadata": {},
   "outputs": [
    {
     "name": "stdin",
     "output_type": "stream",
     "text": [
      "Enter values in comma separated format 1,2,3,4\n"
     ]
    },
    {
     "name": "stdout",
     "output_type": "stream",
     "text": [
      "False\n"
     ]
    },
    {
     "name": "stdin",
     "output_type": "stream",
     "text": [
      "Enter values in comma separated format 3,1,4,2\n"
     ]
    },
    {
     "name": "stdout",
     "output_type": "stream",
     "text": [
      "True\n"
     ]
    },
    {
     "name": "stdin",
     "output_type": "stream",
     "text": [
      "Enter values in comma separated format -1,3,2,0\n"
     ]
    },
    {
     "name": "stdout",
     "output_type": "stream",
     "text": [
      "True\n"
     ]
    }
   ],
   "source": [
    "def find132pattern(nums):\n",
    "    ak = float(\"-inf\")\n",
    "    stk = []\n",
    "    for i in reversed(range(len(nums))):\n",
    "        if nums[i] < ak:\n",
    "            return True\n",
    "        while stk and stk[-1] < nums[i]:\n",
    "            ak = stk.pop()\n",
    "        stk.append(nums[i])\n",
    "    return False\n",
    "\n",
    "for i in range(3):\n",
    "    arr = list(map(int,input(\"Enter values in comma separated format\").split(',')))\n",
    "    print(find132pattern(arr))"
   ]
  }
 ],
 "metadata": {
  "kernelspec": {
   "display_name": "Python 3 (ipykernel)",
   "language": "python",
   "name": "python3"
  },
  "language_info": {
   "codemirror_mode": {
    "name": "ipython",
    "version": 3
   },
   "file_extension": ".py",
   "mimetype": "text/x-python",
   "name": "python",
   "nbconvert_exporter": "python",
   "pygments_lexer": "ipython3",
   "version": "3.10.6"
  }
 },
 "nbformat": 4,
 "nbformat_minor": 5
}
