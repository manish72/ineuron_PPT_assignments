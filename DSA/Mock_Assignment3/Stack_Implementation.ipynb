{
 "cells": [
  {
   "cell_type": "markdown",
   "id": "c4691a5c-df48-427a-be94-b65342acbc80",
   "metadata": {},
   "source": [
    "### Implement a stack using a list in Python. Include the necessary methods such as push, pop, and isEmpty."
   ]
  },
  {
   "cell_type": "code",
   "execution_count": 1,
   "id": "672ceb21-26ee-42f2-9f76-3e2a4f8dc23b",
   "metadata": {},
   "outputs": [],
   "source": [
    "class Node:\n",
    "\tdef __init__(self, value):\n",
    "\t\tself.value = value\n",
    "\t\tself.next = None\n",
    "\n",
    "class Stack:\n",
    "\tdef __init__(self):\n",
    "\t\tself.head = Node(\"head\")\n",
    "\t\tself.size = 0\n",
    "\n",
    "\tdef __str__(self):\n",
    "\t\tcur = self.head.next\n",
    "\t\tout = \"\"\n",
    "\t\twhile cur:\n",
    "\t\t\tout += str(cur.value) + \",\"\n",
    "\t\t\tcur = cur.next\n",
    "\t\treturn out[:-1]\n",
    "\n",
    "\tdef getSize(self):\n",
    "\t\treturn self.size\n",
    "\n",
    "\tdef isEmpty(self):\n",
    "\t\treturn self.size == 0\n",
    "\n",
    "\tdef peek(self):\n",
    "\t\tif self.isEmpty():\n",
    "\t\t\traise Exception(\"Peeking from an empty stack\")\n",
    "\t\treturn self.head.next.value\n",
    "\n",
    "\t# Push a value into the stack.\n",
    "\tdef push(self, value):\n",
    "\t\tnode = Node(value)\n",
    "\t\tnode.next = self.head.next\n",
    "\t\tself.head.next = node\n",
    "\t\tself.size += 1\n",
    "\n",
    "\t# Remove a value from the stack and return.\n",
    "\tdef pop(self):\n",
    "\t\tif self.isEmpty():\n",
    "\t\t\traise Exception(\"Popping from an empty stack\")\n",
    "\t\tremove = self.head.next\n",
    "\t\tself.head.next = self.head.next.next\n",
    "\t\tself.size -= 1\n",
    "\t\treturn remove.value"
   ]
  },
  {
   "cell_type": "code",
   "execution_count": 2,
   "id": "17e89ab2-e7a5-41e7-9049-0a26d51f6607",
   "metadata": {},
   "outputs": [
    {
     "name": "stdout",
     "output_type": "stream",
     "text": [
      "Stack: 10,9,8,7,6,5,4,3,2,1\n",
      "Pop: 10\n",
      "Pop: 9\n",
      "Pop: 8\n",
      "Pop: 7\n",
      "Pop: 6\n",
      "Stack: 5,4,3,2,1\n"
     ]
    }
   ],
   "source": [
    "stack = Stack()\n",
    "for i in range(1, 11):\n",
    "    stack.push(i)\n",
    "print(f\"Stack: {stack}\")\n",
    "\n",
    "for _ in range(1, 6):\n",
    "    remove = stack.pop()\n",
    "    print(f\"Pop: {remove}\")\n",
    "print(f\"Stack: {stack}\")"
   ]
  },
  {
   "cell_type": "code",
   "execution_count": null,
   "id": "d55abedd-5a27-42d5-8b1f-2ac317ff405b",
   "metadata": {},
   "outputs": [],
   "source": []
  }
 ],
 "metadata": {
  "kernelspec": {
   "display_name": "Python 3 (ipykernel)",
   "language": "python",
   "name": "python3"
  },
  "language_info": {
   "codemirror_mode": {
    "name": "ipython",
    "version": 3
   },
   "file_extension": ".py",
   "mimetype": "text/x-python",
   "name": "python",
   "nbconvert_exporter": "python",
   "pygments_lexer": "ipython3",
   "version": "3.10.6"
  }
 },
 "nbformat": 4,
 "nbformat_minor": 5
}
