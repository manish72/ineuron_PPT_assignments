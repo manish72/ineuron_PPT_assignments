{
 "cells": [
  {
   "cell_type": "raw",
   "id": "09fb48a0-4723-4faf-9983-c03e9a2111bb",
   "metadata": {},
   "source": [
    "Question 1\n",
    "\n",
    "Given an array arr[ ] of size N having elements, the task is to find the next greater element for each element of the array in order of their appearance in the array.Next greater element of an element in the array is the nearest element on the right which is greater than the current element.If there does not exist next greater of current element, then next greater element for current element is -1. For example, next greater of the last element is always -1."
   ]
  },
  {
   "cell_type": "code",
   "execution_count": 2,
   "id": "27b4ba65-f6bd-4e4c-bb2a-7e6bbb8b3819",
   "metadata": {},
   "outputs": [
    {
     "name": "stdin",
     "output_type": "stream",
     "text": [
      "Enter values in comma separated format 1,3,2,4\n"
     ]
    },
    {
     "name": "stdout",
     "output_type": "stream",
     "text": [
      "3\n",
      "4\n",
      "4\n",
      "-1\n"
     ]
    }
   ],
   "source": [
    "def createStack():\n",
    "    stack = []\n",
    "    return stack\n",
    "\n",
    "def isEmpty(stack):\n",
    "    return len(stack) == 0\n",
    " \n",
    "def push(stack, x):\n",
    "    stack.append(x)\n",
    " \n",
    " \n",
    "def pop(stack):\n",
    "    if isEmpty(stack):\n",
    "        print(\"Error : stack underflow\")\n",
    "    else:\n",
    "        return stack.pop()\n",
    " \n",
    " \n",
    "def printNGE(arr):\n",
    "    s = createStack()\n",
    "    element = 0\n",
    "    next = 0\n",
    " \n",
    "    # push the first element to stack\n",
    "    push(s, arr[0])\n",
    " \n",
    "    # iterate for rest of the elements\n",
    "    for i in range(1, len(arr), 1):\n",
    "        next = arr[i]\n",
    " \n",
    "        if isEmpty(s) == False:\n",
    "\t\t\n",
    "            element = pop(s)\n",
    " \n",
    "            while element < next:\n",
    "                print(str(next))\n",
    "                if isEmpty(s) == True:\n",
    "                    break\n",
    "                element = pop(s)\n",
    " \n",
    "            if element > next:\n",
    "                push(s, element)\n",
    "\n",
    "        push(s, next)\n",
    "\n",
    "    while isEmpty(s) == False:\n",
    "        element = pop(s)\n",
    "        next = -1\n",
    "        print(str(next))\n",
    " \n",
    " \n",
    "for i in range(1):\n",
    "\tarr = list(map(int,input(\"Enter values in comma separated format\").split(',')))\n",
    "\tprintNGE(arr)"
   ]
  },
  {
   "cell_type": "raw",
   "id": "41c118a3-32d9-4109-9d05-abfeec6eefdc",
   "metadata": {},
   "source": [
    "Question 2\n",
    "\n",
    "Given an array a of integers of length n, find the nearest smaller number for every element such that the smaller element is on left side.If no small element present on the left print -1."
   ]
  },
  {
   "cell_type": "code",
   "execution_count": 12,
   "id": "1e7d2d80-5799-4a82-a417-9139d0dd0b7b",
   "metadata": {},
   "outputs": [
    {
     "name": "stdin",
     "output_type": "stream",
     "text": [
      "Enter values in comma separated format 1, 5, 0, 3, 4, 5\n"
     ]
    },
    {
     "name": "stdout",
     "output_type": "stream",
     "text": [
      "-1 1 -1 0 3 4 "
     ]
    },
    {
     "name": "stdin",
     "output_type": "stream",
     "text": [
      "Enter values in comma separated format 1, 6, 2\n"
     ]
    },
    {
     "name": "stdout",
     "output_type": "stream",
     "text": [
      "-1 1 1 "
     ]
    }
   ],
   "source": [
    "import math as mt\n",
    "\n",
    "def printPrevSmaller(arr, n):\n",
    "\n",
    "\t# Create an empty stack\n",
    "\tS = list()\n",
    "\n",
    "\t# Traverse all array elements\n",
    "\tfor i in range(n):\n",
    "\t\twhile (len(S) > 0 and S[-1] >= arr[i]):\n",
    "\t\t\tS.pop()\n",
    "\n",
    "\t\tif (len(S) == 0):\n",
    "\t\t\tprint(\"-1\", end = \" \")\n",
    "\t\telse: \n",
    "\t\t\tprint(S[-1], end = \" \")\n",
    "\n",
    "\t\t# Push this element\n",
    "\t\tS.append(arr[i])\n",
    "\t\n",
    "for i in range(2):\n",
    "    arr = list(map(int,input(\"Enter values in comma separated format\").split(',')))\n",
    "    n = len(arr)\n",
    "    printPrevSmaller(arr, n)\n"
   ]
  },
  {
   "cell_type": "raw",
   "id": "f665461e-b006-4fd3-ad78-d802328ee6f2",
   "metadata": {},
   "source": [
    "Question 3\n",
    "\n",
    "Implement a Stack using two queues q1 and q2."
   ]
  },
  {
   "cell_type": "code",
   "execution_count": 10,
   "id": "c44283a2-4a0d-4652-8da5-647c5aa367d3",
   "metadata": {},
   "outputs": [
    {
     "name": "stdout",
     "output_type": "stream",
     "text": [
      "------Test Case:1--------\n",
      "3 4 \n",
      "------Test Case:2--------\n",
      "2 -1\n"
     ]
    }
   ],
   "source": [
    "from _collections import deque\n",
    "\n",
    "class Stack:\n",
    "\tdef __init__(self):\n",
    "\t\tself.q = deque()\n",
    "\n",
    "\t# Push operation\n",
    "\tdef push(self, data):\n",
    "\t\t# Get previous size of queue\n",
    "\t\ts = len(self.q)\n",
    "\n",
    "\t\t# Push the current element\n",
    "\t\tself.q.append(data)\n",
    "\n",
    "\t\t# Pop all the previous elements and put them after\n",
    "\t\t# current element\n",
    "\t\tfor i in range(s):\n",
    "\t\t\tself.q.append(self.q.popleft())\n",
    "\n",
    "\t# Removes the top element\n",
    "\tdef pop(self):\n",
    "\t\tif (not self.q):\n",
    "\t\t\tprint(-1)\n",
    "\t\telse:\n",
    "\t\t\tprint(self.q.popleft(),end=\" \")\n",
    "\n",
    "\t# Returns top of stack\n",
    "\tdef top(self):\n",
    "\t\tif (not self.q):\n",
    "\t\t\treturn\n",
    "\t\treturn self.q[0]\n",
    "\n",
    "\tdef size(self):\n",
    "\t\treturn len(self.q)\n",
    "\n",
    "# Test case1\n",
    "print(\"------Test Case:1--------\")\n",
    "st = Stack()\n",
    "st.push(2)\n",
    "st.push(3)\n",
    "st.pop()\n",
    "st.push(4)\n",
    "st.pop()\n",
    "\n",
    "# Test case2\n",
    "print(\"\\n------Test Case:2--------\")\n",
    "st = Stack()\n",
    "st.push(2)\n",
    "st.pop()\n",
    "st.pop()\n",
    "st.push(3)"
   ]
  },
  {
   "cell_type": "raw",
   "id": "f4c4820f-c0cf-48ec-ba88-2ccb9a9346f2",
   "metadata": {},
   "source": [
    "Question 4\n",
    "\n",
    "You are given a stack St You have to reverse the stack using recursion."
   ]
  },
  {
   "cell_type": "code",
   "execution_count": 2,
   "id": "ec7a74a6-408d-40b5-953b-8cb1f2d9408c",
   "metadata": {},
   "outputs": [
    {
     "name": "stdin",
     "output_type": "stream",
     "text": [
      "Enter values in comma separated format 3,2,1,7,6\n"
     ]
    },
    {
     "name": "stdout",
     "output_type": "stream",
     "text": [
      "Original Stack \n",
      "3 2 1 7 6\n",
      "Reversed Stack \n",
      "6 7 1 2 3 \n"
     ]
    },
    {
     "name": "stdin",
     "output_type": "stream",
     "text": [
      "Enter values in comma separated format 4,3,9,6\n"
     ]
    },
    {
     "name": "stdout",
     "output_type": "stream",
     "text": [
      "Original Stack \n",
      "4 3 9 6\n",
      "Reversed Stack \n",
      "6 9 3 4 \n"
     ]
    }
   ],
   "source": [
    "def insertAtBottom(stack, item):\n",
    "\tif isEmpty(stack):\n",
    "\t\tpush(stack, item)\n",
    "\telse:\n",
    "\t\ttemp = pop(stack)\n",
    "\t\tinsertAtBottom(stack, item)\n",
    "\t\tpush(stack, temp)\n",
    "\n",
    "def reverse(stack):\n",
    "\tif not isEmpty(stack):\n",
    "\t\ttemp = pop(stack)\n",
    "\t\treverse(stack)\n",
    "\t\tinsertAtBottom(stack, temp)\n",
    "\n",
    "def createStack():\n",
    "\tstack = []\n",
    "\treturn stack\n",
    "\n",
    "def isEmpty(stack):\n",
    "\treturn len(stack) == 0\n",
    "\n",
    "def push(stack, item):\n",
    "\tstack.append(item)\n",
    "\n",
    "def pop(stack):\n",
    "\n",
    "\tif(isEmpty(stack)):\n",
    "\t\tprint(\"Stack Underflow \")\n",
    "\t\texit(1)\n",
    "\n",
    "\treturn stack.pop()\n",
    "\n",
    "# Function to print the stack\n",
    "def prints(stack):\n",
    "\tfor i in range(len(stack)-1, -1, -1):\n",
    "\t\tprint(stack[i], end=' ')\n",
    "\tprint()\n",
    "\n",
    "for i in range(2):\n",
    "    stack = createStack()\n",
    "    arr = list(map(str,input(\"Enter values in comma separated format\").split(',')))\n",
    "    for j in arr:\n",
    "        push(stack, str(j))\n",
    "    print(\"Original Stack \")\n",
    "    print(\" \".join(arr))\n",
    "        \n",
    "    #reverse(stack)\n",
    "\n",
    "    print(\"Reversed Stack \")\n",
    "    prints(stack)"
   ]
  },
  {
   "cell_type": "raw",
   "id": "507281cc-a1e7-48c9-8052-ae4220c87914",
   "metadata": {},
   "source": [
    "Question 5\n",
    "\n",
    "You are given a string S the task is to reverse the string using stack."
   ]
  },
  {
   "cell_type": "code",
   "execution_count": 3,
   "id": "4a1f1d5a-5028-421d-a385-7ff1c918737f",
   "metadata": {},
   "outputs": [
    {
     "name": "stdin",
     "output_type": "stream",
     "text": [
      "Enter String: GeeksforGeeks\n"
     ]
    },
    {
     "name": "stdout",
     "output_type": "stream",
     "text": [
      "Reversed string is skeeGrofskeeG\n"
     ]
    },
    {
     "name": "stdin",
     "output_type": "stream",
     "text": [
      "Enter String: abcdef\n"
     ]
    },
    {
     "name": "stdout",
     "output_type": "stream",
     "text": [
      "Reversed string is fedcba\n"
     ]
    }
   ],
   "source": [
    "# Function to create an empty stack.\n",
    "# It initializes size of stack as 0\n",
    "def createStack():\n",
    "\tstack = []\n",
    "\treturn stack\n",
    "\n",
    "# Function to determine the size of the stack\n",
    "def size(stack):\n",
    "\treturn len(stack)\n",
    "\n",
    "# Stack is empty if the size is 0\n",
    "def isEmpty(stack):\n",
    "\tif size(stack) == 0:\n",
    "\t\treturn true\n",
    "\n",
    "# Function to add an item to stack .\n",
    "# It increases size by 1\n",
    "def push(stack, item):\n",
    "\tstack.append(item)\n",
    "\n",
    "# Function to remove an item from stack.\n",
    "# It decreases size by 1\n",
    "def pop(stack):\n",
    "\tif isEmpty(stack):\n",
    "\t\treturn\n",
    "\treturn stack.pop()\n",
    "\n",
    "def reverse(string):\n",
    "\tn = len(string)\n",
    "\n",
    "\t# Create a empty stack\n",
    "\tstack = createStack()\n",
    "\n",
    "\tfor i in range(0, n, 1):\n",
    "\t\tpush(stack, string[i])\n",
    "\n",
    "\tstring = \"\"\n",
    "\t\n",
    "\tfor i in range(0, n, 1):\n",
    "\t\tstring += pop(stack)\n",
    "\n",
    "\treturn string\n",
    "\n",
    "for i in range(2):\n",
    "\tstring = input(\"Enter String:\")\n",
    "\tstring = reverse(string)\n",
    "\tprint(\"Reversed string is \" + string)"
   ]
  },
  {
   "cell_type": "raw",
   "id": "bc6dcd6d-2ad0-48cb-a0c8-04282c36afbc",
   "metadata": {},
   "source": [
    "Question 6\n",
    "\n",
    "Given string S representing a postfix expression, the task is to evaluate the expression and find the final value. Operators will only include the basic arithmetic operators like *, /, + and -."
   ]
  },
  {
   "cell_type": "code",
   "execution_count": 6,
   "id": "71989e38-09b5-47cb-b29d-bb50d01b8c91",
   "metadata": {},
   "outputs": [
    {
     "name": "stdin",
     "output_type": "stream",
     "text": [
      "Enter expression 231*+9-\n"
     ]
    },
    {
     "name": "stdout",
     "output_type": "stream",
     "text": [
      "postfix evaluation: -4\n"
     ]
    },
    {
     "name": "stdin",
     "output_type": "stream",
     "text": [
      "Enter expression 123+*8-\n"
     ]
    },
    {
     "name": "stdout",
     "output_type": "stream",
     "text": [
      "postfix evaluation: -3\n"
     ]
    }
   ],
   "source": [
    "class Evaluate:\n",
    "\n",
    "\t# Constructor to initialize the class variables\n",
    "\tdef __init__(self, capacity):\n",
    "\t\tself.top = -1\n",
    "\t\tself.capacity = capacity\n",
    "\t\t\n",
    "\t\t# This array is used a stack\n",
    "\t\tself.array = []\n",
    "\n",
    "\t# Check if the stack is empty\n",
    "\tdef isEmpty(self):\n",
    "\t\treturn True if self.top == -1 else False\n",
    "\n",
    "\t# Return the value of the top of the stack\n",
    "\tdef peek(self):\n",
    "\t\treturn self.array[-1]\n",
    "\n",
    "\t# Pop the element from the stack\n",
    "\tdef pop(self):\n",
    "\t\tif not self.isEmpty():\n",
    "\t\t\tself.top -= 1\n",
    "\t\t\treturn self.array.pop()\n",
    "\t\telse:\n",
    "\t\t\treturn \"$\"\n",
    "\n",
    "\t# Push the element to the stack\n",
    "\tdef push(self, op):\n",
    "\t\tself.top += 1\n",
    "\t\tself.array.append(op)\n",
    "\n",
    "\tdef evaluatePostfix(self, exp):\n",
    "\n",
    "\t\tfor i in exp:\n",
    "\t\t\n",
    "\t\t\tif i.isdigit():\n",
    "\t\t\t\tself.push(i)\n",
    "\n",
    "\t\t\telse:\n",
    "\t\t\t\tval1 = self.pop()\n",
    "\t\t\t\tval2 = self.pop()\n",
    "\t\t\t\tself.push(str(eval(val2 + i + val1)))\n",
    "\n",
    "\t\treturn int(self.pop())\n",
    "\n",
    "\n",
    "\n",
    "for i in range(2):\n",
    "\texp = input(\"Enter expression\")\n",
    "\tobj = Evaluate(len(exp))\n",
    "\tprint(\"postfix evaluation: %d\" % (obj.evaluatePostfix(exp)))"
   ]
  },
  {
   "cell_type": "raw",
   "id": "14110aae-0619-4b86-8736-6dcd3a1d9ef5",
   "metadata": {},
   "source": [
    "Question 7\n",
    "\n",
    "Design a stack that supports push, pop, top, and retrieving the minimum element in constant time."
   ]
  },
  {
   "cell_type": "code",
   "execution_count": 11,
   "id": "35cc83aa-b055-48c7-bf73-b642a2929863",
   "metadata": {},
   "outputs": [
    {
     "name": "stdout",
     "output_type": "stream",
     "text": [
      "-3 0 -2 "
     ]
    }
   ],
   "source": [
    "class MinStack(object):\n",
    "    def __init__(self):\n",
    "        self.min = None\n",
    "        self.stack = []\n",
    "\n",
    "    def push(self, x):\n",
    "        if not self.stack:\n",
    "            self.stack.append(0)\n",
    "            self.min = x\n",
    "        else:\n",
    "            self.stack.append(x - self.min)\n",
    "            if x < self.min:\n",
    "                self.min = x\n",
    "\n",
    "    def pop(self):\n",
    "        x = self.stack.pop()\n",
    "        if x < 0:\n",
    "            self.min = self.min - x\n",
    "\n",
    "    def top(self):\n",
    "        x = self.stack[-1]\n",
    "        if x > 0:\n",
    "            print(x + self.min,end= \" \")\n",
    "        else:\n",
    "            print(self.min,end= \" \")\n",
    "\n",
    "    def getMin(self):\n",
    "        print(self.min,end= \" \")\n",
    "    \n",
    "minStack = MinStack()\n",
    "minStack.push(-2)\n",
    "minStack.push(0)\n",
    "minStack.push(-3)\n",
    "minStack.getMin()\n",
    "minStack.pop()\n",
    "minStack.top()\n",
    "minStack.getMin()"
   ]
  },
  {
   "cell_type": "raw",
   "id": "1de4f141-a538-4ede-ae36-8d7b9102d872",
   "metadata": {},
   "source": [
    "Question 8\n",
    "\n",
    "Given n non-negative integers representing an elevation map where the width of each bar is 1, compute how much water it can trap after raining."
   ]
  },
  {
   "cell_type": "code",
   "execution_count": 13,
   "id": "83f38389-58e7-4604-acc8-48454bde1831",
   "metadata": {},
   "outputs": [
    {
     "name": "stdin",
     "output_type": "stream",
     "text": [
      "Enter values in comma separated format 0,1,0,2,1,0,1,3,2,1,2,1\n"
     ]
    },
    {
     "name": "stdout",
     "output_type": "stream",
     "text": [
      "6\n"
     ]
    },
    {
     "name": "stdin",
     "output_type": "stream",
     "text": [
      "Enter values in comma separated format 4,2,0,3,2,5\n"
     ]
    },
    {
     "name": "stdout",
     "output_type": "stream",
     "text": [
      "9\n"
     ]
    }
   ],
   "source": [
    "def trap(height):\n",
    "    result, left, right, level = 0, 0, len(height)-1, 0\n",
    "    while left < right:\n",
    "        if height[left] < height[right]:\n",
    "            lower = height[left]\n",
    "            left += 1\n",
    "        else:\n",
    "            lower = height[right]\n",
    "            right -= 1\n",
    "        level = max(level, lower)\n",
    "        result += level-lower\n",
    "    return result\n",
    "\n",
    "for i in range(2):\n",
    "    arr = list(map(int,input(\"Enter values in comma separated format\").split(',')))\n",
    "    print(trap(arr))"
   ]
  },
  {
   "cell_type": "code",
   "execution_count": null,
   "id": "32a65d57-df18-4b8b-a2a4-e6e09a9cf9d2",
   "metadata": {},
   "outputs": [],
   "source": []
  }
 ],
 "metadata": {
  "kernelspec": {
   "display_name": "Python 3 (ipykernel)",
   "language": "python",
   "name": "python3"
  },
  "language_info": {
   "codemirror_mode": {
    "name": "ipython",
    "version": 3
   },
   "file_extension": ".py",
   "mimetype": "text/x-python",
   "name": "python",
   "nbconvert_exporter": "python",
   "pygments_lexer": "ipython3",
   "version": "3.10.6"
  }
 },
 "nbformat": 4,
 "nbformat_minor": 5
}
