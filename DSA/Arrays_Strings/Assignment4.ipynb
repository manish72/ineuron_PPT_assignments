{
 "cells": [
  {
   "cell_type": "raw",
   "id": "53919341-bd43-4d5c-97b2-760e087ef6bc",
   "metadata": {},
   "source": [
    "Question 1\n",
    "Given three integer arrays arr1, arr2 and arr3 sorted in strictly increasing order, return a sorted array of only the integers that appeared in all three arrays."
   ]
  },
  {
   "cell_type": "code",
   "execution_count": 1,
   "id": "1e6c5afa-c6f5-4366-8d0b-cffbd8e57dda",
   "metadata": {},
   "outputs": [
    {
     "name": "stdin",
     "output_type": "stream",
     "text": [
      "Enter values in comma separated format 1,2,3,4,5\n",
      "Enter values in comma separated format 1,2,5,7,9\n",
      "Enter values in comma separated format 1,3,4,5,8\n"
     ]
    },
    {
     "name": "stdout",
     "output_type": "stream",
     "text": [
      "[1, 5]\n"
     ]
    }
   ],
   "source": [
    "list1 = list(map(int,input(\"Enter values in comma separated format\").split(',')))\n",
    "list2 = list(map(int,input(\"Enter values in comma separated format\").split(',')))\n",
    "list3 = list(map(int,input(\"Enter values in comma separated format\").split(',')))\n",
    "result = []\n",
    "i, j, k = 0, 0, 0\n",
    "while i != len(list1) and j != len(list2) and k != len(list3):\n",
    "    if list1[i] == list2[j] == list3[k]:\n",
    "        result.append(list1[i])\n",
    "        i += 1\n",
    "        j += 1\n",
    "        k += 1\n",
    "    else:\n",
    "        curr = max(list1[i], list2[j], list3[k])\n",
    "        while i != len(list1) and list1[i] < curr:\n",
    "            i += 1\n",
    "        while j != len(list2) and list2[j] < curr:\n",
    "            j += 1\n",
    "        while k != len(list3) and list3[k] < curr:\n",
    "            k += 1\n",
    "print(result)"
   ]
  },
  {
   "cell_type": "raw",
   "id": "e0d084de-7f89-4aad-965c-6aba9054de90",
   "metadata": {},
   "source": [
    "Given two **0-indexed** integer arrays nums1 and nums2, return *a list* answer *of size* 2 *where:*\n",
    "\n",
    "- answer[0] *is a list of all **distinct** integers in* nums1 *which are **not** present in* nums2*.*\n",
    "- answer[1] *is a list of all **distinct** integers in* nums2 *which are **not** present in* nums1.\n",
    "\n",
    "**Note** that the integers in the lists may be returned in **any** order."
   ]
  },
  {
   "cell_type": "code",
   "execution_count": 2,
   "id": "a766c70f-a64e-4749-a485-9f33b24ea3dc",
   "metadata": {},
   "outputs": [
    {
     "name": "stdin",
     "output_type": "stream",
     "text": [
      "Enter values in comma separated format 1,2,3\n",
      "Enter values in comma separated format 2,4,6\n"
     ]
    },
    {
     "name": "stdout",
     "output_type": "stream",
     "text": [
      "[[1, 3], [4, 6]]\n"
     ]
    }
   ],
   "source": [
    "nums1 = list(map(int,input(\"Enter values in comma separated format\").split(',')))\n",
    "nums2 = list(map(int,input(\"Enter values in comma separated format\").split(',')))\n",
    "\n",
    "lookup = [set(nums1), set(nums2)]\n",
    "print([list(lookup[0]-lookup[1]), list(lookup[1]-lookup[0])])"
   ]
  },
  {
   "cell_type": "raw",
   "id": "1eccb62c-5dd6-40b3-9358-6a42b03e37ed",
   "metadata": {},
   "source": [
    "Question 3\n",
    "Given a 2D integer array matrix, return *the **transpose** of* matrix.\n",
    "\n",
    "The **transpose** of a matrix is the matrix flipped over its main diagonal, switching the matrix's row and column indices."
   ]
  },
  {
   "cell_type": "code",
   "execution_count": 11,
   "id": "78402be6-1c83-4c99-bc56-a8fbc5f8fd97",
   "metadata": {},
   "outputs": [
    {
     "name": "stdin",
     "output_type": "stream",
     "text": [
      "Enter no of rows 3\n",
      "Enter no of columns 3\n"
     ]
    },
    {
     "name": "stdout",
     "output_type": "stream",
     "text": [
      "Enter values for Row 1:\n"
     ]
    },
    {
     "name": "stdin",
     "output_type": "stream",
     "text": [
      "Enter value: 1\n",
      "Enter value: 2\n",
      "Enter value: 3\n"
     ]
    },
    {
     "name": "stdout",
     "output_type": "stream",
     "text": [
      "Enter values for Row 2:\n"
     ]
    },
    {
     "name": "stdin",
     "output_type": "stream",
     "text": [
      "Enter value: 4\n",
      "Enter value: 5\n",
      "Enter value: 6\n"
     ]
    },
    {
     "name": "stdout",
     "output_type": "stream",
     "text": [
      "Enter values for Row 3:\n"
     ]
    },
    {
     "name": "stdin",
     "output_type": "stream",
     "text": [
      "Enter value: 7\n",
      "Enter value: 8\n",
      "Enter value: 9\n"
     ]
    },
    {
     "name": "stdout",
     "output_type": "stream",
     "text": [
      "Transposed Matrix :[[1, 4, 7], [2, 5, 8], [3, 6, 9]]\n"
     ]
    }
   ],
   "source": [
    "rows = int(input(\"Enter no of rows\"))\n",
    "columns = int(input(\"Enter no of columns\"))\n",
    "nums = list()\n",
    "for i in range(rows):\n",
    "    print(f\"Enter values for Row {i+1}:\")\n",
    "    temp = list()\n",
    "    for j in range(columns):\n",
    "        temp.append(int(input(\"Enter value:\")))\n",
    "    nums.append(temp)\n",
    "result = [[None] * len(nums) for i in range(len(nums[0]))]\n",
    "for r, row in enumerate(nums):\n",
    "    for c, val in enumerate(row):\n",
    "        result[c][r] = val\n",
    "print(f\"Transposed Matrix :{result}\")"
   ]
  },
  {
   "cell_type": "raw",
   "id": "2dc8cf80-1d37-498c-a532-69c39ea8bb20",
   "metadata": {},
   "source": [
    "Question 4\n",
    "Given an integer array nums of 2n integers, group these integers into n pairs (a1, b1), (a2, b2), ..., (an, bn) such that the sum of min(ai, bi) for all i is maximized. Return the maximized sum"
   ]
  },
  {
   "cell_type": "code",
   "execution_count": 13,
   "id": "227090e2-eeb9-4c4d-929c-c3d0fa7725fc",
   "metadata": {},
   "outputs": [
    {
     "name": "stdin",
     "output_type": "stream",
     "text": [
      "Enter values in comma separated format 1,4,3,2\n"
     ]
    },
    {
     "name": "stdout",
     "output_type": "stream",
     "text": [
      "4\n"
     ]
    }
   ],
   "source": [
    "nums = list(map(int,input(\"Enter values in comma separated format\").split(',')))\n",
    "nums.sort()\n",
    "print(sum(nums[::2]))"
   ]
  },
  {
   "cell_type": "raw",
   "id": "0c21af47-ebeb-44d5-852e-32c400b09e7e",
   "metadata": {},
   "source": [
    "Question 5\n",
    "You have n coins and you want to build a staircase with these coins. The staircase consists of k rows where the ith row has exactly i coins. The last row of the staircase may be incomplete."
   ]
  },
  {
   "cell_type": "code",
   "execution_count": 14,
   "id": "a3e23ea6-7815-4854-b7a4-275ef3c1f45a",
   "metadata": {},
   "outputs": [
    {
     "name": "stdin",
     "output_type": "stream",
     "text": [
      "Enter no of coins 5\n"
     ]
    },
    {
     "name": "stdout",
     "output_type": "stream",
     "text": [
      "2\n"
     ]
    }
   ],
   "source": [
    "def check(mid, n):\n",
    "            return mid*(mid+1) <= 2*n\n",
    "n = int(input(\"Enter no of coins\"))\n",
    "\n",
    "left, right = 1, n\n",
    "while left <= right:\n",
    "    mid = left + (right-left)//2\n",
    "    if not check(mid, n):\n",
    "        right = mid-1\n",
    "    else:\n",
    "        left = mid+1\n",
    "print(right)"
   ]
  },
  {
   "cell_type": "raw",
   "id": "58fc9593-e57d-45a1-845a-b67f0acad447",
   "metadata": {},
   "source": [
    "Question 6\n",
    "Given an integer array nums sorted in non-decreasing order, return an array of the squares of each number sorted in non-decreasing order."
   ]
  },
  {
   "cell_type": "code",
   "execution_count": 19,
   "id": "87d5855f-8c27-4fd9-a48a-98f10703a1e5",
   "metadata": {},
   "outputs": [
    {
     "name": "stdin",
     "output_type": "stream",
     "text": [
      "Enter values in comma separated format -4,-1,0,3,10\n"
     ]
    },
    {
     "name": "stdout",
     "output_type": "stream",
     "text": [
      "[0, 1, 9, 16, 100]\n"
     ]
    }
   ],
   "source": [
    "nums = list(map(int,input(\"Enter values in comma separated format\").split(',')))\n",
    "nums.sort()\n",
    "for r,val in enumerate(nums):\n",
    "    nums[r] = nums[r] * nums[r]\n",
    "nums.sort()\n",
    "print(nums)"
   ]
  },
  {
   "cell_type": "raw",
   "id": "79d0f71d-3c24-4fe5-850e-de08bccc7d2e",
   "metadata": {},
   "source": [
    "Question 7\n",
    "You are given an m x n matrix M initialized with all 0's and an array of operations ops, where ops[i] = [ai, bi] means M[x][y] should be incremented by one for all 0 <= x < ai and 0 <= y < bi.\n",
    "\n",
    "Count and return *the number of maximum integers in the matrix after performing all the operations"
   ]
  },
  {
   "cell_type": "code",
   "execution_count": 1,
   "id": "20ae1909-177b-476f-bed1-16114506dd89",
   "metadata": {},
   "outputs": [
    {
     "name": "stdin",
     "output_type": "stream",
     "text": [
      "Enter value of m: 3\n",
      "Enter value of n: 3\n"
     ]
    },
    {
     "name": "stdout",
     "output_type": "stream",
     "text": [
      "4\n"
     ]
    }
   ],
   "source": [
    "m = int(input(\"Enter value of m:\"))\n",
    "n = int(input(\"Enter value of n:\"))\n",
    "ops = [[2,2],[3,3]]\n",
    "length = len(ops)\n",
    "if length == 0:\n",
    "     print(m*n)\n",
    "result = [ops[0][0] , ops[0][1]]\n",
    "for i in range(1,length):\n",
    "    result[0] = min(result[0] , ops[i][0])\n",
    "    result[1] = min(result[1] , ops[i][1])\n",
    "print(result[0]*result[1])"
   ]
  },
  {
   "cell_type": "raw",
   "id": "79cbdb31-f672-4eb0-95cd-472e60303535",
   "metadata": {},
   "source": [
    "Question 8\n",
    "Given the array nums consisting of 2n elements in the form [x1,x2,...,xn,y1,y2,...,yn].\n",
    "Return the array in the form* [x1,y1,x2,y2,...,xn,yn]."
   ]
  },
  {
   "cell_type": "code",
   "execution_count": 3,
   "id": "5d726005-ccf1-4a04-b3c8-4126e8386ee8",
   "metadata": {},
   "outputs": [
    {
     "name": "stdin",
     "output_type": "stream",
     "text": [
      "Enter values in comma separated format 2,5,1,3,4,7\n",
      "Enter no of values: 6\n"
     ]
    },
    {
     "name": "stdout",
     "output_type": "stream",
     "text": [
      "[2, 3, 5, 4, 1, 7]\n"
     ]
    }
   ],
   "source": [
    "nums = list(map(int,input(\"Enter values in comma separated format\").split(',')))\n",
    "n = int(input(\"Enter no of values:\"))//2\n",
    "def index(i):\n",
    "    return 2*i if i < n else 2*(i-n)+1\n",
    "\n",
    "for i in range(len(nums)):\n",
    "    j = i\n",
    "    while nums[i] >= 0:\n",
    "        j = index(j)\n",
    "        nums[i], nums[j] = nums[j], ~nums[i]\n",
    "for i in range(len(nums)):\n",
    "    nums[i] = ~nums[i]\n",
    "print(nums)"
   ]
  },
  {
   "cell_type": "code",
   "execution_count": null,
   "id": "eab5ccfc-c06c-4924-b42f-29071f2e65d9",
   "metadata": {},
   "outputs": [],
   "source": []
  }
 ],
 "metadata": {
  "kernelspec": {
   "display_name": "Python 3 (ipykernel)",
   "language": "python",
   "name": "python3"
  },
  "language_info": {
   "codemirror_mode": {
    "name": "ipython",
    "version": 3
   },
   "file_extension": ".py",
   "mimetype": "text/x-python",
   "name": "python",
   "nbconvert_exporter": "python",
   "pygments_lexer": "ipython3",
   "version": "3.10.6"
  }
 },
 "nbformat": 4,
 "nbformat_minor": 5
}
