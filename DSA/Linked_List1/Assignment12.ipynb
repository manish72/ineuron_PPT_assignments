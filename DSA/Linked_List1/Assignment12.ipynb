{
 "cells": [
  {
   "cell_type": "code",
   "execution_count": 55,
   "id": "c8801d70-9e9e-49d1-950e-560519e59f58",
   "metadata": {},
   "outputs": [],
   "source": [
    "class Node:\n",
    "    def __init__(self, data):\n",
    "        self.item = data\n",
    "        self.ref = None\n",
    "        \n",
    "class LinkedList:\n",
    "    def __init__(self):\n",
    "        self.start_node = None\n",
    "    def insert_at_end(self, data):\n",
    "        new_node = Node(data)\n",
    "        if self.start_node is None:\n",
    "            self.start_node = new_node\n",
    "        else:\n",
    "            n = self.start_node\n",
    "            while n.ref is not None:\n",
    "                n= n.ref\n",
    "            n.ref = new_node\n",
    "    def traverse_list(self):\n",
    "        if self.start_node is None:\n",
    "            print(\"List has no element\")\n",
    "        else:\n",
    "            n = self.start_node\n",
    "            while n is not None:\n",
    "                print(n.item , end=\" \")\n",
    "                n = n.ref\n",
    "    # for question1\n",
    "    def deleteMiddle(self):\n",
    "        dummy = self.start_node\n",
    "        slow = fast = dummy\n",
    "        while fast.ref and fast.ref.ref:\n",
    "            slow, fast = slow.ref, fast.ref.ref\n",
    "        slow.ref = slow.ref.ref\n",
    "        return dummy\n",
    "    # for question2\n",
    "    def hasCycle(self, head):\n",
    "        fast, slow = head, head\n",
    "        while fast and fast.ref:\n",
    "            fast, slow = fast.ref.ref, slow.ref\n",
    "            if fast is slow:\n",
    "                return True\n",
    "        return False\n",
    "    # for question3\n",
    "    def size(self,head):\n",
    "        c = 0\n",
    "        while head:\n",
    "            c += 1\n",
    "            head = head.ref\n",
    "        return c\n",
    "    def getNthFromLast(self,head, n):\n",
    "        l = self.size(head)\n",
    "        if n > l:\n",
    "            return -1\n",
    "        k = l - n\n",
    "        while k>0:\n",
    "            head = head.ref\n",
    "            k = k - 1\n",
    "        return head.item\n",
    "    # for question4\n",
    "    def isPalindrome(self, head):\n",
    "        reverse, fast = None, head\n",
    "        while fast and fast.ref:\n",
    "            fast = fast.ref.ref\n",
    "            head.ref, reverse, head = reverse, head, head.ref\n",
    "\n",
    "        tail = head.ref if fast else head\n",
    "\n",
    "        is_palindrome = True\n",
    "        while reverse:\n",
    "            is_palindrome = is_palindrome and reverse.item == tail.item\n",
    "            reverse.ref, head, reverse = head, reverse, reverse.ref\n",
    "            tail = tail.ref\n",
    "\n",
    "        return is_palindrome\n",
    "    # for question5\n",
    "    def detectAndRemoveLoop(self):\n",
    "        slow_p = fast_p = self.start_node\n",
    "        while(slow_p and fast_p and fast_p.ref):\n",
    "            slow_p = slow_p.ref\n",
    "            fast_p = fast_p.ref.ref\n",
    "\n",
    "            if slow_p == fast_p:\n",
    "                self.removeLoop(slow_p)\n",
    "                return 1\n",
    "        return 0\n",
    "\t\t\n",
    "    def removeLoop(self, loop_node):\n",
    "        ptr1 = loop_node\n",
    "        ptr2 = loop_node\n",
    "        k = 1\n",
    "        while(ptr1.ref != ptr2):\n",
    "            ptr1 = ptr1.ref\n",
    "            k += 1\n",
    "        ptr1 = self.start_node\n",
    "        ptr2 = self.start_node\n",
    "        for i in range(k):\n",
    "            ptr2 = ptr2.ref\n",
    "        while(ptr2 != ptr1):\n",
    "            ptr1 = ptr1.ref\n",
    "            ptr2 = ptr2.ref\n",
    "        while(ptr2.ref != ptr1):\n",
    "            ptr2 = ptr2.ref\n",
    "        ptr2.ref = None\n",
    "    # for question6\n",
    "    def deleteNodes(self, head, m, n):\n",
    "        node = Node(0)\n",
    "        node.ref = head\n",
    "        head = dummy = node\n",
    "        while head:\n",
    "            for _ in range(m):\n",
    "                if not head.ref:\n",
    "                    return dummy.ref\n",
    "                head = head.ref\n",
    "            prev = head\n",
    "            for _ in range(n):\n",
    "                if not head.ref:\n",
    "                    prev.ref = None\n",
    "                    return dummy.ref\n",
    "                head = head.ref\n",
    "            prev.ref = head.ref\n",
    "        return dummy.ref\n",
    "    # for question7\n",
    "    def merge(self, p, q):\n",
    "        p_curr = p.start_node\n",
    "        q_curr = q.start_node\n",
    "\n",
    "        while p_curr != None and q_curr != None:\n",
    "            p_next = p_curr.ref\n",
    "            q_next = q_curr.ref\n",
    "  \n",
    "            q_curr.ref = p_next\n",
    "            p_curr.ref = q_curr\n",
    "  \n",
    "            p_curr = p_next\n",
    "            q_curr = q_next\n",
    "            q.start_node = q_curr\n",
    "    # for question8\n",
    "    def isCircular(self,head):\n",
    "        if head == None:\n",
    "            return True\n",
    "        node = head.ref\n",
    "        i = 0\n",
    "        while((node is not None) and (node is not head)):\n",
    "            i = i + 1\n",
    "            node = node.ref\n",
    "        return(node == head)"
   ]
  },
  {
   "cell_type": "raw",
   "id": "f2692934-3392-4211-af12-bc1d3edad50a",
   "metadata": {},
   "source": [
    "Question 1\n",
    "\n",
    "Given a singly linked list, delete **middle** of the linked list. For example, if given linked list is 1->2->**3**->4->5 then linked list should be modified to 1->2->4->5.If there are **even** nodes, then there would be **two middle** nodes, we need to delete the second middle element. For example, if given linked list is 1->2->3->4->5->6 then it should be modified to 1->2->3->5->6.If the input linked list is NULL or has 1 node, then it should return NULL"
   ]
  },
  {
   "cell_type": "code",
   "execution_count": 2,
   "id": "b3d04770-67b5-4e14-bf71-4519ab8b63e4",
   "metadata": {},
   "outputs": [
    {
     "name": "stdin",
     "output_type": "stream",
     "text": [
      "Enter values in comma separated format 1,2,3,4,5\n"
     ]
    },
    {
     "name": "stdout",
     "output_type": "stream",
     "text": [
      "After deleting middle element\n",
      "1 2 3 5 "
     ]
    },
    {
     "name": "stdin",
     "output_type": "stream",
     "text": [
      "Enter values in comma separated format 2,4,6,7,5,1\n"
     ]
    },
    {
     "name": "stdout",
     "output_type": "stream",
     "text": [
      "After deleting middle element\n",
      "2 4 6 5 1 "
     ]
    }
   ],
   "source": [
    "for i in range(2):\n",
    "    nums = list(map(int,input(\"Enter values in comma separated format\").split(',')))\n",
    "    nodes = LinkedList()\n",
    "    for i in range(0,len(nums)):\n",
    "        nodes.insert_at_end(nums[i])\n",
    "    #nodes.traverse_list()\n",
    "    finNodes = nodes.deleteMiddle()\n",
    "    print(\"After deleting middle element\")\n",
    "    while finNodes is not None:\n",
    "        print(finNodes.item, end=\" \")\n",
    "        finNodes = finNodes.ref"
   ]
  },
  {
   "cell_type": "raw",
   "id": "39711b3f-1fca-47c6-81e5-c1285ced0ddc",
   "metadata": {},
   "source": [
    "Question 2\n",
    "\n",
    "Given a linked list of **N** nodes. The task is to check if the linked list has a loop. Linked list can contain self loop."
   ]
  },
  {
   "cell_type": "code",
   "execution_count": 7,
   "id": "e3523672-bb2e-4157-af64-76b652477676",
   "metadata": {},
   "outputs": [
    {
     "name": "stdin",
     "output_type": "stream",
     "text": [
      "Enter values in comma separated format 1,3,4\n",
      "Enter position 2\n"
     ]
    },
    {
     "name": "stdout",
     "output_type": "stream",
     "text": [
      "True\n"
     ]
    },
    {
     "name": "stdin",
     "output_type": "stream",
     "text": [
      "Enter values in comma separated format 1,8,3,4\n",
      "Enter position 0\n"
     ]
    },
    {
     "name": "stdout",
     "output_type": "stream",
     "text": [
      "False\n"
     ]
    }
   ],
   "source": [
    "for i in range(2):\n",
    "    nums = list(map(int,input(\"Enter values in comma separated format\").split(',')))\n",
    "    nodeObj = LinkedList()\n",
    "    for i in range(0,len(nums)):\n",
    "        nodeObj.insert_at_end(nums[i])\n",
    "    pos = int(input(\"Enter position\"))\n",
    "    if pos == 0 or pos == -1:\n",
    "        print(False)\n",
    "    else:\n",
    "        pos_ref = None\n",
    "        n = nodeObj.start_node\n",
    "        for i in range(0,pos-1):\n",
    "            n = n.ref\n",
    "        pos_ref = n\n",
    "        n = nodeObj.start_node\n",
    "        while n.ref is not None:\n",
    "            n= n.ref\n",
    "        n.ref = pos_ref\n",
    "        print(nodeObj.hasCycle(nodeObj.start_node))"
   ]
  },
  {
   "cell_type": "raw",
   "id": "9470239f-7744-4724-9749-c81e363a19de",
   "metadata": {},
   "source": [
    "Question 3\n",
    "\n",
    "Given a linked list consisting of L nodes and given a number N The task is to find the Nth node from the end of the linked list."
   ]
  },
  {
   "cell_type": "code",
   "execution_count": 19,
   "id": "de3b9372-b30f-438c-8697-1742ebbae4b7",
   "metadata": {},
   "outputs": [
    {
     "name": "stdin",
     "output_type": "stream",
     "text": [
      "Enter values in comma separated format 1,2,3,4,5,6,7,8,9\n",
      "Enter node position 2\n"
     ]
    },
    {
     "name": "stdout",
     "output_type": "stream",
     "text": [
      "8\n"
     ]
    },
    {
     "name": "stdin",
     "output_type": "stream",
     "text": [
      "Enter values in comma separated format 10,5,100,5\n",
      "Enter node position 5\n"
     ]
    },
    {
     "name": "stdout",
     "output_type": "stream",
     "text": [
      "-1\n"
     ]
    }
   ],
   "source": [
    "for i in range(2):\n",
    "    nums = list(map(int,input(\"Enter values in comma separated format\").split(',')))\n",
    "    nodeObj = LinkedList()\n",
    "    for i in range(0,len(nums)):\n",
    "        nodeObj.insert_at_end(nums[i])\n",
    "    pos = int(input(\"Enter node position\"))\n",
    "    if pos == 0 or pos == -1:\n",
    "        print(False)\n",
    "    else:\n",
    "        print(nodeObj.getNthFromLast(nodeObj.start_node, pos))"
   ]
  },
  {
   "cell_type": "raw",
   "id": "ecdfd8f4-ed6a-4a0a-b17d-0bd1621b1b5c",
   "metadata": {},
   "source": [
    "Question 4\n",
    "\n",
    "Given a singly linked list of characters, write a function that returns true if the given list is a palindrome, else false."
   ]
  },
  {
   "cell_type": "code",
   "execution_count": 27,
   "id": "80738df3-a087-422f-b0cc-4716f053a40a",
   "metadata": {},
   "outputs": [
    {
     "name": "stdin",
     "output_type": "stream",
     "text": [
      "Enter string radar\n"
     ]
    },
    {
     "name": "stdout",
     "output_type": "stream",
     "text": [
      "True\n"
     ]
    },
    {
     "name": "stdin",
     "output_type": "stream",
     "text": [
      "Enter string abcd\n"
     ]
    },
    {
     "name": "stdout",
     "output_type": "stream",
     "text": [
      "False\n"
     ]
    }
   ],
   "source": [
    "for i in range(2):\n",
    "    string = input(\"Enter string\")\n",
    "    nodeObj = LinkedList()\n",
    "    for i in string:\n",
    "        nodeObj.insert_at_end(i)\n",
    "    print(nodeObj.isPalindrome(nodeObj.start_node))"
   ]
  },
  {
   "cell_type": "raw",
   "id": "de87735f-56cf-4efd-811b-e47b37c0c200",
   "metadata": {},
   "source": [
    "Question 5\n",
    "\n",
    "Given a linked list of N nodes such that it may contain a loop.\n",
    "\n",
    "A loop here means that the last node of the link list is connected to the node at position X(1-based index). If the link list does not have any loop, X=0.\n",
    "\n",
    "Remove the loop from the linked list, if it is present, i.e. unlink the last node which is forming the loop."
   ]
  },
  {
   "cell_type": "code",
   "execution_count": 30,
   "id": "2a61e89c-dc63-44e9-8c42-40243e4f3872",
   "metadata": {},
   "outputs": [
    {
     "name": "stdin",
     "output_type": "stream",
     "text": [
      "Enter values in comma separated format 1,3,4\n",
      "Enter position 2\n"
     ]
    },
    {
     "name": "stdout",
     "output_type": "stream",
     "text": [
      "1\n"
     ]
    },
    {
     "name": "stdin",
     "output_type": "stream",
     "text": [
      "Enter values in comma separated format 1,8,3,4\n",
      "Enter position 0\n"
     ]
    },
    {
     "name": "stdout",
     "output_type": "stream",
     "text": [
      "1\n"
     ]
    },
    {
     "name": "stdin",
     "output_type": "stream",
     "text": [
      "Enter values in comma separated format 1,2,3,4\n",
      "Enter position 1\n"
     ]
    },
    {
     "name": "stdout",
     "output_type": "stream",
     "text": [
      "1\n"
     ]
    }
   ],
   "source": [
    "for i in range(3):\n",
    "    nums = list(map(int,input(\"Enter values in comma separated format\").split(',')))\n",
    "    nodeObj = LinkedList()\n",
    "    for i in range(0,len(nums)):\n",
    "        nodeObj.insert_at_end(nums[i])\n",
    "    pos = int(input(\"Enter position\"))\n",
    "    if pos == 0 or pos == -1:\n",
    "        print(1)\n",
    "    else:\n",
    "        pos_ref = None\n",
    "        n = nodeObj.start_node\n",
    "        for i in range(0,pos-1):\n",
    "            n = n.ref\n",
    "        pos_ref = n\n",
    "        n = nodeObj.start_node\n",
    "        while n.ref is not None:\n",
    "            n= n.ref\n",
    "        n.ref = pos_ref\n",
    "        print(nodeObj.detectAndRemoveLoop())"
   ]
  },
  {
   "cell_type": "raw",
   "id": "b4f9939b-8c50-4e51-bd1f-f95039da6d5e",
   "metadata": {},
   "source": [
    "Question 6\n",
    "\n",
    "Given a linked list and two integers M and N. Traverse the linked list such that you retain M nodes then delete next N nodes, continue the same till end of the linked list."
   ]
  },
  {
   "cell_type": "code",
   "execution_count": 40,
   "id": "9d7908c0-7671-4898-b67d-fb67df3b0cab",
   "metadata": {},
   "outputs": [
    {
     "name": "stdin",
     "output_type": "stream",
     "text": [
      "Enter values in comma separated format 1,2,3,4,5,6,7,8\n",
      "Enter m value: 2\n",
      "Enter n value: 2\n"
     ]
    },
    {
     "name": "stdout",
     "output_type": "stream",
     "text": [
      "1 2 5 6 "
     ]
    },
    {
     "name": "stdin",
     "output_type": "stream",
     "text": [
      "Enter values in comma separated format 1,2,3,4,5,6,7,8,9,10\n",
      "Enter m value: 3\n",
      "Enter n value: 2\n"
     ]
    },
    {
     "name": "stdout",
     "output_type": "stream",
     "text": [
      "1 2 3 6 7 8 "
     ]
    },
    {
     "name": "stdin",
     "output_type": "stream",
     "text": [
      "Enter values in comma separated format 1,2,3,4,5,6,7,8,9,10\n",
      "Enter m value: 1\n",
      "Enter n value: 1\n"
     ]
    },
    {
     "name": "stdout",
     "output_type": "stream",
     "text": [
      "1 3 5 7 9 "
     ]
    }
   ],
   "source": [
    "for i in range(3):\n",
    "    nums = list(map(int,input(\"Enter values in comma separated format\").split(',')))\n",
    "    m = int(input(\"Enter m value:\"))\n",
    "    n = int(input(\"Enter n value:\"))\n",
    "    nodeObj = LinkedList()\n",
    "    for i in range(0,len(nums)):\n",
    "        nodeObj.insert_at_end(nums[i])\n",
    "    nodeObj.deleteNodes(nodeObj.start_node,m,n)\n",
    "    nodeObj.traverse_list()"
   ]
  },
  {
   "cell_type": "raw",
   "id": "a5023a55-b9fe-4461-81d8-f39523f2fc16",
   "metadata": {},
   "source": [
    "Question 7\n",
    "\n",
    "Given two linked lists, insert nodes of second list into first list at alternate positions of first list."
   ]
  },
  {
   "cell_type": "code",
   "execution_count": 51,
   "id": "db463f67-2b0f-4689-a8ac-0cfabc691a00",
   "metadata": {},
   "outputs": [
    {
     "name": "stdin",
     "output_type": "stream",
     "text": [
      "Enter values in comma separated format 1,2,3\n",
      "Enter values in comma separated format 4,5,6,7,8\n"
     ]
    },
    {
     "name": "stdout",
     "output_type": "stream",
     "text": [
      "Updated list1:\n",
      "1 4 2 5 3 6 \n",
      "Updated list2:\n",
      "7 8 "
     ]
    }
   ],
   "source": [
    "list1 = list(map(int,input(\"Enter values in comma separated format\").split(',')))\n",
    "list2 = list(map(int,input(\"Enter values in comma separated format\").split(',')))\n",
    "nodeObj1 = LinkedList()\n",
    "nodeObj2 = LinkedList()\n",
    "for i in range(0,len(list1)):\n",
    "    nodeObj1.insert_at_end(list1[i])\n",
    "for i in range(0,len(list2)):\n",
    "    nodeObj2.insert_at_end(list2[i])\n",
    "nodeObj1.merge(nodeObj1,nodeObj2)\n",
    "print(\"Updated list1:\")\n",
    "nodeObj1.traverse_list()\n",
    "print(\"\\nUpdated list2:\")\n",
    "nodeObj2.traverse_list()"
   ]
  },
  {
   "cell_type": "raw",
   "id": "b9f7c4f5-bc76-4b7a-ab0f-07c0daaa4f32",
   "metadata": {},
   "source": [
    "Question 8\n",
    "\n",
    "Given a singly linked list, find if the linked list is circular or not."
   ]
  },
  {
   "cell_type": "code",
   "execution_count": 59,
   "id": "d312b8bc-9b7e-4931-a007-617d09bbb9f9",
   "metadata": {},
   "outputs": [
    {
     "name": "stdin",
     "output_type": "stream",
     "text": [
      "Enter values in comma separated format 1,2,3,4\n"
     ]
    },
    {
     "name": "stdout",
     "output_type": "stream",
     "text": [
      "True\n",
      "False\n"
     ]
    }
   ],
   "source": [
    "list1 = list(map(int,input(\"Enter values in comma separated format\").split(',')))\n",
    "# if it is a circular linked list\n",
    "nodeObj1 = LinkedList()\n",
    "for i in range(0,len(list1)):\n",
    "    nodeObj1.insert_at_end(list1[i])\n",
    "temp = nodeObj1.start_node\n",
    "while temp.ref is not None:\n",
    "    temp = temp.ref\n",
    "temp.ref = nodeObj1.start_node\n",
    "print(nodeObj1.isCircular(nodeObj1.start_node))\n",
    "# if it is not a circular linked list\n",
    "nodeObj2 = LinkedList()\n",
    "for i in range(0,len(list1)):\n",
    "    nodeObj2.insert_at_end(list1[i])\n",
    "print(nodeObj1.isCircular(nodeObj2.start_node))"
   ]
  }
 ],
 "metadata": {
  "kernelspec": {
   "display_name": "Python 3 (ipykernel)",
   "language": "python",
   "name": "python3"
  },
  "language_info": {
   "codemirror_mode": {
    "name": "ipython",
    "version": 3
   },
   "file_extension": ".py",
   "mimetype": "text/x-python",
   "name": "python",
   "nbconvert_exporter": "python",
   "pygments_lexer": "ipython3",
   "version": "3.10.6"
  }
 },
 "nbformat": 4,
 "nbformat_minor": 5
}
