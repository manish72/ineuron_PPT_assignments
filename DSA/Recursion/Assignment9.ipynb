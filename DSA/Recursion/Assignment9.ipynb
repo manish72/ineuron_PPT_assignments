{
 "cells": [
  {
   "cell_type": "raw",
   "id": "08f8c6d1-51da-4467-bad0-339ff11fb476",
   "metadata": {},
   "source": [
    "Question 1\n",
    "\n",
    "Given an integer `n`, return *`true` if it is a power of two. Otherwise, return `false`*.\n",
    "\n",
    "An integer `n` is a power of two, if there exists an integer `x` such that `n == 2x`."
   ]
  },
  {
   "cell_type": "code",
   "execution_count": 2,
   "id": "41039e4a-c0d8-4aed-af0d-be1d703da198",
   "metadata": {},
   "outputs": [
    {
     "name": "stdin",
     "output_type": "stream",
     "text": [
      "Enter number: 3\n"
     ]
    },
    {
     "name": "stdout",
     "output_type": "stream",
     "text": [
      "False\n"
     ]
    },
    {
     "name": "stdin",
     "output_type": "stream",
     "text": [
      "Enter number: 1\n"
     ]
    },
    {
     "name": "stdout",
     "output_type": "stream",
     "text": [
      "True\n"
     ]
    },
    {
     "name": "stdin",
     "output_type": "stream",
     "text": [
      "Enter number: 64\n"
     ]
    },
    {
     "name": "stdout",
     "output_type": "stream",
     "text": [
      "True\n"
     ]
    }
   ],
   "source": [
    "def divbytwo(n):\n",
    "    if n == 1:\n",
    "        return True\n",
    "    elif n % 2 != 0 or n == 0:\n",
    "        return False\n",
    "    return divbytwo(n//2)\n",
    "\n",
    "for i in range(3):\n",
    "    n = int(input(\"Enter number:\"))\n",
    "    print(divbytwo(n))"
   ]
  },
  {
   "cell_type": "raw",
   "id": "e58ccbf1-5df9-4c81-a610-952513293ff3",
   "metadata": {},
   "source": [
    "Question 2\n",
    "\n",
    "Given a number n, find the sum of the first natural numbers."
   ]
  },
  {
   "cell_type": "code",
   "execution_count": 3,
   "id": "4017e340-0825-487e-bca3-4f9de207a388",
   "metadata": {},
   "outputs": [
    {
     "name": "stdin",
     "output_type": "stream",
     "text": [
      "Enter number: 3\n"
     ]
    },
    {
     "name": "stdout",
     "output_type": "stream",
     "text": [
      "6\n"
     ]
    },
    {
     "name": "stdin",
     "output_type": "stream",
     "text": [
      "Enter number: 5\n"
     ]
    },
    {
     "name": "stdout",
     "output_type": "stream",
     "text": [
      "15\n"
     ]
    },
    {
     "name": "stdin",
     "output_type": "stream",
     "text": [
      "Enter number: 10\n"
     ]
    },
    {
     "name": "stdout",
     "output_type": "stream",
     "text": [
      "55\n"
     ]
    }
   ],
   "source": [
    "def findsumofNums(n):\n",
    "    if n == 1:\n",
    "        return 1\n",
    "    return n + findsumofNums(n-1)\n",
    "\n",
    "for i in range(3):\n",
    "    n = int(input(\"Enter number:\"))\n",
    "    print(findsumofNums(n))"
   ]
  },
  {
   "cell_type": "raw",
   "id": "b7389735-9d1b-45e7-b1d7-b65f829f1eea",
   "metadata": {},
   "source": [
    "Question 3\n",
    "\n",
    "Given a positive integer, N. Find the factorial of N. "
   ]
  },
  {
   "cell_type": "code",
   "execution_count": 4,
   "id": "7c324272-fff7-43c8-8f20-937346620709",
   "metadata": {},
   "outputs": [
    {
     "name": "stdin",
     "output_type": "stream",
     "text": [
      "Enter number: 5\n"
     ]
    },
    {
     "name": "stdout",
     "output_type": "stream",
     "text": [
      "120\n"
     ]
    },
    {
     "name": "stdin",
     "output_type": "stream",
     "text": [
      "Enter number: 10\n"
     ]
    },
    {
     "name": "stdout",
     "output_type": "stream",
     "text": [
      "3628800\n"
     ]
    },
    {
     "name": "stdin",
     "output_type": "stream",
     "text": [
      "Enter number: 3\n"
     ]
    },
    {
     "name": "stdout",
     "output_type": "stream",
     "text": [
      "6\n"
     ]
    }
   ],
   "source": [
    "def findFactorial(n):\n",
    "    if n == 1:\n",
    "        return 1\n",
    "    return n * findFactorial(n-1)\n",
    "\n",
    "for i in range(3):\n",
    "    n = int(input(\"Enter number:\"))\n",
    "    print(findFactorial(n))"
   ]
  },
  {
   "cell_type": "raw",
   "id": "674d96e1-80c8-4712-b0b0-f35487b2145e",
   "metadata": {},
   "source": [
    "Question 4\n",
    "\n",
    "Given a number N and a power P, the task is to find the exponent of this number raised to the given power, i.e. N^P."
   ]
  },
  {
   "cell_type": "code",
   "execution_count": 6,
   "id": "9de9ddd8-98af-430d-9aa3-3c8f19d8a0d7",
   "metadata": {},
   "outputs": [
    {
     "name": "stdin",
     "output_type": "stream",
     "text": [
      "Enter number: 5\n",
      "Enter power: 2\n"
     ]
    },
    {
     "name": "stdout",
     "output_type": "stream",
     "text": [
      "25\n"
     ]
    },
    {
     "name": "stdin",
     "output_type": "stream",
     "text": [
      "Enter number: 2\n",
      "Enter power: 5\n"
     ]
    },
    {
     "name": "stdout",
     "output_type": "stream",
     "text": [
      "32\n"
     ]
    },
    {
     "name": "stdin",
     "output_type": "stream",
     "text": [
      "Enter number: 10\n",
      "Enter power: 4\n"
     ]
    },
    {
     "name": "stdout",
     "output_type": "stream",
     "text": [
      "10000\n"
     ]
    }
   ],
   "source": [
    "def findexponent(n,p):\n",
    "    if p == 1:\n",
    "        return n\n",
    "    return n * findexponent(n,p-1)\n",
    "\n",
    "for i in range(3):\n",
    "    n = int(input(\"Enter number:\"))\n",
    "    p = int(input(\"Enter power:\"))\n",
    "    print(findexponent(n,p))"
   ]
  },
  {
   "cell_type": "raw",
   "id": "9cf7787c-5617-40ef-b3ee-6e06b8c52a21",
   "metadata": {},
   "source": [
    "Question 5\n",
    "\n",
    "Given an array of integers arr, the task is to find maximum element of that array using recursion."
   ]
  },
  {
   "cell_type": "code",
   "execution_count": 9,
   "id": "eaa0799b-144a-47cb-b84d-4c28325bb6ec",
   "metadata": {},
   "outputs": [
    {
     "name": "stdin",
     "output_type": "stream",
     "text": [
      "Enter values in comma separated format 1,4,3,-5,-4,8,6\n"
     ]
    },
    {
     "name": "stdout",
     "output_type": "stream",
     "text": [
      "8\n"
     ]
    },
    {
     "name": "stdin",
     "output_type": "stream",
     "text": [
      "Enter values in comma separated format 1,4,45,6,10,-8\n"
     ]
    },
    {
     "name": "stdout",
     "output_type": "stream",
     "text": [
      "45\n"
     ]
    }
   ],
   "source": [
    "def findMax(A, n):\n",
    "    if (n == 1):\n",
    "        return A[0]\n",
    "    return max(A[n - 1], findMax(A, n - 1))\n",
    "for i in range(2):\n",
    "    arr = list(map(int,input(\"Enter values in comma separated format\").split(',')))\n",
    "    print(findMax(arr, len(arr)))"
   ]
  },
  {
   "cell_type": "raw",
   "id": "0f95d2b7-91a5-4487-9ba8-c56e19662e6a",
   "metadata": {},
   "source": [
    "Question 6\n",
    "\n",
    "Given first term (a), common difference (d) and a integer N of the Arithmetic Progression series, the task is to find Nth term of the series."
   ]
  },
  {
   "cell_type": "code",
   "execution_count": 16,
   "id": "5224601b-94dc-4e62-a6dd-996541ef49ed",
   "metadata": {},
   "outputs": [
    {
     "name": "stdin",
     "output_type": "stream",
     "text": [
      "Enter first term: 2\n",
      "Enter commmon difference: 1\n",
      "Enter integer: 5\n"
     ]
    },
    {
     "name": "stdout",
     "output_type": "stream",
     "text": [
      "6\n"
     ]
    },
    {
     "name": "stdin",
     "output_type": "stream",
     "text": [
      "Enter first term: 5\n",
      "Enter commmon difference: 2\n",
      "Enter integer: 10\n"
     ]
    },
    {
     "name": "stdout",
     "output_type": "stream",
     "text": [
      "23\n"
     ]
    }
   ],
   "source": [
    "def findntermAP(a,d,n,count):\n",
    "    if n == count:\n",
    "        return a + (n-1) * d\n",
    "    count += 1\n",
    "    return findntermAP(a,d,n,count)\n",
    "\n",
    "for i in range(2):\n",
    "    a = int(input(\"Enter first term:\"))\n",
    "    d = int(input(\"Enter commmon difference:\"))\n",
    "    n = int(input(\"Enter integer:\"))\n",
    "    print(findntermAP(a,d,n,0))"
   ]
  },
  {
   "cell_type": "raw",
   "id": "2df41270-c9f2-47f8-8d94-309921b5c1cc",
   "metadata": {},
   "source": [
    "Question 7\n",
    "\n",
    "Given a string S, the task is to write a program to print all permutations of a given string."
   ]
  },
  {
   "cell_type": "code",
   "execution_count": 19,
   "id": "094b2d03-4e11-4f12-9c1f-2cdb86644785",
   "metadata": {},
   "outputs": [
    {
     "name": "stdin",
     "output_type": "stream",
     "text": [
      "Enter String: ABC\n"
     ]
    },
    {
     "name": "stdout",
     "output_type": "stream",
     "text": [
      "ABC\n",
      "ACB\n",
      "BAC\n",
      "BCA\n",
      "CBA\n",
      "CAB\n"
     ]
    },
    {
     "name": "stdin",
     "output_type": "stream",
     "text": [
      "Enter String: XY\n"
     ]
    },
    {
     "name": "stdout",
     "output_type": "stream",
     "text": [
      "XY\n",
      "YX\n"
     ]
    }
   ],
   "source": [
    "def toString(List):\n",
    "    return ''.join(List)\n",
    " \n",
    "def permute(a, l, r):\n",
    "    if l == r:\n",
    "        print(toString(a))\n",
    "    else:\n",
    "        for i in range(l, r):\n",
    "            a[l], a[i] = a[i], a[l]\n",
    "            permute(a, l+1, r)\n",
    "            a[l], a[i] = a[i], a[l]\n",
    " \n",
    "\n",
    "for i in range(2):\n",
    "    string = input(\"Enter String:\")\n",
    "    a = list(string)\n",
    "    permute(a, 0, len(string))"
   ]
  },
  {
   "cell_type": "raw",
   "id": "919a0f41-d5c5-4fae-a7bc-2a0bfde0bcd4",
   "metadata": {},
   "source": [
    "Question 8\n",
    "\n",
    "Given an array, find a product of all array elements."
   ]
  },
  {
   "cell_type": "code",
   "execution_count": 22,
   "id": "5c22bcb6-8d3b-4f1f-a2b2-0a1ab2015a0c",
   "metadata": {},
   "outputs": [
    {
     "name": "stdin",
     "output_type": "stream",
     "text": [
      "Enter values in comma separated format 1,2,3,4,5\n"
     ]
    },
    {
     "name": "stdout",
     "output_type": "stream",
     "text": [
      "120\n"
     ]
    },
    {
     "name": "stdin",
     "output_type": "stream",
     "text": [
      "Enter values in comma separated format 1,6,3\n"
     ]
    },
    {
     "name": "stdout",
     "output_type": "stream",
     "text": [
      "18\n"
     ]
    }
   ],
   "source": [
    "def findListProd(A, n):\n",
    "    if n == 1:\n",
    "        return A[0]\n",
    "    return A[n - 1] * findListProd(A, n - 1)\n",
    "\n",
    "for i in range(2):\n",
    "    arr = list(map(int,input(\"Enter values in comma separated format\").split(',')))\n",
    "    print(findListProd(arr, len(arr)))"
   ]
  }
 ],
 "metadata": {
  "kernelspec": {
   "display_name": "Python 3 (ipykernel)",
   "language": "python",
   "name": "python3"
  },
  "language_info": {
   "codemirror_mode": {
    "name": "ipython",
    "version": 3
   },
   "file_extension": ".py",
   "mimetype": "text/x-python",
   "name": "python",
   "nbconvert_exporter": "python",
   "pygments_lexer": "ipython3",
   "version": "3.10.6"
  }
 },
 "nbformat": 4,
 "nbformat_minor": 5
}
